{
 "cells": [
  {
   "cell_type": "code",
   "execution_count": 1,
   "metadata": {},
   "outputs": [
    {
     "data": {
      "text/html": [
       "<script type=\"text/javascript\">window.PlotlyConfig = {MathJaxConfig: 'local'};</script><script type=\"text/javascript\">if (window.MathJax) {MathJax.Hub.Config({SVG: {font: \"STIX-Web\"}});}</script><script>requirejs.config({paths: { 'plotly': ['https://cdn.plot.ly/plotly-latest.min']},});if(!window._Plotly) {require(['plotly'],function(plotly) {window._Plotly=plotly;});}</script>"
      ],
      "text/vnd.plotly.v1+html": [
       "<script type=\"text/javascript\">window.PlotlyConfig = {MathJaxConfig: 'local'};</script><script type=\"text/javascript\">if (window.MathJax) {MathJax.Hub.Config({SVG: {font: \"STIX-Web\"}});}</script><script>requirejs.config({paths: { 'plotly': ['https://cdn.plot.ly/plotly-latest.min']},});if(!window._Plotly) {require(['plotly'],function(plotly) {window._Plotly=plotly;});}</script>"
      ]
     },
     "metadata": {},
     "output_type": "display_data"
    }
   ],
   "source": [
    "import pandas as pd\n",
    "import numpy as np\n",
    "\n",
    "import plotly.graph_objs as go\n",
    "from plotly.offline import init_notebook_mode, iplot\n",
    "import plotly.io as pio\n",
    "init_notebook_mode(connected=True)"
   ]
  },
  {
   "cell_type": "code",
   "execution_count": 2,
   "metadata": {},
   "outputs": [
    {
     "data": {
      "text/html": [
       "<div>\n",
       "<style scoped>\n",
       "    .dataframe tbody tr th:only-of-type {\n",
       "        vertical-align: middle;\n",
       "    }\n",
       "\n",
       "    .dataframe tbody tr th {\n",
       "        vertical-align: top;\n",
       "    }\n",
       "\n",
       "    .dataframe thead th {\n",
       "        text-align: right;\n",
       "    }\n",
       "</style>\n",
       "<table border=\"1\" class=\"dataframe\">\n",
       "  <thead>\n",
       "    <tr style=\"text-align: right;\">\n",
       "      <th></th>\n",
       "      <th>rating</th>\n",
       "      <th>N</th>\n",
       "      <th>mae_binary_k_1</th>\n",
       "      <th>mae_q_k_1</th>\n",
       "      <th>mae_binary_k_2</th>\n",
       "      <th>mae_q_k_2</th>\n",
       "      <th>mae_binary_k_3</th>\n",
       "      <th>mae_q_k_3</th>\n",
       "      <th>mae_binary_k_5</th>\n",
       "      <th>mae_q_k_5</th>\n",
       "      <th>mae_binary_k_10</th>\n",
       "      <th>mae_q_k_10</th>\n",
       "      <th>improvement_k_1</th>\n",
       "      <th>improvement_k_2</th>\n",
       "      <th>improvement_k_3</th>\n",
       "      <th>improvement_k_5</th>\n",
       "      <th>improvement_k_10</th>\n",
       "    </tr>\n",
       "  </thead>\n",
       "  <tbody>\n",
       "    <tr>\n",
       "      <th>0</th>\n",
       "      <td>1.0</td>\n",
       "      <td>3400</td>\n",
       "      <td>1.183748</td>\n",
       "      <td>0.773513</td>\n",
       "      <td>1.081263</td>\n",
       "      <td>0.830680</td>\n",
       "      <td>1.101950</td>\n",
       "      <td>0.851301</td>\n",
       "      <td>1.068634</td>\n",
       "      <td>0.891748</td>\n",
       "      <td>0.994591</td>\n",
       "      <td>0.929505</td>\n",
       "      <td>34.655620</td>\n",
       "      <td>23.174950</td>\n",
       "      <td>22.745970</td>\n",
       "      <td>16.552517</td>\n",
       "      <td>6.543973</td>\n",
       "    </tr>\n",
       "    <tr>\n",
       "      <th>1</th>\n",
       "      <td>2.0</td>\n",
       "      <td>3400</td>\n",
       "      <td>1.035823</td>\n",
       "      <td>0.989919</td>\n",
       "      <td>0.996231</td>\n",
       "      <td>1.012087</td>\n",
       "      <td>1.016231</td>\n",
       "      <td>0.980140</td>\n",
       "      <td>0.974996</td>\n",
       "      <td>0.965834</td>\n",
       "      <td>0.976530</td>\n",
       "      <td>0.972820</td>\n",
       "      <td>4.431614</td>\n",
       "      <td>-1.591573</td>\n",
       "      <td>3.551411</td>\n",
       "      <td>0.939707</td>\n",
       "      <td>0.379836</td>\n",
       "    </tr>\n",
       "    <tr>\n",
       "      <th>2</th>\n",
       "      <td>2.5</td>\n",
       "      <td>3400</td>\n",
       "      <td>1.093007</td>\n",
       "      <td>0.908937</td>\n",
       "      <td>1.028352</td>\n",
       "      <td>0.945345</td>\n",
       "      <td>1.062582</td>\n",
       "      <td>0.925157</td>\n",
       "      <td>0.984431</td>\n",
       "      <td>0.940490</td>\n",
       "      <td>0.990279</td>\n",
       "      <td>0.923506</td>\n",
       "      <td>16.840727</td>\n",
       "      <td>8.071794</td>\n",
       "      <td>12.933116</td>\n",
       "      <td>4.463589</td>\n",
       "      <td>6.742832</td>\n",
       "    </tr>\n",
       "    <tr>\n",
       "      <th>3</th>\n",
       "      <td>3.0</td>\n",
       "      <td>3400</td>\n",
       "      <td>0.984631</td>\n",
       "      <td>0.878731</td>\n",
       "      <td>0.941878</td>\n",
       "      <td>0.873561</td>\n",
       "      <td>0.927571</td>\n",
       "      <td>0.872820</td>\n",
       "      <td>0.933073</td>\n",
       "      <td>0.886002</td>\n",
       "      <td>0.925610</td>\n",
       "      <td>0.889723</td>\n",
       "      <td>10.755321</td>\n",
       "      <td>7.253274</td>\n",
       "      <td>5.902674</td>\n",
       "      <td>5.044819</td>\n",
       "      <td>3.877071</td>\n",
       "    </tr>\n",
       "    <tr>\n",
       "      <th>4</th>\n",
       "      <td>3.5</td>\n",
       "      <td>3400</td>\n",
       "      <td>0.833697</td>\n",
       "      <td>0.846698</td>\n",
       "      <td>0.805227</td>\n",
       "      <td>0.809097</td>\n",
       "      <td>0.816375</td>\n",
       "      <td>0.804013</td>\n",
       "      <td>0.857496</td>\n",
       "      <td>0.835627</td>\n",
       "      <td>0.857084</td>\n",
       "      <td>0.840759</td>\n",
       "      <td>-1.559458</td>\n",
       "      <td>-0.480564</td>\n",
       "      <td>1.514350</td>\n",
       "      <td>2.550333</td>\n",
       "      <td>1.904660</td>\n",
       "    </tr>\n",
       "  </tbody>\n",
       "</table>\n",
       "</div>"
      ],
      "text/plain": [
       "   rating     N  mae_binary_k_1  mae_q_k_1  mae_binary_k_2  mae_q_k_2  \\\n",
       "0     1.0  3400        1.183748   0.773513        1.081263   0.830680   \n",
       "1     2.0  3400        1.035823   0.989919        0.996231   1.012087   \n",
       "2     2.5  3400        1.093007   0.908937        1.028352   0.945345   \n",
       "3     3.0  3400        0.984631   0.878731        0.941878   0.873561   \n",
       "4     3.5  3400        0.833697   0.846698        0.805227   0.809097   \n",
       "\n",
       "   mae_binary_k_3  mae_q_k_3  mae_binary_k_5  mae_q_k_5  mae_binary_k_10  \\\n",
       "0        1.101950   0.851301        1.068634   0.891748         0.994591   \n",
       "1        1.016231   0.980140        0.974996   0.965834         0.976530   \n",
       "2        1.062582   0.925157        0.984431   0.940490         0.990279   \n",
       "3        0.927571   0.872820        0.933073   0.886002         0.925610   \n",
       "4        0.816375   0.804013        0.857496   0.835627         0.857084   \n",
       "\n",
       "   mae_q_k_10  improvement_k_1  improvement_k_2  improvement_k_3  \\\n",
       "0    0.929505        34.655620        23.174950        22.745970   \n",
       "1    0.972820         4.431614        -1.591573         3.551411   \n",
       "2    0.923506        16.840727         8.071794        12.933116   \n",
       "3    0.889723        10.755321         7.253274         5.902674   \n",
       "4    0.840759        -1.559458        -0.480564         1.514350   \n",
       "\n",
       "   improvement_k_5  improvement_k_10  \n",
       "0        16.552517          6.543973  \n",
       "1         0.939707          0.379836  \n",
       "2         4.463589          6.742832  \n",
       "3         5.044819          3.877071  \n",
       "4         2.550333          1.904660  "
      ]
     },
     "execution_count": 2,
     "metadata": {},
     "output_type": "execute_result"
    }
   ],
   "source": [
    "todos_df = pd.read_csv('mejora_estratificado.csv')\n",
    "todos_df.head()"
   ]
  },
  {
   "cell_type": "code",
   "execution_count": 3,
   "metadata": {},
   "outputs": [],
   "source": [
    "todos_df.drop(columns=['mae_binary_k_1', 'mae_q_k_1', 'mae_binary_k_2', 'mae_q_k_2', 'mae_binary_k_3', 'mae_q_k_3', 'mae_binary_k_5', 'mae_q_k_5', 'mae_binary_k_10', 'mae_q_k_10'], inplace=True)"
   ]
  },
  {
   "cell_type": "code",
   "execution_count": 4,
   "metadata": {},
   "outputs": [],
   "source": [
    "#todos_df.drop(index=[0, 2], inplace=True)"
   ]
  },
  {
   "cell_type": "code",
   "execution_count": 5,
   "metadata": {},
   "outputs": [
    {
     "data": {
      "text/html": [
       "<div>\n",
       "<style scoped>\n",
       "    .dataframe tbody tr th:only-of-type {\n",
       "        vertical-align: middle;\n",
       "    }\n",
       "\n",
       "    .dataframe tbody tr th {\n",
       "        vertical-align: top;\n",
       "    }\n",
       "\n",
       "    .dataframe thead th {\n",
       "        text-align: right;\n",
       "    }\n",
       "</style>\n",
       "<table border=\"1\" class=\"dataframe\">\n",
       "  <thead>\n",
       "    <tr style=\"text-align: right;\">\n",
       "      <th></th>\n",
       "      <th>rating</th>\n",
       "      <th>N</th>\n",
       "      <th>improvement_k_1</th>\n",
       "      <th>improvement_k_2</th>\n",
       "      <th>improvement_k_3</th>\n",
       "      <th>improvement_k_5</th>\n",
       "      <th>improvement_k_10</th>\n",
       "    </tr>\n",
       "  </thead>\n",
       "  <tbody>\n",
       "    <tr>\n",
       "      <th>0</th>\n",
       "      <td>1.0</td>\n",
       "      <td>3400</td>\n",
       "      <td>34.655620</td>\n",
       "      <td>23.174950</td>\n",
       "      <td>22.745970</td>\n",
       "      <td>16.552517</td>\n",
       "      <td>6.543973</td>\n",
       "    </tr>\n",
       "    <tr>\n",
       "      <th>1</th>\n",
       "      <td>2.0</td>\n",
       "      <td>3400</td>\n",
       "      <td>4.431614</td>\n",
       "      <td>-1.591573</td>\n",
       "      <td>3.551411</td>\n",
       "      <td>0.939707</td>\n",
       "      <td>0.379836</td>\n",
       "    </tr>\n",
       "    <tr>\n",
       "      <th>2</th>\n",
       "      <td>2.5</td>\n",
       "      <td>3400</td>\n",
       "      <td>16.840727</td>\n",
       "      <td>8.071794</td>\n",
       "      <td>12.933116</td>\n",
       "      <td>4.463589</td>\n",
       "      <td>6.742832</td>\n",
       "    </tr>\n",
       "    <tr>\n",
       "      <th>3</th>\n",
       "      <td>3.0</td>\n",
       "      <td>3400</td>\n",
       "      <td>10.755321</td>\n",
       "      <td>7.253274</td>\n",
       "      <td>5.902674</td>\n",
       "      <td>5.044819</td>\n",
       "      <td>3.877071</td>\n",
       "    </tr>\n",
       "    <tr>\n",
       "      <th>4</th>\n",
       "      <td>3.5</td>\n",
       "      <td>3400</td>\n",
       "      <td>-1.559458</td>\n",
       "      <td>-0.480564</td>\n",
       "      <td>1.514350</td>\n",
       "      <td>2.550333</td>\n",
       "      <td>1.904660</td>\n",
       "    </tr>\n",
       "    <tr>\n",
       "      <th>5</th>\n",
       "      <td>4.0</td>\n",
       "      <td>3400</td>\n",
       "      <td>2.269356</td>\n",
       "      <td>-0.175078</td>\n",
       "      <td>0.118688</td>\n",
       "      <td>0.252780</td>\n",
       "      <td>1.121721</td>\n",
       "    </tr>\n",
       "    <tr>\n",
       "      <th>6</th>\n",
       "      <td>4.5</td>\n",
       "      <td>3400</td>\n",
       "      <td>3.424424</td>\n",
       "      <td>14.118237</td>\n",
       "      <td>10.345440</td>\n",
       "      <td>4.832368</td>\n",
       "      <td>1.341562</td>\n",
       "    </tr>\n",
       "    <tr>\n",
       "      <th>7</th>\n",
       "      <td>5.0</td>\n",
       "      <td>3400</td>\n",
       "      <td>2.901128</td>\n",
       "      <td>5.406295</td>\n",
       "      <td>4.045476</td>\n",
       "      <td>4.185037</td>\n",
       "      <td>2.453364</td>\n",
       "    </tr>\n",
       "  </tbody>\n",
       "</table>\n",
       "</div>"
      ],
      "text/plain": [
       "   rating     N  improvement_k_1  improvement_k_2  improvement_k_3  \\\n",
       "0     1.0  3400        34.655620        23.174950        22.745970   \n",
       "1     2.0  3400         4.431614        -1.591573         3.551411   \n",
       "2     2.5  3400        16.840727         8.071794        12.933116   \n",
       "3     3.0  3400        10.755321         7.253274         5.902674   \n",
       "4     3.5  3400        -1.559458        -0.480564         1.514350   \n",
       "5     4.0  3400         2.269356        -0.175078         0.118688   \n",
       "6     4.5  3400         3.424424        14.118237        10.345440   \n",
       "7     5.0  3400         2.901128         5.406295         4.045476   \n",
       "\n",
       "   improvement_k_5  improvement_k_10  \n",
       "0        16.552517          6.543973  \n",
       "1         0.939707          0.379836  \n",
       "2         4.463589          6.742832  \n",
       "3         5.044819          3.877071  \n",
       "4         2.550333          1.904660  \n",
       "5         0.252780          1.121721  \n",
       "6         4.832368          1.341562  \n",
       "7         4.185037          2.453364  "
      ]
     },
     "execution_count": 5,
     "metadata": {},
     "output_type": "execute_result"
    }
   ],
   "source": [
    "todos_df"
   ]
  },
  {
   "cell_type": "code",
   "execution_count": 12,
   "metadata": {},
   "outputs": [],
   "source": [
    "y_values = todos_df['rating'].values\n",
    "x_values = todos_df.columns.values[2:]"
   ]
  },
  {
   "cell_type": "code",
   "execution_count": 13,
   "metadata": {},
   "outputs": [],
   "source": [
    "z_values = todos_df[x_values].values\n",
    "x_values = ['K=1', 'K=2', 'K=3', 'K=5', 'K=10']"
   ]
  },
  {
   "cell_type": "code",
   "execution_count": 14,
   "metadata": {},
   "outputs": [],
   "source": [
    "annotations = []\n",
    "\n",
    "for i in range(len(x_values)):\n",
    "    for j in range(len(y_values)):\n",
    "        \n",
    "        color = 'rgb(0,0,0)'\n",
    "        if z_values[j][i] > 25:\n",
    "            color='rgb(255,255,255)'\n",
    "\n",
    "        annotations.append(\n",
    "            dict(\n",
    "                xref = 'x',\n",
    "                yref = 'y',\n",
    "                x = i,\n",
    "                y = y_values[j],\n",
    "                text=str(round(z_values[j][i], 2)),\n",
    "                showarrow=False,\n",
    "                ax=0,\n",
    "                ay=0,\n",
    "                font=dict(\n",
    "                    size=14,\n",
    "                    color = color\n",
    "                )\n",
    "            )\n",
    "        )"
   ]
  },
  {
   "cell_type": "code",
   "execution_count": 17,
   "metadata": {},
   "outputs": [
    {
     "data": {
      "application/vnd.plotly.v1+json": {
       "config": {
        "linkText": "Export to plot.ly",
        "plotlyServerURL": "https://plot.ly",
        "showLink": false
       },
       "data": [
        {
         "colorbar": {
          "tickfont": {
           "size": 14
          },
          "ticksuffix": "%"
         },
         "colorscale": [
          [
           0,
           "rgb(254,226,220)"
          ],
          [
           0.04,
           "rgb(255,255,255)"
          ],
          [
           1,
           "rgb(31, 119, 180)"
          ]
         ],
         "type": "heatmap",
         "uid": "4dee57d5-1ce0-470f-a080-14f3078531d1",
         "x": [
          "K=1",
          "K=2",
          "K=3",
          "K=5",
          "K=10"
         ],
         "y": [
          1,
          2,
          2.5,
          3,
          3.5,
          4,
          4.5,
          5
         ],
         "z": [
          [
           34.65562036216902,
           23.17494966662453,
           22.745970372611907,
           16.55251665985057,
           6.543973134298789
          ],
          [
           4.431614037691838,
           -1.59157287361259,
           3.551411203198508,
           0.9397066960713678,
           0.3798355332890037
          ],
          [
           16.84072718449576,
           8.071793762529406,
           12.933115516302989,
           4.463589398106679,
           6.742832003654541
          ],
          [
           10.755321067220944,
           7.253273600033468,
           5.9026735654090245,
           5.044818513830166,
           3.8770713843053537
          ],
          [
           -1.5594581221701982,
           -0.4805635082904102,
           1.5143501498983214,
           2.550332778147556,
           1.904659835135434
          ],
          [
           2.2693560420807724,
           -0.17507787572999647,
           0.11868776969274053,
           0.25278004257628633,
           1.1217205286373315
          ],
          [
           3.4244241435115828,
           14.118237231808713,
           10.345439830644072,
           4.832367898418472,
           1.3415615040051525
          ],
          [
           2.9011277612518134,
           5.4062946288060685,
           4.045476339614239,
           4.185037165426661,
           2.4533638816303585
          ]
         ]
        }
       ],
       "layout": {
        "annotations": [
         {
          "ax": 0,
          "ay": 0,
          "font": {
           "color": "rgb(255,255,255)",
           "size": 14
          },
          "showarrow": false,
          "text": "34.66",
          "x": 0,
          "xref": "x",
          "y": 1,
          "yref": "y"
         },
         {
          "ax": 0,
          "ay": 0,
          "font": {
           "color": "rgb(0, 0, 0)",
           "size": 14
          },
          "showarrow": false,
          "text": "4.43",
          "x": 0,
          "xref": "x",
          "y": 2,
          "yref": "y"
         },
         {
          "ax": 0,
          "ay": 0,
          "font": {
           "color": "rgb(0, 0, 0)",
           "size": 14
          },
          "showarrow": false,
          "text": "16.84",
          "x": 0,
          "xref": "x",
          "y": 2.5,
          "yref": "y"
         },
         {
          "ax": 0,
          "ay": 0,
          "font": {
           "color": "rgb(0, 0, 0)",
           "size": 14
          },
          "showarrow": false,
          "text": "10.76",
          "x": 0,
          "xref": "x",
          "y": 3,
          "yref": "y"
         },
         {
          "ax": 0,
          "ay": 0,
          "font": {
           "color": "rgb(0, 0, 0)",
           "size": 14
          },
          "showarrow": false,
          "text": "-1.56",
          "x": 0,
          "xref": "x",
          "y": 3.5,
          "yref": "y"
         },
         {
          "ax": 0,
          "ay": 0,
          "font": {
           "color": "rgb(0, 0, 0)",
           "size": 14
          },
          "showarrow": false,
          "text": "2.27",
          "x": 0,
          "xref": "x",
          "y": 4,
          "yref": "y"
         },
         {
          "ax": 0,
          "ay": 0,
          "font": {
           "color": "rgb(0, 0, 0)",
           "size": 14
          },
          "showarrow": false,
          "text": "3.42",
          "x": 0,
          "xref": "x",
          "y": 4.5,
          "yref": "y"
         },
         {
          "ax": 0,
          "ay": 0,
          "font": {
           "color": "rgb(0, 0, 0)",
           "size": 14
          },
          "showarrow": false,
          "text": "2.9",
          "x": 0,
          "xref": "x",
          "y": 5,
          "yref": "y"
         },
         {
          "ax": 0,
          "ay": 0,
          "font": {
           "color": "rgb(0, 0, 0)",
           "size": 14
          },
          "showarrow": false,
          "text": "23.17",
          "x": 1,
          "xref": "x",
          "y": 1,
          "yref": "y"
         },
         {
          "ax": 0,
          "ay": 0,
          "font": {
           "color": "rgb(0, 0, 0)",
           "size": 14
          },
          "showarrow": false,
          "text": "-1.59",
          "x": 1,
          "xref": "x",
          "y": 2,
          "yref": "y"
         },
         {
          "ax": 0,
          "ay": 0,
          "font": {
           "color": "rgb(0, 0, 0)",
           "size": 14
          },
          "showarrow": false,
          "text": "8.07",
          "x": 1,
          "xref": "x",
          "y": 2.5,
          "yref": "y"
         },
         {
          "ax": 0,
          "ay": 0,
          "font": {
           "color": "rgb(0, 0, 0)",
           "size": 14
          },
          "showarrow": false,
          "text": "7.25",
          "x": 1,
          "xref": "x",
          "y": 3,
          "yref": "y"
         },
         {
          "ax": 0,
          "ay": 0,
          "font": {
           "color": "rgb(0, 0, 0)",
           "size": 14
          },
          "showarrow": false,
          "text": "-0.48",
          "x": 1,
          "xref": "x",
          "y": 3.5,
          "yref": "y"
         },
         {
          "ax": 0,
          "ay": 0,
          "font": {
           "color": "rgb(0, 0, 0)",
           "size": 14
          },
          "showarrow": false,
          "text": "-0.18",
          "x": 1,
          "xref": "x",
          "y": 4,
          "yref": "y"
         },
         {
          "ax": 0,
          "ay": 0,
          "font": {
           "color": "rgb(0, 0, 0)",
           "size": 14
          },
          "showarrow": false,
          "text": "14.12",
          "x": 1,
          "xref": "x",
          "y": 4.5,
          "yref": "y"
         },
         {
          "ax": 0,
          "ay": 0,
          "font": {
           "color": "rgb(0, 0, 0)",
           "size": 14
          },
          "showarrow": false,
          "text": "5.41",
          "x": 1,
          "xref": "x",
          "y": 5,
          "yref": "y"
         },
         {
          "ax": 0,
          "ay": 0,
          "font": {
           "color": "rgb(0, 0, 0)",
           "size": 14
          },
          "showarrow": false,
          "text": "22.75",
          "x": 2,
          "xref": "x",
          "y": 1,
          "yref": "y"
         },
         {
          "ax": 0,
          "ay": 0,
          "font": {
           "color": "rgb(0, 0, 0)",
           "size": 14
          },
          "showarrow": false,
          "text": "3.55",
          "x": 2,
          "xref": "x",
          "y": 2,
          "yref": "y"
         },
         {
          "ax": 0,
          "ay": 0,
          "font": {
           "color": "rgb(0, 0, 0)",
           "size": 14
          },
          "showarrow": false,
          "text": "12.93",
          "x": 2,
          "xref": "x",
          "y": 2.5,
          "yref": "y"
         },
         {
          "ax": 0,
          "ay": 0,
          "font": {
           "color": "rgb(0, 0, 0)",
           "size": 14
          },
          "showarrow": false,
          "text": "5.9",
          "x": 2,
          "xref": "x",
          "y": 3,
          "yref": "y"
         },
         {
          "ax": 0,
          "ay": 0,
          "font": {
           "color": "rgb(0, 0, 0)",
           "size": 14
          },
          "showarrow": false,
          "text": "1.51",
          "x": 2,
          "xref": "x",
          "y": 3.5,
          "yref": "y"
         },
         {
          "ax": 0,
          "ay": 0,
          "font": {
           "color": "rgb(0, 0, 0)",
           "size": 14
          },
          "showarrow": false,
          "text": "0.12",
          "x": 2,
          "xref": "x",
          "y": 4,
          "yref": "y"
         },
         {
          "ax": 0,
          "ay": 0,
          "font": {
           "color": "rgb(0, 0, 0)",
           "size": 14
          },
          "showarrow": false,
          "text": "10.35",
          "x": 2,
          "xref": "x",
          "y": 4.5,
          "yref": "y"
         },
         {
          "ax": 0,
          "ay": 0,
          "font": {
           "color": "rgb(0, 0, 0)",
           "size": 14
          },
          "showarrow": false,
          "text": "4.05",
          "x": 2,
          "xref": "x",
          "y": 5,
          "yref": "y"
         },
         {
          "ax": 0,
          "ay": 0,
          "font": {
           "color": "rgb(0, 0, 0)",
           "size": 14
          },
          "showarrow": false,
          "text": "16.55",
          "x": 3,
          "xref": "x",
          "y": 1,
          "yref": "y"
         },
         {
          "ax": 0,
          "ay": 0,
          "font": {
           "color": "rgb(0, 0, 0)",
           "size": 14
          },
          "showarrow": false,
          "text": "0.94",
          "x": 3,
          "xref": "x",
          "y": 2,
          "yref": "y"
         },
         {
          "ax": 0,
          "ay": 0,
          "font": {
           "color": "rgb(0, 0, 0)",
           "size": 14
          },
          "showarrow": false,
          "text": "4.46",
          "x": 3,
          "xref": "x",
          "y": 2.5,
          "yref": "y"
         },
         {
          "ax": 0,
          "ay": 0,
          "font": {
           "color": "rgb(0, 0, 0)",
           "size": 14
          },
          "showarrow": false,
          "text": "5.04",
          "x": 3,
          "xref": "x",
          "y": 3,
          "yref": "y"
         },
         {
          "ax": 0,
          "ay": 0,
          "font": {
           "color": "rgb(0, 0, 0)",
           "size": 14
          },
          "showarrow": false,
          "text": "2.55",
          "x": 3,
          "xref": "x",
          "y": 3.5,
          "yref": "y"
         },
         {
          "ax": 0,
          "ay": 0,
          "font": {
           "color": "rgb(0, 0, 0)",
           "size": 14
          },
          "showarrow": false,
          "text": "0.25",
          "x": 3,
          "xref": "x",
          "y": 4,
          "yref": "y"
         },
         {
          "ax": 0,
          "ay": 0,
          "font": {
           "color": "rgb(0, 0, 0)",
           "size": 14
          },
          "showarrow": false,
          "text": "4.83",
          "x": 3,
          "xref": "x",
          "y": 4.5,
          "yref": "y"
         },
         {
          "ax": 0,
          "ay": 0,
          "font": {
           "color": "rgb(0, 0, 0)",
           "size": 14
          },
          "showarrow": false,
          "text": "4.19",
          "x": 3,
          "xref": "x",
          "y": 5,
          "yref": "y"
         },
         {
          "ax": 0,
          "ay": 0,
          "font": {
           "color": "rgb(0, 0, 0)",
           "size": 14
          },
          "showarrow": false,
          "text": "6.54",
          "x": 4,
          "xref": "x",
          "y": 1,
          "yref": "y"
         },
         {
          "ax": 0,
          "ay": 0,
          "font": {
           "color": "rgb(0, 0, 0)",
           "size": 14
          },
          "showarrow": false,
          "text": "0.38",
          "x": 4,
          "xref": "x",
          "y": 2,
          "yref": "y"
         },
         {
          "ax": 0,
          "ay": 0,
          "font": {
           "color": "rgb(0, 0, 0)",
           "size": 14
          },
          "showarrow": false,
          "text": "6.74",
          "x": 4,
          "xref": "x",
          "y": 2.5,
          "yref": "y"
         },
         {
          "ax": 0,
          "ay": 0,
          "font": {
           "color": "rgb(0, 0, 0)",
           "size": 14
          },
          "showarrow": false,
          "text": "3.88",
          "x": 4,
          "xref": "x",
          "y": 3,
          "yref": "y"
         },
         {
          "ax": 0,
          "ay": 0,
          "font": {
           "color": "rgb(0, 0, 0)",
           "size": 14
          },
          "showarrow": false,
          "text": "1.9",
          "x": 4,
          "xref": "x",
          "y": 3.5,
          "yref": "y"
         },
         {
          "ax": 0,
          "ay": 0,
          "font": {
           "color": "rgb(0, 0, 0)",
           "size": 14
          },
          "showarrow": false,
          "text": "1.12",
          "x": 4,
          "xref": "x",
          "y": 4,
          "yref": "y"
         },
         {
          "ax": 0,
          "ay": 0,
          "font": {
           "color": "rgb(0, 0, 0)",
           "size": 14
          },
          "showarrow": false,
          "text": "1.34",
          "x": 4,
          "xref": "x",
          "y": 4.5,
          "yref": "y"
         },
         {
          "ax": 0,
          "ay": 0,
          "font": {
           "color": "rgb(0, 0, 0)",
           "size": 14
          },
          "showarrow": false,
          "text": "2.45",
          "x": 4,
          "xref": "x",
          "y": 5,
          "yref": "y"
         }
        ],
        "autosize": false,
        "height": 700,
        "width": 700,
        "xaxis": {
         "autorange": true,
         "range": [
          -0.5,
          4.5
         ],
         "tickfont": {
          "size": 14
         },
         "title": {
          "font": {
           "size": 18
          },
          "text": "Num. Retrieved Cases"
         },
         "type": "category"
        },
        "yaxis": {
         "autorange": true,
         "range": [
          -0.5,
          7.5
         ],
         "tickfont": {
          "size": 14
         },
         "title": {
          "font": {
           "size": 18
          },
          "text": "Ratings"
         },
         "type": "category"
        }
       }
      },
      "image/png": "[encoded data removed]",
      "text/html": [
       "<div id=\"8ccbf00a-027e-4a55-8133-cd8e9a61ff3b\" style=\"height: 700px; width: 700px;\" class=\"plotly-graph-div\"></div><script type=\"text/javascript\">require([\"plotly\"], function(Plotly) { window.PLOTLYENV=window.PLOTLYENV || {};window.PLOTLYENV.BASE_URL=\"https://plot.ly\";Plotly.newPlot(\"8ccbf00a-027e-4a55-8133-cd8e9a61ff3b\", [{\"colorbar\": {\"tickfont\": {\"size\": 14}, \"ticksuffix\": \"%\"}, \"colorscale\": [[0.0, \"rgb(254,226,220)\"], [0.04, \"rgb(255,255,255)\"], [1.0, \"rgb(31, 119, 180)\"]], \"x\": [\"K=1\", \"K=2\", \"K=3\", \"K=5\", \"K=10\"], \"y\": [1.0, 2.0, 2.5, 3.0, 3.5, 4.0, 4.5, 5.0], \"z\": [[34.65562036216902, 23.17494966662453, 22.745970372611907, 16.55251665985057, 6.543973134298789], [4.431614037691838, -1.59157287361259, 3.551411203198508, 0.9397066960713678, 0.3798355332890037], [16.84072718449576, 8.071793762529406, 12.933115516302989, 4.463589398106679, 6.742832003654541], [10.755321067220944, 7.253273600033468, 5.9026735654090245, 5.044818513830166, 3.8770713843053537], [-1.5594581221701982, -0.4805635082904102, 1.5143501498983214, 2.550332778147556, 1.904659835135434], [2.2693560420807724, -0.17507787572999647, 0.11868776969274053, 0.25278004257628633, 1.1217205286373315], [3.4244241435115828, 14.118237231808713, 10.345439830644072, 4.832367898418472, 1.3415615040051525], [2.9011277612518134, 5.4062946288060685, 4.045476339614239, 4.185037165426661, 2.4533638816303585]], \"type\": \"heatmap\", \"uid\": \"4dee57d5-1ce0-470f-a080-14f3078531d1\"}], {\"annotations\": [{\"ax\": 0, \"ay\": 0, \"font\": {\"color\": \"rgb(255,255,255)\", \"size\": 14}, \"showarrow\": false, \"text\": \"34.66\", \"x\": 0, \"xref\": \"x\", \"y\": 1.0, \"yref\": \"y\"}, {\"ax\": 0, \"ay\": 0, \"font\": {\"color\": \"rgb(0,0,0)\", \"size\": 14}, \"showarrow\": false, \"text\": \"4.43\", \"x\": 0, \"xref\": \"x\", \"y\": 2.0, \"yref\": \"y\"}, {\"ax\": 0, \"ay\": 0, \"font\": {\"color\": \"rgb(0,0,0)\", \"size\": 14}, \"showarrow\": false, \"text\": \"16.84\", \"x\": 0, \"xref\": \"x\", \"y\": 2.5, \"yref\": \"y\"}, {\"ax\": 0, \"ay\": 0, \"font\": {\"color\": \"rgb(0,0,0)\", \"size\": 14}, \"showarrow\": false, \"text\": \"10.76\", \"x\": 0, \"xref\": \"x\", \"y\": 3.0, \"yref\": \"y\"}, {\"ax\": 0, \"ay\": 0, \"font\": {\"color\": \"rgb(0,0,0)\", \"size\": 14}, \"showarrow\": false, \"text\": \"-1.56\", \"x\": 0, \"xref\": \"x\", \"y\": 3.5, \"yref\": \"y\"}, {\"ax\": 0, \"ay\": 0, \"font\": {\"color\": \"rgb(0,0,0)\", \"size\": 14}, \"showarrow\": false, \"text\": \"2.27\", \"x\": 0, \"xref\": \"x\", \"y\": 4.0, \"yref\": \"y\"}, {\"ax\": 0, \"ay\": 0, \"font\": {\"color\": \"rgb(0,0,0)\", \"size\": 14}, \"showarrow\": false, \"text\": \"3.42\", \"x\": 0, \"xref\": \"x\", \"y\": 4.5, \"yref\": \"y\"}, {\"ax\": 0, \"ay\": 0, \"font\": {\"color\": \"rgb(0,0,0)\", \"size\": 14}, \"showarrow\": false, \"text\": \"2.9\", \"x\": 0, \"xref\": \"x\", \"y\": 5.0, \"yref\": \"y\"}, {\"ax\": 0, \"ay\": 0, \"font\": {\"color\": \"rgb(0,0,0)\", \"size\": 14}, \"showarrow\": false, \"text\": \"23.17\", \"x\": 1, \"xref\": \"x\", \"y\": 1.0, \"yref\": \"y\"}, {\"ax\": 0, \"ay\": 0, \"font\": {\"color\": \"rgb(0,0,0)\", \"size\": 14}, \"showarrow\": false, \"text\": \"-1.59\", \"x\": 1, \"xref\": \"x\", \"y\": 2.0, \"yref\": \"y\"}, {\"ax\": 0, \"ay\": 0, \"font\": {\"color\": \"rgb(0,0,0)\", \"size\": 14}, \"showarrow\": false, \"text\": \"8.07\", \"x\": 1, \"xref\": \"x\", \"y\": 2.5, \"yref\": \"y\"}, {\"ax\": 0, \"ay\": 0, \"font\": {\"color\": \"rgb(0,0,0)\", \"size\": 14}, \"showarrow\": false, \"text\": \"7.25\", \"x\": 1, \"xref\": \"x\", \"y\": 3.0, \"yref\": \"y\"}, {\"ax\": 0, \"ay\": 0, \"font\": {\"color\": \"rgb(0,0,0)\", \"size\": 14}, \"showarrow\": false, \"text\": \"-0.48\", \"x\": 1, \"xref\": \"x\", \"y\": 3.5, \"yref\": \"y\"}, {\"ax\": 0, \"ay\": 0, \"font\": {\"color\": \"rgb(0,0,0)\", \"size\": 14}, \"showarrow\": false, \"text\": \"-0.18\", \"x\": 1, \"xref\": \"x\", \"y\": 4.0, \"yref\": \"y\"}, {\"ax\": 0, \"ay\": 0, \"font\": {\"color\": \"rgb(0,0,0)\", \"size\": 14}, \"showarrow\": false, \"text\": \"14.12\", \"x\": 1, \"xref\": \"x\", \"y\": 4.5, \"yref\": \"y\"}, {\"ax\": 0, \"ay\": 0, \"font\": {\"color\": \"rgb(0,0,0)\", \"size\": 14}, \"showarrow\": false, \"text\": \"5.41\", \"x\": 1, \"xref\": \"x\", \"y\": 5.0, \"yref\": \"y\"}, {\"ax\": 0, \"ay\": 0, \"font\": {\"color\": \"rgb(0,0,0)\", \"size\": 14}, \"showarrow\": false, \"text\": \"22.75\", \"x\": 2, \"xref\": \"x\", \"y\": 1.0, \"yref\": \"y\"}, {\"ax\": 0, \"ay\": 0, \"font\": {\"color\": \"rgb(0,0,0)\", \"size\": 14}, \"showarrow\": false, \"text\": \"3.55\", \"x\": 2, \"xref\": \"x\", \"y\": 2.0, \"yref\": \"y\"}, {\"ax\": 0, \"ay\": 0, \"font\": {\"color\": \"rgb(0,0,0)\", \"size\": 14}, \"showarrow\": false, \"text\": \"12.93\", \"x\": 2, \"xref\": \"x\", \"y\": 2.5, \"yref\": \"y\"}, {\"ax\": 0, \"ay\": 0, \"font\": {\"color\": \"rgb(0,0,0)\", \"size\": 14}, \"showarrow\": false, \"text\": \"5.9\", \"x\": 2, \"xref\": \"x\", \"y\": 3.0, \"yref\": \"y\"}, {\"ax\": 0, \"ay\": 0, \"font\": {\"color\": \"rgb(0,0,0)\", \"size\": 14}, \"showarrow\": false, \"text\": \"1.51\", \"x\": 2, \"xref\": \"x\", \"y\": 3.5, \"yref\": \"y\"}, {\"ax\": 0, \"ay\": 0, \"font\": {\"color\": \"rgb(0,0,0)\", \"size\": 14}, \"showarrow\": false, \"text\": \"0.12\", \"x\": 2, \"xref\": \"x\", \"y\": 4.0, \"yref\": \"y\"}, {\"ax\": 0, \"ay\": 0, \"font\": {\"color\": \"rgb(0,0,0)\", \"size\": 14}, \"showarrow\": false, \"text\": \"10.35\", \"x\": 2, \"xref\": \"x\", \"y\": 4.5, \"yref\": \"y\"}, {\"ax\": 0, \"ay\": 0, \"font\": {\"color\": \"rgb(0,0,0)\", \"size\": 14}, \"showarrow\": false, \"text\": \"4.05\", \"x\": 2, \"xref\": \"x\", \"y\": 5.0, \"yref\": \"y\"}, {\"ax\": 0, \"ay\": 0, \"font\": {\"color\": \"rgb(0,0,0)\", \"size\": 14}, \"showarrow\": false, \"text\": \"16.55\", \"x\": 3, \"xref\": \"x\", \"y\": 1.0, \"yref\": \"y\"}, {\"ax\": 0, \"ay\": 0, \"font\": {\"color\": \"rgb(0,0,0)\", \"size\": 14}, \"showarrow\": false, \"text\": \"0.94\", \"x\": 3, \"xref\": \"x\", \"y\": 2.0, \"yref\": \"y\"}, {\"ax\": 0, \"ay\": 0, \"font\": {\"color\": \"rgb(0,0,0)\", \"size\": 14}, \"showarrow\": false, \"text\": \"4.46\", \"x\": 3, \"xref\": \"x\", \"y\": 2.5, \"yref\": \"y\"}, {\"ax\": 0, \"ay\": 0, \"font\": {\"color\": \"rgb(0,0,0)\", \"size\": 14}, \"showarrow\": false, \"text\": \"5.04\", \"x\": 3, \"xref\": \"x\", \"y\": 3.0, \"yref\": \"y\"}, {\"ax\": 0, \"ay\": 0, \"font\": {\"color\": \"rgb(0,0,0)\", \"size\": 14}, \"showarrow\": false, \"text\": \"2.55\", \"x\": 3, \"xref\": \"x\", \"y\": 3.5, \"yref\": \"y\"}, {\"ax\": 0, \"ay\": 0, \"font\": {\"color\": \"rgb(0,0,0)\", \"size\": 14}, \"showarrow\": false, \"text\": \"0.25\", \"x\": 3, \"xref\": \"x\", \"y\": 4.0, \"yref\": \"y\"}, {\"ax\": 0, \"ay\": 0, \"font\": {\"color\": \"rgb(0,0,0)\", \"size\": 14}, \"showarrow\": false, \"text\": \"4.83\", \"x\": 3, \"xref\": \"x\", \"y\": 4.5, \"yref\": \"y\"}, {\"ax\": 0, \"ay\": 0, \"font\": {\"color\": \"rgb(0,0,0)\", \"size\": 14}, \"showarrow\": false, \"text\": \"4.19\", \"x\": 3, \"xref\": \"x\", \"y\": 5.0, \"yref\": \"y\"}, {\"ax\": 0, \"ay\": 0, \"font\": {\"color\": \"rgb(0,0,0)\", \"size\": 14}, \"showarrow\": false, \"text\": \"6.54\", \"x\": 4, \"xref\": \"x\", \"y\": 1.0, \"yref\": \"y\"}, {\"ax\": 0, \"ay\": 0, \"font\": {\"color\": \"rgb(0,0,0)\", \"size\": 14}, \"showarrow\": false, \"text\": \"0.38\", \"x\": 4, \"xref\": \"x\", \"y\": 2.0, \"yref\": \"y\"}, {\"ax\": 0, \"ay\": 0, \"font\": {\"color\": \"rgb(0,0,0)\", \"size\": 14}, \"showarrow\": false, \"text\": \"6.74\", \"x\": 4, \"xref\": \"x\", \"y\": 2.5, \"yref\": \"y\"}, {\"ax\": 0, \"ay\": 0, \"font\": {\"color\": \"rgb(0,0,0)\", \"size\": 14}, \"showarrow\": false, \"text\": \"3.88\", \"x\": 4, \"xref\": \"x\", \"y\": 3.0, \"yref\": \"y\"}, {\"ax\": 0, \"ay\": 0, \"font\": {\"color\": \"rgb(0,0,0)\", \"size\": 14}, \"showarrow\": false, \"text\": \"1.9\", \"x\": 4, \"xref\": \"x\", \"y\": 3.5, \"yref\": \"y\"}, {\"ax\": 0, \"ay\": 0, \"font\": {\"color\": \"rgb(0,0,0)\", \"size\": 14}, \"showarrow\": false, \"text\": \"1.12\", \"x\": 4, \"xref\": \"x\", \"y\": 4.0, \"yref\": \"y\"}, {\"ax\": 0, \"ay\": 0, \"font\": {\"color\": \"rgb(0,0,0)\", \"size\": 14}, \"showarrow\": false, \"text\": \"1.34\", \"x\": 4, \"xref\": \"x\", \"y\": 4.5, \"yref\": \"y\"}, {\"ax\": 0, \"ay\": 0, \"font\": {\"color\": \"rgb(0,0,0)\", \"size\": 14}, \"showarrow\": false, \"text\": \"2.45\", \"x\": 4, \"xref\": \"x\", \"y\": 5.0, \"yref\": \"y\"}], \"autosize\": false, \"height\": 700, \"width\": 700, \"xaxis\": {\"tickfont\": {\"size\": 14}, \"title\": {\"font\": {\"size\": 18}, \"text\": \"Num. Retrieved Cases\"}}, \"yaxis\": {\"tickfont\": {\"size\": 14}, \"title\": {\"font\": {\"size\": 18}, \"text\": \"Ratings\"}, \"type\": \"category\"}}, {\"showLink\": false, \"linkText\": \"Export to plot.ly\", \"plotlyServerURL\": \"https://plot.ly\"})});</script>"
      ],
      "text/vnd.plotly.v1+html": [
       "<div id=\"8ccbf00a-027e-4a55-8133-cd8e9a61ff3b\" style=\"height: 700px; width: 700px;\" class=\"plotly-graph-div\"></div><script type=\"text/javascript\">require([\"plotly\"], function(Plotly) { window.PLOTLYENV=window.PLOTLYENV || {};window.PLOTLYENV.BASE_URL=\"https://plot.ly\";Plotly.newPlot(\"8ccbf00a-027e-4a55-8133-cd8e9a61ff3b\", [{\"colorbar\": {\"tickfont\": {\"size\": 14}, \"ticksuffix\": \"%\"}, \"colorscale\": [[0.0, \"rgb(254,226,220)\"], [0.04, \"rgb(255,255,255)\"], [1.0, \"rgb(31, 119, 180)\"]], \"x\": [\"K=1\", \"K=2\", \"K=3\", \"K=5\", \"K=10\"], \"y\": [1.0, 2.0, 2.5, 3.0, 3.5, 4.0, 4.5, 5.0], \"z\": [[34.65562036216902, 23.17494966662453, 22.745970372611907, 16.55251665985057, 6.543973134298789], [4.431614037691838, -1.59157287361259, 3.551411203198508, 0.9397066960713678, 0.3798355332890037], [16.84072718449576, 8.071793762529406, 12.933115516302989, 4.463589398106679, 6.742832003654541], [10.755321067220944, 7.253273600033468, 5.9026735654090245, 5.044818513830166, 3.8770713843053537], [-1.5594581221701982, -0.4805635082904102, 1.5143501498983214, 2.550332778147556, 1.904659835135434], [2.2693560420807724, -0.17507787572999647, 0.11868776969274053, 0.25278004257628633, 1.1217205286373315], [3.4244241435115828, 14.118237231808713, 10.345439830644072, 4.832367898418472, 1.3415615040051525], [2.9011277612518134, 5.4062946288060685, 4.045476339614239, 4.185037165426661, 2.4533638816303585]], \"type\": \"heatmap\", \"uid\": \"4dee57d5-1ce0-470f-a080-14f3078531d1\"}], {\"annotations\": [{\"ax\": 0, \"ay\": 0, \"font\": {\"color\": \"rgb(255,255,255)\", \"size\": 14}, \"showarrow\": false, \"text\": \"34.66\", \"x\": 0, \"xref\": \"x\", \"y\": 1.0, \"yref\": \"y\"}, {\"ax\": 0, \"ay\": 0, \"font\": {\"color\": \"rgb(0,0,0)\", \"size\": 14}, \"showarrow\": false, \"text\": \"4.43\", \"x\": 0, \"xref\": \"x\", \"y\": 2.0, \"yref\": \"y\"}, {\"ax\": 0, \"ay\": 0, \"font\": {\"color\": \"rgb(0,0,0)\", \"size\": 14}, \"showarrow\": false, \"text\": \"16.84\", \"x\": 0, \"xref\": \"x\", \"y\": 2.5, \"yref\": \"y\"}, {\"ax\": 0, \"ay\": 0, \"font\": {\"color\": \"rgb(0,0,0)\", \"size\": 14}, \"showarrow\": false, \"text\": \"10.76\", \"x\": 0, \"xref\": \"x\", \"y\": 3.0, \"yref\": \"y\"}, {\"ax\": 0, \"ay\": 0, \"font\": {\"color\": \"rgb(0,0,0)\", \"size\": 14}, \"showarrow\": false, \"text\": \"-1.56\", \"x\": 0, \"xref\": \"x\", \"y\": 3.5, \"yref\": \"y\"}, {\"ax\": 0, \"ay\": 0, \"font\": {\"color\": \"rgb(0,0,0)\", \"size\": 14}, \"showarrow\": false, \"text\": \"2.27\", \"x\": 0, \"xref\": \"x\", \"y\": 4.0, \"yref\": \"y\"}, {\"ax\": 0, \"ay\": 0, \"font\": {\"color\": \"rgb(0,0,0)\", \"size\": 14}, \"showarrow\": false, \"text\": \"3.42\", \"x\": 0, \"xref\": \"x\", \"y\": 4.5, \"yref\": \"y\"}, {\"ax\": 0, \"ay\": 0, \"font\": {\"color\": \"rgb(0,0,0)\", \"size\": 14}, \"showarrow\": false, \"text\": \"2.9\", \"x\": 0, \"xref\": \"x\", \"y\": 5.0, \"yref\": \"y\"}, {\"ax\": 0, \"ay\": 0, \"font\": {\"color\": \"rgb(0,0,0)\", \"size\": 14}, \"showarrow\": false, \"text\": \"23.17\", \"x\": 1, \"xref\": \"x\", \"y\": 1.0, \"yref\": \"y\"}, {\"ax\": 0, \"ay\": 0, \"font\": {\"color\": \"rgb(0,0,0)\", \"size\": 14}, \"showarrow\": false, \"text\": \"-1.59\", \"x\": 1, \"xref\": \"x\", \"y\": 2.0, \"yref\": \"y\"}, {\"ax\": 0, \"ay\": 0, \"font\": {\"color\": \"rgb(0,0,0)\", \"size\": 14}, \"showarrow\": false, \"text\": \"8.07\", \"x\": 1, \"xref\": \"x\", \"y\": 2.5, \"yref\": \"y\"}, {\"ax\": 0, \"ay\": 0, \"font\": {\"color\": \"rgb(0,0,0)\", \"size\": 14}, \"showarrow\": false, \"text\": \"7.25\", \"x\": 1, \"xref\": \"x\", \"y\": 3.0, \"yref\": \"y\"}, {\"ax\": 0, \"ay\": 0, \"font\": {\"color\": \"rgb(0,0,0)\", \"size\": 14}, \"showarrow\": false, \"text\": \"-0.48\", \"x\": 1, \"xref\": \"x\", \"y\": 3.5, \"yref\": \"y\"}, {\"ax\": 0, \"ay\": 0, \"font\": {\"color\": \"rgb(0,0,0)\", \"size\": 14}, \"showarrow\": false, \"text\": \"-0.18\", \"x\": 1, \"xref\": \"x\", \"y\": 4.0, \"yref\": \"y\"}, {\"ax\": 0, \"ay\": 0, \"font\": {\"color\": \"rgb(0,0,0)\", \"size\": 14}, \"showarrow\": false, \"text\": \"14.12\", \"x\": 1, \"xref\": \"x\", \"y\": 4.5, \"yref\": \"y\"}, {\"ax\": 0, \"ay\": 0, \"font\": {\"color\": \"rgb(0,0,0)\", \"size\": 14}, \"showarrow\": false, \"text\": \"5.41\", \"x\": 1, \"xref\": \"x\", \"y\": 5.0, \"yref\": \"y\"}, {\"ax\": 0, \"ay\": 0, \"font\": {\"color\": \"rgb(0,0,0)\", \"size\": 14}, \"showarrow\": false, \"text\": \"22.75\", \"x\": 2, \"xref\": \"x\", \"y\": 1.0, \"yref\": \"y\"}, {\"ax\": 0, \"ay\": 0, \"font\": {\"color\": \"rgb(0,0,0)\", \"size\": 14}, \"showarrow\": false, \"text\": \"3.55\", \"x\": 2, \"xref\": \"x\", \"y\": 2.0, \"yref\": \"y\"}, {\"ax\": 0, \"ay\": 0, \"font\": {\"color\": \"rgb(0,0,0)\", \"size\": 14}, \"showarrow\": false, \"text\": \"12.93\", \"x\": 2, \"xref\": \"x\", \"y\": 2.5, \"yref\": \"y\"}, {\"ax\": 0, \"ay\": 0, \"font\": {\"color\": \"rgb(0,0,0)\", \"size\": 14}, \"showarrow\": false, \"text\": \"5.9\", \"x\": 2, \"xref\": \"x\", \"y\": 3.0, \"yref\": \"y\"}, {\"ax\": 0, \"ay\": 0, \"font\": {\"color\": \"rgb(0,0,0)\", \"size\": 14}, \"showarrow\": false, \"text\": \"1.51\", \"x\": 2, \"xref\": \"x\", \"y\": 3.5, \"yref\": \"y\"}, {\"ax\": 0, \"ay\": 0, \"font\": {\"color\": \"rgb(0,0,0)\", \"size\": 14}, \"showarrow\": false, \"text\": \"0.12\", \"x\": 2, \"xref\": \"x\", \"y\": 4.0, \"yref\": \"y\"}, {\"ax\": 0, \"ay\": 0, \"font\": {\"color\": \"rgb(0,0,0)\", \"size\": 14}, \"showarrow\": false, \"text\": \"10.35\", \"x\": 2, \"xref\": \"x\", \"y\": 4.5, \"yref\": \"y\"}, {\"ax\": 0, \"ay\": 0, \"font\": {\"color\": \"rgb(0,0,0)\", \"size\": 14}, \"showarrow\": false, \"text\": \"4.05\", \"x\": 2, \"xref\": \"x\", \"y\": 5.0, \"yref\": \"y\"}, {\"ax\": 0, \"ay\": 0, \"font\": {\"color\": \"rgb(0,0,0)\", \"size\": 14}, \"showarrow\": false, \"text\": \"16.55\", \"x\": 3, \"xref\": \"x\", \"y\": 1.0, \"yref\": \"y\"}, {\"ax\": 0, \"ay\": 0, \"font\": {\"color\": \"rgb(0,0,0)\", \"size\": 14}, \"showarrow\": false, \"text\": \"0.94\", \"x\": 3, \"xref\": \"x\", \"y\": 2.0, \"yref\": \"y\"}, {\"ax\": 0, \"ay\": 0, \"font\": {\"color\": \"rgb(0,0,0)\", \"size\": 14}, \"showarrow\": false, \"text\": \"4.46\", \"x\": 3, \"xref\": \"x\", \"y\": 2.5, \"yref\": \"y\"}, {\"ax\": 0, \"ay\": 0, \"font\": {\"color\": \"rgb(0,0,0)\", \"size\": 14}, \"showarrow\": false, \"text\": \"5.04\", \"x\": 3, \"xref\": \"x\", \"y\": 3.0, \"yref\": \"y\"}, {\"ax\": 0, \"ay\": 0, \"font\": {\"color\": \"rgb(0,0,0)\", \"size\": 14}, \"showarrow\": false, \"text\": \"2.55\", \"x\": 3, \"xref\": \"x\", \"y\": 3.5, \"yref\": \"y\"}, {\"ax\": 0, \"ay\": 0, \"font\": {\"color\": \"rgb(0,0,0)\", \"size\": 14}, \"showarrow\": false, \"text\": \"0.25\", \"x\": 3, \"xref\": \"x\", \"y\": 4.0, \"yref\": \"y\"}, {\"ax\": 0, \"ay\": 0, \"font\": {\"color\": \"rgb(0,0,0)\", \"size\": 14}, \"showarrow\": false, \"text\": \"4.83\", \"x\": 3, \"xref\": \"x\", \"y\": 4.5, \"yref\": \"y\"}, {\"ax\": 0, \"ay\": 0, \"font\": {\"color\": \"rgb(0,0,0)\", \"size\": 14}, \"showarrow\": false, \"text\": \"4.19\", \"x\": 3, \"xref\": \"x\", \"y\": 5.0, \"yref\": \"y\"}, {\"ax\": 0, \"ay\": 0, \"font\": {\"color\": \"rgb(0,0,0)\", \"size\": 14}, \"showarrow\": false, \"text\": \"6.54\", \"x\": 4, \"xref\": \"x\", \"y\": 1.0, \"yref\": \"y\"}, {\"ax\": 0, \"ay\": 0, \"font\": {\"color\": \"rgb(0,0,0)\", \"size\": 14}, \"showarrow\": false, \"text\": \"0.38\", \"x\": 4, \"xref\": \"x\", \"y\": 2.0, \"yref\": \"y\"}, {\"ax\": 0, \"ay\": 0, \"font\": {\"color\": \"rgb(0,0,0)\", \"size\": 14}, \"showarrow\": false, \"text\": \"6.74\", \"x\": 4, \"xref\": \"x\", \"y\": 2.5, \"yref\": \"y\"}, {\"ax\": 0, \"ay\": 0, \"font\": {\"color\": \"rgb(0,0,0)\", \"size\": 14}, \"showarrow\": false, \"text\": \"3.88\", \"x\": 4, \"xref\": \"x\", \"y\": 3.0, \"yref\": \"y\"}, {\"ax\": 0, \"ay\": 0, \"font\": {\"color\": \"rgb(0,0,0)\", \"size\": 14}, \"showarrow\": false, \"text\": \"1.9\", \"x\": 4, \"xref\": \"x\", \"y\": 3.5, \"yref\": \"y\"}, {\"ax\": 0, \"ay\": 0, \"font\": {\"color\": \"rgb(0,0,0)\", \"size\": 14}, \"showarrow\": false, \"text\": \"1.12\", \"x\": 4, \"xref\": \"x\", \"y\": 4.0, \"yref\": \"y\"}, {\"ax\": 0, \"ay\": 0, \"font\": {\"color\": \"rgb(0,0,0)\", \"size\": 14}, \"showarrow\": false, \"text\": \"1.34\", \"x\": 4, \"xref\": \"x\", \"y\": 4.5, \"yref\": \"y\"}, {\"ax\": 0, \"ay\": 0, \"font\": {\"color\": \"rgb(0,0,0)\", \"size\": 14}, \"showarrow\": false, \"text\": \"2.45\", \"x\": 4, \"xref\": \"x\", \"y\": 5.0, \"yref\": \"y\"}], \"autosize\": false, \"height\": 700, \"width\": 700, \"xaxis\": {\"tickfont\": {\"size\": 14}, \"title\": {\"font\": {\"size\": 18}, \"text\": \"Num. Retrieved Cases\"}}, \"yaxis\": {\"tickfont\": {\"size\": 14}, \"title\": {\"font\": {\"size\": 18}, \"text\": \"Ratings\"}, \"type\": \"category\"}}, {\"showLink\": false, \"linkText\": \"Export to plot.ly\", \"plotlyServerURL\": \"https://plot.ly\"})});</script>"
      ]
     },
     "metadata": {},
     "output_type": "display_data"
    }
   ],
   "source": [
    "trace = go.Heatmap(z= z_values,\n",
    "                   x= x_values,\n",
    "                   y= y_values,\n",
    "                   colorscale=[[0.0, 'rgb(254,226,220)'], [0.04, 'rgb(255,255,255)'], [1.0, 'rgb(31, 119, 180)']],\n",
    "                   colorbar=dict(tickfont=dict(size=14), ticksuffix='%'))\n",
    "\n",
    "layout = go.Layout(\n",
    "    autosize=False,\n",
    "    width=700,\n",
    "    height=700,\n",
    "    yaxis=dict(\n",
    "        title='Ratings',\n",
    "        type='category',\n",
    "        titlefont=dict(\n",
    "            size=18\n",
    "        ),\n",
    "        tickfont=dict(\n",
    "            size=14\n",
    "        )\n",
    "        #range=[0.5, 5.5]\n",
    "    ),\n",
    "    xaxis=dict(\n",
    "        title = 'Num. Retrieved Cases',\n",
    "        titlefont=dict(\n",
    "            size=18\n",
    "        ),\n",
    "        tickfont=dict(\n",
    "            size=14\n",
    "        )\n",
    "    ),\n",
    "    annotations=annotations\n",
    ")\n",
    "\n",
    "\n",
    "\n",
    "data=[trace]\n",
    "fig = go.Figure(data=data, layout=layout)\n",
    "\n",
    "iplot(fig, filename='labelled-heatmap')"
   ]
  },
  {
   "cell_type": "code",
   "execution_count": 18,
   "metadata": {},
   "outputs": [],
   "source": [
    "pio.write_image(fig, 'heatmap_estratified.png')"
   ]
  },
  {
   "cell_type": "code",
   "execution_count": null,
   "metadata": {},
   "outputs": [],
   "source": []
  }
 ],
 "metadata": {
  "kernelspec": {
   "display_name": "Python 3",
   "language": "python",
   "name": "python3"
  },
  "language_info": {
   "codemirror_mode": {
    "name": "ipython",
    "version": 3
   },
   "file_extension": ".py",
   "mimetype": "text/x-python",
   "name": "python",
   "nbconvert_exporter": "python",
   "pygments_lexer": "ipython3",
   "version": "3.7.1"
  }
 },
 "nbformat": 4,
 "nbformat_minor": 2
}
