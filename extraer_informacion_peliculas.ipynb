{
 "cells": [
  {
   "cell_type": "code",
   "execution_count": 1,
   "metadata": {},
   "outputs": [],
   "source": [
    "import pandas as pd\n",
    "import IMDB_API as imdb"
   ]
  },
  {
   "cell_type": "markdown",
   "metadata": {},
   "source": [
    "# Extraer información películas\n",
    "\n",
    "En este notebook vamos a extraer toda la información que podamos de las películas. Para ello, vamos a ir a sus páginas en IMDB y descargaremos la información que haya en las fichas de las películas."
   ]
  },
  {
   "cell_type": "markdown",
   "metadata": {},
   "source": [
    "## Obtener los links de IMDB\n",
    "\n",
    "En esta parte obtenemos los links de las películas que vamos a utilizar en el experimento."
   ]
  },
  {
   "cell_type": "code",
   "execution_count": 2,
   "metadata": {},
   "outputs": [
    {
     "data": {
      "text/html": [
       "<div>\n",
       "<style scoped>\n",
       "    .dataframe tbody tr th:only-of-type {\n",
       "        vertical-align: middle;\n",
       "    }\n",
       "\n",
       "    .dataframe tbody tr th {\n",
       "        vertical-align: top;\n",
       "    }\n",
       "\n",
       "    .dataframe thead th {\n",
       "        text-align: right;\n",
       "    }\n",
       "</style>\n",
       "<table border=\"1\" class=\"dataframe\">\n",
       "  <thead>\n",
       "    <tr style=\"text-align: right;\">\n",
       "      <th></th>\n",
       "      <th>movieId</th>\n",
       "      <th>imdbId</th>\n",
       "      <th>tmdbId</th>\n",
       "    </tr>\n",
       "  </thead>\n",
       "  <tbody>\n",
       "    <tr>\n",
       "      <th>0</th>\n",
       "      <td>1</td>\n",
       "      <td>114709</td>\n",
       "      <td>862.0</td>\n",
       "    </tr>\n",
       "    <tr>\n",
       "      <th>1</th>\n",
       "      <td>2</td>\n",
       "      <td>113497</td>\n",
       "      <td>8844.0</td>\n",
       "    </tr>\n",
       "    <tr>\n",
       "      <th>2</th>\n",
       "      <td>3</td>\n",
       "      <td>113228</td>\n",
       "      <td>15602.0</td>\n",
       "    </tr>\n",
       "    <tr>\n",
       "      <th>3</th>\n",
       "      <td>4</td>\n",
       "      <td>114885</td>\n",
       "      <td>31357.0</td>\n",
       "    </tr>\n",
       "    <tr>\n",
       "      <th>4</th>\n",
       "      <td>5</td>\n",
       "      <td>113041</td>\n",
       "      <td>11862.0</td>\n",
       "    </tr>\n",
       "  </tbody>\n",
       "</table>\n",
       "</div>"
      ],
      "text/plain": [
       "   movieId  imdbId   tmdbId\n",
       "0        1  114709    862.0\n",
       "1        2  113497   8844.0\n",
       "2        3  113228  15602.0\n",
       "3        4  114885  31357.0\n",
       "4        5  113041  11862.0"
      ]
     },
     "execution_count": 2,
     "metadata": {},
     "output_type": "execute_result"
    }
   ],
   "source": [
    "# Cargamos el dataset de los links a IMDB\n",
    "movies_links_DF = pd.read_csv('data/original_dataset/ml-latest-small/links.csv')\n",
    "movies_links_DF.head()"
   ]
  },
  {
   "cell_type": "code",
   "execution_count": 3,
   "metadata": {},
   "outputs": [
    {
     "data": {
      "text/html": [
       "<div>\n",
       "<style scoped>\n",
       "    .dataframe tbody tr th:only-of-type {\n",
       "        vertical-align: middle;\n",
       "    }\n",
       "\n",
       "    .dataframe tbody tr th {\n",
       "        vertical-align: top;\n",
       "    }\n",
       "\n",
       "    .dataframe thead th {\n",
       "        text-align: right;\n",
       "    }\n",
       "</style>\n",
       "<table border=\"1\" class=\"dataframe\">\n",
       "  <thead>\n",
       "    <tr style=\"text-align: right;\">\n",
       "      <th></th>\n",
       "      <th>userId</th>\n",
       "      <th>movieId</th>\n",
       "      <th>rating</th>\n",
       "      <th>timestamp</th>\n",
       "    </tr>\n",
       "  </thead>\n",
       "  <tbody>\n",
       "    <tr>\n",
       "      <th>0</th>\n",
       "      <td>6</td>\n",
       "      <td>10</td>\n",
       "      <td>3.0</td>\n",
       "      <td>845553253</td>\n",
       "    </tr>\n",
       "    <tr>\n",
       "      <th>1</th>\n",
       "      <td>6</td>\n",
       "      <td>32</td>\n",
       "      <td>4.0</td>\n",
       "      <td>845553426</td>\n",
       "    </tr>\n",
       "    <tr>\n",
       "      <th>2</th>\n",
       "      <td>6</td>\n",
       "      <td>34</td>\n",
       "      <td>4.0</td>\n",
       "      <td>845553354</td>\n",
       "    </tr>\n",
       "    <tr>\n",
       "      <th>3</th>\n",
       "      <td>6</td>\n",
       "      <td>47</td>\n",
       "      <td>4.0</td>\n",
       "      <td>845553317</td>\n",
       "    </tr>\n",
       "    <tr>\n",
       "      <th>4</th>\n",
       "      <td>6</td>\n",
       "      <td>50</td>\n",
       "      <td>1.0</td>\n",
       "      <td>845553381</td>\n",
       "    </tr>\n",
       "  </tbody>\n",
       "</table>\n",
       "</div>"
      ],
      "text/plain": [
       "   userId  movieId  rating  timestamp\n",
       "0       6       10     3.0  845553253\n",
       "1       6       32     4.0  845553426\n",
       "2       6       34     4.0  845553354\n",
       "3       6       47     4.0  845553317\n",
       "4       6       50     1.0  845553381"
      ]
     },
     "execution_count": 3,
     "metadata": {},
     "output_type": "execute_result"
    }
   ],
   "source": [
    "# Cargamos las películas seleccionadas para el experimento\n",
    "ratings_DF = pd.read_csv('data/experiment_data/ratings.csv')\n",
    "ratings_DF.head()"
   ]
  },
  {
   "cell_type": "code",
   "execution_count": 4,
   "metadata": {},
   "outputs": [],
   "source": [
    "# Filtramos los links de las películas del experimento\n",
    "movies_id = ratings_DF.groupby('movieId').count().index.values\n",
    "movies_links_DF = movies_links_DF[movies_links_DF['movieId'].isin(movies_id)]"
   ]
  },
  {
   "cell_type": "markdown",
   "metadata": {},
   "source": [
    "## Descargar datos\n",
    "\n",
    "Completamos los datos de las películas."
   ]
  },
  {
   "cell_type": "code",
   "execution_count": 5,
   "metadata": {},
   "outputs": [
    {
     "name": "stderr",
     "output_type": "stream",
     "text": [
      "100%|██████████| 100/100 [01:37<00:00,  1.09s/it]\n"
     ]
    }
   ],
   "source": [
    "# Obtenemos la información de las películas\n",
    "movies_info = imdb.get_all_movies_data(movies_links_DF)"
   ]
  },
  {
   "cell_type": "code",
   "execution_count": 16,
   "metadata": {},
   "outputs": [
    {
     "data": {
      "text/html": [
       "<div>\n",
       "<style scoped>\n",
       "    .dataframe tbody tr th:only-of-type {\n",
       "        vertical-align: middle;\n",
       "    }\n",
       "\n",
       "    .dataframe tbody tr th {\n",
       "        vertical-align: top;\n",
       "    }\n",
       "\n",
       "    .dataframe thead th {\n",
       "        text-align: right;\n",
       "    }\n",
       "</style>\n",
       "<table border=\"1\" class=\"dataframe\">\n",
       "  <thead>\n",
       "    <tr style=\"text-align: right;\">\n",
       "      <th></th>\n",
       "      <th>id</th>\n",
       "      <th>title</th>\n",
       "      <th>year</th>\n",
       "      <th>genres</th>\n",
       "      <th>director</th>\n",
       "      <th>stars</th>\n",
       "      <th>writers</th>\n",
       "      <th>companies</th>\n",
       "      <th>keywords</th>\n",
       "    </tr>\n",
       "  </thead>\n",
       "  <tbody>\n",
       "    <tr>\n",
       "      <th>0</th>\n",
       "      <td>1</td>\n",
       "      <td>Toy Story</td>\n",
       "      <td>1995</td>\n",
       "      <td>Adventure|Family|Fantasy|Comedy|Animation</td>\n",
       "      <td>John Lasseter</td>\n",
       "      <td>Tim Allen|Don Rickles|Tom Hanks</td>\n",
       "      <td>Pete Docter|John Lasseter</td>\n",
       "      <td>Pixar Animation Studios|Walt Disney Pictures</td>\n",
       "      <td>cgi animation|cowboy|rivalry|toy|claw crane</td>\n",
       "    </tr>\n",
       "    <tr>\n",
       "      <th>1</th>\n",
       "      <td>10</td>\n",
       "      <td>GoldenEye</td>\n",
       "      <td>1995</td>\n",
       "      <td>Thriller|Adventure|Action</td>\n",
       "      <td>Martin Campbell</td>\n",
       "      <td>Sean Bean|Pierce Brosnan|Izabella Scorupco</td>\n",
       "      <td>Michael France|Ian Fleming</td>\n",
       "      <td>United Artists|Eon Productions</td>\n",
       "      <td>james bond character|official james bond serie...</td>\n",
       "    </tr>\n",
       "    <tr>\n",
       "      <th>2</th>\n",
       "      <td>32</td>\n",
       "      <td>Doce monos</td>\n",
       "      <td>1995</td>\n",
       "      <td>Thriller|Sci-Fi|Mystery</td>\n",
       "      <td>Terry Gilliam</td>\n",
       "      <td>Brad Pitt|Bruce Willis|Madeleine Stowe</td>\n",
       "      <td>Chris Marker|David Webb Peoples</td>\n",
       "      <td>Classico|Atlas Entertainment|Universal Pictures</td>\n",
       "      <td>psychiatrist|mental institution|time travel|vi...</td>\n",
       "    </tr>\n",
       "    <tr>\n",
       "      <th>3</th>\n",
       "      <td>34</td>\n",
       "      <td>Babe, el cerdito valiente</td>\n",
       "      <td>1995</td>\n",
       "      <td>Family|Comedy|Drama</td>\n",
       "      <td>Chris Noonan</td>\n",
       "      <td>Christine Cavanaugh|James Cromwell|Magda Szuba...</td>\n",
       "      <td>Dick King-Smith|George Miller</td>\n",
       "      <td>Universal Pictures|Kennedy Miller Productions</td>\n",
       "      <td>farmer|farm|sheep|pig|sheepdog</td>\n",
       "    </tr>\n",
       "    <tr>\n",
       "      <th>4</th>\n",
       "      <td>47</td>\n",
       "      <td>Seven</td>\n",
       "      <td>1995</td>\n",
       "      <td>Thriller|Drama|Crime|Mystery</td>\n",
       "      <td>David Fincher</td>\n",
       "      <td>Kevin Spacey|Brad Pitt|Morgan Freeman</td>\n",
       "      <td>Andrew Kevin Walker</td>\n",
       "      <td>Juno Pix|New Line Cinema|Cecchi Gori Pictures</td>\n",
       "      <td>psychological torture|serial murder|human mons...</td>\n",
       "    </tr>\n",
       "  </tbody>\n",
       "</table>\n",
       "</div>"
      ],
      "text/plain": [
       "   id                      title  year  \\\n",
       "0   1                  Toy Story  1995   \n",
       "1  10                  GoldenEye  1995   \n",
       "2  32                 Doce monos  1995   \n",
       "3  34  Babe, el cerdito valiente  1995   \n",
       "4  47                      Seven  1995   \n",
       "\n",
       "                                      genres         director  \\\n",
       "0  Adventure|Family|Fantasy|Comedy|Animation    John Lasseter   \n",
       "1                  Thriller|Adventure|Action  Martin Campbell   \n",
       "2                    Thriller|Sci-Fi|Mystery    Terry Gilliam   \n",
       "3                        Family|Comedy|Drama     Chris Noonan   \n",
       "4               Thriller|Drama|Crime|Mystery    David Fincher   \n",
       "\n",
       "                                               stars  \\\n",
       "0                    Tim Allen|Don Rickles|Tom Hanks   \n",
       "1         Sean Bean|Pierce Brosnan|Izabella Scorupco   \n",
       "2             Brad Pitt|Bruce Willis|Madeleine Stowe   \n",
       "3  Christine Cavanaugh|James Cromwell|Magda Szuba...   \n",
       "4              Kevin Spacey|Brad Pitt|Morgan Freeman   \n",
       "\n",
       "                           writers  \\\n",
       "0        Pete Docter|John Lasseter   \n",
       "1       Michael France|Ian Fleming   \n",
       "2  Chris Marker|David Webb Peoples   \n",
       "3    Dick King-Smith|George Miller   \n",
       "4              Andrew Kevin Walker   \n",
       "\n",
       "                                         companies  \\\n",
       "0     Pixar Animation Studios|Walt Disney Pictures   \n",
       "1                   United Artists|Eon Productions   \n",
       "2  Classico|Atlas Entertainment|Universal Pictures   \n",
       "3    Universal Pictures|Kennedy Miller Productions   \n",
       "4    Juno Pix|New Line Cinema|Cecchi Gori Pictures   \n",
       "\n",
       "                                            keywords  \n",
       "0        cgi animation|cowboy|rivalry|toy|claw crane  \n",
       "1  james bond character|official james bond serie...  \n",
       "2  psychiatrist|mental institution|time travel|vi...  \n",
       "3                     farmer|farm|sheep|pig|sheepdog  \n",
       "4  psychological torture|serial murder|human mons...  "
      ]
     },
     "execution_count": 16,
     "metadata": {},
     "output_type": "execute_result"
    }
   ],
   "source": [
    "# Creamos un dataset con la información de las películas\n",
    "movies_DF = pd.DataFrame(movies_info)\n",
    "\n",
    "# Ordenamos las columnas\n",
    "cols = ['id', 'title', 'year', 'genres', 'director', 'stars', 'writers', 'companies', 'keywords']\n",
    "movies_DF = movies_DF[cols]\n",
    "\n",
    "# Las columnas con listas de elementos las convertimos a Strings separados con |\n",
    "def modifyCSV(row, column):\n",
    "    \"\"\"\n",
    "        Formatear texto item1|item2|...\n",
    "    \"\"\"\n",
    "    return '|'.join(row[column])\n",
    "    \n",
    "movies_DF['companies'] = movies_DF.apply (lambda row: modifyCSV(row, 'companies'), axis=1)\n",
    "movies_DF['genres'] = movies_DF.apply (lambda row: modifyCSV(row, 'genres'), axis=1)\n",
    "movies_DF['keywords'] = movies_DF.apply (lambda row: modifyCSV(row, 'keywords'), axis=1)\n",
    "movies_DF['stars'] = movies_DF.apply (lambda row: modifyCSV(row, 'stars'), axis=1)\n",
    "movies_DF['writers'] = movies_DF.apply (lambda row: modifyCSV(row, 'writers'), axis=1)\n",
    "movies_DF.head()"
   ]
  },
  {
   "cell_type": "code",
   "execution_count": 17,
   "metadata": {},
   "outputs": [],
   "source": [
    "# Guardamos el dataframe en CSV\n",
    "movies_DF.to_csv('data/experiment_data/movies.csv', index=False)"
   ]
  },
  {
   "cell_type": "markdown",
   "metadata": {},
   "source": [
    "### Siguiente Notebook\n",
    "\n",
    "Ya tenemos toda la información de las películas del experimento. A continuación, convertiremos la información de las películas en vectores binarios. Para ello, ejecute el notebook `vectores_binarios_peliculas.ipynb`."
   ]
  }
 ],
 "metadata": {
  "kernelspec": {
   "display_name": "Python 3",
   "language": "python",
   "name": "python3"
  },
  "language_info": {
   "codemirror_mode": {
    "name": "ipython",
    "version": 3
   },
   "file_extension": ".py",
   "mimetype": "text/x-python",
   "name": "python",
   "nbconvert_exporter": "python",
   "pygments_lexer": "ipython3",
   "version": "3.7.1"
  }
 },
 "nbformat": 4,
 "nbformat_minor": 2
}
