{
 "cells": [
  {
   "cell_type": "code",
   "execution_count": null,
   "metadata": {},
   "outputs": [],
   "source": [
    "import os\n",
    "import urllib3\n",
    "import zipfile\n",
    "\n",
    "import pandas as pd"
   ]
  },
  {
   "cell_type": "markdown",
   "metadata": {},
   "source": [
    "# Tratamiento de datos\n",
    "\n",
    "En este notebook preparamos la información de usuarios, items y ratings que vamos a utilizar en el experimento. El usuario sólo tiene que escribir la cantidad de películas más valoradas y usuarios más activos que desea utilizar. Los datos se obtendrán del dataset de MovieLens."
   ]
  },
  {
   "cell_type": "markdown",
   "metadata": {},
   "source": [
    "## Input Datos\n",
    "\n",
    "Indicar cuantos usuarios y películas se van a usar en el experimento."
   ]
  },
  {
   "cell_type": "code",
   "execution_count": 2,
   "metadata": {},
   "outputs": [],
   "source": [
    "num_users = 100\n",
    "num_movies = 100"
   ]
  },
  {
   "cell_type": "markdown",
   "metadata": {},
   "source": [
    "## Preparación de entorno y Descarga de dataset\n",
    "\n",
    "A continuación, preparamos el entorno para ejecutar los experimentos, descargamos el dataset y descomprimimos el dataset en la carpeta `data`."
   ]
  },
  {
   "cell_type": "code",
   "execution_count": 3,
   "metadata": {},
   "outputs": [],
   "source": [
    "# Creamos las carpetas que no existan\n",
    "if not os.path.exists('data'):\n",
    "    os.mkdir('data')\n",
    "    os.mkdir('data/original_dataset')\n",
    "    os.mkdir('data/experiment_data')\n",
    "    os.mkdir('data/matrices_data')\n",
    "    \n",
    "# Descargamos dataset\n",
    "url_dataset = 'http://files.grouplens.org/datasets/movielens/ml-latest-small.zip'\n",
    "path_dataset = 'data/original_dataset/ml-latest-small.zip'\n",
    "\n",
    "http = urllib3.PoolManager()\n",
    "request = http.request('GET', url_dataset, preload_content=False)\n",
    "\n",
    "chunk_size = 100\n",
    "\n",
    "with open(path_dataset, 'wb') as out:\n",
    "    while True:\n",
    "        data = request.read(chunk_size)\n",
    "        if not data:\n",
    "            break\n",
    "        out.write(data)\n",
    "\n",
    "request.release_conn()\n",
    "\n",
    "# Descomprimimos\n",
    "zip_ref = zipfile.ZipFile(path_dataset, 'r')\n",
    "zip_ref.extractall('data/original_dataset')\n",
    "zip_ref.close()\n",
    "\n",
    "# Borramos el fichero zip\n",
    "os.remove('data/original_dataset/ml-latest-small.zip')"
   ]
  },
  {
   "cell_type": "markdown",
   "metadata": {},
   "source": [
    "## Obtenemos los ratings del experimento\n",
    "\n",
    "Ahora, cargamos todos los ratings y nos quedamos con aquellos de los usuarios con más actividad y de los items con más ratings."
   ]
  },
  {
   "cell_type": "code",
   "execution_count": 4,
   "metadata": {},
   "outputs": [
    {
     "data": {
      "text/html": [
       "<div>\n",
       "<style scoped>\n",
       "    .dataframe tbody tr th:only-of-type {\n",
       "        vertical-align: middle;\n",
       "    }\n",
       "\n",
       "    .dataframe tbody tr th {\n",
       "        vertical-align: top;\n",
       "    }\n",
       "\n",
       "    .dataframe thead th {\n",
       "        text-align: right;\n",
       "    }\n",
       "</style>\n",
       "<table border=\"1\" class=\"dataframe\">\n",
       "  <thead>\n",
       "    <tr style=\"text-align: right;\">\n",
       "      <th></th>\n",
       "      <th>userId</th>\n",
       "      <th>movieId</th>\n",
       "      <th>rating</th>\n",
       "      <th>timestamp</th>\n",
       "    </tr>\n",
       "  </thead>\n",
       "  <tbody>\n",
       "    <tr>\n",
       "      <th>0</th>\n",
       "      <td>1</td>\n",
       "      <td>1</td>\n",
       "      <td>4.0</td>\n",
       "      <td>964982703</td>\n",
       "    </tr>\n",
       "    <tr>\n",
       "      <th>1</th>\n",
       "      <td>1</td>\n",
       "      <td>3</td>\n",
       "      <td>4.0</td>\n",
       "      <td>964981247</td>\n",
       "    </tr>\n",
       "    <tr>\n",
       "      <th>2</th>\n",
       "      <td>1</td>\n",
       "      <td>6</td>\n",
       "      <td>4.0</td>\n",
       "      <td>964982224</td>\n",
       "    </tr>\n",
       "    <tr>\n",
       "      <th>3</th>\n",
       "      <td>1</td>\n",
       "      <td>47</td>\n",
       "      <td>5.0</td>\n",
       "      <td>964983815</td>\n",
       "    </tr>\n",
       "    <tr>\n",
       "      <th>4</th>\n",
       "      <td>1</td>\n",
       "      <td>50</td>\n",
       "      <td>5.0</td>\n",
       "      <td>964982931</td>\n",
       "    </tr>\n",
       "  </tbody>\n",
       "</table>\n",
       "</div>"
      ],
      "text/plain": [
       "   userId  movieId  rating  timestamp\n",
       "0       1        1     4.0  964982703\n",
       "1       1        3     4.0  964981247\n",
       "2       1        6     4.0  964982224\n",
       "3       1       47     5.0  964983815\n",
       "4       1       50     5.0  964982931"
      ]
     },
     "execution_count": 4,
     "metadata": {},
     "output_type": "execute_result"
    }
   ],
   "source": [
    "all_ratings_DF = pd.read_csv('data/original_dataset/ml-latest-small/ratings.csv')\n",
    "all_ratings_DF.head()"
   ]
  },
  {
   "cell_type": "code",
   "execution_count": 5,
   "metadata": {},
   "outputs": [],
   "source": [
    "# Buscamos los X usuarios más activos\n",
    "users_id = all_ratings_DF.groupby(by='userId').count().sort_values('rating', ascending=False)[:num_users].index.values\n",
    "\n",
    "# Buscamos los X items más valorados\n",
    "movies_id = all_ratings_DF.groupby(by='movieId').count().sort_values('rating', ascending=False)[:num_movies].index.values"
   ]
  },
  {
   "cell_type": "code",
   "execution_count": 6,
   "metadata": {},
   "outputs": [],
   "source": [
    "# Filtramos de los ratings aquellos usuarios e items que no están en las listas calculadas antes\n",
    "final_ratings = all_ratings_DF[all_ratings_DF['userId'].isin(users_id)]\n",
    "final_ratings = final_ratings[final_ratings['movieId'].isin(movies_id)]"
   ]
  },
  {
   "cell_type": "code",
   "execution_count": 7,
   "metadata": {},
   "outputs": [],
   "source": [
    "# Guardamos los ratings filtrados\n",
    "final_ratings.to_csv('data/experiment_data/ratings.csv', index=False)"
   ]
  },
  {
   "cell_type": "markdown",
   "metadata": {},
   "source": [
    "## Siguiente Notebook\n",
    "\n",
    "Ya tenemos el dataset del experimento preparado. A continuación, hay que descargar toda la información posible de las películas. Para ello, ejecute el notebook `extraer_informacion_peliculas`"
   ]
  }
 ],
 "metadata": {
  "kernelspec": {
   "display_name": "Python 3",
   "language": "python",
   "name": "python3"
  },
  "language_info": {
   "codemirror_mode": {
    "name": "ipython",
    "version": 3
   },
   "file_extension": ".py",
   "mimetype": "text/x-python",
   "name": "python",
   "nbconvert_exporter": "python",
   "pygments_lexer": "ipython3",
   "version": "3.7.1"
  }
 },
 "nbformat": 4,
 "nbformat_minor": 2
}
