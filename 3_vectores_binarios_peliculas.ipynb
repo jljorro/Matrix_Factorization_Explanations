{
 "cells": [
  {
   "cell_type": "code",
   "execution_count": 1,
   "metadata": {},
   "outputs": [],
   "source": [
    "import pandas as pd\n",
    "from tqdm import tqdm"
   ]
  },
  {
   "cell_type": "markdown",
   "metadata": {},
   "source": [
    "# Crear vectores binarios de películas\n",
    "\n",
    "En este notebook, vamos a convertir las características de las películas en vectores binarios de características. Estos vectores se utilizarán más adelante para calcular el **FCA**."
   ]
  },
  {
   "cell_type": "code",
   "execution_count": 2,
   "metadata": {},
   "outputs": [
    {
     "data": {
      "text/html": [
       "<div>\n",
       "<style scoped>\n",
       "    .dataframe tbody tr th:only-of-type {\n",
       "        vertical-align: middle;\n",
       "    }\n",
       "\n",
       "    .dataframe tbody tr th {\n",
       "        vertical-align: top;\n",
       "    }\n",
       "\n",
       "    .dataframe thead th {\n",
       "        text-align: right;\n",
       "    }\n",
       "</style>\n",
       "<table border=\"1\" class=\"dataframe\">\n",
       "  <thead>\n",
       "    <tr style=\"text-align: right;\">\n",
       "      <th></th>\n",
       "      <th>id</th>\n",
       "      <th>title</th>\n",
       "      <th>year</th>\n",
       "      <th>genres</th>\n",
       "      <th>director</th>\n",
       "      <th>stars</th>\n",
       "      <th>writers</th>\n",
       "      <th>companies</th>\n",
       "      <th>keywords</th>\n",
       "    </tr>\n",
       "  </thead>\n",
       "  <tbody>\n",
       "    <tr>\n",
       "      <th>0</th>\n",
       "      <td>1</td>\n",
       "      <td>Toy Story</td>\n",
       "      <td>1995</td>\n",
       "      <td>Animation|Adventure|Fantasy|Comedy|Family</td>\n",
       "      <td>John Lasseter</td>\n",
       "      <td>Don Rickles|Tim Allen|Tom Hanks</td>\n",
       "      <td>John Lasseter|Pete Docter</td>\n",
       "      <td>Pixar Animation Studios|Walt Disney Pictures</td>\n",
       "      <td>claw crane|toy|cowboy|cgi animation|rivalry</td>\n",
       "    </tr>\n",
       "    <tr>\n",
       "      <th>1</th>\n",
       "      <td>2</td>\n",
       "      <td>Jumanji</td>\n",
       "      <td>1995</td>\n",
       "      <td>Adventure|Family|Fantasy</td>\n",
       "      <td>Joe Johnston</td>\n",
       "      <td>Bonnie Hunt|Kirsten Dunst|Robin Williams</td>\n",
       "      <td>Greg Taylor|Jonathan Hensleigh</td>\n",
       "      <td>Interscope Communications|Teitler Film|TriStar...</td>\n",
       "      <td>woodland|lush|board game|board|wood</td>\n",
       "    </tr>\n",
       "    <tr>\n",
       "      <th>2</th>\n",
       "      <td>6</td>\n",
       "      <td>Heat</td>\n",
       "      <td>1995</td>\n",
       "      <td>Crime|Thriller|Drama</td>\n",
       "      <td>Michael Mann</td>\n",
       "      <td>Val Kilmer|Robert De Niro|Al Pacino</td>\n",
       "      <td>Michael Mann</td>\n",
       "      <td>Forward Pass|Warner Bros.|Regency Enterprises</td>\n",
       "      <td>gun battle|child in jeopardy|armored car robbe...</td>\n",
       "    </tr>\n",
       "    <tr>\n",
       "      <th>3</th>\n",
       "      <td>10</td>\n",
       "      <td>GoldenEye</td>\n",
       "      <td>1995</td>\n",
       "      <td>Adventure|Action|Thriller</td>\n",
       "      <td>Martin Campbell</td>\n",
       "      <td>Sean Bean|Pierce Brosnan|Izabella Scorupco</td>\n",
       "      <td>Michael France|Ian Fleming</td>\n",
       "      <td>Eon Productions|United Artists</td>\n",
       "      <td>official james bond series|james bond characte...</td>\n",
       "    </tr>\n",
       "    <tr>\n",
       "      <th>4</th>\n",
       "      <td>11</td>\n",
       "      <td>El presidente y Miss Wade</td>\n",
       "      <td>1995</td>\n",
       "      <td>Romance|Drama|Comedy</td>\n",
       "      <td>Rob Reiner</td>\n",
       "      <td>Martin Sheen|Michael Douglas|Annette Bening</td>\n",
       "      <td>Aaron Sorkin</td>\n",
       "      <td>Universal Pictures|Wildwood Enterprises|Castle...</td>\n",
       "      <td>reference to martin van buren|president|americ...</td>\n",
       "    </tr>\n",
       "  </tbody>\n",
       "</table>\n",
       "</div>"
      ],
      "text/plain": [
       "   id                      title  year  \\\n",
       "0   1                  Toy Story  1995   \n",
       "1   2                    Jumanji  1995   \n",
       "2   6                       Heat  1995   \n",
       "3  10                  GoldenEye  1995   \n",
       "4  11  El presidente y Miss Wade  1995   \n",
       "\n",
       "                                      genres         director  \\\n",
       "0  Animation|Adventure|Fantasy|Comedy|Family    John Lasseter   \n",
       "1                   Adventure|Family|Fantasy     Joe Johnston   \n",
       "2                       Crime|Thriller|Drama     Michael Mann   \n",
       "3                  Adventure|Action|Thriller  Martin Campbell   \n",
       "4                       Romance|Drama|Comedy       Rob Reiner   \n",
       "\n",
       "                                         stars  \\\n",
       "0              Don Rickles|Tim Allen|Tom Hanks   \n",
       "1     Bonnie Hunt|Kirsten Dunst|Robin Williams   \n",
       "2          Val Kilmer|Robert De Niro|Al Pacino   \n",
       "3   Sean Bean|Pierce Brosnan|Izabella Scorupco   \n",
       "4  Martin Sheen|Michael Douglas|Annette Bening   \n",
       "\n",
       "                          writers  \\\n",
       "0       John Lasseter|Pete Docter   \n",
       "1  Greg Taylor|Jonathan Hensleigh   \n",
       "2                    Michael Mann   \n",
       "3      Michael France|Ian Fleming   \n",
       "4                    Aaron Sorkin   \n",
       "\n",
       "                                           companies  \\\n",
       "0       Pixar Animation Studios|Walt Disney Pictures   \n",
       "1  Interscope Communications|Teitler Film|TriStar...   \n",
       "2      Forward Pass|Warner Bros.|Regency Enterprises   \n",
       "3                     Eon Productions|United Artists   \n",
       "4  Universal Pictures|Wildwood Enterprises|Castle...   \n",
       "\n",
       "                                            keywords  \n",
       "0        claw crane|toy|cowboy|cgi animation|rivalry  \n",
       "1                woodland|lush|board game|board|wood  \n",
       "2  gun battle|child in jeopardy|armored car robbe...  \n",
       "3  official james bond series|james bond characte...  \n",
       "4  reference to martin van buren|president|americ...  "
      ]
     },
     "execution_count": 2,
     "metadata": {},
     "output_type": "execute_result"
    }
   ],
   "source": [
    "# Cargamos las \n",
    "movies_DF = pd.read_csv('data/experiment_data/movies.csv')\n",
    "movies_DF.head()"
   ]
  },
  {
   "cell_type": "code",
   "execution_count": 3,
   "metadata": {},
   "outputs": [],
   "source": [
    "# Funciones auxiliares para crear los vectores\n",
    "def format_lists(df, lista):\n",
    "    lista_result = df[lista].tolist()\n",
    "    lista_result = '|'.join(lista_result)\n",
    "    lista_result = lista_result.split('|')\n",
    "    lista_result = list(set(lista_result))\n",
    "    return lista_result\n",
    "\n",
    "def elemInList(lista, elem):\n",
    "    if elem in lista:\n",
    "        return 1\n",
    "    else:\n",
    "        return 0\n",
    "    \n",
    "def list_to_columns(df, column_name):\n",
    "    list_elems = format_lists(df, column_name)\n",
    "    \n",
    "    for e in list_elems:\n",
    "        df[e] = df.apply(lambda row: elemInList(row[column_name], e), axis=1)"
   ]
  },
  {
   "cell_type": "code",
   "execution_count": 4,
   "metadata": {},
   "outputs": [
    {
     "name": "stderr",
     "output_type": "stream",
     "text": [
      "100%|██████████| 6/6 [01:29<00:00, 23.31s/it]\n"
     ]
    }
   ],
   "source": [
    "# Convertimos las características en vectores binarios\n",
    "lista_columns = ['director', 'genres', 'stars', 'writers', 'companies', 'keywords']\n",
    "\n",
    "for c in tqdm(range(len(lista_columns))):\n",
    "    list_to_columns(movies_DF, lista_columns[c])"
   ]
  },
  {
   "cell_type": "code",
   "execution_count": 5,
   "metadata": {},
   "outputs": [],
   "source": [
    "# Eliminamos las columnas que ya existen en movies.csv\n",
    "movies_DF.drop(columns=['title', 'year', 'genres', 'director', 'stars', 'writers', 'companies', 'keywords'], inplace=True)"
   ]
  },
  {
   "cell_type": "code",
   "execution_count": 6,
   "metadata": {},
   "outputs": [],
   "source": [
    "# Guardamos los vectores en un nuevo CSV\n",
    "movies_DF.to_csv('data/experiment_data/movies_binary.csv', index=False)"
   ]
  },
  {
   "cell_type": "markdown",
   "metadata": {},
   "source": [
    "### Siguiente Notebook\n",
    "\n",
    "Una vez que hemos obtenido los vectores binarios, tenemos que entrenar el algoritmo de factorización de matrices y calcular la matriz $Q$ de cada usuario. El siguiente notebook que hay que ejecutar es `calcular_matrices_q.ipynb`."
   ]
  }
 ],
 "metadata": {
  "kernelspec": {
   "display_name": "Python 3",
   "language": "python",
   "name": "python3"
  },
  "language_info": {
   "codemirror_mode": {
    "name": "ipython",
    "version": 3
   },
   "file_extension": ".py",
   "mimetype": "text/x-python",
   "name": "python",
   "nbconvert_exporter": "python",
   "pygments_lexer": "ipython3",
   "version": "3.7.1"
  }
 },
 "nbformat": 4,
 "nbformat_minor": 2
}
