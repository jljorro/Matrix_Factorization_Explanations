{
 "cells": [
  {
   "cell_type": "code",
   "execution_count": 1,
   "id": "df5b2c10-b7c0-4ecb-a297-88c1e526efe0",
   "metadata": {},
   "outputs": [],
   "source": [
    "import pandas as pd\n",
    "import numpy as np\n",
    "\n",
    "import src.latent_factor_xai as lfxai\n",
    "import concepts\n",
    "\n",
    "import warnings\n",
    "from pandas.core.common import SettingWithCopyWarning\n",
    "\n",
    "warnings.simplefilter(action=\"ignore\", category=SettingWithCopyWarning) "
   ]
  },
  {
   "cell_type": "code",
   "execution_count": 2,
   "id": "2afcd5ed-3a09-43c2-b709-3ecc1391546c",
   "metadata": {},
   "outputs": [],
   "source": [
    "def getMoviesExplanation(recommendation, lattice):\n",
    "    \"\"\"\n",
    "        Devuelve la lista de peliculas que comparten el nodo padre con la pelicula recomendada\n",
    "    \"\"\"\n",
    "    \n",
    "    # el nodo padre es aquel (o aquellos nodos) en el que encontramos el mayor numero de atributos para la pelicula recomendada\n",
    "    # al ser el nodo mas especifico, es el nodo en el que la recomendacion se encuentra que mas atributos tiene \n",
    "    # por tanto tenemos que encontrar ese intent (el que tenga mayor numero de atributos donde se encuentra la pelicula \n",
    "    # recomendada en el extent, pero cuando esa peli recomendada no este sola) y coger todos los extent de ese nodo\n",
    "    \n",
    "    my_movies = list()\n",
    "    \n",
    "    # guardamos todos las movies con sus atributos compartidos segun el reticulo\n",
    "    for extent, intent in lattice:\n",
    "        my_movies.append((extent,intent)) # movies, attributes\n",
    "    \n",
    "    # de la lista total, nos quedamos con aquellos conjuntos de peliculas donde este la recomendacion, y donde \n",
    "    # la recomendacion no este sola, porque no tiene sentido\n",
    "    my_movies_2 = [(x[0],x[1],len(x[1])) for x in my_movies if recommendation in x[0] and len(x[0]) > 1]\n",
    "    \n",
    "    # guardamos las listas de peliculas donde haya mas atributos compartidos sin que sea el nodo root\n",
    "    max_len = 0\n",
    "    max_list = list()\n",
    "    for elem in my_movies_2:\n",
    "        if elem[2] >= max_len:\n",
    "            for elem_tuple in elem[0]:\n",
    "                max_list.append(elem_tuple) \n",
    "            max_len = elem[2]\n",
    "    \n",
    "    # de la lista, eliminamos la recomendacion \n",
    "    final_list = [x for x in max_list if x != recommendation]\n",
    "    \n",
    "    return final_list"
   ]
  },
  {
   "cell_type": "code",
   "execution_count": 3,
   "id": "0b856e40-f67e-49f0-96b3-6c7d00a73688",
   "metadata": {},
   "outputs": [],
   "source": [
    "def get_dummie(df, column, sep):\n",
    "    new_df = df[column].str.get_dummies(sep=sep)\n",
    "    result = pd.concat([df, new_df], axis=1)        \n",
    "    #result.drop(columns=[column])\n",
    "    return result"
   ]
  },
  {
   "cell_type": "code",
   "execution_count": 4,
   "id": "8c733edd-a298-4fe7-951c-423c97511ed1",
   "metadata": {},
   "outputs": [],
   "source": [
    "def dataframe_to_context_matrix(lattice_movies):\n",
    "    # Generamos la matriz necesaria para concepts\n",
    "    lattice_movies['title_year'] = lattice_movies['title_year'].apply(lambda val: str(val)) # pasamos años a str\n",
    "    lista_columns = ['director_name', 'genres', 'stars', 'language', 'country', 'title_year']\n",
    "\n",
    "    for c in range(len(lista_columns)):\n",
    "        lattice_movies = get_dummie(lattice_movies, lista_columns[c], sep='|')\n",
    "\n",
    "    lista_columns_to_drop = ['director_name', 'genres', 'stars', 'language', 'country', 'title_year', 'movie_title', 'duration']\n",
    "    lattice_movies.drop(columns=lista_columns_to_drop, axis=1, inplace=True)\n",
    "\n",
    "    result = lattice_movies.replace([0, 1], ['', 'X'])\n",
    "    return result.set_index(['id'])"
   ]
  },
  {
   "cell_type": "code",
   "execution_count": 5,
   "id": "0af024f6-cc15-484b-af30-bb120b191ff8",
   "metadata": {},
   "outputs": [],
   "source": [
    "def get_lattice(movie_recommended, examples):\n",
    "    movies_ids = np.append(examples, movie_recommended)\n",
    "    \n",
    "    # Obtengo las descripciones de las películas\n",
    "    lattice_val = movies_attr_df[movies_attr_df['id'].isin(lattice_ids)]\n",
    "    \n",
    "    # Lo convierto a una matriz válida para concepts\n",
    "    lattice_val = dataframe_to_context_matrix(lattice_val)\n",
    "    \n",
    "    objects = lattice_movies.index.tolist()\n",
    "    properties = list(lattice_movies)\n",
    "    bools = list(lattice_movies.fillna(False).astype(bool).itertuples(index=False, name=None))\n",
    "\n",
    "    return concepts.Context(objects, properties, bools)"
   ]
  },
  {
   "cell_type": "code",
   "execution_count": 6,
   "id": "ea1342a1-3e38-43af-8644-205567645f7c",
   "metadata": {},
   "outputs": [],
   "source": [
    "def get_movies_common_attribute(context, movie_recommended):\n",
    "    movie_rec_attr = list(context.intension([str(movie_recommended)]))\n",
    "    \n",
    "    common = []\n",
    "    for attr in movie_rec_attr:\n",
    "        common.extend(list(context.extension([attr])))\n",
    "        \n",
    "    result = list(set(common))\n",
    "    result.remove(str(movie_recommended))\n",
    "    return result"
   ]
  },
  {
   "cell_type": "code",
   "execution_count": 7,
   "id": "f0c924b8-fec4-42b6-b4c7-324a6f13ab14",
   "metadata": {},
   "outputs": [],
   "source": [
    "def train_test_split(dataDF, training_percentage):\n",
    "    '''\n",
    "    Función que divide el dataset en un conjunto de entrenamiento y\n",
    "    otro conjunto de evaluación.\n",
    "    '''\n",
    "    msk = np.random.rand(len(dataDF)) < float(training_percentage / 100)\n",
    "    train = dataDF[msk]\n",
    "    test = dataDF[~msk]\n",
    "    \n",
    "    return train, test"
   ]
  },
  {
   "cell_type": "markdown",
   "id": "83cd2d08-1000-4680-80a7-2890cd10b863",
   "metadata": {},
   "source": [
    "## Evaluación"
   ]
  },
  {
   "cell_type": "code",
   "execution_count": 8,
   "id": "cbdd76af-f513-4cd5-8f0a-ff39a041c7d9",
   "metadata": {},
   "outputs": [],
   "source": [
    "## Preparamos los datos\n",
    "# Cargamos todos los ratings del experimento\n",
    "movies_DF = pd.read_csv('data/experiment_data/movies.csv')\n",
    "ratings_DF = pd.read_csv('data/experiment_data/ratings.csv', usecols=[0,1,2])\n",
    "\n",
    "# Preparamos el dataset de entrenamiento y evaluación\n",
    "trainset, testset = train_test_split(ratings_DF, 90)\n",
    "\n",
    "# Guardamos ambos dataframes en CSV\n",
    "trainset.to_csv('data/experiment_data/trainset.csv', index=False)\n",
    "testset.to_csv('data/experiment_data/testset.csv', index=False)"
   ]
  },
  {
   "cell_type": "code",
   "execution_count": 9,
   "id": "54704bb7-ffe2-49a9-afb8-bba0dc526c5e",
   "metadata": {},
   "outputs": [],
   "source": [
    "model = lfxai.NMF_XAI()\n",
    "\n",
    "# Entrenamos el model\n",
    "model.fit(trainset, movies_DF)"
   ]
  },
  {
   "cell_type": "code",
   "execution_count": 10,
   "id": "5d3d0bc0-bd14-4e8d-b5bd-ffdc268e54e5",
   "metadata": {
    "tags": []
   },
   "outputs": [
    {
     "name": "stdout",
     "output_type": "stream",
     "text": [
      "k=1 - Exceptions: 856\n",
      "k=2 - Exceptions: 856\n",
      "k=3 - Exceptions: 859\n",
      "k=4 - Exceptions: 863\n",
      "k=5 - Exceptions: 863\n",
      "k=6 - Exceptions: 866\n",
      "k=7 - Exceptions: 870\n",
      "k=8 - Exceptions: 871\n",
      "k=9 - Exceptions: 873\n",
      "k=10 - Exceptions: 874\n",
      "k=11 - Exceptions: 874\n",
      "k=12 - Exceptions: 876\n",
      "k=13 - Exceptions: 877\n",
      "k=14 - Exceptions: 878\n",
      "k=15 - Exceptions: 881\n",
      "k=16 - Exceptions: 884\n",
      "k=17 - Exceptions: 885\n",
      "k=18 - Exceptions: 888\n",
      "k=19 - Exceptions: 891\n"
     ]
    }
   ],
   "source": [
    "# k, #examples, #common attr, #explanation\n",
    "values = []\n",
    "\n",
    "for k in range(1,20):\n",
    "    num_exceptions = 0\n",
    "    #precision = []\n",
    "    #recall = []\n",
    "    test_id = 0\n",
    "\n",
    "    for tst in testset.values:\n",
    "        try:\n",
    "            pred = model.predict(int(tst[0]), int(tst[1]))\n",
    "            examples = model.get_examples(user_id=int(tst[0]), movie_id=int(tst[1]), n=k)\n",
    "            context = model.get_lattice(movie_recommended=int(tst[1]), examples=examples)\n",
    "\n",
    "            movies_explanation = getMoviesExplanation(str(int(tst[1])), context.lattice)\n",
    "            movies_common = get_movies_common_attribute(context, movie_recommended=int(tst[1]))\n",
    "\n",
    "            values.append([k, len(list(examples)), len(movies_common), len(movies_explanation)])\n",
    "            #print(\"Examples={} - Common={} - Explanation={}\".format(len(list(examples)), len(movies_common), len(movies_explanation)))\n",
    "            \n",
    "            #prec = len(movies_explanation)/len(list(examples))\n",
    "            #rec = len(movies_explanation)/len(movies_common)\n",
    "            #print(\"Precision={} - Recall={}\".format(prec, rec))\n",
    "            \n",
    "            #precision.append(prec)\n",
    "            #recall.append(rec)            \n",
    "        except Exception as e:\n",
    "            num_exceptions += 1\n",
    "            pass\n",
    "\n",
    "    print(\"k={} - Exceptions: {}\".format(k, num_exceptions))\n",
    "\n",
    "    #total_precision.append(sum(precision) / len(precision))\n",
    "    #total_recall.append(sum(recall) / len(recall))"
   ]
  },
  {
   "cell_type": "code",
   "execution_count": 15,
   "id": "1bcc7357-f347-4eee-b09c-75ec4055a1e7",
   "metadata": {},
   "outputs": [
    {
     "data": {
      "text/html": [
       "<div>\n",
       "<style scoped>\n",
       "    .dataframe tbody tr th:only-of-type {\n",
       "        vertical-align: middle;\n",
       "    }\n",
       "\n",
       "    .dataframe tbody tr th {\n",
       "        vertical-align: top;\n",
       "    }\n",
       "\n",
       "    .dataframe thead th {\n",
       "        text-align: right;\n",
       "    }\n",
       "</style>\n",
       "<table border=\"1\" class=\"dataframe\">\n",
       "  <thead>\n",
       "    <tr style=\"text-align: right;\">\n",
       "      <th></th>\n",
       "      <th>K</th>\n",
       "      <th>Examples</th>\n",
       "      <th>Common Attr</th>\n",
       "      <th>Final Explanation</th>\n",
       "    </tr>\n",
       "  </thead>\n",
       "  <tbody>\n",
       "    <tr>\n",
       "      <th>0</th>\n",
       "      <td>1</td>\n",
       "      <td>1</td>\n",
       "      <td>1</td>\n",
       "      <td>1</td>\n",
       "    </tr>\n",
       "    <tr>\n",
       "      <th>1</th>\n",
       "      <td>1</td>\n",
       "      <td>1</td>\n",
       "      <td>1</td>\n",
       "      <td>1</td>\n",
       "    </tr>\n",
       "    <tr>\n",
       "      <th>2</th>\n",
       "      <td>1</td>\n",
       "      <td>1</td>\n",
       "      <td>1</td>\n",
       "      <td>1</td>\n",
       "    </tr>\n",
       "    <tr>\n",
       "      <th>3</th>\n",
       "      <td>1</td>\n",
       "      <td>1</td>\n",
       "      <td>1</td>\n",
       "      <td>1</td>\n",
       "    </tr>\n",
       "    <tr>\n",
       "      <th>4</th>\n",
       "      <td>1</td>\n",
       "      <td>1</td>\n",
       "      <td>1</td>\n",
       "      <td>1</td>\n",
       "    </tr>\n",
       "  </tbody>\n",
       "</table>\n",
       "</div>"
      ],
      "text/plain": [
       "   K  Examples  Common Attr  Final Explanation\n",
       "0  1         1            1                  1\n",
       "1  1         1            1                  1\n",
       "2  1         1            1                  1\n",
       "3  1         1            1                  1\n",
       "4  1         1            1                  1"
      ]
     },
     "execution_count": 15,
     "metadata": {},
     "output_type": "execute_result"
    }
   ],
   "source": [
    "result_df = pd.DataFrame(values, columns=['K', 'Examples', 'Common Attr', 'Final Explanation'])\n",
    "result_df.head()"
   ]
  },
  {
   "cell_type": "code",
   "execution_count": 20,
   "id": "aaf9e3a4-f677-4a5d-a7bb-9dff932c302a",
   "metadata": {},
   "outputs": [
    {
     "name": "stderr",
     "output_type": "stream",
     "text": [
      "/var/folders/n4/jgn7dyds78s1nj91t_rr3xnc0000gn/T/ipykernel_13481/2736379523.py:2: RuntimeWarning: divide by zero encountered in double_scalars\n",
      "  result_df['Recall'] = result_df.apply(lambda x: x['Final Explanation']/x['Common Attr'], axis=1)\n"
     ]
    }
   ],
   "source": [
    "result_df['Precision'] = result_df.apply(lambda x: x['Final Explanation']/x['Examples'], axis=1)\n",
    "result_df['Recall'] = result_df.apply(lambda x: x['Final Explanation']/x['Common Attr'], axis=1)"
   ]
  },
  {
   "cell_type": "code",
   "execution_count": 26,
   "id": "ebf82be1-0c6b-4b58-881b-92dbfc229d45",
   "metadata": {},
   "outputs": [
    {
     "data": {
      "text/html": [
       "<div>\n",
       "<style scoped>\n",
       "    .dataframe tbody tr th:only-of-type {\n",
       "        vertical-align: middle;\n",
       "    }\n",
       "\n",
       "    .dataframe tbody tr th {\n",
       "        vertical-align: top;\n",
       "    }\n",
       "\n",
       "    .dataframe thead th {\n",
       "        text-align: right;\n",
       "    }\n",
       "</style>\n",
       "<table border=\"1\" class=\"dataframe\">\n",
       "  <thead>\n",
       "    <tr style=\"text-align: right;\">\n",
       "      <th></th>\n",
       "      <th>Examples</th>\n",
       "      <th>Common Attr</th>\n",
       "      <th>Final Explanation</th>\n",
       "      <th>Precision</th>\n",
       "      <th>Recall</th>\n",
       "    </tr>\n",
       "    <tr>\n",
       "      <th>K</th>\n",
       "      <th></th>\n",
       "      <th></th>\n",
       "      <th></th>\n",
       "      <th></th>\n",
       "      <th></th>\n",
       "    </tr>\n",
       "  </thead>\n",
       "  <tbody>\n",
       "    <tr>\n",
       "      <th>1</th>\n",
       "      <td>322</td>\n",
       "      <td>322</td>\n",
       "      <td>322</td>\n",
       "      <td>322</td>\n",
       "      <td>322</td>\n",
       "    </tr>\n",
       "    <tr>\n",
       "      <th>2</th>\n",
       "      <td>322</td>\n",
       "      <td>322</td>\n",
       "      <td>322</td>\n",
       "      <td>322</td>\n",
       "      <td>322</td>\n",
       "    </tr>\n",
       "    <tr>\n",
       "      <th>3</th>\n",
       "      <td>319</td>\n",
       "      <td>319</td>\n",
       "      <td>319</td>\n",
       "      <td>319</td>\n",
       "      <td>319</td>\n",
       "    </tr>\n",
       "    <tr>\n",
       "      <th>4</th>\n",
       "      <td>315</td>\n",
       "      <td>315</td>\n",
       "      <td>315</td>\n",
       "      <td>315</td>\n",
       "      <td>315</td>\n",
       "    </tr>\n",
       "    <tr>\n",
       "      <th>5</th>\n",
       "      <td>315</td>\n",
       "      <td>315</td>\n",
       "      <td>315</td>\n",
       "      <td>315</td>\n",
       "      <td>315</td>\n",
       "    </tr>\n",
       "    <tr>\n",
       "      <th>6</th>\n",
       "      <td>312</td>\n",
       "      <td>312</td>\n",
       "      <td>312</td>\n",
       "      <td>312</td>\n",
       "      <td>312</td>\n",
       "    </tr>\n",
       "    <tr>\n",
       "      <th>7</th>\n",
       "      <td>308</td>\n",
       "      <td>308</td>\n",
       "      <td>308</td>\n",
       "      <td>308</td>\n",
       "      <td>308</td>\n",
       "    </tr>\n",
       "    <tr>\n",
       "      <th>8</th>\n",
       "      <td>307</td>\n",
       "      <td>307</td>\n",
       "      <td>307</td>\n",
       "      <td>307</td>\n",
       "      <td>307</td>\n",
       "    </tr>\n",
       "    <tr>\n",
       "      <th>9</th>\n",
       "      <td>305</td>\n",
       "      <td>305</td>\n",
       "      <td>305</td>\n",
       "      <td>305</td>\n",
       "      <td>305</td>\n",
       "    </tr>\n",
       "    <tr>\n",
       "      <th>10</th>\n",
       "      <td>304</td>\n",
       "      <td>304</td>\n",
       "      <td>304</td>\n",
       "      <td>304</td>\n",
       "      <td>304</td>\n",
       "    </tr>\n",
       "    <tr>\n",
       "      <th>11</th>\n",
       "      <td>304</td>\n",
       "      <td>304</td>\n",
       "      <td>304</td>\n",
       "      <td>304</td>\n",
       "      <td>304</td>\n",
       "    </tr>\n",
       "    <tr>\n",
       "      <th>12</th>\n",
       "      <td>302</td>\n",
       "      <td>302</td>\n",
       "      <td>302</td>\n",
       "      <td>302</td>\n",
       "      <td>302</td>\n",
       "    </tr>\n",
       "    <tr>\n",
       "      <th>13</th>\n",
       "      <td>301</td>\n",
       "      <td>301</td>\n",
       "      <td>301</td>\n",
       "      <td>301</td>\n",
       "      <td>301</td>\n",
       "    </tr>\n",
       "    <tr>\n",
       "      <th>14</th>\n",
       "      <td>300</td>\n",
       "      <td>300</td>\n",
       "      <td>300</td>\n",
       "      <td>300</td>\n",
       "      <td>300</td>\n",
       "    </tr>\n",
       "    <tr>\n",
       "      <th>15</th>\n",
       "      <td>297</td>\n",
       "      <td>297</td>\n",
       "      <td>297</td>\n",
       "      <td>297</td>\n",
       "      <td>297</td>\n",
       "    </tr>\n",
       "    <tr>\n",
       "      <th>16</th>\n",
       "      <td>294</td>\n",
       "      <td>294</td>\n",
       "      <td>294</td>\n",
       "      <td>294</td>\n",
       "      <td>294</td>\n",
       "    </tr>\n",
       "    <tr>\n",
       "      <th>17</th>\n",
       "      <td>293</td>\n",
       "      <td>293</td>\n",
       "      <td>293</td>\n",
       "      <td>293</td>\n",
       "      <td>293</td>\n",
       "    </tr>\n",
       "    <tr>\n",
       "      <th>18</th>\n",
       "      <td>290</td>\n",
       "      <td>290</td>\n",
       "      <td>290</td>\n",
       "      <td>290</td>\n",
       "      <td>290</td>\n",
       "    </tr>\n",
       "    <tr>\n",
       "      <th>19</th>\n",
       "      <td>287</td>\n",
       "      <td>287</td>\n",
       "      <td>287</td>\n",
       "      <td>287</td>\n",
       "      <td>287</td>\n",
       "    </tr>\n",
       "  </tbody>\n",
       "</table>\n",
       "</div>"
      ],
      "text/plain": [
       "    Examples  Common Attr  Final Explanation  Precision  Recall\n",
       "K                                                              \n",
       "1        322          322                322        322     322\n",
       "2        322          322                322        322     322\n",
       "3        319          319                319        319     319\n",
       "4        315          315                315        315     315\n",
       "5        315          315                315        315     315\n",
       "6        312          312                312        312     312\n",
       "7        308          308                308        308     308\n",
       "8        307          307                307        307     307\n",
       "9        305          305                305        305     305\n",
       "10       304          304                304        304     304\n",
       "11       304          304                304        304     304\n",
       "12       302          302                302        302     302\n",
       "13       301          301                301        301     301\n",
       "14       300          300                300        300     300\n",
       "15       297          297                297        297     297\n",
       "16       294          294                294        294     294\n",
       "17       293          293                293        293     293\n",
       "18       290          290                290        290     290\n",
       "19       287          287                287        287     287"
      ]
     },
     "execution_count": 26,
     "metadata": {},
     "output_type": "execute_result"
    }
   ],
   "source": [
    "result_df.groupby(by='K').count()"
   ]
  },
  {
   "cell_type": "code",
   "execution_count": 11,
   "id": "1fc9e10c-c3e5-4464-a790-f90822c7f7be",
   "metadata": {},
   "outputs": [
    {
     "ename": "NameError",
     "evalue": "name 'total_precision' is not defined",
     "output_type": "error",
     "traceback": [
      "\u001b[0;31m---------------------------------------------------------------------------\u001b[0m",
      "\u001b[0;31mNameError\u001b[0m                                 Traceback (most recent call last)",
      "Input \u001b[0;32mIn [11]\u001b[0m, in \u001b[0;36m<cell line: 1>\u001b[0;34m()\u001b[0m\n\u001b[0;32m----> 1\u001b[0m pd\u001b[38;5;241m.\u001b[39mDataFrame(\u001b[38;5;28mlist\u001b[39m(\u001b[38;5;28mzip\u001b[39m(\u001b[38;5;28mrange\u001b[39m(\u001b[38;5;241m1\u001b[39m,\u001b[38;5;241m20\u001b[39m), \u001b[43mtotal_precision\u001b[49m, total_recall)), columns \u001b[38;5;241m=\u001b[39m[\u001b[38;5;124m'\u001b[39m\u001b[38;5;124mK\u001b[39m\u001b[38;5;124m'\u001b[39m, \u001b[38;5;124m'\u001b[39m\u001b[38;5;124mPrecision\u001b[39m\u001b[38;5;124m'\u001b[39m, \u001b[38;5;124m'\u001b[39m\u001b[38;5;124mRecall\u001b[39m\u001b[38;5;124m'\u001b[39m])\n",
      "\u001b[0;31mNameError\u001b[0m: name 'total_precision' is not defined"
     ]
    }
   ],
   "source": [
    "pd.DataFrame(list(zip(range(1,20), total_precision, total_recall)), columns =['K', 'Precision', 'Recall'])"
   ]
  },
  {
   "cell_type": "code",
   "execution_count": null,
   "id": "3dfba421-48fa-470b-ae0e-1d6a3e118717",
   "metadata": {},
   "outputs": [],
   "source": [
    "import matplotlib.pyplot as plt\n",
    "import numpy as np"
   ]
  },
  {
   "cell_type": "code",
   "execution_count": null,
   "id": "a12b3ccf-5ddd-45a3-b6c8-dd3a08c20339",
   "metadata": {},
   "outputs": [],
   "source": [
    "fig = plt.figure()\n",
    "fig.set_figheight(10)\n",
    "fig.set_figwidth(10)\n",
    "\n",
    "ax = fig.add_subplot(111)    # The big subplot\n",
    "ax1 = fig.add_subplot(211)\n",
    "ax2 = fig.add_subplot(212)\n",
    "\n",
    "ax.spines['top'].set_color('none')\n",
    "ax.spines['bottom'].set_color('none')\n",
    "ax.spines['left'].set_color('none')\n",
    "ax.spines['right'].set_color('none')\n",
    "ax.tick_params(labelcolor='w', top=False, bottom=False, left=False, right=False)\n",
    "\n",
    "precision_points = np.array(total_precision)\n",
    "recall_points = np.array(total_recall)\n",
    "\n",
    "ax1.plot(precision_points, c = '#4CAF50')\n",
    "ax2.plot(recall_points, c = '#D17170')\n",
    "ax1.set_ylabel('Precision', fontsize=20, fontweight='bold')\n",
    "ax2.set_ylabel('Recall', fontsize=20, fontweight='bold')\n",
    "\n",
    "ax.set_xlabel('K retrieved examples', fontsize=20, fontweight='bold')\n",
    "\n",
    "plt.show()"
   ]
  },
  {
   "cell_type": "markdown",
   "id": "d94a5d66-0c9c-44e0-ab93-c05eb9c411a2",
   "metadata": {
    "tags": []
   },
   "source": [
    "## Prueba Concepts\n",
    "\n",
    "Para cargar un retículo, es necesario primero crear un DF donde el índice sea el id de la película, las columnas sean los atributos y los valores sean vacíos o X."
   ]
  },
  {
   "cell_type": "code",
   "execution_count": null,
   "id": "11cce328-b9d1-42f3-9454-808474524408",
   "metadata": {},
   "outputs": [],
   "source": [
    "# Cargamos los datos\n",
    "trainset = pd.read_csv('data/experiment_data/trainset.csv')\n",
    "testset = pd.read_csv('data/experiment_data/testset.csv')\n",
    "movies_attr_df = pd.read_csv('data/experiment_data/movies.csv')"
   ]
  },
  {
   "cell_type": "code",
   "execution_count": null,
   "id": "6ba04de1-b903-4c94-ace3-d400d662d6fc",
   "metadata": {},
   "outputs": [],
   "source": [
    "# Creamos y entrenamos el modelo\n",
    "model = lfxai.NMF_XAI()\n",
    "model.fit(trainset, movies_attr_df)"
   ]
  },
  {
   "cell_type": "code",
   "execution_count": null,
   "id": "ab5bf32d-95fc-4713-8a8e-086e02b3930d",
   "metadata": {},
   "outputs": [],
   "source": [
    "# Ejemplo de ejecución\n",
    "user = 8\n",
    "movie = 25"
   ]
  },
  {
   "cell_type": "code",
   "execution_count": null,
   "id": "01cb648b-9dea-44e5-ae90-020645fbc572",
   "metadata": {},
   "outputs": [],
   "source": [
    "# Obtenemos los ejemplos de explicación\n",
    "pred = model.predict(user, movie)\n",
    "examples = model.get_examples(user, movie, n=10)"
   ]
  },
  {
   "cell_type": "code",
   "execution_count": null,
   "id": "cc045424-d23b-46d5-aff9-8c4924615e90",
   "metadata": {},
   "outputs": [],
   "source": [
    "examples"
   ]
  },
  {
   "cell_type": "code",
   "execution_count": null,
   "id": "84b3d9c4-a47e-4a85-9de0-c8b2f25fe70d",
   "metadata": {},
   "outputs": [],
   "source": [
    "# Obtenemos las descripciones de todas las películas\n",
    "lattice_ids = np.append(examples, movie)\n",
    "lattice_movies = movies_attr_df[movies_attr_df['id'].isin(lattice_ids)]"
   ]
  },
  {
   "cell_type": "code",
   "execution_count": null,
   "id": "2792f8e5-cc23-469f-b3f8-4aea9c4811cf",
   "metadata": {},
   "outputs": [],
   "source": [
    "# Generamos la matriz necesaria para concepts\n",
    "lattice_movies['title_year'] = lattice_movies['title_year'].apply(lambda val: str(val)) # pasamos años a str\n",
    "lista_columns = ['director_name', 'genres', 'stars', 'language', 'country', 'title_year']\n",
    "\n",
    "for c in range(len(lista_columns)):\n",
    "    lattice_movies = get_dummie(lattice_movies, lista_columns[c], sep='|')\n",
    "    \n",
    "lista_columns_to_drop = ['director_name', 'genres', 'stars', 'language', 'country', 'title_year', 'movie_title', 'duration']\n",
    "lattice_movies.drop(columns=lista_columns_to_drop, axis=1, inplace=True)\n",
    "\n",
    "lattice_movies = lattice_movies.replace([0, 1], ['', 'X'])"
   ]
  },
  {
   "cell_type": "code",
   "execution_count": null,
   "id": "817ed7b7-3892-4c88-9488-c8aecda64e4e",
   "metadata": {},
   "outputs": [],
   "source": [
    "# Generamos el retículo\n",
    "lattice_movies.set_index(['id'], inplace=True)\n",
    "objects = [str(x) for x in lattice_movies.index.tolist()]\n",
    "properties = list(lattice_movies)\n",
    "bools = list(lattice_movies.fillna(False).astype(bool).itertuples(index=False, name=None))\n",
    "\n",
    "context_movies = concepts.Context(objects, properties, bools)"
   ]
  },
  {
   "cell_type": "code",
   "execution_count": null,
   "id": "8903c772-c8ea-40b6-9e60-f4e3176ef57b",
   "metadata": {
    "tags": []
   },
   "outputs": [],
   "source": [
    "for extent, intent in context_movies.lattice:\n",
    "    print(\"{} - {}\".format(extent, intent))"
   ]
  },
  {
   "cell_type": "code",
   "execution_count": null,
   "id": "bf895ab8-beee-4a9f-afbd-ea8614b7e92a",
   "metadata": {},
   "outputs": [],
   "source": [
    "getMoviesExplanation(str(movie), context_movies.lattice)"
   ]
  },
  {
   "cell_type": "code",
   "execution_count": null,
   "id": "8229e9bd-9fac-4907-99f1-e180538f75b3",
   "metadata": {
    "tags": []
   },
   "outputs": [],
   "source": [
    "context_movies.lattice.graphviz()"
   ]
  }
 ],
 "metadata": {
  "kernelspec": {
   "display_name": "Python 3 (ipykernel)",
   "language": "python",
   "name": "python3"
  },
  "language_info": {
   "codemirror_mode": {
    "name": "ipython",
    "version": 3
   },
   "file_extension": ".py",
   "mimetype": "text/x-python",
   "name": "python",
   "nbconvert_exporter": "python",
   "pygments_lexer": "ipython3",
   "version": "3.9.12"
  }
 },
 "nbformat": 4,
 "nbformat_minor": 5
}
