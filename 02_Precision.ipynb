{
 "cells": [
  {
   "cell_type": "code",
   "execution_count": 1,
   "id": "df5b2c10-b7c0-4ecb-a297-88c1e526efe0",
   "metadata": {},
   "outputs": [],
   "source": [
    "import pandas as pd\n",
    "import numpy as np\n",
    "\n",
    "import src.latent_factor_xai as lfxai\n",
    "import concepts"
   ]
  },
  {
   "cell_type": "code",
   "execution_count": 2,
   "id": "2afcd5ed-3a09-43c2-b709-3ecc1391546c",
   "metadata": {},
   "outputs": [],
   "source": [
    "def getMoviesExplanation(recommendation, lattice):\n",
    "    \"\"\"\n",
    "        Devuelve la lista de peliculas que comparten el nodo padre con la pelicula recomendada\n",
    "    \"\"\"\n",
    "    \n",
    "    # el nodo padre es aquel (o aquellos nodos) en el que encontramos el mayor numero de atributos para la pelicula recomendada\n",
    "    # al ser el nodo mas especifico, es el nodo en el que la recomendacion se encuentra que mas atributos tiene \n",
    "    # por tanto tenemos que encontrar ese intent (el que tenga mayor numero de atributos donde se encuentra la pelicula \n",
    "    # recomendada en el extent, pero cuando esa peli recomendada no este sola) y coger todos los extent de ese nodo\n",
    "    \n",
    "    my_movies = list()\n",
    "    \n",
    "    # guardamos todos las movies con sus atributos compartidos segun el reticulo\n",
    "    for extent, intent in lattice:\n",
    "        my_movies.append((extent,intent)) # movies, attributes\n",
    "    \n",
    "    # de la lista total, nos quedamos con aquellos conjuntos de peliculas donde este la recomendacion, y donde \n",
    "    # la recomendacion no este sola, porque no tiene sentido\n",
    "    my_movies_2 = [(x[0],x[1],len(x[1])) for x in my_movies if recommendation in x[0] and len(x[0]) > 1]\n",
    "    \n",
    "    # guardamos la lista donde haya mas atributos compartidos\n",
    "    final_list = list(max(my_movies_2,key=lambda item:item[2])[0])\n",
    "    \n",
    "    # de la lista, eliminamos la recomendacion \n",
    "    final_list.remove(recommendation)\n",
    "    \n",
    "    return final_list"
   ]
  },
  {
   "cell_type": "code",
   "execution_count": 3,
   "id": "0b856e40-f67e-49f0-96b3-6c7d00a73688",
   "metadata": {},
   "outputs": [],
   "source": [
    "def get_dummie(df, column, sep):\n",
    "    new_df = df[column].str.get_dummies(sep=sep)\n",
    "    result = pd.concat([df, new_df], axis=1)        \n",
    "    #result.drop(columns=[column])\n",
    "    return result"
   ]
  },
  {
   "cell_type": "code",
   "execution_count": 4,
   "id": "8c733edd-a298-4fe7-951c-423c97511ed1",
   "metadata": {},
   "outputs": [],
   "source": [
    "def dataframe_to_context_matrix(lattice_movies):\n",
    "    # Generamos la matriz necesaria para concepts\n",
    "    lattice_movies['title_year'] = lattice_movies['title_year'].apply(lambda val: str(val)) # pasamos años a str\n",
    "    lista_columns = ['director_name', 'genres', 'stars', 'language', 'country', 'title_year']\n",
    "\n",
    "    for c in range(len(lista_columns)):\n",
    "        lattice_movies = get_dummie(lattice_movies, lista_columns[c], sep='|')\n",
    "\n",
    "    lista_columns_to_drop = ['director_name', 'genres', 'stars', 'language', 'country', 'title_year', 'movie_title', 'duration']\n",
    "    lattice_movies.drop(columns=lista_columns_to_drop, axis=1, inplace=True)\n",
    "\n",
    "    result = lattice_movies.replace([0, 1], ['', 'X'])\n",
    "    return result.set_index(['id'])"
   ]
  },
  {
   "cell_type": "code",
   "execution_count": 5,
   "id": "0af024f6-cc15-484b-af30-bb120b191ff8",
   "metadata": {},
   "outputs": [],
   "source": [
    "def get_lattice(movie_recommended, examples):\n",
    "    movies_ids = np.append(examples, movie_recommended)\n",
    "    \n",
    "    # Obtengo las descripciones de las películas\n",
    "    lattice_val = movies_attr_df[movies_attr_df['id'].isin(lattice_ids)]\n",
    "    \n",
    "    # Lo convierto a una matriz válida para concepts\n",
    "    lattice_val = dataframe_to_context_matrix(lattice_val)\n",
    "    \n",
    "    objects = lattice_movies.index.tolist()\n",
    "    properties = list(lattice_movies)\n",
    "    bools = list(lattice_movies.fillna(False).astype(bool).itertuples(index=False, name=None))\n",
    "\n",
    "    return concepts.Context(objects, properties, bools)"
   ]
  },
  {
   "cell_type": "markdown",
   "id": "d94a5d66-0c9c-44e0-ab93-c05eb9c411a2",
   "metadata": {
    "tags": []
   },
   "source": [
    "## Prueba Concepts\n",
    "\n",
    "Para cargar un retículo, es necesario primero crear un DF donde el índice sea el id de la película, las columnas sean los atributos y los valores sean vacíos o X."
   ]
  },
  {
   "cell_type": "code",
   "execution_count": 6,
   "id": "11cce328-b9d1-42f3-9454-808474524408",
   "metadata": {},
   "outputs": [],
   "source": [
    "# Cargamos los datos\n",
    "trainset = pd.read_csv('data/experiment_data/trainset.csv')\n",
    "testset = pd.read_csv('data/experiment_data/testset.csv')\n",
    "movies_attr_df = pd.read_csv('data/experiment_data/movies.csv')"
   ]
  },
  {
   "cell_type": "code",
   "execution_count": 7,
   "id": "6ba04de1-b903-4c94-ace3-d400d662d6fc",
   "metadata": {},
   "outputs": [],
   "source": [
    "# Creamos y entrenamos el modelo\n",
    "model = lfxai.NMF_XAI()\n",
    "model.fit(trainset, movies_attr_df)"
   ]
  },
  {
   "cell_type": "code",
   "execution_count": 8,
   "id": "ab5bf32d-95fc-4713-8a8e-086e02b3930d",
   "metadata": {},
   "outputs": [],
   "source": [
    "# Ejemplo de ejecución\n",
    "user = 12\n",
    "movie = 14"
   ]
  },
  {
   "cell_type": "code",
   "execution_count": 9,
   "id": "01cb648b-9dea-44e5-ae90-020645fbc572",
   "metadata": {},
   "outputs": [],
   "source": [
    "# Obtenemos los ejemplos de explicación\n",
    "pred = model.predict(user, movie)\n",
    "examples = model.get_examples(user, movie)"
   ]
  },
  {
   "cell_type": "code",
   "execution_count": 10,
   "id": "84b3d9c4-a47e-4a85-9de0-c8b2f25fe70d",
   "metadata": {},
   "outputs": [],
   "source": [
    "# Obtenemos las descripciones de todas las películas\n",
    "lattice_ids = np.append(examples, movie)\n",
    "lattice_movies = movies_attr_df[movies_attr_df['id'].isin(lattice_ids)]"
   ]
  },
  {
   "cell_type": "code",
   "execution_count": 11,
   "id": "2792f8e5-cc23-469f-b3f8-4aea9c4811cf",
   "metadata": {},
   "outputs": [
    {
     "name": "stderr",
     "output_type": "stream",
     "text": [
      "/var/folders/n4/jgn7dyds78s1nj91t_rr3xnc0000gn/T/ipykernel_14024/3312553073.py:2: SettingWithCopyWarning: \n",
      "A value is trying to be set on a copy of a slice from a DataFrame.\n",
      "Try using .loc[row_indexer,col_indexer] = value instead\n",
      "\n",
      "See the caveats in the documentation: https://pandas.pydata.org/pandas-docs/stable/user_guide/indexing.html#returning-a-view-versus-a-copy\n",
      "  lattice_movies['title_year'] = lattice_movies['title_year'].apply(lambda val: str(val)) # pasamos años a str\n"
     ]
    }
   ],
   "source": [
    "# Generamos la matriz necesaria para concepts\n",
    "lattice_movies['title_year'] = lattice_movies['title_year'].apply(lambda val: str(val)) # pasamos años a str\n",
    "lista_columns = ['director_name', 'genres', 'stars', 'language', 'country', 'title_year']\n",
    "\n",
    "for c in range(len(lista_columns)):\n",
    "    lattice_movies = get_dummie(lattice_movies, lista_columns[c], sep='|')\n",
    "    \n",
    "lista_columns_to_drop = ['director_name', 'genres', 'stars', 'language', 'country', 'title_year', 'movie_title', 'duration']\n",
    "lattice_movies.drop(columns=lista_columns_to_drop, axis=1, inplace=True)\n",
    "\n",
    "lattice_movies = lattice_movies.replace([0, 1], ['', 'X'])"
   ]
  },
  {
   "cell_type": "code",
   "execution_count": 12,
   "id": "817ed7b7-3892-4c88-9488-c8aecda64e4e",
   "metadata": {},
   "outputs": [],
   "source": [
    "# Generamos el retículo\n",
    "lattice_movies.set_index(['id'], inplace=True)\n",
    "objects = [str(x) for x in lattice_movies.index.tolist()]\n",
    "properties = list(lattice_movies)\n",
    "bools = list(lattice_movies.fillna(False).astype(bool).itertuples(index=False, name=None))\n",
    "\n",
    "context_movies = concepts.Context(objects, properties, bools)"
   ]
  },
  {
   "cell_type": "code",
   "execution_count": 13,
   "id": "8903c772-c8ea-40b6-9e60-f4e3176ef57b",
   "metadata": {
    "tags": []
   },
   "outputs": [
    {
     "name": "stdout",
     "output_type": "stream",
     "text": [
      "() - ('Amy Heckerling', 'Gillian Armstrong', 'Jerry Zucker', 'Oliver Stone', 'Action', 'Adventure', 'Biography', 'Comedy', 'Drama', 'Family', 'History', 'Romance', 'Thriller', 'Anthony Hopkins', 'Christian Bale', 'Donald Faison', 'Elisa Donovan', 'Eric Stoltz', 'Joan Allen', 'John Gielgud', 'Julia Ormond', 'English', 'USA', '1994', '1995')\n",
      "('261',) - ('Gillian Armstrong', 'Drama', 'Family', 'Romance', 'Christian Bale', 'Eric Stoltz', 'English', 'USA', '1994')\n",
      "('39',) - ('Amy Heckerling', 'Comedy', 'Romance', 'Donald Faison', 'Elisa Donovan', 'English', 'USA', '1995')\n",
      "('168',) - ('Jerry Zucker', 'Action', 'Adventure', 'Romance', 'Thriller', 'John Gielgud', 'Julia Ormond', 'English', 'USA', '1995')\n",
      "('14',) - ('Oliver Stone', 'Biography', 'Drama', 'History', 'Anthony Hopkins', 'Joan Allen', 'English', 'USA', '1995')\n",
      "('261', '14') - ('Drama', 'English', 'USA')\n",
      "('39', '168') - ('Romance', 'English', 'USA', '1995')\n",
      "('261', '39', '168') - ('Romance', 'English', 'USA')\n",
      "('39', '168', '14') - ('English', 'USA', '1995')\n",
      "('261', '39', '168', '14') - ('English', 'USA')\n"
     ]
    }
   ],
   "source": [
    "for extent, intent in context_movies.lattice:\n",
    "    print(\"{} - {}\".format(extent, intent))"
   ]
  },
  {
   "cell_type": "code",
   "execution_count": 14,
   "id": "bf895ab8-beee-4a9f-afbd-ea8614b7e92a",
   "metadata": {},
   "outputs": [
    {
     "ename": "ValueError",
     "evalue": "max() arg is an empty sequence",
     "output_type": "error",
     "traceback": [
      "\u001b[0;31m---------------------------------------------------------------------------\u001b[0m",
      "\u001b[0;31mValueError\u001b[0m                                Traceback (most recent call last)",
      "Input \u001b[0;32mIn [14]\u001b[0m, in \u001b[0;36m<cell line: 1>\u001b[0;34m()\u001b[0m\n\u001b[0;32m----> 1\u001b[0m \u001b[43mgetMoviesExplanation\u001b[49m\u001b[43m(\u001b[49m\u001b[43mmovie\u001b[49m\u001b[43m,\u001b[49m\u001b[43m \u001b[49m\u001b[43mcontext_movies\u001b[49m\u001b[38;5;241;43m.\u001b[39;49m\u001b[43mlattice\u001b[49m\u001b[43m)\u001b[49m\n",
      "Input \u001b[0;32mIn [2]\u001b[0m, in \u001b[0;36mgetMoviesExplanation\u001b[0;34m(recommendation, lattice)\u001b[0m\n\u001b[1;32m     19\u001b[0m my_movies_2 \u001b[38;5;241m=\u001b[39m [(x[\u001b[38;5;241m0\u001b[39m],x[\u001b[38;5;241m1\u001b[39m],\u001b[38;5;28mlen\u001b[39m(x[\u001b[38;5;241m1\u001b[39m])) \u001b[38;5;28;01mfor\u001b[39;00m x \u001b[38;5;129;01min\u001b[39;00m my_movies \u001b[38;5;28;01mif\u001b[39;00m recommendation \u001b[38;5;129;01min\u001b[39;00m x[\u001b[38;5;241m0\u001b[39m] \u001b[38;5;129;01mand\u001b[39;00m \u001b[38;5;28mlen\u001b[39m(x[\u001b[38;5;241m0\u001b[39m]) \u001b[38;5;241m>\u001b[39m \u001b[38;5;241m1\u001b[39m]\n\u001b[1;32m     21\u001b[0m \u001b[38;5;66;03m# guardamos la lista donde haya mas atributos compartidos\u001b[39;00m\n\u001b[0;32m---> 22\u001b[0m final_list \u001b[38;5;241m=\u001b[39m \u001b[38;5;28mlist\u001b[39m(\u001b[38;5;28;43mmax\u001b[39;49m\u001b[43m(\u001b[49m\u001b[43mmy_movies_2\u001b[49m\u001b[43m,\u001b[49m\u001b[43mkey\u001b[49m\u001b[38;5;241;43m=\u001b[39;49m\u001b[38;5;28;43;01mlambda\u001b[39;49;00m\u001b[43m \u001b[49m\u001b[43mitem\u001b[49m\u001b[43m:\u001b[49m\u001b[43mitem\u001b[49m\u001b[43m[\u001b[49m\u001b[38;5;241;43m2\u001b[39;49m\u001b[43m]\u001b[49m\u001b[43m)\u001b[49m[\u001b[38;5;241m0\u001b[39m])\n\u001b[1;32m     24\u001b[0m \u001b[38;5;66;03m# de la lista, eliminamos la recomendacion \u001b[39;00m\n\u001b[1;32m     25\u001b[0m final_list\u001b[38;5;241m.\u001b[39mremove(recommendation)\n",
      "\u001b[0;31mValueError\u001b[0m: max() arg is an empty sequence"
     ]
    }
   ],
   "source": [
    "getMoviesExplanation(movie, context_movies.lattice)"
   ]
  },
  {
   "cell_type": "code",
   "execution_count": null,
   "id": "8229e9bd-9fac-4907-99f1-e180538f75b3",
   "metadata": {},
   "outputs": [],
   "source": []
  }
 ],
 "metadata": {
  "kernelspec": {
   "display_name": "Python 3 (ipykernel)",
   "language": "python",
   "name": "python3"
  },
  "language_info": {
   "codemirror_mode": {
    "name": "ipython",
    "version": 3
   },
   "file_extension": ".py",
   "mimetype": "text/x-python",
   "name": "python",
   "nbconvert_exporter": "python",
   "pygments_lexer": "ipython3",
   "version": "3.9.12"
  }
 },
 "nbformat": 4,
 "nbformat_minor": 5
}
