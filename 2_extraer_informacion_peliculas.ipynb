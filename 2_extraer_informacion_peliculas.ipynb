{
 "cells": [
  {
   "cell_type": "code",
   "execution_count": 1,
   "metadata": {},
   "outputs": [],
   "source": [
    "import pandas as pd\n",
    "import IMDB_API as imdb"
   ]
  },
  {
   "cell_type": "markdown",
   "metadata": {},
   "source": [
    "# Extraer información películas\n",
    "\n",
    "En este notebook vamos a extraer toda la información que podamos de las películas. Para ello, vamos a ir a sus páginas en IMDB y descargaremos la información que haya en las fichas de las películas."
   ]
  },
  {
   "cell_type": "markdown",
   "metadata": {},
   "source": [
    "## Obtener los links de IMDB\n",
    "\n",
    "En esta parte obtenemos los links de las películas que vamos a utilizar en el experimento."
   ]
  },
  {
   "cell_type": "code",
   "execution_count": 2,
   "metadata": {},
   "outputs": [
    {
     "data": {
      "text/html": [
       "<div>\n",
       "<style scoped>\n",
       "    .dataframe tbody tr th:only-of-type {\n",
       "        vertical-align: middle;\n",
       "    }\n",
       "\n",
       "    .dataframe tbody tr th {\n",
       "        vertical-align: top;\n",
       "    }\n",
       "\n",
       "    .dataframe thead th {\n",
       "        text-align: right;\n",
       "    }\n",
       "</style>\n",
       "<table border=\"1\" class=\"dataframe\">\n",
       "  <thead>\n",
       "    <tr style=\"text-align: right;\">\n",
       "      <th></th>\n",
       "      <th>movieId</th>\n",
       "      <th>imdbId</th>\n",
       "      <th>tmdbId</th>\n",
       "    </tr>\n",
       "  </thead>\n",
       "  <tbody>\n",
       "    <tr>\n",
       "      <th>0</th>\n",
       "      <td>1</td>\n",
       "      <td>114709</td>\n",
       "      <td>862.0</td>\n",
       "    </tr>\n",
       "    <tr>\n",
       "      <th>1</th>\n",
       "      <td>2</td>\n",
       "      <td>113497</td>\n",
       "      <td>8844.0</td>\n",
       "    </tr>\n",
       "    <tr>\n",
       "      <th>2</th>\n",
       "      <td>3</td>\n",
       "      <td>113228</td>\n",
       "      <td>15602.0</td>\n",
       "    </tr>\n",
       "    <tr>\n",
       "      <th>3</th>\n",
       "      <td>4</td>\n",
       "      <td>114885</td>\n",
       "      <td>31357.0</td>\n",
       "    </tr>\n",
       "    <tr>\n",
       "      <th>4</th>\n",
       "      <td>5</td>\n",
       "      <td>113041</td>\n",
       "      <td>11862.0</td>\n",
       "    </tr>\n",
       "  </tbody>\n",
       "</table>\n",
       "</div>"
      ],
      "text/plain": [
       "   movieId  imdbId   tmdbId\n",
       "0        1  114709    862.0\n",
       "1        2  113497   8844.0\n",
       "2        3  113228  15602.0\n",
       "3        4  114885  31357.0\n",
       "4        5  113041  11862.0"
      ]
     },
     "execution_count": 2,
     "metadata": {},
     "output_type": "execute_result"
    }
   ],
   "source": [
    "# Cargamos el dataset de los links a IMDB\n",
    "movies_links_DF = pd.read_csv('data/original_dataset/ml-latest-small/links.csv')\n",
    "movies_links_DF.head()"
   ]
  },
  {
   "cell_type": "code",
   "execution_count": 3,
   "metadata": {},
   "outputs": [
    {
     "data": {
      "text/html": [
       "<div>\n",
       "<style scoped>\n",
       "    .dataframe tbody tr th:only-of-type {\n",
       "        vertical-align: middle;\n",
       "    }\n",
       "\n",
       "    .dataframe tbody tr th {\n",
       "        vertical-align: top;\n",
       "    }\n",
       "\n",
       "    .dataframe thead th {\n",
       "        text-align: right;\n",
       "    }\n",
       "</style>\n",
       "<table border=\"1\" class=\"dataframe\">\n",
       "  <thead>\n",
       "    <tr style=\"text-align: right;\">\n",
       "      <th></th>\n",
       "      <th>userId</th>\n",
       "      <th>movieId</th>\n",
       "      <th>rating</th>\n",
       "      <th>timestamp</th>\n",
       "    </tr>\n",
       "  </thead>\n",
       "  <tbody>\n",
       "    <tr>\n",
       "      <th>0</th>\n",
       "      <td>1</td>\n",
       "      <td>1</td>\n",
       "      <td>4.0</td>\n",
       "      <td>964982703</td>\n",
       "    </tr>\n",
       "    <tr>\n",
       "      <th>1</th>\n",
       "      <td>1</td>\n",
       "      <td>6</td>\n",
       "      <td>4.0</td>\n",
       "      <td>964982224</td>\n",
       "    </tr>\n",
       "    <tr>\n",
       "      <th>2</th>\n",
       "      <td>1</td>\n",
       "      <td>47</td>\n",
       "      <td>5.0</td>\n",
       "      <td>964983815</td>\n",
       "    </tr>\n",
       "    <tr>\n",
       "      <th>3</th>\n",
       "      <td>1</td>\n",
       "      <td>50</td>\n",
       "      <td>5.0</td>\n",
       "      <td>964982931</td>\n",
       "    </tr>\n",
       "    <tr>\n",
       "      <th>4</th>\n",
       "      <td>1</td>\n",
       "      <td>110</td>\n",
       "      <td>4.0</td>\n",
       "      <td>964982176</td>\n",
       "    </tr>\n",
       "  </tbody>\n",
       "</table>\n",
       "</div>"
      ],
      "text/plain": [
       "   userId  movieId  rating  timestamp\n",
       "0       1        1     4.0  964982703\n",
       "1       1        6     4.0  964982224\n",
       "2       1       47     5.0  964983815\n",
       "3       1       50     5.0  964982931\n",
       "4       1      110     4.0  964982176"
      ]
     },
     "execution_count": 3,
     "metadata": {},
     "output_type": "execute_result"
    }
   ],
   "source": [
    "# Cargamos las películas seleccionadas para el experimento\n",
    "ratings_DF = pd.read_csv('data/experiment_data/ratings.csv')\n",
    "ratings_DF.head()"
   ]
  },
  {
   "cell_type": "code",
   "execution_count": 4,
   "metadata": {},
   "outputs": [],
   "source": [
    "# Filtramos los links de las películas del experimento\n",
    "movies_id = ratings_DF.groupby('movieId').count().index.values\n",
    "movies_links_DF = movies_links_DF[movies_links_DF['movieId'].isin(movies_id)]"
   ]
  },
  {
   "cell_type": "markdown",
   "metadata": {},
   "source": [
    "## Descargar datos\n",
    "\n",
    "Completamos los datos de las películas."
   ]
  },
  {
   "cell_type": "code",
   "execution_count": 5,
   "metadata": {},
   "outputs": [
    {
     "name": "stderr",
     "output_type": "stream",
     "text": [
      "100%|██████████| 300/300 [05:12<00:00,  1.07s/it]\n"
     ]
    }
   ],
   "source": [
    "# Obtenemos la información de las películas\n",
    "movies_info = imdb.get_all_movies_data(movies_links_DF)"
   ]
  },
  {
   "cell_type": "code",
   "execution_count": 6,
   "metadata": {},
   "outputs": [
    {
     "data": {
      "text/html": [
       "<div>\n",
       "<style scoped>\n",
       "    .dataframe tbody tr th:only-of-type {\n",
       "        vertical-align: middle;\n",
       "    }\n",
       "\n",
       "    .dataframe tbody tr th {\n",
       "        vertical-align: top;\n",
       "    }\n",
       "\n",
       "    .dataframe thead th {\n",
       "        text-align: right;\n",
       "    }\n",
       "</style>\n",
       "<table border=\"1\" class=\"dataframe\">\n",
       "  <thead>\n",
       "    <tr style=\"text-align: right;\">\n",
       "      <th></th>\n",
       "      <th>id</th>\n",
       "      <th>title</th>\n",
       "      <th>year</th>\n",
       "      <th>genres</th>\n",
       "      <th>director</th>\n",
       "      <th>stars</th>\n",
       "      <th>writers</th>\n",
       "      <th>companies</th>\n",
       "      <th>keywords</th>\n",
       "    </tr>\n",
       "  </thead>\n",
       "  <tbody>\n",
       "    <tr>\n",
       "      <th>0</th>\n",
       "      <td>1</td>\n",
       "      <td>Toy Story</td>\n",
       "      <td>1995</td>\n",
       "      <td>Animation|Adventure|Fantasy|Comedy|Family</td>\n",
       "      <td>John Lasseter</td>\n",
       "      <td>Don Rickles|Tim Allen|Tom Hanks</td>\n",
       "      <td>John Lasseter|Pete Docter</td>\n",
       "      <td>Pixar Animation Studios|Walt Disney Pictures</td>\n",
       "      <td>claw crane|toy|cowboy|cgi animation|rivalry</td>\n",
       "    </tr>\n",
       "    <tr>\n",
       "      <th>1</th>\n",
       "      <td>2</td>\n",
       "      <td>Jumanji</td>\n",
       "      <td>1995</td>\n",
       "      <td>Adventure|Family|Fantasy</td>\n",
       "      <td>Joe Johnston</td>\n",
       "      <td>Bonnie Hunt|Kirsten Dunst|Robin Williams</td>\n",
       "      <td>Greg Taylor|Jonathan Hensleigh</td>\n",
       "      <td>Interscope Communications|Teitler Film|TriStar...</td>\n",
       "      <td>woodland|lush|board game|board|wood</td>\n",
       "    </tr>\n",
       "    <tr>\n",
       "      <th>2</th>\n",
       "      <td>6</td>\n",
       "      <td>Heat</td>\n",
       "      <td>1995</td>\n",
       "      <td>Crime|Thriller|Drama</td>\n",
       "      <td>Michael Mann</td>\n",
       "      <td>Val Kilmer|Robert De Niro|Al Pacino</td>\n",
       "      <td>Michael Mann</td>\n",
       "      <td>Forward Pass|Warner Bros.|Regency Enterprises</td>\n",
       "      <td>gun battle|child in jeopardy|armored car robbe...</td>\n",
       "    </tr>\n",
       "    <tr>\n",
       "      <th>3</th>\n",
       "      <td>10</td>\n",
       "      <td>GoldenEye</td>\n",
       "      <td>1995</td>\n",
       "      <td>Adventure|Action|Thriller</td>\n",
       "      <td>Martin Campbell</td>\n",
       "      <td>Sean Bean|Pierce Brosnan|Izabella Scorupco</td>\n",
       "      <td>Michael France|Ian Fleming</td>\n",
       "      <td>Eon Productions|United Artists</td>\n",
       "      <td>official james bond series|james bond characte...</td>\n",
       "    </tr>\n",
       "    <tr>\n",
       "      <th>4</th>\n",
       "      <td>11</td>\n",
       "      <td>El presidente y Miss Wade</td>\n",
       "      <td>1995</td>\n",
       "      <td>Romance|Drama|Comedy</td>\n",
       "      <td>Rob Reiner</td>\n",
       "      <td>Martin Sheen|Michael Douglas|Annette Bening</td>\n",
       "      <td>Aaron Sorkin</td>\n",
       "      <td>Universal Pictures|Wildwood Enterprises|Castle...</td>\n",
       "      <td>reference to martin van buren|president|americ...</td>\n",
       "    </tr>\n",
       "  </tbody>\n",
       "</table>\n",
       "</div>"
      ],
      "text/plain": [
       "   id                      title  year  \\\n",
       "0   1                  Toy Story  1995   \n",
       "1   2                    Jumanji  1995   \n",
       "2   6                       Heat  1995   \n",
       "3  10                  GoldenEye  1995   \n",
       "4  11  El presidente y Miss Wade  1995   \n",
       "\n",
       "                                      genres         director  \\\n",
       "0  Animation|Adventure|Fantasy|Comedy|Family    John Lasseter   \n",
       "1                   Adventure|Family|Fantasy     Joe Johnston   \n",
       "2                       Crime|Thriller|Drama     Michael Mann   \n",
       "3                  Adventure|Action|Thriller  Martin Campbell   \n",
       "4                       Romance|Drama|Comedy       Rob Reiner   \n",
       "\n",
       "                                         stars  \\\n",
       "0              Don Rickles|Tim Allen|Tom Hanks   \n",
       "1     Bonnie Hunt|Kirsten Dunst|Robin Williams   \n",
       "2          Val Kilmer|Robert De Niro|Al Pacino   \n",
       "3   Sean Bean|Pierce Brosnan|Izabella Scorupco   \n",
       "4  Martin Sheen|Michael Douglas|Annette Bening   \n",
       "\n",
       "                          writers  \\\n",
       "0       John Lasseter|Pete Docter   \n",
       "1  Greg Taylor|Jonathan Hensleigh   \n",
       "2                    Michael Mann   \n",
       "3      Michael France|Ian Fleming   \n",
       "4                    Aaron Sorkin   \n",
       "\n",
       "                                           companies  \\\n",
       "0       Pixar Animation Studios|Walt Disney Pictures   \n",
       "1  Interscope Communications|Teitler Film|TriStar...   \n",
       "2      Forward Pass|Warner Bros.|Regency Enterprises   \n",
       "3                     Eon Productions|United Artists   \n",
       "4  Universal Pictures|Wildwood Enterprises|Castle...   \n",
       "\n",
       "                                            keywords  \n",
       "0        claw crane|toy|cowboy|cgi animation|rivalry  \n",
       "1                woodland|lush|board game|board|wood  \n",
       "2  gun battle|child in jeopardy|armored car robbe...  \n",
       "3  official james bond series|james bond characte...  \n",
       "4  reference to martin van buren|president|americ...  "
      ]
     },
     "execution_count": 6,
     "metadata": {},
     "output_type": "execute_result"
    }
   ],
   "source": [
    "# Creamos un dataset con la información de las películas\n",
    "movies_DF = pd.DataFrame(movies_info)\n",
    "\n",
    "# Ordenamos las columnas\n",
    "cols = ['id', 'title', 'year', 'genres', 'director', 'stars', 'writers', 'companies', 'keywords']\n",
    "movies_DF = movies_DF[cols]\n",
    "\n",
    "# Las columnas con listas de elementos las convertimos a Strings separados con |\n",
    "def modifyCSV(row, column):\n",
    "    \"\"\"\n",
    "        Formatear texto item1|item2|...\n",
    "    \"\"\"\n",
    "    return '|'.join(row[column])\n",
    "    \n",
    "movies_DF['companies'] = movies_DF.apply (lambda row: modifyCSV(row, 'companies'), axis=1)\n",
    "movies_DF['genres'] = movies_DF.apply (lambda row: modifyCSV(row, 'genres'), axis=1)\n",
    "movies_DF['keywords'] = movies_DF.apply (lambda row: modifyCSV(row, 'keywords'), axis=1)\n",
    "movies_DF['stars'] = movies_DF.apply (lambda row: modifyCSV(row, 'stars'), axis=1)\n",
    "movies_DF['writers'] = movies_DF.apply (lambda row: modifyCSV(row, 'writers'), axis=1)\n",
    "movies_DF.head()"
   ]
  },
  {
   "cell_type": "code",
   "execution_count": 7,
   "metadata": {},
   "outputs": [],
   "source": [
    "# Guardamos el dataframe en CSV\n",
    "movies_DF.to_csv('data/experiment_data/movies.csv', index=False)"
   ]
  },
  {
   "cell_type": "markdown",
   "metadata": {},
   "source": [
    "### Siguiente Notebook\n",
    "\n",
    "Ya tenemos toda la información de las películas del experimento. A continuación, convertiremos la información de las películas en vectores binarios. Para ello, ejecute el notebook `vectores_binarios_peliculas.ipynb`."
   ]
  }
 ],
 "metadata": {
  "kernelspec": {
   "display_name": "Python 3",
   "language": "python",
   "name": "python3"
  },
  "language_info": {
   "codemirror_mode": {
    "name": "ipython",
    "version": 3
   },
   "file_extension": ".py",
   "mimetype": "text/x-python",
   "name": "python",
   "nbconvert_exporter": "python",
   "pygments_lexer": "ipython3",
   "version": "3.7.1"
  }
 },
 "nbformat": 4,
 "nbformat_minor": 2
}
