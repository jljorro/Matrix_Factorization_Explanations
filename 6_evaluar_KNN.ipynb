{
 "cells": [
  {
   "cell_type": "code",
   "execution_count": 1,
   "metadata": {},
   "outputs": [
    {
     "data": {
      "text/html": [
       "<script type=\"text/javascript\">window.PlotlyConfig = {MathJaxConfig: 'local'};</script><script type=\"text/javascript\">if (window.MathJax) {MathJax.Hub.Config({SVG: {font: \"STIX-Web\"}});}</script><script>requirejs.config({paths: { 'plotly': ['https://cdn.plot.ly/plotly-latest.min']},});if(!window._Plotly) {require(['plotly'],function(plotly) {window._Plotly=plotly;});}</script>"
      ],
      "text/vnd.plotly.v1+html": [
       "<script type=\"text/javascript\">window.PlotlyConfig = {MathJaxConfig: 'local'};</script><script type=\"text/javascript\">if (window.MathJax) {MathJax.Hub.Config({SVG: {font: \"STIX-Web\"}});}</script><script>requirejs.config({paths: { 'plotly': ['https://cdn.plot.ly/plotly-latest.min']},});if(!window._Plotly) {require(['plotly'],function(plotly) {window._Plotly=plotly;});}</script>"
      ]
     },
     "metadata": {},
     "output_type": "display_data"
    }
   ],
   "source": [
    "import pandas as pd\n",
    "import numpy as np\n",
    "import KNN.similarities as sim\n",
    "import KNN.utils as utils\n",
    "from tqdm import tqdm\n",
    "\n",
    "from scipy.spatial.distance import pdist, squareform\n",
    "\n",
    "import plotly.plotly as py\n",
    "import plotly.graph_objs as go\n",
    "from plotly.offline import init_notebook_mode, iplot\n",
    "init_notebook_mode(connected=True)"
   ]
  },
  {
   "cell_type": "code",
   "execution_count": 2,
   "metadata": {},
   "outputs": [],
   "source": [
    "trainset_df = pd.read_csv('data/experiment_data/ratings.csv')\n",
    "predicted_df = pd.read_csv('data/experiment_data/predicted_values.csv')\n",
    "\n",
    "users = list(set(predicted_df['userId']))\n",
    "functions = ['jaccard', 'euclidean', 'cosine', 'manhattan']\n",
    "k_list =[1, 2, 3, 5, 10]"
   ]
  },
  {
   "cell_type": "code",
   "execution_count": 3,
   "metadata": {},
   "outputs": [],
   "source": [
    "def error_rating(user, algorithm, k):\n",
    "    #print(user)\n",
    "    # Obtenemos los datos de las películas\n",
    "    train_movies, test_movies = utils.get_train_test_movies(user)\n",
    "    all_movies = utils.get_all_movies(user)\n",
    "    \n",
    "    # Calculamos la matriz filtrada de similitud\n",
    "    if algorithm == 'jaccard':\n",
    "        matrix = pd.read_csv('data/similarity_data/jaccard_matrix.csv')\n",
    "    if algorithm == 'euclidean':\n",
    "        matrix = pd.read_csv('data/similarity_data/sim_euclidean_user_{}.csv'.format(user))\n",
    "    elif algorithm == 'cosine':\n",
    "        matrix = pd.read_csv('data/similarity_data/sim_cosine_user_{}.csv'.format(user))\n",
    "    elif algorithm == 'manhattan':\n",
    "        matrix = pd.read_csv('data/similarity_data/sim_manhattan_user_{}.csv'.format(user))\n",
    "        \n",
    "    filtered_matrix = utils.filter_similarity_matrix(matrix, test_movies, train_movies, all_movies)\n",
    "    return utils.calculate_mean_ratings(filtered_matrix, test_movies, user, k)\n",
    "    "
   ]
  },
  {
   "cell_type": "code",
   "execution_count": 4,
   "metadata": {},
   "outputs": [],
   "source": [
    "def average(errors_list):\n",
    "    return sum(errors_list) / len(errors_list)"
   ]
  },
  {
   "cell_type": "code",
   "execution_count": 5,
   "metadata": {},
   "outputs": [
    {
     "name": "stderr",
     "output_type": "stream",
     "text": [
      "100%|██████████| 4/4 [03:56<00:00, 59.00s/it]\n"
     ]
    }
   ],
   "source": [
    "errorsDF = pd.DataFrame(columns=functions, index=k_list)\n",
    "\n",
    "for f in tqdm(range(len(functions))):\n",
    "    for k in range(len(k_list)):\n",
    "        avg = []\n",
    "        for u in range(len(users)):\n",
    "            avg.append(error_rating(users[u], functions[f], k_list[k]))\n",
    "        errorsDF[functions[f]][k_list[k]] = average(avg)"
   ]
  },
  {
   "cell_type": "code",
   "execution_count": 11,
   "metadata": {},
   "outputs": [
    {
     "data": {
      "text/html": [
       "<div>\n",
       "<style scoped>\n",
       "    .dataframe tbody tr th:only-of-type {\n",
       "        vertical-align: middle;\n",
       "    }\n",
       "\n",
       "    .dataframe tbody tr th {\n",
       "        vertical-align: top;\n",
       "    }\n",
       "\n",
       "    .dataframe thead th {\n",
       "        text-align: right;\n",
       "    }\n",
       "</style>\n",
       "<table border=\"1\" class=\"dataframe\">\n",
       "  <thead>\n",
       "    <tr style=\"text-align: right;\">\n",
       "      <th></th>\n",
       "      <th>1</th>\n",
       "      <th>2</th>\n",
       "      <th>3</th>\n",
       "      <th>5</th>\n",
       "      <th>10</th>\n",
       "    </tr>\n",
       "  </thead>\n",
       "  <tbody>\n",
       "    <tr>\n",
       "      <th>jaccard</th>\n",
       "      <td>0.974077</td>\n",
       "      <td>0.955303</td>\n",
       "      <td>0.954704</td>\n",
       "      <td>0.955156</td>\n",
       "      <td>0.957881</td>\n",
       "    </tr>\n",
       "    <tr>\n",
       "      <th>euclidean</th>\n",
       "      <td>0.969043</td>\n",
       "      <td>0.950406</td>\n",
       "      <td>0.95001</td>\n",
       "      <td>0.953391</td>\n",
       "      <td>0.954848</td>\n",
       "    </tr>\n",
       "    <tr>\n",
       "      <th>cosine</th>\n",
       "      <td>0.924196</td>\n",
       "      <td>0.932247</td>\n",
       "      <td>0.922775</td>\n",
       "      <td>0.937229</td>\n",
       "      <td>0.951491</td>\n",
       "    </tr>\n",
       "    <tr>\n",
       "      <th>manhattan</th>\n",
       "      <td>0.949045</td>\n",
       "      <td>0.961563</td>\n",
       "      <td>0.952259</td>\n",
       "      <td>0.947354</td>\n",
       "      <td>0.947613</td>\n",
       "    </tr>\n",
       "  </tbody>\n",
       "</table>\n",
       "</div>"
      ],
      "text/plain": [
       "                 1         2         3         5         10\n",
       "jaccard    0.974077  0.955303  0.954704  0.955156  0.957881\n",
       "euclidean  0.969043  0.950406   0.95001  0.953391  0.954848\n",
       "cosine     0.924196  0.932247  0.922775  0.937229  0.951491\n",
       "manhattan  0.949045  0.961563  0.952259  0.947354  0.947613"
      ]
     },
     "execution_count": 11,
     "metadata": {},
     "output_type": "execute_result"
    }
   ],
   "source": [
    "errorsDF.transpose()"
   ]
  },
  {
   "cell_type": "code",
   "execution_count": null,
   "metadata": {},
   "outputs": [],
   "source": [
    "predicted_ratings_DF = pd.read_csv('data/experiment_data/predicted_values.csv')\n",
    "predicted_ratings_DF['diff'] = predicted_ratings_DF.apply(lambda row: abs(row['rating'] - row['predicted']), axis=1)\n",
    "predicted_ratings_DF.head()"
   ]
  },
  {
   "cell_type": "code",
   "execution_count": null,
   "metadata": {},
   "outputs": [],
   "source": [
    "print('MAE del NMF:', np.average(predicted_ratings_DF['diff'].values))"
   ]
  },
  {
   "cell_type": "code",
   "execution_count": null,
   "metadata": {},
   "outputs": [],
   "source": [
    "ratings_DF = pd.read_csv('data/experiment_data/ratings.csv')\n",
    "ratings_DF"
   ]
  },
  {
   "cell_type": "code",
   "execution_count": null,
   "metadata": {},
   "outputs": [],
   "source": [
    "ratings_DF.rating.describe()\n"
   ]
  },
  {
   "cell_type": "code",
   "execution_count": null,
   "metadata": {},
   "outputs": [],
   "source": []
  }
 ],
 "metadata": {
  "kernelspec": {
   "display_name": "Python 3",
   "language": "python",
   "name": "python3"
  },
  "language_info": {
   "codemirror_mode": {
    "name": "ipython",
    "version": 3
   },
   "file_extension": ".py",
   "mimetype": "text/x-python",
   "name": "python",
   "nbconvert_exporter": "python",
   "pygments_lexer": "ipython3",
   "version": "3.6.6"
  }
 },
 "nbformat": 4,
 "nbformat_minor": 2
}
