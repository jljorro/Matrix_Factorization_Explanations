{
 "cells": [
  {
   "cell_type": "code",
   "execution_count": 2,
   "metadata": {},
   "outputs": [
    {
     "data": {
      "text/html": [
       "<script type=\"text/javascript\">window.PlotlyConfig = {MathJaxConfig: 'local'};</script><script type=\"text/javascript\">if (window.MathJax) {MathJax.Hub.Config({SVG: {font: \"STIX-Web\"}});}</script><script>requirejs.config({paths: { 'plotly': ['https://cdn.plot.ly/plotly-latest.min']},});if(!window._Plotly) {require(['plotly'],function(plotly) {window._Plotly=plotly;});}</script>"
      ],
      "text/vnd.plotly.v1+html": [
       "<script type=\"text/javascript\">window.PlotlyConfig = {MathJaxConfig: 'local'};</script><script type=\"text/javascript\">if (window.MathJax) {MathJax.Hub.Config({SVG: {font: \"STIX-Web\"}});}</script><script>requirejs.config({paths: { 'plotly': ['https://cdn.plot.ly/plotly-latest.min']},});if(!window._Plotly) {require(['plotly'],function(plotly) {window._Plotly=plotly;});}</script>"
      ]
     },
     "metadata": {},
     "output_type": "display_data"
    }
   ],
   "source": [
    "import pandas as pd\n",
    "import numpy as np\n",
    "import src.similarities as sim\n",
    "import src.utils as utils\n",
    "from tqdm import tqdm\n",
    "\n",
    "from scipy.spatial.distance import pdist, squareform\n",
    "\n",
    "import plotly.plotly as py\n",
    "import plotly.graph_objs as go\n",
    "from plotly.offline import init_notebook_mode, iplot\n",
    "init_notebook_mode(connected=True)"
   ]
  },
  {
   "cell_type": "code",
   "execution_count": 3,
   "metadata": {},
   "outputs": [],
   "source": [
    "trainset_df = pd.read_csv('data/experiment_data/ratings.csv')\n",
    "predicted_df = pd.read_csv('data/experiment_data/predicted_values.csv')#pd.read_csv('data/experiment_data/predicte_values_clean.csv', sep=';')pd.read_csv('data/experiment_data/predicted_values.csv')\n",
    "\n",
    "users = list(set(predicted_df['userId']))\n",
    "functions = ['euclidean', 'cosine', 'manhattan']\n",
    "k_list =[1, 2, 3, 5, 10]"
   ]
  },
  {
   "cell_type": "code",
   "execution_count": 9,
   "metadata": {},
   "outputs": [
    {
     "data": {
      "text/plain": [
       "51.48601398601399"
      ]
     },
     "execution_count": 9,
     "metadata": {},
     "output_type": "execute_result"
    }
   ],
   "source": [
    "len(predicted_df[predicted_df['rating'] >= 4])/len(predicted_df) * 100"
   ]
  },
  {
   "cell_type": "code",
   "execution_count": 66,
   "metadata": {},
   "outputs": [],
   "source": [
    "def error_rating(user, algorithm, k, matrix_type=''):\n",
    "    #print(user)\n",
    "    # Obtenemos los datos de las películas\n",
    "    train_movies, test_movies = utils.get_train_test_movies(user)\n",
    "    all_movies = utils.get_all_movies(user)\n",
    "    \n",
    "    # Calculamos la matriz filtrada de similitud\n",
    "    #if algorithm == 'jaccard':\n",
    "    #    matrix = pd.read_csv('data/similarity_data/jaccard_matrix.csv')\n",
    "    if matrix_type == '':\n",
    "        matrix = pd.read_csv('data/similarity_data/sim_{}_user_{}.csv'.format(algorithm, user))\n",
    "    else:\n",
    "        matrix = pd.read_csv('data/similarity_data/sim_{}_binary.csv'.format(algorithm))\n",
    "        \n",
    "        \n",
    "    filtered_matrix = utils.filter_similarity_matrix(matrix, test_movies, train_movies, all_movies)\n",
    "    return utils.calculate_mean_ratings(filtered_matrix, test_movies, user, k)\n",
    "    "
   ]
  },
  {
   "cell_type": "code",
   "execution_count": 67,
   "metadata": {},
   "outputs": [],
   "source": [
    "def average(errors_list):\n",
    "    return sum(errors_list) / len(errors_list)"
   ]
  },
  {
   "cell_type": "code",
   "execution_count": 68,
   "metadata": {},
   "outputs": [
    {
     "name": "stderr",
     "output_type": "stream",
     "text": [
      "100%|██████████| 3/3 [01:21<00:00, 27.10s/it]\n"
     ]
    }
   ],
   "source": [
    "results = {}\n",
    "for f in tqdm(range(len(functions))):\n",
    "    k_res = pd.Series(index=k_list)\n",
    "    for k in range(len(k_list)):\n",
    "        avg = []\n",
    "        for u in range(len(users)):\n",
    "            avg.append(error_rating(users[u], functions[f], k_list[k]))\n",
    "        k_res[k_list[k]] = average(avg)\n",
    "    key = 'q_u-{}'.format(functions[f])\n",
    "    results[key] = k_res\n",
    "        #errorsDF[functions[f]][k_list[k]] = average(avg)"
   ]
  },
  {
   "cell_type": "code",
   "execution_count": 69,
   "metadata": {},
   "outputs": [
    {
     "data": {
      "text/html": [
       "<div>\n",
       "<style scoped>\n",
       "    .dataframe tbody tr th:only-of-type {\n",
       "        vertical-align: middle;\n",
       "    }\n",
       "\n",
       "    .dataframe tbody tr th {\n",
       "        vertical-align: top;\n",
       "    }\n",
       "\n",
       "    .dataframe thead th {\n",
       "        text-align: right;\n",
       "    }\n",
       "</style>\n",
       "<table border=\"1\" class=\"dataframe\">\n",
       "  <thead>\n",
       "    <tr style=\"text-align: right;\">\n",
       "      <th></th>\n",
       "      <th>1</th>\n",
       "      <th>2</th>\n",
       "      <th>3</th>\n",
       "      <th>5</th>\n",
       "      <th>10</th>\n",
       "    </tr>\n",
       "  </thead>\n",
       "  <tbody>\n",
       "    <tr>\n",
       "      <th>q_u-euclidean</th>\n",
       "      <td>0.926845</td>\n",
       "      <td>1.399975</td>\n",
       "      <td>1.788310</td>\n",
       "      <td>2.351203</td>\n",
       "      <td>3.316588</td>\n",
       "    </tr>\n",
       "    <tr>\n",
       "      <th>q_u-cosine</th>\n",
       "      <td>0.927355</td>\n",
       "      <td>1.410969</td>\n",
       "      <td>1.760868</td>\n",
       "      <td>2.344392</td>\n",
       "      <td>3.298902</td>\n",
       "    </tr>\n",
       "    <tr>\n",
       "      <th>q_u-manhattan</th>\n",
       "      <td>0.957529</td>\n",
       "      <td>1.462547</td>\n",
       "      <td>1.817776</td>\n",
       "      <td>2.364417</td>\n",
       "      <td>3.304225</td>\n",
       "    </tr>\n",
       "  </tbody>\n",
       "</table>\n",
       "</div>"
      ],
      "text/plain": [
       "                     1         2         3         5         10\n",
       "q_u-euclidean  0.926845  1.399975  1.788310  2.351203  3.316588\n",
       "q_u-cosine     0.927355  1.410969  1.760868  2.344392  3.298902\n",
       "q_u-manhattan  0.957529  1.462547  1.817776  2.364417  3.304225"
      ]
     },
     "execution_count": 69,
     "metadata": {},
     "output_type": "execute_result"
    }
   ],
   "source": [
    "results_user_df = pd.DataFrame.from_dict(data=results)\n",
    "results_user_df.transpose()"
   ]
  },
  {
   "cell_type": "code",
   "execution_count": 70,
   "metadata": {},
   "outputs": [
    {
     "name": "stderr",
     "output_type": "stream",
     "text": [
      "100%|██████████| 3/3 [01:20<00:00, 26.86s/it]\n"
     ]
    }
   ],
   "source": [
    "results_binary = {}\n",
    "for f in tqdm(range(len(functions))):\n",
    "    k_res = pd.Series(index=k_list)\n",
    "    for k in range(len(k_list)):\n",
    "        avg = []\n",
    "        for u in range(len(users)):\n",
    "            avg.append(error_rating(users[u], functions[f], k_list[k], matrix_type='binary'))\n",
    "        k_res[k_list[k]] = average(avg)\n",
    "    key = 'binary-{}'.format(functions[f])\n",
    "    results_binary[key] = k_res"
   ]
  },
  {
   "cell_type": "code",
   "execution_count": 71,
   "metadata": {},
   "outputs": [
    {
     "data": {
      "text/html": [
       "<div>\n",
       "<style scoped>\n",
       "    .dataframe tbody tr th:only-of-type {\n",
       "        vertical-align: middle;\n",
       "    }\n",
       "\n",
       "    .dataframe tbody tr th {\n",
       "        vertical-align: top;\n",
       "    }\n",
       "\n",
       "    .dataframe thead th {\n",
       "        text-align: right;\n",
       "    }\n",
       "</style>\n",
       "<table border=\"1\" class=\"dataframe\">\n",
       "  <thead>\n",
       "    <tr style=\"text-align: right;\">\n",
       "      <th></th>\n",
       "      <th>1</th>\n",
       "      <th>2</th>\n",
       "      <th>3</th>\n",
       "      <th>5</th>\n",
       "      <th>10</th>\n",
       "    </tr>\n",
       "  </thead>\n",
       "  <tbody>\n",
       "    <tr>\n",
       "      <th>binary-euclidean</th>\n",
       "      <td>0.913030</td>\n",
       "      <td>1.461876</td>\n",
       "      <td>1.846890</td>\n",
       "      <td>2.409337</td>\n",
       "      <td>3.326028</td>\n",
       "    </tr>\n",
       "    <tr>\n",
       "      <th>binary-cosine</th>\n",
       "      <td>1.047798</td>\n",
       "      <td>1.534817</td>\n",
       "      <td>1.910374</td>\n",
       "      <td>2.462659</td>\n",
       "      <td>3.386887</td>\n",
       "    </tr>\n",
       "    <tr>\n",
       "      <th>binary-manhattan</th>\n",
       "      <td>0.913030</td>\n",
       "      <td>1.461876</td>\n",
       "      <td>1.846890</td>\n",
       "      <td>2.409337</td>\n",
       "      <td>3.326028</td>\n",
       "    </tr>\n",
       "  </tbody>\n",
       "</table>\n",
       "</div>"
      ],
      "text/plain": [
       "                        1         2         3         5         10\n",
       "binary-euclidean  0.913030  1.461876  1.846890  2.409337  3.326028\n",
       "binary-cosine     1.047798  1.534817  1.910374  2.462659  3.386887\n",
       "binary-manhattan  0.913030  1.461876  1.846890  2.409337  3.326028"
      ]
     },
     "execution_count": 71,
     "metadata": {},
     "output_type": "execute_result"
    }
   ],
   "source": [
    "results_binary_df = pd.DataFrame.from_dict(data=results_binary)\n",
    "results_binary_df.transpose()"
   ]
  },
  {
   "cell_type": "code",
   "execution_count": 72,
   "metadata": {},
   "outputs": [],
   "source": [
    "for k,v in results_binary.items():\n",
    "    results[k] = v"
   ]
  },
  {
   "cell_type": "code",
   "execution_count": 73,
   "metadata": {},
   "outputs": [
    {
     "data": {
      "text/html": [
       "<div>\n",
       "<style scoped>\n",
       "    .dataframe tbody tr th:only-of-type {\n",
       "        vertical-align: middle;\n",
       "    }\n",
       "\n",
       "    .dataframe tbody tr th {\n",
       "        vertical-align: top;\n",
       "    }\n",
       "\n",
       "    .dataframe thead th {\n",
       "        text-align: right;\n",
       "    }\n",
       "</style>\n",
       "<table border=\"1\" class=\"dataframe\">\n",
       "  <thead>\n",
       "    <tr style=\"text-align: right;\">\n",
       "      <th></th>\n",
       "      <th>1</th>\n",
       "      <th>2</th>\n",
       "      <th>3</th>\n",
       "      <th>5</th>\n",
       "      <th>10</th>\n",
       "    </tr>\n",
       "  </thead>\n",
       "  <tbody>\n",
       "    <tr>\n",
       "      <th>q_u-euclidean</th>\n",
       "      <td>0.926845</td>\n",
       "      <td>1.399975</td>\n",
       "      <td>1.788310</td>\n",
       "      <td>2.351203</td>\n",
       "      <td>3.316588</td>\n",
       "    </tr>\n",
       "    <tr>\n",
       "      <th>q_u-cosine</th>\n",
       "      <td>0.927355</td>\n",
       "      <td>1.410969</td>\n",
       "      <td>1.760868</td>\n",
       "      <td>2.344392</td>\n",
       "      <td>3.298902</td>\n",
       "    </tr>\n",
       "    <tr>\n",
       "      <th>q_u-manhattan</th>\n",
       "      <td>0.957529</td>\n",
       "      <td>1.462547</td>\n",
       "      <td>1.817776</td>\n",
       "      <td>2.364417</td>\n",
       "      <td>3.304225</td>\n",
       "    </tr>\n",
       "    <tr>\n",
       "      <th>binary-euclidean</th>\n",
       "      <td>0.913030</td>\n",
       "      <td>1.461876</td>\n",
       "      <td>1.846890</td>\n",
       "      <td>2.409337</td>\n",
       "      <td>3.326028</td>\n",
       "    </tr>\n",
       "    <tr>\n",
       "      <th>binary-cosine</th>\n",
       "      <td>1.047798</td>\n",
       "      <td>1.534817</td>\n",
       "      <td>1.910374</td>\n",
       "      <td>2.462659</td>\n",
       "      <td>3.386887</td>\n",
       "    </tr>\n",
       "    <tr>\n",
       "      <th>binary-manhattan</th>\n",
       "      <td>0.913030</td>\n",
       "      <td>1.461876</td>\n",
       "      <td>1.846890</td>\n",
       "      <td>2.409337</td>\n",
       "      <td>3.326028</td>\n",
       "    </tr>\n",
       "  </tbody>\n",
       "</table>\n",
       "</div>"
      ],
      "text/plain": [
       "                        1         2         3         5         10\n",
       "q_u-euclidean     0.926845  1.399975  1.788310  2.351203  3.316588\n",
       "q_u-cosine        0.927355  1.410969  1.760868  2.344392  3.298902\n",
       "q_u-manhattan     0.957529  1.462547  1.817776  2.364417  3.304225\n",
       "binary-euclidean  0.913030  1.461876  1.846890  2.409337  3.326028\n",
       "binary-cosine     1.047798  1.534817  1.910374  2.462659  3.386887\n",
       "binary-manhattan  0.913030  1.461876  1.846890  2.409337  3.326028"
      ]
     },
     "execution_count": 73,
     "metadata": {},
     "output_type": "execute_result"
    }
   ],
   "source": [
    "results_df = pd.DataFrame.from_dict(data=results)\n",
    "results_df.transpose()"
   ]
  },
  {
   "cell_type": "code",
   "execution_count": 74,
   "metadata": {},
   "outputs": [
    {
     "data": {
      "text/html": [
       "<div>\n",
       "<style scoped>\n",
       "    .dataframe tbody tr th:only-of-type {\n",
       "        vertical-align: middle;\n",
       "    }\n",
       "\n",
       "    .dataframe tbody tr th {\n",
       "        vertical-align: top;\n",
       "    }\n",
       "\n",
       "    .dataframe thead th {\n",
       "        text-align: right;\n",
       "    }\n",
       "</style>\n",
       "<table border=\"1\" class=\"dataframe\">\n",
       "  <thead>\n",
       "    <tr style=\"text-align: right;\">\n",
       "      <th></th>\n",
       "      <th>userId</th>\n",
       "      <th>movieId</th>\n",
       "      <th>rating</th>\n",
       "      <th>predicted</th>\n",
       "      <th>diff</th>\n",
       "    </tr>\n",
       "  </thead>\n",
       "  <tbody>\n",
       "    <tr>\n",
       "      <th>0</th>\n",
       "      <td>1</td>\n",
       "      <td>223</td>\n",
       "      <td>3.0</td>\n",
       "      <td>4.042081</td>\n",
       "      <td>1.042081</td>\n",
       "    </tr>\n",
       "    <tr>\n",
       "      <th>1</th>\n",
       "      <td>1</td>\n",
       "      <td>349</td>\n",
       "      <td>4.0</td>\n",
       "      <td>2.726556</td>\n",
       "      <td>1.273444</td>\n",
       "    </tr>\n",
       "    <tr>\n",
       "      <th>2</th>\n",
       "      <td>1</td>\n",
       "      <td>527</td>\n",
       "      <td>5.0</td>\n",
       "      <td>2.743715</td>\n",
       "      <td>2.256285</td>\n",
       "    </tr>\n",
       "    <tr>\n",
       "      <th>3</th>\n",
       "      <td>4</td>\n",
       "      <td>357</td>\n",
       "      <td>3.0</td>\n",
       "      <td>2.737091</td>\n",
       "      <td>0.262909</td>\n",
       "    </tr>\n",
       "    <tr>\n",
       "      <th>4</th>\n",
       "      <td>5</td>\n",
       "      <td>110</td>\n",
       "      <td>4.0</td>\n",
       "      <td>3.492654</td>\n",
       "      <td>0.507346</td>\n",
       "    </tr>\n",
       "  </tbody>\n",
       "</table>\n",
       "</div>"
      ],
      "text/plain": [
       "   userId  movieId  rating  predicted      diff\n",
       "0       1      223     3.0   4.042081  1.042081\n",
       "1       1      349     4.0   2.726556  1.273444\n",
       "2       1      527     5.0   2.743715  2.256285\n",
       "3       4      357     3.0   2.737091  0.262909\n",
       "4       5      110     4.0   3.492654  0.507346"
      ]
     },
     "execution_count": 74,
     "metadata": {},
     "output_type": "execute_result"
    }
   ],
   "source": [
    "predicted_ratings_DF = pd.read_csv('data/experiment_data/predicted_values.csv')\n",
    "predicted_ratings_DF['diff'] = predicted_ratings_DF.apply(lambda row: abs(row['rating'] - row['predicted']), axis=1)\n",
    "predicted_ratings_DF.head()"
   ]
  },
  {
   "cell_type": "code",
   "execution_count": 75,
   "metadata": {},
   "outputs": [
    {
     "data": {
      "text/html": [
       "<div>\n",
       "<style scoped>\n",
       "    .dataframe tbody tr th:only-of-type {\n",
       "        vertical-align: middle;\n",
       "    }\n",
       "\n",
       "    .dataframe tbody tr th {\n",
       "        vertical-align: top;\n",
       "    }\n",
       "\n",
       "    .dataframe thead th {\n",
       "        text-align: right;\n",
       "    }\n",
       "</style>\n",
       "<table border=\"1\" class=\"dataframe\">\n",
       "  <thead>\n",
       "    <tr style=\"text-align: right;\">\n",
       "      <th></th>\n",
       "      <th>q_u-euclidean</th>\n",
       "      <th>q_u-cosine</th>\n",
       "      <th>q_u-manhattan</th>\n",
       "      <th>binary-euclidean</th>\n",
       "      <th>binary-cosine</th>\n",
       "      <th>binary-manhattan</th>\n",
       "    </tr>\n",
       "  </thead>\n",
       "  <tbody>\n",
       "    <tr>\n",
       "      <th>1</th>\n",
       "      <td>0.926845</td>\n",
       "      <td>0.927355</td>\n",
       "      <td>0.957529</td>\n",
       "      <td>0.913030</td>\n",
       "      <td>1.047798</td>\n",
       "      <td>0.913030</td>\n",
       "    </tr>\n",
       "    <tr>\n",
       "      <th>2</th>\n",
       "      <td>1.399975</td>\n",
       "      <td>1.410969</td>\n",
       "      <td>1.462547</td>\n",
       "      <td>1.461876</td>\n",
       "      <td>1.534817</td>\n",
       "      <td>1.461876</td>\n",
       "    </tr>\n",
       "    <tr>\n",
       "      <th>3</th>\n",
       "      <td>1.788310</td>\n",
       "      <td>1.760868</td>\n",
       "      <td>1.817776</td>\n",
       "      <td>1.846890</td>\n",
       "      <td>1.910374</td>\n",
       "      <td>1.846890</td>\n",
       "    </tr>\n",
       "    <tr>\n",
       "      <th>5</th>\n",
       "      <td>2.351203</td>\n",
       "      <td>2.344392</td>\n",
       "      <td>2.364417</td>\n",
       "      <td>2.409337</td>\n",
       "      <td>2.462659</td>\n",
       "      <td>2.409337</td>\n",
       "    </tr>\n",
       "    <tr>\n",
       "      <th>10</th>\n",
       "      <td>3.316588</td>\n",
       "      <td>3.298902</td>\n",
       "      <td>3.304225</td>\n",
       "      <td>3.326028</td>\n",
       "      <td>3.386887</td>\n",
       "      <td>3.326028</td>\n",
       "    </tr>\n",
       "  </tbody>\n",
       "</table>\n",
       "</div>"
      ],
      "text/plain": [
       "    q_u-euclidean  q_u-cosine  q_u-manhattan  binary-euclidean  binary-cosine  \\\n",
       "1        0.926845    0.927355       0.957529          0.913030       1.047798   \n",
       "2        1.399975    1.410969       1.462547          1.461876       1.534817   \n",
       "3        1.788310    1.760868       1.817776          1.846890       1.910374   \n",
       "5        2.351203    2.344392       2.364417          2.409337       2.462659   \n",
       "10       3.316588    3.298902       3.304225          3.326028       3.386887   \n",
       "\n",
       "    binary-manhattan  \n",
       "1           0.913030  \n",
       "2           1.461876  \n",
       "3           1.846890  \n",
       "5           2.409337  \n",
       "10          3.326028  "
      ]
     },
     "execution_count": 75,
     "metadata": {},
     "output_type": "execute_result"
    }
   ],
   "source": [
    "results_df"
   ]
  },
  {
   "cell_type": "code",
   "execution_count": 76,
   "metadata": {},
   "outputs": [],
   "source": [
    "def improvement(row):\n",
    "    return (row['Binary'] - row['Q']) / row['Binary'] * 100 "
   ]
  },
  {
   "cell_type": "code",
   "execution_count": 77,
   "metadata": {},
   "outputs": [
    {
     "data": {
      "text/html": [
       "<div>\n",
       "<style scoped>\n",
       "    .dataframe tbody tr th:only-of-type {\n",
       "        vertical-align: middle;\n",
       "    }\n",
       "\n",
       "    .dataframe tbody tr th {\n",
       "        vertical-align: top;\n",
       "    }\n",
       "\n",
       "    .dataframe thead th {\n",
       "        text-align: right;\n",
       "    }\n",
       "</style>\n",
       "<table border=\"1\" class=\"dataframe\">\n",
       "  <thead>\n",
       "    <tr style=\"text-align: right;\">\n",
       "      <th></th>\n",
       "      <th>Binary</th>\n",
       "      <th>Q</th>\n",
       "      <th>Improvement</th>\n",
       "    </tr>\n",
       "  </thead>\n",
       "  <tbody>\n",
       "    <tr>\n",
       "      <th>1</th>\n",
       "      <td>0.913030</td>\n",
       "      <td>0.926845</td>\n",
       "      <td>-1.513089</td>\n",
       "    </tr>\n",
       "    <tr>\n",
       "      <th>2</th>\n",
       "      <td>1.461876</td>\n",
       "      <td>1.399975</td>\n",
       "      <td>4.234359</td>\n",
       "    </tr>\n",
       "    <tr>\n",
       "      <th>3</th>\n",
       "      <td>1.846890</td>\n",
       "      <td>1.788310</td>\n",
       "      <td>3.171774</td>\n",
       "    </tr>\n",
       "    <tr>\n",
       "      <th>5</th>\n",
       "      <td>2.409337</td>\n",
       "      <td>2.351203</td>\n",
       "      <td>2.412853</td>\n",
       "    </tr>\n",
       "    <tr>\n",
       "      <th>10</th>\n",
       "      <td>3.326028</td>\n",
       "      <td>3.316588</td>\n",
       "      <td>0.283809</td>\n",
       "    </tr>\n",
       "  </tbody>\n",
       "</table>\n",
       "</div>"
      ],
      "text/plain": [
       "      Binary         Q  Improvement\n",
       "1   0.913030  0.926845    -1.513089\n",
       "2   1.461876  1.399975     4.234359\n",
       "3   1.846890  1.788310     3.171774\n",
       "5   2.409337  2.351203     2.412853\n",
       "10  3.326028  3.316588     0.283809"
      ]
     },
     "execution_count": 77,
     "metadata": {},
     "output_type": "execute_result"
    }
   ],
   "source": [
    "euclidean_df = results_df[['binary-euclidean','q_u-euclidean']]\n",
    "euclidean_df = euclidean_df.rename(columns={'binary-euclidean': 'Binary','q_u-euclidean': 'Q'})\n",
    "euclidean_df['Improvement'] = euclidean_df.apply(lambda row: improvement(row), axis = 1)\n",
    "euclidean_df"
   ]
  },
  {
   "cell_type": "code",
   "execution_count": 78,
   "metadata": {},
   "outputs": [
    {
     "data": {
      "text/html": [
       "<div>\n",
       "<style scoped>\n",
       "    .dataframe tbody tr th:only-of-type {\n",
       "        vertical-align: middle;\n",
       "    }\n",
       "\n",
       "    .dataframe tbody tr th {\n",
       "        vertical-align: top;\n",
       "    }\n",
       "\n",
       "    .dataframe thead th {\n",
       "        text-align: right;\n",
       "    }\n",
       "</style>\n",
       "<table border=\"1\" class=\"dataframe\">\n",
       "  <thead>\n",
       "    <tr style=\"text-align: right;\">\n",
       "      <th></th>\n",
       "      <th>Binary</th>\n",
       "      <th>Q</th>\n",
       "      <th>Improvement</th>\n",
       "    </tr>\n",
       "  </thead>\n",
       "  <tbody>\n",
       "    <tr>\n",
       "      <th>1</th>\n",
       "      <td>1.047798</td>\n",
       "      <td>0.927355</td>\n",
       "      <td>11.494913</td>\n",
       "    </tr>\n",
       "    <tr>\n",
       "      <th>2</th>\n",
       "      <td>1.534817</td>\n",
       "      <td>1.410969</td>\n",
       "      <td>8.069247</td>\n",
       "    </tr>\n",
       "    <tr>\n",
       "      <th>3</th>\n",
       "      <td>1.910374</td>\n",
       "      <td>1.760868</td>\n",
       "      <td>7.826009</td>\n",
       "    </tr>\n",
       "    <tr>\n",
       "      <th>5</th>\n",
       "      <td>2.462659</td>\n",
       "      <td>2.344392</td>\n",
       "      <td>4.802418</td>\n",
       "    </tr>\n",
       "    <tr>\n",
       "      <th>10</th>\n",
       "      <td>3.386887</td>\n",
       "      <td>3.298902</td>\n",
       "      <td>2.597824</td>\n",
       "    </tr>\n",
       "  </tbody>\n",
       "</table>\n",
       "</div>"
      ],
      "text/plain": [
       "      Binary         Q  Improvement\n",
       "1   1.047798  0.927355    11.494913\n",
       "2   1.534817  1.410969     8.069247\n",
       "3   1.910374  1.760868     7.826009\n",
       "5   2.462659  2.344392     4.802418\n",
       "10  3.386887  3.298902     2.597824"
      ]
     },
     "execution_count": 78,
     "metadata": {},
     "output_type": "execute_result"
    }
   ],
   "source": [
    "cosine_df = results_df[['binary-cosine','q_u-cosine']]\n",
    "cosine_df = cosine_df.rename(columns={'binary-cosine': 'Binary','q_u-cosine': 'Q'})\n",
    "cosine_df['Improvement'] = cosine_df.apply(lambda row: improvement(row), axis = 1)\n",
    "cosine_df"
   ]
  },
  {
   "cell_type": "code",
   "execution_count": 79,
   "metadata": {},
   "outputs": [
    {
     "data": {
      "text/html": [
       "<div>\n",
       "<style scoped>\n",
       "    .dataframe tbody tr th:only-of-type {\n",
       "        vertical-align: middle;\n",
       "    }\n",
       "\n",
       "    .dataframe tbody tr th {\n",
       "        vertical-align: top;\n",
       "    }\n",
       "\n",
       "    .dataframe thead th {\n",
       "        text-align: right;\n",
       "    }\n",
       "</style>\n",
       "<table border=\"1\" class=\"dataframe\">\n",
       "  <thead>\n",
       "    <tr style=\"text-align: right;\">\n",
       "      <th></th>\n",
       "      <th>Binary</th>\n",
       "      <th>Q</th>\n",
       "      <th>Improvement</th>\n",
       "    </tr>\n",
       "  </thead>\n",
       "  <tbody>\n",
       "    <tr>\n",
       "      <th>1</th>\n",
       "      <td>0.913030</td>\n",
       "      <td>0.957529</td>\n",
       "      <td>-4.873776</td>\n",
       "    </tr>\n",
       "    <tr>\n",
       "      <th>2</th>\n",
       "      <td>1.461876</td>\n",
       "      <td>1.462547</td>\n",
       "      <td>-0.045865</td>\n",
       "    </tr>\n",
       "    <tr>\n",
       "      <th>3</th>\n",
       "      <td>1.846890</td>\n",
       "      <td>1.817776</td>\n",
       "      <td>1.576335</td>\n",
       "    </tr>\n",
       "    <tr>\n",
       "      <th>5</th>\n",
       "      <td>2.409337</td>\n",
       "      <td>2.364417</td>\n",
       "      <td>1.864410</td>\n",
       "    </tr>\n",
       "    <tr>\n",
       "      <th>10</th>\n",
       "      <td>3.326028</td>\n",
       "      <td>3.304225</td>\n",
       "      <td>0.655518</td>\n",
       "    </tr>\n",
       "  </tbody>\n",
       "</table>\n",
       "</div>"
      ],
      "text/plain": [
       "      Binary         Q  Improvement\n",
       "1   0.913030  0.957529    -4.873776\n",
       "2   1.461876  1.462547    -0.045865\n",
       "3   1.846890  1.817776     1.576335\n",
       "5   2.409337  2.364417     1.864410\n",
       "10  3.326028  3.304225     0.655518"
      ]
     },
     "execution_count": 79,
     "metadata": {},
     "output_type": "execute_result"
    }
   ],
   "source": [
    "manhattan_df = results_df[['binary-manhattan','q_u-manhattan']]\n",
    "manhattan_df = manhattan_df.rename(columns={'binary-manhattan': 'Binary','q_u-manhattan': 'Q'})\n",
    "manhattan_df['Improvement'] = manhattan_df.apply(lambda row: improvement(row), axis = 1)\n",
    "manhattan_df"
   ]
  },
  {
   "cell_type": "code",
   "execution_count": null,
   "metadata": {},
   "outputs": [],
   "source": []
  }
 ],
 "metadata": {
  "kernelspec": {
   "display_name": "Python 3",
   "language": "python",
   "name": "python3"
  },
  "language_info": {
   "codemirror_mode": {
    "name": "ipython",
    "version": 3
   },
   "file_extension": ".py",
   "mimetype": "text/x-python",
   "name": "python",
   "nbconvert_exporter": "python",
   "pygments_lexer": "ipython3",
   "version": "3.7.1"
  }
 },
 "nbformat": 4,
 "nbformat_minor": 2
}
