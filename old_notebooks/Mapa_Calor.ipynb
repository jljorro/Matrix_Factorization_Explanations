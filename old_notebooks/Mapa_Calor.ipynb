{
 "cells": [
  {
   "cell_type": "code",
   "execution_count": 2,
   "metadata": {},
   "outputs": [
    {
     "data": {
      "text/html": [
       "<script type=\"text/javascript\">window.PlotlyConfig = {MathJaxConfig: 'local'};</script><script type=\"text/javascript\">if (window.MathJax) {MathJax.Hub.Config({SVG: {font: \"STIX-Web\"}});}</script><script>requirejs.config({paths: { 'plotly': ['https://cdn.plot.ly/plotly-latest.min']},});if(!window._Plotly) {require(['plotly'],function(plotly) {window._Plotly=plotly;});}</script>"
      ],
      "text/vnd.plotly.v1+html": [
       "<script type=\"text/javascript\">window.PlotlyConfig = {MathJaxConfig: 'local'};</script><script type=\"text/javascript\">if (window.MathJax) {MathJax.Hub.Config({SVG: {font: \"STIX-Web\"}});}</script><script>requirejs.config({paths: { 'plotly': ['https://cdn.plot.ly/plotly-latest.min']},});if(!window._Plotly) {require(['plotly'],function(plotly) {window._Plotly=plotly;});}</script>"
      ]
     },
     "metadata": {},
     "output_type": "display_data"
    }
   ],
   "source": [
    "import pandas as pd\n",
    "import numpy as np\n",
    "\n",
    "import plotly.graph_objs as go\n",
    "from plotly.offline import init_notebook_mode, iplot\n",
    "import plotly.io as pio\n",
    "init_notebook_mode(connected=True)"
   ]
  },
  {
   "cell_type": "code",
   "execution_count": 4,
   "metadata": {},
   "outputs": [
    {
     "data": {
      "text/html": [
       "<div>\n",
       "<style scoped>\n",
       "    .dataframe tbody tr th:only-of-type {\n",
       "        vertical-align: middle;\n",
       "    }\n",
       "\n",
       "    .dataframe tbody tr th {\n",
       "        vertical-align: top;\n",
       "    }\n",
       "\n",
       "    .dataframe thead th {\n",
       "        text-align: right;\n",
       "    }\n",
       "</style>\n",
       "<table border=\"1\" class=\"dataframe\">\n",
       "  <thead>\n",
       "    <tr style=\"text-align: right;\">\n",
       "      <th></th>\n",
       "      <th>rating</th>\n",
       "      <th>N</th>\n",
       "      <th>mae_binary_k_1</th>\n",
       "      <th>mae_q_k_1</th>\n",
       "      <th>mae_binary_k_2</th>\n",
       "      <th>mae_q_k_2</th>\n",
       "      <th>mae_binary_k_3</th>\n",
       "      <th>mae_q_k_3</th>\n",
       "      <th>mae_binary_k_5</th>\n",
       "      <th>mae_q_k_5</th>\n",
       "      <th>mae_binary_k_10</th>\n",
       "      <th>mae_q_k_10</th>\n",
       "      <th>improvement_k_1</th>\n",
       "      <th>improvement_k_2</th>\n",
       "      <th>improvement_k_3</th>\n",
       "      <th>improvement_k_5</th>\n",
       "      <th>improvement_k_10</th>\n",
       "    </tr>\n",
       "  </thead>\n",
       "  <tbody>\n",
       "    <tr>\n",
       "      <th>0</th>\n",
       "      <td>0.5</td>\n",
       "      <td>5</td>\n",
       "      <td>1.229655</td>\n",
       "      <td>0.939421</td>\n",
       "      <td>1.424190</td>\n",
       "      <td>0.786274</td>\n",
       "      <td>1.306242</td>\n",
       "      <td>0.898325</td>\n",
       "      <td>1.352256</td>\n",
       "      <td>0.990024</td>\n",
       "      <td>1.312955</td>\n",
       "      <td>1.060333</td>\n",
       "      <td>23.602905</td>\n",
       "      <td>44.791488</td>\n",
       "      <td>31.228238</td>\n",
       "      <td>26.787254</td>\n",
       "      <td>19.240713</td>\n",
       "    </tr>\n",
       "    <tr>\n",
       "      <th>1</th>\n",
       "      <td>1.0</td>\n",
       "      <td>37</td>\n",
       "      <td>1.184412</td>\n",
       "      <td>0.773523</td>\n",
       "      <td>1.082113</td>\n",
       "      <td>0.831696</td>\n",
       "      <td>1.101231</td>\n",
       "      <td>0.853151</td>\n",
       "      <td>1.068323</td>\n",
       "      <td>0.892401</td>\n",
       "      <td>0.994830</td>\n",
       "      <td>0.930619</td>\n",
       "      <td>34.691360</td>\n",
       "      <td>23.141444</td>\n",
       "      <td>22.527590</td>\n",
       "      <td>16.467083</td>\n",
       "      <td>6.454526</td>\n",
       "    </tr>\n",
       "    <tr>\n",
       "      <th>2</th>\n",
       "      <td>1.5</td>\n",
       "      <td>4</td>\n",
       "      <td>1.326741</td>\n",
       "      <td>1.260298</td>\n",
       "      <td>1.384137</td>\n",
       "      <td>0.911693</td>\n",
       "      <td>1.424269</td>\n",
       "      <td>0.840562</td>\n",
       "      <td>1.295816</td>\n",
       "      <td>0.957303</td>\n",
       "      <td>1.122645</td>\n",
       "      <td>0.939636</td>\n",
       "      <td>5.008010</td>\n",
       "      <td>34.132696</td>\n",
       "      <td>40.982926</td>\n",
       "      <td>26.123528</td>\n",
       "      <td>16.301629</td>\n",
       "    </tr>\n",
       "    <tr>\n",
       "      <th>3</th>\n",
       "      <td>2.0</td>\n",
       "      <td>85</td>\n",
       "      <td>1.045612</td>\n",
       "      <td>0.998247</td>\n",
       "      <td>0.995112</td>\n",
       "      <td>1.023104</td>\n",
       "      <td>1.022652</td>\n",
       "      <td>0.982431</td>\n",
       "      <td>0.976702</td>\n",
       "      <td>0.965164</td>\n",
       "      <td>0.978758</td>\n",
       "      <td>0.971593</td>\n",
       "      <td>4.529862</td>\n",
       "      <td>-2.813008</td>\n",
       "      <td>3.932948</td>\n",
       "      <td>1.181281</td>\n",
       "      <td>0.732018</td>\n",
       "    </tr>\n",
       "    <tr>\n",
       "      <th>4</th>\n",
       "      <td>2.5</td>\n",
       "      <td>34</td>\n",
       "      <td>1.093007</td>\n",
       "      <td>0.908937</td>\n",
       "      <td>1.028352</td>\n",
       "      <td>0.945345</td>\n",
       "      <td>1.062582</td>\n",
       "      <td>0.925157</td>\n",
       "      <td>0.984431</td>\n",
       "      <td>0.940490</td>\n",
       "      <td>0.990279</td>\n",
       "      <td>0.923506</td>\n",
       "      <td>16.840727</td>\n",
       "      <td>8.071794</td>\n",
       "      <td>12.933116</td>\n",
       "      <td>4.463589</td>\n",
       "      <td>6.742832</td>\n",
       "    </tr>\n",
       "    <tr>\n",
       "      <th>5</th>\n",
       "      <td>3.0</td>\n",
       "      <td>295</td>\n",
       "      <td>0.989808</td>\n",
       "      <td>0.887151</td>\n",
       "      <td>0.947001</td>\n",
       "      <td>0.873599</td>\n",
       "      <td>0.932599</td>\n",
       "      <td>0.871159</td>\n",
       "      <td>0.937845</td>\n",
       "      <td>0.891133</td>\n",
       "      <td>0.929645</td>\n",
       "      <td>0.892748</td>\n",
       "      <td>10.371358</td>\n",
       "      <td>7.751074</td>\n",
       "      <td>6.588028</td>\n",
       "      <td>4.980723</td>\n",
       "      <td>3.968933</td>\n",
       "    </tr>\n",
       "    <tr>\n",
       "      <th>6</th>\n",
       "      <td>3.5</td>\n",
       "      <td>95</td>\n",
       "      <td>0.838946</td>\n",
       "      <td>0.843756</td>\n",
       "      <td>0.814280</td>\n",
       "      <td>0.808582</td>\n",
       "      <td>0.821094</td>\n",
       "      <td>0.806571</td>\n",
       "      <td>0.858908</td>\n",
       "      <td>0.835744</td>\n",
       "      <td>0.859011</td>\n",
       "      <td>0.840179</td>\n",
       "      <td>-0.573327</td>\n",
       "      <td>0.699760</td>\n",
       "      <td>1.768637</td>\n",
       "      <td>2.696962</td>\n",
       "      <td>2.192261</td>\n",
       "    </tr>\n",
       "    <tr>\n",
       "      <th>7</th>\n",
       "      <td>4.0</td>\n",
       "      <td>304</td>\n",
       "      <td>0.905978</td>\n",
       "      <td>0.879399</td>\n",
       "      <td>0.927009</td>\n",
       "      <td>0.909479</td>\n",
       "      <td>0.912241</td>\n",
       "      <td>0.888916</td>\n",
       "      <td>0.917151</td>\n",
       "      <td>0.901579</td>\n",
       "      <td>0.914550</td>\n",
       "      <td>0.904916</td>\n",
       "      <td>2.933700</td>\n",
       "      <td>1.891080</td>\n",
       "      <td>2.556897</td>\n",
       "      <td>1.697866</td>\n",
       "      <td>1.053395</td>\n",
       "    </tr>\n",
       "    <tr>\n",
       "      <th>8</th>\n",
       "      <td>4.5</td>\n",
       "      <td>66</td>\n",
       "      <td>0.974037</td>\n",
       "      <td>0.944080</td>\n",
       "      <td>1.054315</td>\n",
       "      <td>0.909282</td>\n",
       "      <td>1.016703</td>\n",
       "      <td>0.919035</td>\n",
       "      <td>1.004227</td>\n",
       "      <td>0.959164</td>\n",
       "      <td>0.938284</td>\n",
       "      <td>0.928067</td>\n",
       "      <td>3.075468</td>\n",
       "      <td>13.756143</td>\n",
       "      <td>9.606298</td>\n",
       "      <td>4.487271</td>\n",
       "      <td>1.088828</td>\n",
       "    </tr>\n",
       "    <tr>\n",
       "      <th>9</th>\n",
       "      <td>5.0</td>\n",
       "      <td>219</td>\n",
       "      <td>1.056682</td>\n",
       "      <td>1.027154</td>\n",
       "      <td>1.025270</td>\n",
       "      <td>0.976866</td>\n",
       "      <td>1.024363</td>\n",
       "      <td>0.986811</td>\n",
       "      <td>1.011049</td>\n",
       "      <td>0.969214</td>\n",
       "      <td>1.003700</td>\n",
       "      <td>0.981659</td>\n",
       "      <td>2.794355</td>\n",
       "      <td>4.721154</td>\n",
       "      <td>3.665894</td>\n",
       "      <td>4.137788</td>\n",
       "      <td>2.195979</td>\n",
       "    </tr>\n",
       "  </tbody>\n",
       "</table>\n",
       "</div>"
      ],
      "text/plain": [
       "   rating    N  mae_binary_k_1  mae_q_k_1  mae_binary_k_2  mae_q_k_2  \\\n",
       "0     0.5    5        1.229655   0.939421        1.424190   0.786274   \n",
       "1     1.0   37        1.184412   0.773523        1.082113   0.831696   \n",
       "2     1.5    4        1.326741   1.260298        1.384137   0.911693   \n",
       "3     2.0   85        1.045612   0.998247        0.995112   1.023104   \n",
       "4     2.5   34        1.093007   0.908937        1.028352   0.945345   \n",
       "5     3.0  295        0.989808   0.887151        0.947001   0.873599   \n",
       "6     3.5   95        0.838946   0.843756        0.814280   0.808582   \n",
       "7     4.0  304        0.905978   0.879399        0.927009   0.909479   \n",
       "8     4.5   66        0.974037   0.944080        1.054315   0.909282   \n",
       "9     5.0  219        1.056682   1.027154        1.025270   0.976866   \n",
       "\n",
       "   mae_binary_k_3  mae_q_k_3  mae_binary_k_5  mae_q_k_5  mae_binary_k_10  \\\n",
       "0        1.306242   0.898325        1.352256   0.990024         1.312955   \n",
       "1        1.101231   0.853151        1.068323   0.892401         0.994830   \n",
       "2        1.424269   0.840562        1.295816   0.957303         1.122645   \n",
       "3        1.022652   0.982431        0.976702   0.965164         0.978758   \n",
       "4        1.062582   0.925157        0.984431   0.940490         0.990279   \n",
       "5        0.932599   0.871159        0.937845   0.891133         0.929645   \n",
       "6        0.821094   0.806571        0.858908   0.835744         0.859011   \n",
       "7        0.912241   0.888916        0.917151   0.901579         0.914550   \n",
       "8        1.016703   0.919035        1.004227   0.959164         0.938284   \n",
       "9        1.024363   0.986811        1.011049   0.969214         1.003700   \n",
       "\n",
       "   mae_q_k_10  improvement_k_1  improvement_k_2  improvement_k_3  \\\n",
       "0    1.060333        23.602905        44.791488        31.228238   \n",
       "1    0.930619        34.691360        23.141444        22.527590   \n",
       "2    0.939636         5.008010        34.132696        40.982926   \n",
       "3    0.971593         4.529862        -2.813008         3.932948   \n",
       "4    0.923506        16.840727         8.071794        12.933116   \n",
       "5    0.892748        10.371358         7.751074         6.588028   \n",
       "6    0.840179        -0.573327         0.699760         1.768637   \n",
       "7    0.904916         2.933700         1.891080         2.556897   \n",
       "8    0.928067         3.075468        13.756143         9.606298   \n",
       "9    0.981659         2.794355         4.721154         3.665894   \n",
       "\n",
       "   improvement_k_5  improvement_k_10  \n",
       "0        26.787254         19.240713  \n",
       "1        16.467083          6.454526  \n",
       "2        26.123528         16.301629  \n",
       "3         1.181281          0.732018  \n",
       "4         4.463589          6.742832  \n",
       "5         4.980723          3.968933  \n",
       "6         2.696962          2.192261  \n",
       "7         1.697866          1.053395  \n",
       "8         4.487271          1.088828  \n",
       "9         4.137788          2.195979  "
      ]
     },
     "execution_count": 4,
     "metadata": {},
     "output_type": "execute_result"
    }
   ],
   "source": [
    "todos_df = pd.read_csv('mejora_todos.csv')\n",
    "todos_df"
   ]
  },
  {
   "cell_type": "code",
   "execution_count": 5,
   "metadata": {},
   "outputs": [],
   "source": [
    "todos_df.drop(columns=['mae_binary_k_1', 'mae_q_k_1', 'mae_binary_k_2', 'mae_q_k_2', 'mae_binary_k_3', 'mae_q_k_3', 'mae_binary_k_5', 'mae_q_k_5', 'mae_binary_k_10', 'mae_q_k_10'], inplace=True)"
   ]
  },
  {
   "cell_type": "code",
   "execution_count": 6,
   "metadata": {},
   "outputs": [],
   "source": [
    "todos_df.drop(index=[0, 2], inplace=True)"
   ]
  },
  {
   "cell_type": "code",
   "execution_count": 7,
   "metadata": {},
   "outputs": [
    {
     "data": {
      "text/html": [
       "<div>\n",
       "<style scoped>\n",
       "    .dataframe tbody tr th:only-of-type {\n",
       "        vertical-align: middle;\n",
       "    }\n",
       "\n",
       "    .dataframe tbody tr th {\n",
       "        vertical-align: top;\n",
       "    }\n",
       "\n",
       "    .dataframe thead th {\n",
       "        text-align: right;\n",
       "    }\n",
       "</style>\n",
       "<table border=\"1\" class=\"dataframe\">\n",
       "  <thead>\n",
       "    <tr style=\"text-align: right;\">\n",
       "      <th></th>\n",
       "      <th>rating</th>\n",
       "      <th>N</th>\n",
       "      <th>improvement_k_1</th>\n",
       "      <th>improvement_k_2</th>\n",
       "      <th>improvement_k_3</th>\n",
       "      <th>improvement_k_5</th>\n",
       "      <th>improvement_k_10</th>\n",
       "    </tr>\n",
       "  </thead>\n",
       "  <tbody>\n",
       "    <tr>\n",
       "      <th>1</th>\n",
       "      <td>1.0</td>\n",
       "      <td>37</td>\n",
       "      <td>34.691360</td>\n",
       "      <td>23.141444</td>\n",
       "      <td>22.527590</td>\n",
       "      <td>16.467083</td>\n",
       "      <td>6.454526</td>\n",
       "    </tr>\n",
       "    <tr>\n",
       "      <th>3</th>\n",
       "      <td>2.0</td>\n",
       "      <td>85</td>\n",
       "      <td>4.529862</td>\n",
       "      <td>-2.813008</td>\n",
       "      <td>3.932948</td>\n",
       "      <td>1.181281</td>\n",
       "      <td>0.732018</td>\n",
       "    </tr>\n",
       "    <tr>\n",
       "      <th>4</th>\n",
       "      <td>2.5</td>\n",
       "      <td>34</td>\n",
       "      <td>16.840727</td>\n",
       "      <td>8.071794</td>\n",
       "      <td>12.933116</td>\n",
       "      <td>4.463589</td>\n",
       "      <td>6.742832</td>\n",
       "    </tr>\n",
       "    <tr>\n",
       "      <th>5</th>\n",
       "      <td>3.0</td>\n",
       "      <td>295</td>\n",
       "      <td>10.371358</td>\n",
       "      <td>7.751074</td>\n",
       "      <td>6.588028</td>\n",
       "      <td>4.980723</td>\n",
       "      <td>3.968933</td>\n",
       "    </tr>\n",
       "    <tr>\n",
       "      <th>6</th>\n",
       "      <td>3.5</td>\n",
       "      <td>95</td>\n",
       "      <td>-0.573327</td>\n",
       "      <td>0.699760</td>\n",
       "      <td>1.768637</td>\n",
       "      <td>2.696962</td>\n",
       "      <td>2.192261</td>\n",
       "    </tr>\n",
       "    <tr>\n",
       "      <th>7</th>\n",
       "      <td>4.0</td>\n",
       "      <td>304</td>\n",
       "      <td>2.933700</td>\n",
       "      <td>1.891080</td>\n",
       "      <td>2.556897</td>\n",
       "      <td>1.697866</td>\n",
       "      <td>1.053395</td>\n",
       "    </tr>\n",
       "    <tr>\n",
       "      <th>8</th>\n",
       "      <td>4.5</td>\n",
       "      <td>66</td>\n",
       "      <td>3.075468</td>\n",
       "      <td>13.756143</td>\n",
       "      <td>9.606298</td>\n",
       "      <td>4.487271</td>\n",
       "      <td>1.088828</td>\n",
       "    </tr>\n",
       "    <tr>\n",
       "      <th>9</th>\n",
       "      <td>5.0</td>\n",
       "      <td>219</td>\n",
       "      <td>2.794355</td>\n",
       "      <td>4.721154</td>\n",
       "      <td>3.665894</td>\n",
       "      <td>4.137788</td>\n",
       "      <td>2.195979</td>\n",
       "    </tr>\n",
       "  </tbody>\n",
       "</table>\n",
       "</div>"
      ],
      "text/plain": [
       "   rating    N  improvement_k_1  improvement_k_2  improvement_k_3  \\\n",
       "1     1.0   37        34.691360        23.141444        22.527590   \n",
       "3     2.0   85         4.529862        -2.813008         3.932948   \n",
       "4     2.5   34        16.840727         8.071794        12.933116   \n",
       "5     3.0  295        10.371358         7.751074         6.588028   \n",
       "6     3.5   95        -0.573327         0.699760         1.768637   \n",
       "7     4.0  304         2.933700         1.891080         2.556897   \n",
       "8     4.5   66         3.075468        13.756143         9.606298   \n",
       "9     5.0  219         2.794355         4.721154         3.665894   \n",
       "\n",
       "   improvement_k_5  improvement_k_10  \n",
       "1        16.467083          6.454526  \n",
       "3         1.181281          0.732018  \n",
       "4         4.463589          6.742832  \n",
       "5         4.980723          3.968933  \n",
       "6         2.696962          2.192261  \n",
       "7         1.697866          1.053395  \n",
       "8         4.487271          1.088828  \n",
       "9         4.137788          2.195979  "
      ]
     },
     "execution_count": 7,
     "metadata": {},
     "output_type": "execute_result"
    }
   ],
   "source": [
    "todos_df"
   ]
  },
  {
   "cell_type": "code",
   "execution_count": 98,
   "metadata": {},
   "outputs": [],
   "source": [
    "y_values = todos_df['rating'].values\n",
    "#x_values = [5, 4.5, 4, 3.5, 3, 2.5, 2, 1]\n",
    "x_values = todos_df.columns.values[2:]#['K=1', 'K=2', 'K=3', 'K=5', 'K=10']#"
   ]
  },
  {
   "cell_type": "code",
   "execution_count": 99,
   "metadata": {},
   "outputs": [],
   "source": [
    "z_values = todos_df[x_values].values\n",
    "x_values = ['K=1', 'K=2', 'K=3', 'K=5', 'K=10']"
   ]
  },
  {
   "cell_type": "code",
   "execution_count": 111,
   "metadata": {},
   "outputs": [],
   "source": [
    "annotations = []\n",
    "\n",
    "for i in range(len(x_values)):\n",
    "    for j in range(len(y_values)):\n",
    "        \n",
    "        color = 'rgb(0,0,0)'\n",
    "        if z_values[j][i] > 25:\n",
    "            color='rgb(255,255,255)'\n",
    "\n",
    "        annotations.append(\n",
    "            dict(\n",
    "                xref = 'x',\n",
    "                yref = 'y',\n",
    "                x = i,\n",
    "                y = y_values[j],\n",
    "                text=str(round(z_values[j][i], 2)),\n",
    "                showarrow=False,\n",
    "                ax=0,\n",
    "                ay=0,\n",
    "                font=dict(\n",
    "                    size=14,\n",
    "                    color = color\n",
    "                )\n",
    "            )\n",
    "        )"
   ]
  },
  {
   "cell_type": "code",
   "execution_count": 112,
   "metadata": {},
   "outputs": [
    {
     "data": {
      "application/vnd.plotly.v1+json": {
       "config": {
        "linkText": "Export to plot.ly",
        "plotlyServerURL": "https://plot.ly",
        "showLink": false
       },
       "data": [
        {
         "colorbar": {
          "tickfont": {
           "size": 14
          },
          "ticksuffix": "%"
         },
         "colorscale": [
          [
           0,
           "rgb(254,198,186)"
          ],
          [
           0.059,
           "rgb(255,255,255)"
          ],
          [
           1,
           "rgb(31, 119, 180)"
          ]
         ],
         "type": "heatmap",
         "uid": "61a15e76-8240-49aa-9771-2b12edbd9f95",
         "x": [
          "K=1",
          "K=2",
          "K=3",
          "K=5",
          "K=10"
         ],
         "y": [
          1,
          2,
          2.5,
          3,
          3.5,
          4,
          4.5,
          5
         ],
         "z": [
          [
           34.691359947186584,
           23.141443675843558,
           22.52759046283154,
           16.467082891105846,
           6.454526095028522
          ],
          [
           4.529861902200548,
           -2.8130078433979784,
           3.9329476479521017,
           1.1812805717262105,
           0.7320175857329763
          ],
          [
           16.84072718449507,
           8.071793762529584,
           12.933115516301772,
           4.463589398106053,
           6.742832003654151
          ],
          [
           10.371358269359485,
           7.7510739971886515,
           6.588027701003868,
           4.980723228157261,
           3.968933046238978
          ],
          [
           -0.5733269191306866,
           0.6997603036423706,
           1.7686367335657778,
           2.696961506344153,
           2.1922611268606493
          ],
          [
           2.933700037376169,
           1.891080223468411,
           2.5568966067360903,
           1.6978662085959593,
           1.0533947742148542
          ],
          [
           3.0754680278488187,
           13.75614266635068,
           9.606297524231977,
           4.487271321852882,
           1.0888275284620648
          ],
          [
           2.7943548892075896,
           4.72115404277217,
           3.665894236331032,
           4.13778803301584,
           2.195978533025352
          ]
         ]
        }
       ],
       "layout": {
        "annotations": [
         {
          "ax": 0,
          "ay": 0,
          "font": {
           "color": "rgb(255,255,255)",
           "size": 14
          },
          "showarrow": false,
          "text": "34.69",
          "x": 0,
          "xref": "x",
          "y": 1,
          "yref": "y"
         },
         {
          "ax": 0,
          "ay": 0,
          "font": {
           "color": "rgb(0, 0, 0)",
           "size": 14
          },
          "showarrow": false,
          "text": "4.53",
          "x": 0,
          "xref": "x",
          "y": 2,
          "yref": "y"
         },
         {
          "ax": 0,
          "ay": 0,
          "font": {
           "color": "rgb(0, 0, 0)",
           "size": 14
          },
          "showarrow": false,
          "text": "16.84",
          "x": 0,
          "xref": "x",
          "y": 2.5,
          "yref": "y"
         },
         {
          "ax": 0,
          "ay": 0,
          "font": {
           "color": "rgb(0, 0, 0)",
           "size": 14
          },
          "showarrow": false,
          "text": "10.37",
          "x": 0,
          "xref": "x",
          "y": 3,
          "yref": "y"
         },
         {
          "ax": 0,
          "ay": 0,
          "font": {
           "color": "rgb(0, 0, 0)",
           "size": 14
          },
          "showarrow": false,
          "text": "-0.57",
          "x": 0,
          "xref": "x",
          "y": 3.5,
          "yref": "y"
         },
         {
          "ax": 0,
          "ay": 0,
          "font": {
           "color": "rgb(0, 0, 0)",
           "size": 14
          },
          "showarrow": false,
          "text": "2.93",
          "x": 0,
          "xref": "x",
          "y": 4,
          "yref": "y"
         },
         {
          "ax": 0,
          "ay": 0,
          "font": {
           "color": "rgb(0, 0, 0)",
           "size": 14
          },
          "showarrow": false,
          "text": "3.08",
          "x": 0,
          "xref": "x",
          "y": 4.5,
          "yref": "y"
         },
         {
          "ax": 0,
          "ay": 0,
          "font": {
           "color": "rgb(0, 0, 0)",
           "size": 14
          },
          "showarrow": false,
          "text": "2.79",
          "x": 0,
          "xref": "x",
          "y": 5,
          "yref": "y"
         },
         {
          "ax": 0,
          "ay": 0,
          "font": {
           "color": "rgb(0, 0, 0)",
           "size": 14
          },
          "showarrow": false,
          "text": "23.14",
          "x": 1,
          "xref": "x",
          "y": 1,
          "yref": "y"
         },
         {
          "ax": 0,
          "ay": 0,
          "font": {
           "color": "rgb(0, 0, 0)",
           "size": 14
          },
          "showarrow": false,
          "text": "-2.81",
          "x": 1,
          "xref": "x",
          "y": 2,
          "yref": "y"
         },
         {
          "ax": 0,
          "ay": 0,
          "font": {
           "color": "rgb(0, 0, 0)",
           "size": 14
          },
          "showarrow": false,
          "text": "8.07",
          "x": 1,
          "xref": "x",
          "y": 2.5,
          "yref": "y"
         },
         {
          "ax": 0,
          "ay": 0,
          "font": {
           "color": "rgb(0, 0, 0)",
           "size": 14
          },
          "showarrow": false,
          "text": "7.75",
          "x": 1,
          "xref": "x",
          "y": 3,
          "yref": "y"
         },
         {
          "ax": 0,
          "ay": 0,
          "font": {
           "color": "rgb(0, 0, 0)",
           "size": 14
          },
          "showarrow": false,
          "text": "0.7",
          "x": 1,
          "xref": "x",
          "y": 3.5,
          "yref": "y"
         },
         {
          "ax": 0,
          "ay": 0,
          "font": {
           "color": "rgb(0, 0, 0)",
           "size": 14
          },
          "showarrow": false,
          "text": "1.89",
          "x": 1,
          "xref": "x",
          "y": 4,
          "yref": "y"
         },
         {
          "ax": 0,
          "ay": 0,
          "font": {
           "color": "rgb(0, 0, 0)",
           "size": 14
          },
          "showarrow": false,
          "text": "13.76",
          "x": 1,
          "xref": "x",
          "y": 4.5,
          "yref": "y"
         },
         {
          "ax": 0,
          "ay": 0,
          "font": {
           "color": "rgb(0, 0, 0)",
           "size": 14
          },
          "showarrow": false,
          "text": "4.72",
          "x": 1,
          "xref": "x",
          "y": 5,
          "yref": "y"
         },
         {
          "ax": 0,
          "ay": 0,
          "font": {
           "color": "rgb(0, 0, 0)",
           "size": 14
          },
          "showarrow": false,
          "text": "22.53",
          "x": 2,
          "xref": "x",
          "y": 1,
          "yref": "y"
         },
         {
          "ax": 0,
          "ay": 0,
          "font": {
           "color": "rgb(0, 0, 0)",
           "size": 14
          },
          "showarrow": false,
          "text": "3.93",
          "x": 2,
          "xref": "x",
          "y": 2,
          "yref": "y"
         },
         {
          "ax": 0,
          "ay": 0,
          "font": {
           "color": "rgb(0, 0, 0)",
           "size": 14
          },
          "showarrow": false,
          "text": "12.93",
          "x": 2,
          "xref": "x",
          "y": 2.5,
          "yref": "y"
         },
         {
          "ax": 0,
          "ay": 0,
          "font": {
           "color": "rgb(0, 0, 0)",
           "size": 14
          },
          "showarrow": false,
          "text": "6.59",
          "x": 2,
          "xref": "x",
          "y": 3,
          "yref": "y"
         },
         {
          "ax": 0,
          "ay": 0,
          "font": {
           "color": "rgb(0, 0, 0)",
           "size": 14
          },
          "showarrow": false,
          "text": "1.77",
          "x": 2,
          "xref": "x",
          "y": 3.5,
          "yref": "y"
         },
         {
          "ax": 0,
          "ay": 0,
          "font": {
           "color": "rgb(0, 0, 0)",
           "size": 14
          },
          "showarrow": false,
          "text": "2.56",
          "x": 2,
          "xref": "x",
          "y": 4,
          "yref": "y"
         },
         {
          "ax": 0,
          "ay": 0,
          "font": {
           "color": "rgb(0, 0, 0)",
           "size": 14
          },
          "showarrow": false,
          "text": "9.61",
          "x": 2,
          "xref": "x",
          "y": 4.5,
          "yref": "y"
         },
         {
          "ax": 0,
          "ay": 0,
          "font": {
           "color": "rgb(0, 0, 0)",
           "size": 14
          },
          "showarrow": false,
          "text": "3.67",
          "x": 2,
          "xref": "x",
          "y": 5,
          "yref": "y"
         },
         {
          "ax": 0,
          "ay": 0,
          "font": {
           "color": "rgb(0, 0, 0)",
           "size": 14
          },
          "showarrow": false,
          "text": "16.47",
          "x": 3,
          "xref": "x",
          "y": 1,
          "yref": "y"
         },
         {
          "ax": 0,
          "ay": 0,
          "font": {
           "color": "rgb(0, 0, 0)",
           "size": 14
          },
          "showarrow": false,
          "text": "1.18",
          "x": 3,
          "xref": "x",
          "y": 2,
          "yref": "y"
         },
         {
          "ax": 0,
          "ay": 0,
          "font": {
           "color": "rgb(0, 0, 0)",
           "size": 14
          },
          "showarrow": false,
          "text": "4.46",
          "x": 3,
          "xref": "x",
          "y": 2.5,
          "yref": "y"
         },
         {
          "ax": 0,
          "ay": 0,
          "font": {
           "color": "rgb(0, 0, 0)",
           "size": 14
          },
          "showarrow": false,
          "text": "4.98",
          "x": 3,
          "xref": "x",
          "y": 3,
          "yref": "y"
         },
         {
          "ax": 0,
          "ay": 0,
          "font": {
           "color": "rgb(0, 0, 0)",
           "size": 14
          },
          "showarrow": false,
          "text": "2.7",
          "x": 3,
          "xref": "x",
          "y": 3.5,
          "yref": "y"
         },
         {
          "ax": 0,
          "ay": 0,
          "font": {
           "color": "rgb(0, 0, 0)",
           "size": 14
          },
          "showarrow": false,
          "text": "1.7",
          "x": 3,
          "xref": "x",
          "y": 4,
          "yref": "y"
         },
         {
          "ax": 0,
          "ay": 0,
          "font": {
           "color": "rgb(0, 0, 0)",
           "size": 14
          },
          "showarrow": false,
          "text": "4.49",
          "x": 3,
          "xref": "x",
          "y": 4.5,
          "yref": "y"
         },
         {
          "ax": 0,
          "ay": 0,
          "font": {
           "color": "rgb(0, 0, 0)",
           "size": 14
          },
          "showarrow": false,
          "text": "4.14",
          "x": 3,
          "xref": "x",
          "y": 5,
          "yref": "y"
         },
         {
          "ax": 0,
          "ay": 0,
          "font": {
           "color": "rgb(0, 0, 0)",
           "size": 14
          },
          "showarrow": false,
          "text": "6.45",
          "x": 4,
          "xref": "x",
          "y": 1,
          "yref": "y"
         },
         {
          "ax": 0,
          "ay": 0,
          "font": {
           "color": "rgb(0, 0, 0)",
           "size": 14
          },
          "showarrow": false,
          "text": "0.73",
          "x": 4,
          "xref": "x",
          "y": 2,
          "yref": "y"
         },
         {
          "ax": 0,
          "ay": 0,
          "font": {
           "color": "rgb(0, 0, 0)",
           "size": 14
          },
          "showarrow": false,
          "text": "6.74",
          "x": 4,
          "xref": "x",
          "y": 2.5,
          "yref": "y"
         },
         {
          "ax": 0,
          "ay": 0,
          "font": {
           "color": "rgb(0, 0, 0)",
           "size": 14
          },
          "showarrow": false,
          "text": "3.97",
          "x": 4,
          "xref": "x",
          "y": 3,
          "yref": "y"
         },
         {
          "ax": 0,
          "ay": 0,
          "font": {
           "color": "rgb(0, 0, 0)",
           "size": 14
          },
          "showarrow": false,
          "text": "2.19",
          "x": 4,
          "xref": "x",
          "y": 3.5,
          "yref": "y"
         },
         {
          "ax": 0,
          "ay": 0,
          "font": {
           "color": "rgb(0, 0, 0)",
           "size": 14
          },
          "showarrow": false,
          "text": "1.05",
          "x": 4,
          "xref": "x",
          "y": 4,
          "yref": "y"
         },
         {
          "ax": 0,
          "ay": 0,
          "font": {
           "color": "rgb(0, 0, 0)",
           "size": 14
          },
          "showarrow": false,
          "text": "1.09",
          "x": 4,
          "xref": "x",
          "y": 4.5,
          "yref": "y"
         },
         {
          "ax": 0,
          "ay": 0,
          "font": {
           "color": "rgb(0, 0, 0)",
           "size": 14
          },
          "showarrow": false,
          "text": "2.2",
          "x": 4,
          "xref": "x",
          "y": 5,
          "yref": "y"
         }
        ],
        "autosize": false,
        "height": 700,
        "width": 700,
        "xaxis": {
         "autorange": true,
         "range": [
          -0.5,
          4.5
         ],
         "tickfont": {
          "size": 14
         },
         "title": {
          "font": {
           "size": 18
          },
          "text": "Num. Retrieved Cases"
         },
         "type": "category"
        },
        "yaxis": {
         "autorange": true,
         "range": [
          -0.5,
          7.5
         ],
         "tickfont": {
          "size": 14
         },
         "title": {
          "font": {
           "size": 18
          },
          "text": "Ratings"
         },
         "type": "category"
        }
       }
      },
      "image/png": "[encoded data removed]",
      "text/html": [
       "<div id=\"92848f97-e0b4-44a3-b750-4f63dfdf2ff7\" style=\"height: 700px; width: 700px;\" class=\"plotly-graph-div\"></div><script type=\"text/javascript\">require([\"plotly\"], function(Plotly) { window.PLOTLYENV=window.PLOTLYENV || {};window.PLOTLYENV.BASE_URL=\"https://plot.ly\";Plotly.newPlot(\"92848f97-e0b4-44a3-b750-4f63dfdf2ff7\", [{\"colorbar\": {\"tickfont\": {\"size\": 14}, \"ticksuffix\": \"%\"}, \"colorscale\": [[0.0, \"rgb(254,198,186)\"], [0.059, \"rgb(255,255,255)\"], [1.0, \"rgb(31, 119, 180)\"]], \"x\": [\"K=1\", \"K=2\", \"K=3\", \"K=5\", \"K=10\"], \"y\": [1.0, 2.0, 2.5, 3.0, 3.5, 4.0, 4.5, 5.0], \"z\": [[34.691359947186584, 23.141443675843558, 22.52759046283154, 16.467082891105846, 6.454526095028522], [4.529861902200548, -2.8130078433979784, 3.9329476479521017, 1.1812805717262105, 0.7320175857329763], [16.84072718449507, 8.071793762529584, 12.933115516301772, 4.463589398106053, 6.742832003654151], [10.371358269359485, 7.7510739971886515, 6.588027701003868, 4.980723228157261, 3.968933046238978], [-0.5733269191306866, 0.6997603036423706, 1.7686367335657778, 2.696961506344153, 2.1922611268606493], [2.933700037376169, 1.891080223468411, 2.5568966067360903, 1.6978662085959593, 1.0533947742148542], [3.0754680278488187, 13.75614266635068, 9.606297524231977, 4.487271321852882, 1.0888275284620648], [2.7943548892075896, 4.72115404277217, 3.665894236331032, 4.13778803301584, 2.195978533025352]], \"type\": \"heatmap\", \"uid\": \"61a15e76-8240-49aa-9771-2b12edbd9f95\"}], {\"annotations\": [{\"ax\": 0, \"ay\": 0, \"font\": {\"color\": \"rgb(255,255,255)\", \"size\": 14}, \"showarrow\": false, \"text\": \"34.69\", \"x\": 0, \"xref\": \"x\", \"y\": 1.0, \"yref\": \"y\"}, {\"ax\": 0, \"ay\": 0, \"font\": {\"color\": \"rgb(0,0,0)\", \"size\": 14}, \"showarrow\": false, \"text\": \"4.53\", \"x\": 0, \"xref\": \"x\", \"y\": 2.0, \"yref\": \"y\"}, {\"ax\": 0, \"ay\": 0, \"font\": {\"color\": \"rgb(0,0,0)\", \"size\": 14}, \"showarrow\": false, \"text\": \"16.84\", \"x\": 0, \"xref\": \"x\", \"y\": 2.5, \"yref\": \"y\"}, {\"ax\": 0, \"ay\": 0, \"font\": {\"color\": \"rgb(0,0,0)\", \"size\": 14}, \"showarrow\": false, \"text\": \"10.37\", \"x\": 0, \"xref\": \"x\", \"y\": 3.0, \"yref\": \"y\"}, {\"ax\": 0, \"ay\": 0, \"font\": {\"color\": \"rgb(0,0,0)\", \"size\": 14}, \"showarrow\": false, \"text\": \"-0.57\", \"x\": 0, \"xref\": \"x\", \"y\": 3.5, \"yref\": \"y\"}, {\"ax\": 0, \"ay\": 0, \"font\": {\"color\": \"rgb(0,0,0)\", \"size\": 14}, \"showarrow\": false, \"text\": \"2.93\", \"x\": 0, \"xref\": \"x\", \"y\": 4.0, \"yref\": \"y\"}, {\"ax\": 0, \"ay\": 0, \"font\": {\"color\": \"rgb(0,0,0)\", \"size\": 14}, \"showarrow\": false, \"text\": \"3.08\", \"x\": 0, \"xref\": \"x\", \"y\": 4.5, \"yref\": \"y\"}, {\"ax\": 0, \"ay\": 0, \"font\": {\"color\": \"rgb(0,0,0)\", \"size\": 14}, \"showarrow\": false, \"text\": \"2.79\", \"x\": 0, \"xref\": \"x\", \"y\": 5.0, \"yref\": \"y\"}, {\"ax\": 0, \"ay\": 0, \"font\": {\"color\": \"rgb(0,0,0)\", \"size\": 14}, \"showarrow\": false, \"text\": \"23.14\", \"x\": 1, \"xref\": \"x\", \"y\": 1.0, \"yref\": \"y\"}, {\"ax\": 0, \"ay\": 0, \"font\": {\"color\": \"rgb(0,0,0)\", \"size\": 14}, \"showarrow\": false, \"text\": \"-2.81\", \"x\": 1, \"xref\": \"x\", \"y\": 2.0, \"yref\": \"y\"}, {\"ax\": 0, \"ay\": 0, \"font\": {\"color\": \"rgb(0,0,0)\", \"size\": 14}, \"showarrow\": false, \"text\": \"8.07\", \"x\": 1, \"xref\": \"x\", \"y\": 2.5, \"yref\": \"y\"}, {\"ax\": 0, \"ay\": 0, \"font\": {\"color\": \"rgb(0,0,0)\", \"size\": 14}, \"showarrow\": false, \"text\": \"7.75\", \"x\": 1, \"xref\": \"x\", \"y\": 3.0, \"yref\": \"y\"}, {\"ax\": 0, \"ay\": 0, \"font\": {\"color\": \"rgb(0,0,0)\", \"size\": 14}, \"showarrow\": false, \"text\": \"0.7\", \"x\": 1, \"xref\": \"x\", \"y\": 3.5, \"yref\": \"y\"}, {\"ax\": 0, \"ay\": 0, \"font\": {\"color\": \"rgb(0,0,0)\", \"size\": 14}, \"showarrow\": false, \"text\": \"1.89\", \"x\": 1, \"xref\": \"x\", \"y\": 4.0, \"yref\": \"y\"}, {\"ax\": 0, \"ay\": 0, \"font\": {\"color\": \"rgb(0,0,0)\", \"size\": 14}, \"showarrow\": false, \"text\": \"13.76\", \"x\": 1, \"xref\": \"x\", \"y\": 4.5, \"yref\": \"y\"}, {\"ax\": 0, \"ay\": 0, \"font\": {\"color\": \"rgb(0,0,0)\", \"size\": 14}, \"showarrow\": false, \"text\": \"4.72\", \"x\": 1, \"xref\": \"x\", \"y\": 5.0, \"yref\": \"y\"}, {\"ax\": 0, \"ay\": 0, \"font\": {\"color\": \"rgb(0,0,0)\", \"size\": 14}, \"showarrow\": false, \"text\": \"22.53\", \"x\": 2, \"xref\": \"x\", \"y\": 1.0, \"yref\": \"y\"}, {\"ax\": 0, \"ay\": 0, \"font\": {\"color\": \"rgb(0,0,0)\", \"size\": 14}, \"showarrow\": false, \"text\": \"3.93\", \"x\": 2, \"xref\": \"x\", \"y\": 2.0, \"yref\": \"y\"}, {\"ax\": 0, \"ay\": 0, \"font\": {\"color\": \"rgb(0,0,0)\", \"size\": 14}, \"showarrow\": false, \"text\": \"12.93\", \"x\": 2, \"xref\": \"x\", \"y\": 2.5, \"yref\": \"y\"}, {\"ax\": 0, \"ay\": 0, \"font\": {\"color\": \"rgb(0,0,0)\", \"size\": 14}, \"showarrow\": false, \"text\": \"6.59\", \"x\": 2, \"xref\": \"x\", \"y\": 3.0, \"yref\": \"y\"}, {\"ax\": 0, \"ay\": 0, \"font\": {\"color\": \"rgb(0,0,0)\", \"size\": 14}, \"showarrow\": false, \"text\": \"1.77\", \"x\": 2, \"xref\": \"x\", \"y\": 3.5, \"yref\": \"y\"}, {\"ax\": 0, \"ay\": 0, \"font\": {\"color\": \"rgb(0,0,0)\", \"size\": 14}, \"showarrow\": false, \"text\": \"2.56\", \"x\": 2, \"xref\": \"x\", \"y\": 4.0, \"yref\": \"y\"}, {\"ax\": 0, \"ay\": 0, \"font\": {\"color\": \"rgb(0,0,0)\", \"size\": 14}, \"showarrow\": false, \"text\": \"9.61\", \"x\": 2, \"xref\": \"x\", \"y\": 4.5, \"yref\": \"y\"}, {\"ax\": 0, \"ay\": 0, \"font\": {\"color\": \"rgb(0,0,0)\", \"size\": 14}, \"showarrow\": false, \"text\": \"3.67\", \"x\": 2, \"xref\": \"x\", \"y\": 5.0, \"yref\": \"y\"}, {\"ax\": 0, \"ay\": 0, \"font\": {\"color\": \"rgb(0,0,0)\", \"size\": 14}, \"showarrow\": false, \"text\": \"16.47\", \"x\": 3, \"xref\": \"x\", \"y\": 1.0, \"yref\": \"y\"}, {\"ax\": 0, \"ay\": 0, \"font\": {\"color\": \"rgb(0,0,0)\", \"size\": 14}, \"showarrow\": false, \"text\": \"1.18\", \"x\": 3, \"xref\": \"x\", \"y\": 2.0, \"yref\": \"y\"}, {\"ax\": 0, \"ay\": 0, \"font\": {\"color\": \"rgb(0,0,0)\", \"size\": 14}, \"showarrow\": false, \"text\": \"4.46\", \"x\": 3, \"xref\": \"x\", \"y\": 2.5, \"yref\": \"y\"}, {\"ax\": 0, \"ay\": 0, \"font\": {\"color\": \"rgb(0,0,0)\", \"size\": 14}, \"showarrow\": false, \"text\": \"4.98\", \"x\": 3, \"xref\": \"x\", \"y\": 3.0, \"yref\": \"y\"}, {\"ax\": 0, \"ay\": 0, \"font\": {\"color\": \"rgb(0,0,0)\", \"size\": 14}, \"showarrow\": false, \"text\": \"2.7\", \"x\": 3, \"xref\": \"x\", \"y\": 3.5, \"yref\": \"y\"}, {\"ax\": 0, \"ay\": 0, \"font\": {\"color\": \"rgb(0,0,0)\", \"size\": 14}, \"showarrow\": false, \"text\": \"1.7\", \"x\": 3, \"xref\": \"x\", \"y\": 4.0, \"yref\": \"y\"}, {\"ax\": 0, \"ay\": 0, \"font\": {\"color\": \"rgb(0,0,0)\", \"size\": 14}, \"showarrow\": false, \"text\": \"4.49\", \"x\": 3, \"xref\": \"x\", \"y\": 4.5, \"yref\": \"y\"}, {\"ax\": 0, \"ay\": 0, \"font\": {\"color\": \"rgb(0,0,0)\", \"size\": 14}, \"showarrow\": false, \"text\": \"4.14\", \"x\": 3, \"xref\": \"x\", \"y\": 5.0, \"yref\": \"y\"}, {\"ax\": 0, \"ay\": 0, \"font\": {\"color\": \"rgb(0,0,0)\", \"size\": 14}, \"showarrow\": false, \"text\": \"6.45\", \"x\": 4, \"xref\": \"x\", \"y\": 1.0, \"yref\": \"y\"}, {\"ax\": 0, \"ay\": 0, \"font\": {\"color\": \"rgb(0,0,0)\", \"size\": 14}, \"showarrow\": false, \"text\": \"0.73\", \"x\": 4, \"xref\": \"x\", \"y\": 2.0, \"yref\": \"y\"}, {\"ax\": 0, \"ay\": 0, \"font\": {\"color\": \"rgb(0,0,0)\", \"size\": 14}, \"showarrow\": false, \"text\": \"6.74\", \"x\": 4, \"xref\": \"x\", \"y\": 2.5, \"yref\": \"y\"}, {\"ax\": 0, \"ay\": 0, \"font\": {\"color\": \"rgb(0,0,0)\", \"size\": 14}, \"showarrow\": false, \"text\": \"3.97\", \"x\": 4, \"xref\": \"x\", \"y\": 3.0, \"yref\": \"y\"}, {\"ax\": 0, \"ay\": 0, \"font\": {\"color\": \"rgb(0,0,0)\", \"size\": 14}, \"showarrow\": false, \"text\": \"2.19\", \"x\": 4, \"xref\": \"x\", \"y\": 3.5, \"yref\": \"y\"}, {\"ax\": 0, \"ay\": 0, \"font\": {\"color\": \"rgb(0,0,0)\", \"size\": 14}, \"showarrow\": false, \"text\": \"1.05\", \"x\": 4, \"xref\": \"x\", \"y\": 4.0, \"yref\": \"y\"}, {\"ax\": 0, \"ay\": 0, \"font\": {\"color\": \"rgb(0,0,0)\", \"size\": 14}, \"showarrow\": false, \"text\": \"1.09\", \"x\": 4, \"xref\": \"x\", \"y\": 4.5, \"yref\": \"y\"}, {\"ax\": 0, \"ay\": 0, \"font\": {\"color\": \"rgb(0,0,0)\", \"size\": 14}, \"showarrow\": false, \"text\": \"2.2\", \"x\": 4, \"xref\": \"x\", \"y\": 5.0, \"yref\": \"y\"}], \"autosize\": false, \"height\": 700, \"width\": 700, \"xaxis\": {\"tickfont\": {\"size\": 14}, \"title\": {\"font\": {\"size\": 18}, \"text\": \"Num. Retrieved Cases\"}}, \"yaxis\": {\"tickfont\": {\"size\": 14}, \"title\": {\"font\": {\"size\": 18}, \"text\": \"Ratings\"}, \"type\": \"category\"}}, {\"showLink\": false, \"linkText\": \"Export to plot.ly\", \"plotlyServerURL\": \"https://plot.ly\"})});</script>"
      ],
      "text/vnd.plotly.v1+html": [
       "<div id=\"92848f97-e0b4-44a3-b750-4f63dfdf2ff7\" style=\"height: 700px; width: 700px;\" class=\"plotly-graph-div\"></div><script type=\"text/javascript\">require([\"plotly\"], function(Plotly) { window.PLOTLYENV=window.PLOTLYENV || {};window.PLOTLYENV.BASE_URL=\"https://plot.ly\";Plotly.newPlot(\"92848f97-e0b4-44a3-b750-4f63dfdf2ff7\", [{\"colorbar\": {\"tickfont\": {\"size\": 14}, \"ticksuffix\": \"%\"}, \"colorscale\": [[0.0, \"rgb(254,198,186)\"], [0.059, \"rgb(255,255,255)\"], [1.0, \"rgb(31, 119, 180)\"]], \"x\": [\"K=1\", \"K=2\", \"K=3\", \"K=5\", \"K=10\"], \"y\": [1.0, 2.0, 2.5, 3.0, 3.5, 4.0, 4.5, 5.0], \"z\": [[34.691359947186584, 23.141443675843558, 22.52759046283154, 16.467082891105846, 6.454526095028522], [4.529861902200548, -2.8130078433979784, 3.9329476479521017, 1.1812805717262105, 0.7320175857329763], [16.84072718449507, 8.071793762529584, 12.933115516301772, 4.463589398106053, 6.742832003654151], [10.371358269359485, 7.7510739971886515, 6.588027701003868, 4.980723228157261, 3.968933046238978], [-0.5733269191306866, 0.6997603036423706, 1.7686367335657778, 2.696961506344153, 2.1922611268606493], [2.933700037376169, 1.891080223468411, 2.5568966067360903, 1.6978662085959593, 1.0533947742148542], [3.0754680278488187, 13.75614266635068, 9.606297524231977, 4.487271321852882, 1.0888275284620648], [2.7943548892075896, 4.72115404277217, 3.665894236331032, 4.13778803301584, 2.195978533025352]], \"type\": \"heatmap\", \"uid\": \"61a15e76-8240-49aa-9771-2b12edbd9f95\"}], {\"annotations\": [{\"ax\": 0, \"ay\": 0, \"font\": {\"color\": \"rgb(255,255,255)\", \"size\": 14}, \"showarrow\": false, \"text\": \"34.69\", \"x\": 0, \"xref\": \"x\", \"y\": 1.0, \"yref\": \"y\"}, {\"ax\": 0, \"ay\": 0, \"font\": {\"color\": \"rgb(0,0,0)\", \"size\": 14}, \"showarrow\": false, \"text\": \"4.53\", \"x\": 0, \"xref\": \"x\", \"y\": 2.0, \"yref\": \"y\"}, {\"ax\": 0, \"ay\": 0, \"font\": {\"color\": \"rgb(0,0,0)\", \"size\": 14}, \"showarrow\": false, \"text\": \"16.84\", \"x\": 0, \"xref\": \"x\", \"y\": 2.5, \"yref\": \"y\"}, {\"ax\": 0, \"ay\": 0, \"font\": {\"color\": \"rgb(0,0,0)\", \"size\": 14}, \"showarrow\": false, \"text\": \"10.37\", \"x\": 0, \"xref\": \"x\", \"y\": 3.0, \"yref\": \"y\"}, {\"ax\": 0, \"ay\": 0, \"font\": {\"color\": \"rgb(0,0,0)\", \"size\": 14}, \"showarrow\": false, \"text\": \"-0.57\", \"x\": 0, \"xref\": \"x\", \"y\": 3.5, \"yref\": \"y\"}, {\"ax\": 0, \"ay\": 0, \"font\": {\"color\": \"rgb(0,0,0)\", \"size\": 14}, \"showarrow\": false, \"text\": \"2.93\", \"x\": 0, \"xref\": \"x\", \"y\": 4.0, \"yref\": \"y\"}, {\"ax\": 0, \"ay\": 0, \"font\": {\"color\": \"rgb(0,0,0)\", \"size\": 14}, \"showarrow\": false, \"text\": \"3.08\", \"x\": 0, \"xref\": \"x\", \"y\": 4.5, \"yref\": \"y\"}, {\"ax\": 0, \"ay\": 0, \"font\": {\"color\": \"rgb(0,0,0)\", \"size\": 14}, \"showarrow\": false, \"text\": \"2.79\", \"x\": 0, \"xref\": \"x\", \"y\": 5.0, \"yref\": \"y\"}, {\"ax\": 0, \"ay\": 0, \"font\": {\"color\": \"rgb(0,0,0)\", \"size\": 14}, \"showarrow\": false, \"text\": \"23.14\", \"x\": 1, \"xref\": \"x\", \"y\": 1.0, \"yref\": \"y\"}, {\"ax\": 0, \"ay\": 0, \"font\": {\"color\": \"rgb(0,0,0)\", \"size\": 14}, \"showarrow\": false, \"text\": \"-2.81\", \"x\": 1, \"xref\": \"x\", \"y\": 2.0, \"yref\": \"y\"}, {\"ax\": 0, \"ay\": 0, \"font\": {\"color\": \"rgb(0,0,0)\", \"size\": 14}, \"showarrow\": false, \"text\": \"8.07\", \"x\": 1, \"xref\": \"x\", \"y\": 2.5, \"yref\": \"y\"}, {\"ax\": 0, \"ay\": 0, \"font\": {\"color\": \"rgb(0,0,0)\", \"size\": 14}, \"showarrow\": false, \"text\": \"7.75\", \"x\": 1, \"xref\": \"x\", \"y\": 3.0, \"yref\": \"y\"}, {\"ax\": 0, \"ay\": 0, \"font\": {\"color\": \"rgb(0,0,0)\", \"size\": 14}, \"showarrow\": false, \"text\": \"0.7\", \"x\": 1, \"xref\": \"x\", \"y\": 3.5, \"yref\": \"y\"}, {\"ax\": 0, \"ay\": 0, \"font\": {\"color\": \"rgb(0,0,0)\", \"size\": 14}, \"showarrow\": false, \"text\": \"1.89\", \"x\": 1, \"xref\": \"x\", \"y\": 4.0, \"yref\": \"y\"}, {\"ax\": 0, \"ay\": 0, \"font\": {\"color\": \"rgb(0,0,0)\", \"size\": 14}, \"showarrow\": false, \"text\": \"13.76\", \"x\": 1, \"xref\": \"x\", \"y\": 4.5, \"yref\": \"y\"}, {\"ax\": 0, \"ay\": 0, \"font\": {\"color\": \"rgb(0,0,0)\", \"size\": 14}, \"showarrow\": false, \"text\": \"4.72\", \"x\": 1, \"xref\": \"x\", \"y\": 5.0, \"yref\": \"y\"}, {\"ax\": 0, \"ay\": 0, \"font\": {\"color\": \"rgb(0,0,0)\", \"size\": 14}, \"showarrow\": false, \"text\": \"22.53\", \"x\": 2, \"xref\": \"x\", \"y\": 1.0, \"yref\": \"y\"}, {\"ax\": 0, \"ay\": 0, \"font\": {\"color\": \"rgb(0,0,0)\", \"size\": 14}, \"showarrow\": false, \"text\": \"3.93\", \"x\": 2, \"xref\": \"x\", \"y\": 2.0, \"yref\": \"y\"}, {\"ax\": 0, \"ay\": 0, \"font\": {\"color\": \"rgb(0,0,0)\", \"size\": 14}, \"showarrow\": false, \"text\": \"12.93\", \"x\": 2, \"xref\": \"x\", \"y\": 2.5, \"yref\": \"y\"}, {\"ax\": 0, \"ay\": 0, \"font\": {\"color\": \"rgb(0,0,0)\", \"size\": 14}, \"showarrow\": false, \"text\": \"6.59\", \"x\": 2, \"xref\": \"x\", \"y\": 3.0, \"yref\": \"y\"}, {\"ax\": 0, \"ay\": 0, \"font\": {\"color\": \"rgb(0,0,0)\", \"size\": 14}, \"showarrow\": false, \"text\": \"1.77\", \"x\": 2, \"xref\": \"x\", \"y\": 3.5, \"yref\": \"y\"}, {\"ax\": 0, \"ay\": 0, \"font\": {\"color\": \"rgb(0,0,0)\", \"size\": 14}, \"showarrow\": false, \"text\": \"2.56\", \"x\": 2, \"xref\": \"x\", \"y\": 4.0, \"yref\": \"y\"}, {\"ax\": 0, \"ay\": 0, \"font\": {\"color\": \"rgb(0,0,0)\", \"size\": 14}, \"showarrow\": false, \"text\": \"9.61\", \"x\": 2, \"xref\": \"x\", \"y\": 4.5, \"yref\": \"y\"}, {\"ax\": 0, \"ay\": 0, \"font\": {\"color\": \"rgb(0,0,0)\", \"size\": 14}, \"showarrow\": false, \"text\": \"3.67\", \"x\": 2, \"xref\": \"x\", \"y\": 5.0, \"yref\": \"y\"}, {\"ax\": 0, \"ay\": 0, \"font\": {\"color\": \"rgb(0,0,0)\", \"size\": 14}, \"showarrow\": false, \"text\": \"16.47\", \"x\": 3, \"xref\": \"x\", \"y\": 1.0, \"yref\": \"y\"}, {\"ax\": 0, \"ay\": 0, \"font\": {\"color\": \"rgb(0,0,0)\", \"size\": 14}, \"showarrow\": false, \"text\": \"1.18\", \"x\": 3, \"xref\": \"x\", \"y\": 2.0, \"yref\": \"y\"}, {\"ax\": 0, \"ay\": 0, \"font\": {\"color\": \"rgb(0,0,0)\", \"size\": 14}, \"showarrow\": false, \"text\": \"4.46\", \"x\": 3, \"xref\": \"x\", \"y\": 2.5, \"yref\": \"y\"}, {\"ax\": 0, \"ay\": 0, \"font\": {\"color\": \"rgb(0,0,0)\", \"size\": 14}, \"showarrow\": false, \"text\": \"4.98\", \"x\": 3, \"xref\": \"x\", \"y\": 3.0, \"yref\": \"y\"}, {\"ax\": 0, \"ay\": 0, \"font\": {\"color\": \"rgb(0,0,0)\", \"size\": 14}, \"showarrow\": false, \"text\": \"2.7\", \"x\": 3, \"xref\": \"x\", \"y\": 3.5, \"yref\": \"y\"}, {\"ax\": 0, \"ay\": 0, \"font\": {\"color\": \"rgb(0,0,0)\", \"size\": 14}, \"showarrow\": false, \"text\": \"1.7\", \"x\": 3, \"xref\": \"x\", \"y\": 4.0, \"yref\": \"y\"}, {\"ax\": 0, \"ay\": 0, \"font\": {\"color\": \"rgb(0,0,0)\", \"size\": 14}, \"showarrow\": false, \"text\": \"4.49\", \"x\": 3, \"xref\": \"x\", \"y\": 4.5, \"yref\": \"y\"}, {\"ax\": 0, \"ay\": 0, \"font\": {\"color\": \"rgb(0,0,0)\", \"size\": 14}, \"showarrow\": false, \"text\": \"4.14\", \"x\": 3, \"xref\": \"x\", \"y\": 5.0, \"yref\": \"y\"}, {\"ax\": 0, \"ay\": 0, \"font\": {\"color\": \"rgb(0,0,0)\", \"size\": 14}, \"showarrow\": false, \"text\": \"6.45\", \"x\": 4, \"xref\": \"x\", \"y\": 1.0, \"yref\": \"y\"}, {\"ax\": 0, \"ay\": 0, \"font\": {\"color\": \"rgb(0,0,0)\", \"size\": 14}, \"showarrow\": false, \"text\": \"0.73\", \"x\": 4, \"xref\": \"x\", \"y\": 2.0, \"yref\": \"y\"}, {\"ax\": 0, \"ay\": 0, \"font\": {\"color\": \"rgb(0,0,0)\", \"size\": 14}, \"showarrow\": false, \"text\": \"6.74\", \"x\": 4, \"xref\": \"x\", \"y\": 2.5, \"yref\": \"y\"}, {\"ax\": 0, \"ay\": 0, \"font\": {\"color\": \"rgb(0,0,0)\", \"size\": 14}, \"showarrow\": false, \"text\": \"3.97\", \"x\": 4, \"xref\": \"x\", \"y\": 3.0, \"yref\": \"y\"}, {\"ax\": 0, \"ay\": 0, \"font\": {\"color\": \"rgb(0,0,0)\", \"size\": 14}, \"showarrow\": false, \"text\": \"2.19\", \"x\": 4, \"xref\": \"x\", \"y\": 3.5, \"yref\": \"y\"}, {\"ax\": 0, \"ay\": 0, \"font\": {\"color\": \"rgb(0,0,0)\", \"size\": 14}, \"showarrow\": false, \"text\": \"1.05\", \"x\": 4, \"xref\": \"x\", \"y\": 4.0, \"yref\": \"y\"}, {\"ax\": 0, \"ay\": 0, \"font\": {\"color\": \"rgb(0,0,0)\", \"size\": 14}, \"showarrow\": false, \"text\": \"1.09\", \"x\": 4, \"xref\": \"x\", \"y\": 4.5, \"yref\": \"y\"}, {\"ax\": 0, \"ay\": 0, \"font\": {\"color\": \"rgb(0,0,0)\", \"size\": 14}, \"showarrow\": false, \"text\": \"2.2\", \"x\": 4, \"xref\": \"x\", \"y\": 5.0, \"yref\": \"y\"}], \"autosize\": false, \"height\": 700, \"width\": 700, \"xaxis\": {\"tickfont\": {\"size\": 14}, \"title\": {\"font\": {\"size\": 18}, \"text\": \"Num. Retrieved Cases\"}}, \"yaxis\": {\"tickfont\": {\"size\": 14}, \"title\": {\"font\": {\"size\": 18}, \"text\": \"Ratings\"}, \"type\": \"category\"}}, {\"showLink\": false, \"linkText\": \"Export to plot.ly\", \"plotlyServerURL\": \"https://plot.ly\"})});</script>"
      ]
     },
     "metadata": {},
     "output_type": "display_data"
    }
   ],
   "source": [
    "trace = go.Heatmap(z= z_values,\n",
    "                   x= x_values,\n",
    "                   y= y_values,\n",
    "                   colorscale=[[0.0, 'rgb(254,198,186)'], [0.059, 'rgb(255,255,255)'], [1.0, 'rgb(31, 119, 180)']],\n",
    "                   colorbar=dict(tickfont=dict(size=14), ticksuffix='%'))\n",
    "\n",
    "layout = go.Layout(\n",
    "    autosize=False,\n",
    "    width=700,\n",
    "    height=700,\n",
    "    yaxis=dict(\n",
    "        title='Ratings',\n",
    "        type='category',\n",
    "        titlefont=dict(\n",
    "            size=18\n",
    "        ),\n",
    "        tickfont=dict(\n",
    "            size=14\n",
    "        )\n",
    "        #range=[0.5, 5.5]\n",
    "    ),\n",
    "    xaxis=dict(\n",
    "        title = 'Num. Retrieved Cases',\n",
    "        titlefont=dict(\n",
    "            size=18\n",
    "        ),\n",
    "        tickfont=dict(\n",
    "            size=14\n",
    "        )\n",
    "    ),\n",
    "    annotations=annotations\n",
    ")\n",
    "\n",
    "\n",
    "\n",
    "data=[trace]\n",
    "fig = go.Figure(data=data, layout=layout)\n",
    "\n",
    "iplot(fig, filename='labelled-heatmap')"
   ]
  },
  {
   "cell_type": "code",
   "execution_count": 113,
   "metadata": {},
   "outputs": [],
   "source": [
    "pio.write_image(fig, 'heatmap_all.png')"
   ]
  },
  {
   "cell_type": "code",
   "execution_count": null,
   "metadata": {},
   "outputs": [],
   "source": []
  }
 ],
 "metadata": {
  "kernelspec": {
   "display_name": "Python 3",
   "language": "python",
   "name": "python3"
  },
  "language_info": {
   "codemirror_mode": {
    "name": "ipython",
    "version": 3
   },
   "file_extension": ".py",
   "mimetype": "text/x-python",
   "name": "python",
   "nbconvert_exporter": "python",
   "pygments_lexer": "ipython3",
   "version": "3.7.1"
  }
 },
 "nbformat": 4,
 "nbformat_minor": 2
}
