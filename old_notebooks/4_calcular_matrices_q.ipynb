{
 "cells": [
  {
   "cell_type": "code",
   "execution_count": 1,
   "metadata": {},
   "outputs": [
    {
     "data": {
      "text/html": [
       "        <script type=\"text/javascript\">\n",
       "        window.PlotlyConfig = {MathJaxConfig: 'local'};\n",
       "        if (window.MathJax) {MathJax.Hub.Config({SVG: {font: \"STIX-Web\"}});}\n",
       "        if (typeof require !== 'undefined') {\n",
       "        require.undef(\"plotly\");\n",
       "        requirejs.config({\n",
       "            paths: {\n",
       "                'plotly': ['https://cdn.plot.ly/plotly-2.9.0.min']\n",
       "            }\n",
       "        });\n",
       "        require(['plotly'], function(Plotly) {\n",
       "            window._Plotly = Plotly;\n",
       "        });\n",
       "        }\n",
       "        </script>\n",
       "        "
      ]
     },
     "metadata": {},
     "output_type": "display_data"
    }
   ],
   "source": [
    "import pandas as pd\n",
    "import numpy as np\n",
    "import random\n",
    "from tqdm import tqdm\n",
    "\n",
    "from surprise import Dataset\n",
    "from surprise import Reader\n",
    "from surprise import NMF\n",
    "\n",
    "import plotly.graph_objs as go\n",
    "from plotly.offline import init_notebook_mode, iplot\n",
    "init_notebook_mode(connected=True)\n",
    "\n",
    "# Ponemos una semilla fija para que el experimento sea reusable\n",
    "my_seed = 0\n",
    "random.seed(my_seed)\n",
    "np.random.seed(my_seed)"
   ]
  },
  {
   "cell_type": "markdown",
   "metadata": {},
   "source": [
    "# 4. Calculo Factorización de Matrices\n",
    "\n",
    "En este notebook entrenaremos la factorización de matrices aplicando el algoritmo **NMF**. Una vez entrenado, ya tendremos la matriz $P$ (relaciona usuario con las dimensiones) y la matriz $Q$ (relaciona películas con dimensiones). Al final, en la carpeta `data/matrices_data` tendremos la matriz $Q_u$ de cada usuario. Esto es la matriz $Q$ multiplicada por el vector en $P$ de cada usuario."
   ]
  },
  {
   "cell_type": "markdown",
   "metadata": {},
   "source": [
    "## 4.1. Preparar dataset\n",
    "\n",
    "Separaremos los datos de los ratings en 2 grupos, entrenamiento (que tendrá el 90% de los datos) y evaluación (que tendrá el 10% de los datos)."
   ]
  },
  {
   "cell_type": "code",
   "execution_count": 2,
   "metadata": {},
   "outputs": [],
   "source": [
    "def train_test_split(dataDF, training_percentage):\n",
    "    '''\n",
    "    Función que divide el dataset en un conjunto de entrenamiento y\n",
    "    otro conjunto de evaluación.\n",
    "    '''\n",
    "    msk = np.random.rand(len(dataDF)) < float(training_percentage / 100)\n",
    "    train = dataDF[msk]\n",
    "    test = dataDF[~msk]\n",
    "    \n",
    "    return train, test    "
   ]
  },
  {
   "cell_type": "code",
   "execution_count": 3,
   "metadata": {},
   "outputs": [
    {
     "data": {
      "text/html": [
       "<div>\n",
       "<style scoped>\n",
       "    .dataframe tbody tr th:only-of-type {\n",
       "        vertical-align: middle;\n",
       "    }\n",
       "\n",
       "    .dataframe tbody tr th {\n",
       "        vertical-align: top;\n",
       "    }\n",
       "\n",
       "    .dataframe thead th {\n",
       "        text-align: right;\n",
       "    }\n",
       "</style>\n",
       "<table border=\"1\" class=\"dataframe\">\n",
       "  <thead>\n",
       "    <tr style=\"text-align: right;\">\n",
       "      <th></th>\n",
       "      <th>userId</th>\n",
       "      <th>movieId</th>\n",
       "      <th>rating</th>\n",
       "      <th>timestamp</th>\n",
       "    </tr>\n",
       "  </thead>\n",
       "  <tbody>\n",
       "    <tr>\n",
       "      <th>0</th>\n",
       "      <td>1</td>\n",
       "      <td>1</td>\n",
       "      <td>4.0</td>\n",
       "      <td>964982703</td>\n",
       "    </tr>\n",
       "    <tr>\n",
       "      <th>1</th>\n",
       "      <td>1</td>\n",
       "      <td>47</td>\n",
       "      <td>5.0</td>\n",
       "      <td>964983815</td>\n",
       "    </tr>\n",
       "    <tr>\n",
       "      <th>2</th>\n",
       "      <td>1</td>\n",
       "      <td>50</td>\n",
       "      <td>5.0</td>\n",
       "      <td>964982931</td>\n",
       "    </tr>\n",
       "    <tr>\n",
       "      <th>3</th>\n",
       "      <td>1</td>\n",
       "      <td>70</td>\n",
       "      <td>3.0</td>\n",
       "      <td>964982400</td>\n",
       "    </tr>\n",
       "    <tr>\n",
       "      <th>4</th>\n",
       "      <td>1</td>\n",
       "      <td>101</td>\n",
       "      <td>5.0</td>\n",
       "      <td>964980868</td>\n",
       "    </tr>\n",
       "  </tbody>\n",
       "</table>\n",
       "</div>"
      ],
      "text/plain": [
       "   userId  movieId  rating  timestamp\n",
       "0       1        1     4.0  964982703\n",
       "1       1       47     5.0  964983815\n",
       "2       1       50     5.0  964982931\n",
       "3       1       70     3.0  964982400\n",
       "4       1      101     5.0  964980868"
      ]
     },
     "execution_count": 3,
     "metadata": {},
     "output_type": "execute_result"
    }
   ],
   "source": [
    "# Cargamos todos los ratings del experimento\n",
    "ratings_DF = pd.read_csv('data/experiment_data/ratings.csv')\n",
    "ratings_DF.head()"
   ]
  },
  {
   "cell_type": "code",
   "execution_count": 4,
   "metadata": {},
   "outputs": [
    {
     "name": "stdout",
     "output_type": "stream",
     "text": [
      "11.92192628910957 % ratings conocidos del total de la matriz\n"
     ]
    }
   ],
   "source": [
    "# Calculamos el porcentaje de la matriz completado\n",
    "\n",
    "num_users = len(ratings_DF.groupby('userId').count().index)\n",
    "num_items = len(ratings_DF.groupby('movieId').count().index)\n",
    "total_ratings = len(ratings_DF)\n",
    "total_values_to_predict = num_users * num_items\n",
    "\n",
    "print(100*(total_ratings / total_values_to_predict), '% ratings conocidos del total de la matriz')"
   ]
  },
  {
   "cell_type": "code",
   "execution_count": 5,
   "metadata": {},
   "outputs": [
    {
     "data": {
      "text/plain": [
       "11477"
      ]
     },
     "execution_count": 5,
     "metadata": {},
     "output_type": "execute_result"
    }
   ],
   "source": [
    "total_ratings"
   ]
  },
  {
   "cell_type": "code",
   "execution_count": 6,
   "metadata": {},
   "outputs": [],
   "source": [
    "# Preparamos el dataset de entrenamiento y evaluación\n",
    "trainset, testset = train_test_split(ratings_DF, 90)\n",
    "\n",
    "# Guardamos ambos dataframes en CSV\n",
    "trainset.to_csv('data/experiment_data/trainset.csv', index=False)\n",
    "testset.to_csv('data/experiment_data/testset.csv', index=False)"
   ]
  },
  {
   "cell_type": "code",
   "execution_count": 7,
   "metadata": {},
   "outputs": [
    {
     "data": {
      "text/html": [
       "<div>\n",
       "<style scoped>\n",
       "    .dataframe tbody tr th:only-of-type {\n",
       "        vertical-align: middle;\n",
       "    }\n",
       "\n",
       "    .dataframe tbody tr th {\n",
       "        vertical-align: top;\n",
       "    }\n",
       "\n",
       "    .dataframe thead th {\n",
       "        text-align: right;\n",
       "    }\n",
       "</style>\n",
       "<table border=\"1\" class=\"dataframe\">\n",
       "  <thead>\n",
       "    <tr style=\"text-align: right;\">\n",
       "      <th></th>\n",
       "      <th>userId</th>\n",
       "      <th>movieId</th>\n",
       "      <th>rating</th>\n",
       "      <th>timestamp</th>\n",
       "    </tr>\n",
       "  </thead>\n",
       "  <tbody>\n",
       "    <tr>\n",
       "      <th>9885</th>\n",
       "      <td>545</td>\n",
       "      <td>44</td>\n",
       "      <td>2.5</td>\n",
       "      <td>1240358381</td>\n",
       "    </tr>\n",
       "  </tbody>\n",
       "</table>\n",
       "</div>"
      ],
      "text/plain": [
       "      userId  movieId  rating   timestamp\n",
       "9885     545       44     2.5  1240358381"
      ]
     },
     "execution_count": 7,
     "metadata": {},
     "output_type": "execute_result"
    }
   ],
   "source": [
    "testset[testset['userId'] == 545]"
   ]
  },
  {
   "cell_type": "markdown",
   "metadata": {},
   "source": [
    "## 4.2. Entrenamiento del algoritmo\n",
    "\n",
    "Del nuevo dataset que hemos creado, calculamos las matrices P y Q usando el algoritmode NMF definido en la librería surprise."
   ]
  },
  {
   "cell_type": "code",
   "execution_count": 8,
   "metadata": {},
   "outputs": [
    {
     "data": {
      "text/html": [
       "<div>\n",
       "<style scoped>\n",
       "    .dataframe tbody tr th:only-of-type {\n",
       "        vertical-align: middle;\n",
       "    }\n",
       "\n",
       "    .dataframe tbody tr th {\n",
       "        vertical-align: top;\n",
       "    }\n",
       "\n",
       "    .dataframe thead th {\n",
       "        text-align: right;\n",
       "    }\n",
       "</style>\n",
       "<table border=\"1\" class=\"dataframe\">\n",
       "  <thead>\n",
       "    <tr style=\"text-align: right;\">\n",
       "      <th></th>\n",
       "      <th>userId</th>\n",
       "      <th>movieId</th>\n",
       "      <th>realRating</th>\n",
       "      <th>estRating</th>\n",
       "    </tr>\n",
       "  </thead>\n",
       "  <tbody>\n",
       "    <tr>\n",
       "      <th>0</th>\n",
       "      <td>1</td>\n",
       "      <td>223</td>\n",
       "      <td>3.0</td>\n",
       "      <td>3.611623</td>\n",
       "    </tr>\n",
       "    <tr>\n",
       "      <th>1</th>\n",
       "      <td>1</td>\n",
       "      <td>349</td>\n",
       "      <td>4.0</td>\n",
       "      <td>4.004865</td>\n",
       "    </tr>\n",
       "    <tr>\n",
       "      <th>2</th>\n",
       "      <td>1</td>\n",
       "      <td>527</td>\n",
       "      <td>5.0</td>\n",
       "      <td>4.146800</td>\n",
       "    </tr>\n",
       "    <tr>\n",
       "      <th>3</th>\n",
       "      <td>3</td>\n",
       "      <td>527</td>\n",
       "      <td>0.5</td>\n",
       "      <td>3.610407</td>\n",
       "    </tr>\n",
       "    <tr>\n",
       "      <th>4</th>\n",
       "      <td>4</td>\n",
       "      <td>357</td>\n",
       "      <td>3.0</td>\n",
       "      <td>2.097807</td>\n",
       "    </tr>\n",
       "  </tbody>\n",
       "</table>\n",
       "</div>"
      ],
      "text/plain": [
       "   userId  movieId  realRating  estRating\n",
       "0       1      223         3.0   3.611623\n",
       "1       1      349         4.0   4.004865\n",
       "2       1      527         5.0   4.146800\n",
       "3       3      527         0.5   3.610407\n",
       "4       4      357         3.0   2.097807"
      ]
     },
     "execution_count": 8,
     "metadata": {},
     "output_type": "execute_result"
    }
   ],
   "source": [
    "# Cargamos los datasets\n",
    "trainset_DF = pd.read_csv('data/experiment_data/trainset.csv', usecols=[0,1,2])\n",
    "testset_DF = pd.read_csv('data/experiment_data/testset.csv', usecols=[0,1,2])\n",
    "\n",
    "# Preparamos los datos de entrenamiento y evaluación\n",
    "\n",
    "reader = Reader(rating_scale=(1,5))\n",
    "\n",
    "train_data = Dataset.load_from_df(trainset_DF, reader).build_full_trainset()\n",
    "test_data = Dataset.load_from_df(testset_DF, reader).build_full_trainset().build_testset()\n",
    "\n",
    "# Seleccionamos el algoritmo\n",
    "recommendation_algorithm = NMF()\n",
    "\n",
    "# Entrenamos el algoritmo\n",
    "recommendation_algorithm.fit(train_data)\n",
    "\n",
    "# Obetenmos las predicciones\n",
    "predictions = recommendation_algorithm.test(test_data)\n",
    "\n",
    "# Mostramos las predicciones\n",
    "predictions_df = pd.DataFrame(predictions, columns=['userId', 'movieId', 'realRating', 'estRating', 'details']).drop(columns='details')\n",
    "predictions_df.head()"
   ]
  },
  {
   "cell_type": "code",
   "execution_count": 9,
   "metadata": {},
   "outputs": [
    {
     "data": {
      "text/html": [
       "<div>\n",
       "<style scoped>\n",
       "    .dataframe tbody tr th:only-of-type {\n",
       "        vertical-align: middle;\n",
       "    }\n",
       "\n",
       "    .dataframe tbody tr th {\n",
       "        vertical-align: top;\n",
       "    }\n",
       "\n",
       "    .dataframe thead th {\n",
       "        text-align: right;\n",
       "    }\n",
       "</style>\n",
       "<table border=\"1\" class=\"dataframe\">\n",
       "  <thead>\n",
       "    <tr style=\"text-align: right;\">\n",
       "      <th></th>\n",
       "      <th>userId</th>\n",
       "      <th>movieId</th>\n",
       "      <th>realRating</th>\n",
       "      <th>estRating</th>\n",
       "    </tr>\n",
       "  </thead>\n",
       "  <tbody>\n",
       "    <tr>\n",
       "      <th>987</th>\n",
       "      <td>545</td>\n",
       "      <td>44</td>\n",
       "      <td>2.5</td>\n",
       "      <td>3.610407</td>\n",
       "    </tr>\n",
       "  </tbody>\n",
       "</table>\n",
       "</div>"
      ],
      "text/plain": [
       "     userId  movieId  realRating  estRating\n",
       "987     545       44         2.5   3.610407"
      ]
     },
     "execution_count": 9,
     "metadata": {},
     "output_type": "execute_result"
    }
   ],
   "source": [
    "predictions_df[predictions_df['userId'] == 545]"
   ]
  },
  {
   "cell_type": "code",
   "execution_count": 10,
   "metadata": {},
   "outputs": [],
   "source": [
    "predictions_df.to_csv('data/experiment_data/predicted_values.csv', index=False)"
   ]
  },
  {
   "cell_type": "markdown",
   "metadata": {},
   "source": [
    "## 4.3. Calculamos las matrices $Q_u$\n",
    "\n",
    "A continuación, calculamos las matrices $Q_u$ de cada usuario y lo guardamos en ficheros CSV."
   ]
  },
  {
   "cell_type": "code",
   "execution_count": 11,
   "metadata": {},
   "outputs": [],
   "source": [
    "# Obtenemos las matrices P y Q\n",
    "p = pd.DataFrame(recommendation_algorithm.pu)\n",
    "p['userId'] = sorted(list(set(trainset_DF['userId'])))\n",
    "p.set_index('userId',inplace=True)\n",
    "p.reset_index(inplace=True)\n",
    "\n",
    "q = recommendation_algorithm.qi"
   ]
  },
  {
   "cell_type": "code",
   "execution_count": 12,
   "metadata": {},
   "outputs": [
    {
     "name": "stderr",
     "output_type": "stream",
     "text": [
      "100%|████████████████████████████████████████| 584/584 [00:04<00:00, 142.34it/s]\n"
     ]
    }
   ],
   "source": [
    "# Por cada usuario calculamos su Qu y la gaurdamos en un CSV\n",
    "\n",
    "for u in tqdm(range(len(p))):\n",
    "    user_id = int(p.loc[u]['userId'])\n",
    "    user_vector = p.loc[u][1:].values\n",
    "\n",
    "    q_u = user_vector * q\n",
    "    q_u_df = pd.DataFrame(q_u)\n",
    "    q_u_df['movieId'] = sorted(list(set(trainset_DF['movieId'])))\n",
    "    q_u_df.set_index('movieId', inplace=True)\n",
    "    q_u_df.reset_index(inplace=True)\n",
    "    \n",
    "    path = 'data/matrices_data/q_user_' + str(user_id) + '.csv'\n",
    "    q_u_df.to_csv(path, index=False)"
   ]
  },
  {
   "cell_type": "markdown",
   "metadata": {},
   "source": [
    "## 4.4. Calcular la predicción de ratings a partir de Qu"
   ]
  },
  {
   "cell_type": "code",
   "execution_count": 13,
   "metadata": {},
   "outputs": [],
   "source": [
    "def get_predicted_rating(row):\n",
    "    user = int(row['userId'])\n",
    "    movie = int(row['movieId'])\n",
    "    \n",
    "    q_u = pd.read_csv('data/matrices_data/q_user_' + str(user) + '.csv')\n",
    "    values = q_u[q_u['movieId'] == movie].values[0]\n",
    "    return np.sum(values[1:])"
   ]
  },
  {
   "cell_type": "code",
   "execution_count": 14,
   "metadata": {},
   "outputs": [],
   "source": [
    "testset_DF = testset_DF[testset_DF['userId'].isin(set(trainset_DF['userId']))]"
   ]
  },
  {
   "cell_type": "code",
   "execution_count": 15,
   "metadata": {},
   "outputs": [
    {
     "data": {
      "text/html": [
       "<div>\n",
       "<style scoped>\n",
       "    .dataframe tbody tr th:only-of-type {\n",
       "        vertical-align: middle;\n",
       "    }\n",
       "\n",
       "    .dataframe tbody tr th {\n",
       "        vertical-align: top;\n",
       "    }\n",
       "\n",
       "    .dataframe thead th {\n",
       "        text-align: right;\n",
       "    }\n",
       "</style>\n",
       "<table border=\"1\" class=\"dataframe\">\n",
       "  <thead>\n",
       "    <tr style=\"text-align: right;\">\n",
       "      <th></th>\n",
       "      <th>userId</th>\n",
       "      <th>movieId</th>\n",
       "      <th>rating</th>\n",
       "      <th>predicted</th>\n",
       "    </tr>\n",
       "  </thead>\n",
       "  <tbody>\n",
       "    <tr>\n",
       "      <th>0</th>\n",
       "      <td>1</td>\n",
       "      <td>223</td>\n",
       "      <td>3.0</td>\n",
       "      <td>4.042081</td>\n",
       "    </tr>\n",
       "    <tr>\n",
       "      <th>1</th>\n",
       "      <td>1</td>\n",
       "      <td>349</td>\n",
       "      <td>4.0</td>\n",
       "      <td>2.726556</td>\n",
       "    </tr>\n",
       "    <tr>\n",
       "      <th>2</th>\n",
       "      <td>1</td>\n",
       "      <td>527</td>\n",
       "      <td>5.0</td>\n",
       "      <td>2.743715</td>\n",
       "    </tr>\n",
       "    <tr>\n",
       "      <th>4</th>\n",
       "      <td>4</td>\n",
       "      <td>357</td>\n",
       "      <td>3.0</td>\n",
       "      <td>2.737091</td>\n",
       "    </tr>\n",
       "    <tr>\n",
       "      <th>5</th>\n",
       "      <td>5</td>\n",
       "      <td>110</td>\n",
       "      <td>4.0</td>\n",
       "      <td>3.492654</td>\n",
       "    </tr>\n",
       "  </tbody>\n",
       "</table>\n",
       "</div>"
      ],
      "text/plain": [
       "   userId  movieId  rating  predicted\n",
       "0       1      223     3.0   4.042081\n",
       "1       1      349     4.0   2.726556\n",
       "2       1      527     5.0   2.743715\n",
       "4       4      357     3.0   2.737091\n",
       "5       5      110     4.0   3.492654"
      ]
     },
     "execution_count": 15,
     "metadata": {},
     "output_type": "execute_result"
    }
   ],
   "source": [
    "testset_DF['predicted'] = testset_DF.apply(lambda row: get_predicted_rating(row), axis=1)\n",
    "testset_DF.head()"
   ]
  },
  {
   "cell_type": "code",
   "execution_count": 16,
   "metadata": {},
   "outputs": [],
   "source": [
    "testset_DF.to_csv('data/experiment_data/predicted_values.csv', index=False)"
   ]
  },
  {
   "cell_type": "markdown",
   "metadata": {},
   "source": [
    "## 4.5. Visualizar matrices\n",
    "\n",
    "En esta sección se pueden visualizar las matrices $Q_u$. Se muestra un mapa de calor de la matriz y un analisis estádistico de cada uno de los factores de la matriz $Q_u$. "
   ]
  },
  {
   "cell_type": "code",
   "execution_count": 17,
   "metadata": {},
   "outputs": [],
   "source": [
    "# Seleccionar el usuario que vamos a mostrar\n",
    "user_id = 10\n",
    "path = 'data/matrices_data/q_user_' + str(user_id) + '.csv'"
   ]
  },
  {
   "cell_type": "code",
   "execution_count": 18,
   "metadata": {},
   "outputs": [
    {
     "data": {
      "text/html": [
       "<div>\n",
       "<style scoped>\n",
       "    .dataframe tbody tr th:only-of-type {\n",
       "        vertical-align: middle;\n",
       "    }\n",
       "\n",
       "    .dataframe tbody tr th {\n",
       "        vertical-align: top;\n",
       "    }\n",
       "\n",
       "    .dataframe thead th {\n",
       "        text-align: right;\n",
       "    }\n",
       "</style>\n",
       "<table border=\"1\" class=\"dataframe\">\n",
       "  <thead>\n",
       "    <tr style=\"text-align: right;\">\n",
       "      <th></th>\n",
       "      <th>movieId</th>\n",
       "      <th>0</th>\n",
       "      <th>1</th>\n",
       "      <th>2</th>\n",
       "      <th>3</th>\n",
       "      <th>4</th>\n",
       "      <th>5</th>\n",
       "      <th>6</th>\n",
       "      <th>7</th>\n",
       "      <th>8</th>\n",
       "      <th>9</th>\n",
       "      <th>10</th>\n",
       "      <th>11</th>\n",
       "      <th>12</th>\n",
       "      <th>13</th>\n",
       "      <th>14</th>\n",
       "    </tr>\n",
       "  </thead>\n",
       "  <tbody>\n",
       "    <tr>\n",
       "      <th>0</th>\n",
       "      <td>1</td>\n",
       "      <td>0.015697</td>\n",
       "      <td>1.241905</td>\n",
       "      <td>0.184154</td>\n",
       "      <td>0.010867</td>\n",
       "      <td>0.008617</td>\n",
       "      <td>0.005733</td>\n",
       "      <td>0.057567</td>\n",
       "      <td>0.157174</td>\n",
       "      <td>0.101920</td>\n",
       "      <td>0.074246</td>\n",
       "      <td>0.036337</td>\n",
       "      <td>0.046276</td>\n",
       "      <td>0.770280</td>\n",
       "      <td>0.001008</td>\n",
       "      <td>0.626503</td>\n",
       "    </tr>\n",
       "    <tr>\n",
       "      <th>1</th>\n",
       "      <td>10</td>\n",
       "      <td>0.020905</td>\n",
       "      <td>1.012212</td>\n",
       "      <td>0.372804</td>\n",
       "      <td>0.084930</td>\n",
       "      <td>0.005563</td>\n",
       "      <td>0.001664</td>\n",
       "      <td>0.097089</td>\n",
       "      <td>0.113753</td>\n",
       "      <td>0.070802</td>\n",
       "      <td>0.020531</td>\n",
       "      <td>0.085962</td>\n",
       "      <td>0.040904</td>\n",
       "      <td>0.364721</td>\n",
       "      <td>0.001249</td>\n",
       "      <td>0.394769</td>\n",
       "    </tr>\n",
       "    <tr>\n",
       "      <th>2</th>\n",
       "      <td>11</td>\n",
       "      <td>0.016817</td>\n",
       "      <td>0.823237</td>\n",
       "      <td>0.079074</td>\n",
       "      <td>0.118290</td>\n",
       "      <td>0.001744</td>\n",
       "      <td>0.004018</td>\n",
       "      <td>0.092733</td>\n",
       "      <td>0.088147</td>\n",
       "      <td>0.004614</td>\n",
       "      <td>0.096103</td>\n",
       "      <td>0.079233</td>\n",
       "      <td>0.120291</td>\n",
       "      <td>0.826047</td>\n",
       "      <td>0.000846</td>\n",
       "      <td>0.680266</td>\n",
       "    </tr>\n",
       "    <tr>\n",
       "      <th>3</th>\n",
       "      <td>14</td>\n",
       "      <td>0.005627</td>\n",
       "      <td>0.280090</td>\n",
       "      <td>0.139792</td>\n",
       "      <td>0.029234</td>\n",
       "      <td>0.002614</td>\n",
       "      <td>0.002208</td>\n",
       "      <td>0.102459</td>\n",
       "      <td>0.055181</td>\n",
       "      <td>0.094801</td>\n",
       "      <td>0.100267</td>\n",
       "      <td>0.109218</td>\n",
       "      <td>0.030140</td>\n",
       "      <td>0.674024</td>\n",
       "      <td>0.002827</td>\n",
       "      <td>0.346577</td>\n",
       "    </tr>\n",
       "    <tr>\n",
       "      <th>4</th>\n",
       "      <td>15</td>\n",
       "      <td>0.013309</td>\n",
       "      <td>0.051371</td>\n",
       "      <td>0.076494</td>\n",
       "      <td>0.039331</td>\n",
       "      <td>0.012258</td>\n",
       "      <td>0.002591</td>\n",
       "      <td>0.043500</td>\n",
       "      <td>0.001520</td>\n",
       "      <td>0.064135</td>\n",
       "      <td>0.034993</td>\n",
       "      <td>0.058367</td>\n",
       "      <td>0.187575</td>\n",
       "      <td>0.792914</td>\n",
       "      <td>0.001261</td>\n",
       "      <td>0.737856</td>\n",
       "    </tr>\n",
       "  </tbody>\n",
       "</table>\n",
       "</div>"
      ],
      "text/plain": [
       "   movieId         0         1         2         3         4         5  \\\n",
       "0        1  0.015697  1.241905  0.184154  0.010867  0.008617  0.005733   \n",
       "1       10  0.020905  1.012212  0.372804  0.084930  0.005563  0.001664   \n",
       "2       11  0.016817  0.823237  0.079074  0.118290  0.001744  0.004018   \n",
       "3       14  0.005627  0.280090  0.139792  0.029234  0.002614  0.002208   \n",
       "4       15  0.013309  0.051371  0.076494  0.039331  0.012258  0.002591   \n",
       "\n",
       "          6         7         8         9        10        11        12  \\\n",
       "0  0.057567  0.157174  0.101920  0.074246  0.036337  0.046276  0.770280   \n",
       "1  0.097089  0.113753  0.070802  0.020531  0.085962  0.040904  0.364721   \n",
       "2  0.092733  0.088147  0.004614  0.096103  0.079233  0.120291  0.826047   \n",
       "3  0.102459  0.055181  0.094801  0.100267  0.109218  0.030140  0.674024   \n",
       "4  0.043500  0.001520  0.064135  0.034993  0.058367  0.187575  0.792914   \n",
       "\n",
       "         13        14  \n",
       "0  0.001008  0.626503  \n",
       "1  0.001249  0.394769  \n",
       "2  0.000846  0.680266  \n",
       "3  0.002827  0.346577  \n",
       "4  0.001261  0.737856  "
      ]
     },
     "execution_count": 18,
     "metadata": {},
     "output_type": "execute_result"
    }
   ],
   "source": [
    "q_u_DF = pd.read_csv(path)\n",
    "q_u_DF.head()"
   ]
  },
  {
   "cell_type": "code",
   "execution_count": 19,
   "metadata": {},
   "outputs": [
    {
     "data": {
      "text/html": [
       "<div>\n",
       "<style scoped>\n",
       "    .dataframe tbody tr th:only-of-type {\n",
       "        vertical-align: middle;\n",
       "    }\n",
       "\n",
       "    .dataframe tbody tr th {\n",
       "        vertical-align: top;\n",
       "    }\n",
       "\n",
       "    .dataframe thead th {\n",
       "        text-align: right;\n",
       "    }\n",
       "</style>\n",
       "<table border=\"1\" class=\"dataframe\">\n",
       "  <thead>\n",
       "    <tr style=\"text-align: right;\">\n",
       "      <th></th>\n",
       "      <th>movieId</th>\n",
       "      <th>0</th>\n",
       "      <th>1</th>\n",
       "      <th>2</th>\n",
       "      <th>3</th>\n",
       "      <th>4</th>\n",
       "      <th>5</th>\n",
       "      <th>6</th>\n",
       "      <th>7</th>\n",
       "      <th>8</th>\n",
       "      <th>9</th>\n",
       "      <th>10</th>\n",
       "      <th>11</th>\n",
       "      <th>12</th>\n",
       "      <th>13</th>\n",
       "      <th>14</th>\n",
       "    </tr>\n",
       "  </thead>\n",
       "  <tbody>\n",
       "    <tr>\n",
       "      <th>count</th>\n",
       "      <td>164.000000</td>\n",
       "      <td>164.000000</td>\n",
       "      <td>164.000000</td>\n",
       "      <td>164.000000</td>\n",
       "      <td>164.000000</td>\n",
       "      <td>1.640000e+02</td>\n",
       "      <td>164.000000</td>\n",
       "      <td>164.000000</td>\n",
       "      <td>164.000000</td>\n",
       "      <td>164.000000</td>\n",
       "      <td>164.000000</td>\n",
       "      <td>164.000000</td>\n",
       "      <td>164.000000</td>\n",
       "      <td>164.000000</td>\n",
       "      <td>1.640000e+02</td>\n",
       "      <td>164.000000</td>\n",
       "    </tr>\n",
       "    <tr>\n",
       "      <th>mean</th>\n",
       "      <td>283.335366</td>\n",
       "      <td>0.010465</td>\n",
       "      <td>0.786730</td>\n",
       "      <td>0.269630</td>\n",
       "      <td>0.042265</td>\n",
       "      <td>5.369037e-03</td>\n",
       "      <td>0.004340</td>\n",
       "      <td>0.056949</td>\n",
       "      <td>0.087625</td>\n",
       "      <td>0.075990</td>\n",
       "      <td>0.073484</td>\n",
       "      <td>0.052708</td>\n",
       "      <td>0.052416</td>\n",
       "      <td>0.637993</td>\n",
       "      <td>9.702955e-04</td>\n",
       "      <td>0.360281</td>\n",
       "    </tr>\n",
       "    <tr>\n",
       "      <th>std</th>\n",
       "      <td>185.085398</td>\n",
       "      <td>0.007569</td>\n",
       "      <td>0.526437</td>\n",
       "      <td>0.173822</td>\n",
       "      <td>0.029604</td>\n",
       "      <td>3.423490e-03</td>\n",
       "      <td>0.002936</td>\n",
       "      <td>0.036109</td>\n",
       "      <td>0.056342</td>\n",
       "      <td>0.048200</td>\n",
       "      <td>0.045894</td>\n",
       "      <td>0.034773</td>\n",
       "      <td>0.037283</td>\n",
       "      <td>0.360679</td>\n",
       "      <td>6.274353e-04</td>\n",
       "      <td>0.254777</td>\n",
       "    </tr>\n",
       "    <tr>\n",
       "      <th>min</th>\n",
       "      <td>1.000000</td>\n",
       "      <td>0.000260</td>\n",
       "      <td>0.000232</td>\n",
       "      <td>0.001807</td>\n",
       "      <td>0.001479</td>\n",
       "      <td>1.266817e-08</td>\n",
       "      <td>0.000007</td>\n",
       "      <td>0.001087</td>\n",
       "      <td>0.000627</td>\n",
       "      <td>0.001141</td>\n",
       "      <td>0.000239</td>\n",
       "      <td>0.000028</td>\n",
       "      <td>0.000032</td>\n",
       "      <td>0.009358</td>\n",
       "      <td>4.070145e-07</td>\n",
       "      <td>0.001035</td>\n",
       "    </tr>\n",
       "    <tr>\n",
       "      <th>25%</th>\n",
       "      <td>111.750000</td>\n",
       "      <td>0.004542</td>\n",
       "      <td>0.409771</td>\n",
       "      <td>0.139270</td>\n",
       "      <td>0.016530</td>\n",
       "      <td>2.473798e-03</td>\n",
       "      <td>0.001812</td>\n",
       "      <td>0.026262</td>\n",
       "      <td>0.047016</td>\n",
       "      <td>0.037445</td>\n",
       "      <td>0.036362</td>\n",
       "      <td>0.026507</td>\n",
       "      <td>0.021717</td>\n",
       "      <td>0.365909</td>\n",
       "      <td>5.004141e-04</td>\n",
       "      <td>0.155757</td>\n",
       "    </tr>\n",
       "    <tr>\n",
       "      <th>50%</th>\n",
       "      <td>263.500000</td>\n",
       "      <td>0.008634</td>\n",
       "      <td>0.696948</td>\n",
       "      <td>0.262463</td>\n",
       "      <td>0.039173</td>\n",
       "      <td>5.276037e-03</td>\n",
       "      <td>0.004075</td>\n",
       "      <td>0.052295</td>\n",
       "      <td>0.080103</td>\n",
       "      <td>0.071759</td>\n",
       "      <td>0.071719</td>\n",
       "      <td>0.049120</td>\n",
       "      <td>0.043309</td>\n",
       "      <td>0.640794</td>\n",
       "      <td>8.735965e-04</td>\n",
       "      <td>0.328599</td>\n",
       "    </tr>\n",
       "    <tr>\n",
       "      <th>75%</th>\n",
       "      <td>444.250000</td>\n",
       "      <td>0.016306</td>\n",
       "      <td>1.120103</td>\n",
       "      <td>0.358995</td>\n",
       "      <td>0.057428</td>\n",
       "      <td>7.685304e-03</td>\n",
       "      <td>0.006196</td>\n",
       "      <td>0.087347</td>\n",
       "      <td>0.130821</td>\n",
       "      <td>0.106261</td>\n",
       "      <td>0.100956</td>\n",
       "      <td>0.074686</td>\n",
       "      <td>0.081908</td>\n",
       "      <td>0.860838</td>\n",
       "      <td>1.285330e-03</td>\n",
       "      <td>0.505593</td>\n",
       "    </tr>\n",
       "    <tr>\n",
       "      <th>max</th>\n",
       "      <td>610.000000</td>\n",
       "      <td>0.031372</td>\n",
       "      <td>2.421031</td>\n",
       "      <td>1.064599</td>\n",
       "      <td>0.149688</td>\n",
       "      <td>1.459991e-02</td>\n",
       "      <td>0.013211</td>\n",
       "      <td>0.154220</td>\n",
       "      <td>0.243378</td>\n",
       "      <td>0.214120</td>\n",
       "      <td>0.239373</td>\n",
       "      <td>0.150386</td>\n",
       "      <td>0.187575</td>\n",
       "      <td>1.784494</td>\n",
       "      <td>2.921267e-03</td>\n",
       "      <td>1.076413</td>\n",
       "    </tr>\n",
       "  </tbody>\n",
       "</table>\n",
       "</div>"
      ],
      "text/plain": [
       "          movieId           0           1           2           3  \\\n",
       "count  164.000000  164.000000  164.000000  164.000000  164.000000   \n",
       "mean   283.335366    0.010465    0.786730    0.269630    0.042265   \n",
       "std    185.085398    0.007569    0.526437    0.173822    0.029604   \n",
       "min      1.000000    0.000260    0.000232    0.001807    0.001479   \n",
       "25%    111.750000    0.004542    0.409771    0.139270    0.016530   \n",
       "50%    263.500000    0.008634    0.696948    0.262463    0.039173   \n",
       "75%    444.250000    0.016306    1.120103    0.358995    0.057428   \n",
       "max    610.000000    0.031372    2.421031    1.064599    0.149688   \n",
       "\n",
       "                  4           5           6           7           8  \\\n",
       "count  1.640000e+02  164.000000  164.000000  164.000000  164.000000   \n",
       "mean   5.369037e-03    0.004340    0.056949    0.087625    0.075990   \n",
       "std    3.423490e-03    0.002936    0.036109    0.056342    0.048200   \n",
       "min    1.266817e-08    0.000007    0.001087    0.000627    0.001141   \n",
       "25%    2.473798e-03    0.001812    0.026262    0.047016    0.037445   \n",
       "50%    5.276037e-03    0.004075    0.052295    0.080103    0.071759   \n",
       "75%    7.685304e-03    0.006196    0.087347    0.130821    0.106261   \n",
       "max    1.459991e-02    0.013211    0.154220    0.243378    0.214120   \n",
       "\n",
       "                9          10          11          12            13  \\\n",
       "count  164.000000  164.000000  164.000000  164.000000  1.640000e+02   \n",
       "mean     0.073484    0.052708    0.052416    0.637993  9.702955e-04   \n",
       "std      0.045894    0.034773    0.037283    0.360679  6.274353e-04   \n",
       "min      0.000239    0.000028    0.000032    0.009358  4.070145e-07   \n",
       "25%      0.036362    0.026507    0.021717    0.365909  5.004141e-04   \n",
       "50%      0.071719    0.049120    0.043309    0.640794  8.735965e-04   \n",
       "75%      0.100956    0.074686    0.081908    0.860838  1.285330e-03   \n",
       "max      0.239373    0.150386    0.187575    1.784494  2.921267e-03   \n",
       "\n",
       "               14  \n",
       "count  164.000000  \n",
       "mean     0.360281  \n",
       "std      0.254777  \n",
       "min      0.001035  \n",
       "25%      0.155757  \n",
       "50%      0.328599  \n",
       "75%      0.505593  \n",
       "max      1.076413  "
      ]
     },
     "execution_count": 19,
     "metadata": {},
     "output_type": "execute_result"
    }
   ],
   "source": [
    "q_u_describe = q_u_DF.describe()\n",
    "q_u_describe"
   ]
  },
  {
   "cell_type": "code",
   "execution_count": 20,
   "metadata": {},
   "outputs": [
    {
     "data": {
      "application/vnd.plotly.v1+json": {
       "config": {
        "linkText": "Export to plot.ly",
        "plotlyServerURL": "https://plot.ly",
        "showLink": false
       },
       "data": [
        {
         "colorscale": [
          [
           0,
           "rgb(255,255,255)"
          ],
          [
           1,
           "rgb(31, 119, 180)"
          ]
         ],
         "type": "heatmap",
         "x": [
          "0",
          "1",
          "2",
          "3",
          "4",
          "5",
          "6",
          "7",
          "8",
          "9",
          "10",
          "11",
          "12",
          "13",
          "14"
         ],
         "y": [
          0,
          1,
          2,
          3,
          4,
          5,
          6,
          7,
          8,
          9,
          10,
          11,
          12,
          13,
          14,
          15,
          16,
          17,
          18,
          19
         ],
         "z": [
          [
           0.0156967207962837,
           1.241905144792116,
           0.1841543930482806,
           0.0108665744955537,
           0.0086169737915487,
           0.0057329230077847,
           0.0575670957652506,
           0.1571744218350312,
           0.1019203145220889,
           0.0742460706226275,
           0.0363374186782095,
           0.0462759844901378,
           0.7702795156291797,
           0.0010079384070474,
           0.626503238493346
          ],
          [
           0.0209046327973751,
           1.012212196847255,
           0.3728044414117139,
           0.084929880138096,
           0.0055631702932352,
           0.0016639324272176,
           0.0970893204559908,
           0.1137533919317139,
           0.0708015815897876,
           0.0205310210428383,
           0.0859615017689358,
           0.040903741546023,
           0.3647208190198046,
           0.0012490665516836,
           0.3947685843332832
          ],
          [
           0.0168174967722823,
           0.8232373402264719,
           0.0790739278345004,
           0.1182901792310842,
           0.0017435857049697,
           0.0040180183402429,
           0.092733048215284,
           0.0881467003383213,
           0.004613751194783,
           0.096102789248417,
           0.0792332877522445,
           0.1202906076099953,
           0.826046973305052,
           0.0008461372262552,
           0.6802655841861138
          ],
          [
           0.0056268744883764,
           0.2800899549122783,
           0.1397916170695748,
           0.0292344386264559,
           0.0026136788043264,
           0.0022077951042353,
           0.1024591496548676,
           0.0551814205024352,
           0.0948006016454082,
           0.1002670119128272,
           0.1092177084339351,
           0.0301400365921693,
           0.6740244262807591,
           0.0028272099912866,
           0.3465773284567905
          ],
          [
           0.0133087648625372,
           0.0513714036413953,
           0.0764941770839053,
           0.0393311998307196,
           0.0122584074428249,
           0.0025912476694093,
           0.0434998939469268,
           0.0015200740870341,
           0.0641351214689465,
           0.0349933830157734,
           0.0583672546557973,
           0.1875745524284436,
           0.7929142867021156,
           0.0012605630447964,
           0.7378558498372602
          ],
          [
           0.0173877608558167,
           1.1750273585739133,
           0.3865637511871975,
           0.0739580607795951,
           2.5566656273492166e-05,
           0.001586554217706,
           0.0949169358370261,
           0.1771542176532969,
           0.0583343338476068,
           0.0971618692996973,
           0.0071818499140894,
           0.0920293372138979,
           0.4100688660071976,
           0.0018951012611683,
           0.4354723608268576
          ],
          [
           0.0175352580681216,
           0.2475918875640211,
           0.0821165587821329,
           0.038013928218666,
           0.0076939127696313,
           0.0007873867309363,
           0.0440414939565921,
           0.0471917066594974,
           0.1682500156604679,
           0.0137460937025136,
           0.0963240521213674,
           0.0784092124146342,
           1.27883267364648,
           0.0019816457059114,
           0.1581646650984406
          ],
          [
           0.0207708971406248,
           0.8654643160146132,
           0.2649747216701387,
           0.0614597221963864,
           0.0017569971458284,
           0.0047934184826934,
           0.072205112060439,
           0.0639107242923224,
           0.0546078509909355,
           0.2003148505032153,
           0.0553871266673426,
           0.0164329878121679,
           0.2777288078320841,
           0.0010084737219294,
           0.3962359598002318
          ],
          [
           0.0264657274728239,
           0.6485315504907214,
           0.2390296047958809,
           0.0097679355345704,
           0.0093645087857568,
           3.5432173223798e-05,
           0.0523332161290237,
           0.0875356210489786,
           0.0390742745918535,
           0.0904012200142001,
           0.0070469374814016,
           0.0059710989539532,
           0.2297494586276779,
           0.0006723691813859,
           0.7851128599879088
          ],
          [
           0.0202069345556975,
           0.9344011843207348,
           0.1056409204190961,
           0.1293571230943852,
           0.0002899989064373,
           0.0027400741788318,
           0.0182523553316026,
           0.0899172036804405,
           0.0885465530362815,
           0.0298370335277785,
           0.0718269110361963,
           0.0304454760700018,
           0.7890196708564445,
           0.0012377861672769,
           0.4190649489796726
          ],
          [
           0.0071380892842033,
           0.0770830368585207,
           0.1317744397224305,
           0.0764625931428902,
           0.0065247105386872,
           0.0045182935629706,
           0.0710586456531198,
           0.163064349090466,
           0.1330516448322121,
           0.1124549795650876,
           0.0798286051869006,
           0.0936154202358908,
           0.4903805541281428,
           0.0012572019791991,
           0.8374227279477973
          ],
          [
           0.0228683957076297,
           0.0259873738373107,
           0.2558177395955141,
           0.1009223161297566,
           0.0061169059172139,
           0.0060320644618112,
           0.0943319523622096,
           0.0499580581594762,
           0.1348325958995644,
           0.0884277588563791,
           0.0299402082259871,
           0.0848674026734812,
           0.2238099922997056,
           0.0019304370052068,
           0.2433290190077367
          ],
          [
           0.0157329140545756,
           1.1722669566548345,
           0.296350410551205,
           0.0460839242439479,
           0.0013857781183994,
           0.0051067467226798,
           0.0495384094831588,
           0.1770606134909177,
           0.1013528290054636,
           0.1158064409305915,
           0.088710949825272,
           0.0668522710171674,
           0.92537651668358,
           0.0005264486015248,
           0.5439688695051691
          ],
          [
           0.004318202577058,
           0.8308082035354105,
           0.6273244934446516,
           0.0269739356259265,
           0.0055409014682243,
           0.0010440775233371,
           0.0265928036137012,
           0.1141869115646456,
           0.0491299253195559,
           0.0319265891281004,
           0.0988540415596373,
           0.002187136474287,
           1.128513245524897,
           0.0004774164826316,
           0.7100178396657093
          ],
          [
           0.0171744818790941,
           1.1702408381559168,
           0.001807452279304,
           0.0481493932162934,
           0.0133824475409769,
           0.0012281489694181,
           0.068674821294977,
           0.0495423437493512,
           0.0922512931750688,
           0.0994801220768667,
           0.1118714394942563,
           0.0656523114031343,
           0.5451524750479977,
           0.0014873140044229,
           0.0802548772510814
          ],
          [
           0.011818164136745,
           0.6563041882069902,
           0.3231567941218443,
           0.0728483475293347,
           0.0018266944480416,
           0.0071979104865116,
           0.0435535968084491,
           0.100907112344175,
           0.1054015101224951,
           0.1091300307974606,
           0.0506672802509964,
           0.1149672145158873,
           0.5740637627956147,
           0.000375868399528,
           0.6894231752267252
          ],
          [
           0.0078571047073533,
           0.91570647878654,
           0.2723025885515243,
           0.0481090186079299,
           0.00103237404483,
           0.0082825406158941,
           0.0891036225324588,
           0.0752656947783731,
           0.1002920581438043,
           0.0436964246821344,
           0.0567168609608199,
           0.0866393724251424,
           0.696225466999998,
           0.0006814197278382,
           0.8001041565477396
          ],
          [
           0.0112861825100638,
           1.5068727596531803,
           0.0045416275787418,
           0.0168052761994437,
           0.0070490111214669,
           0.0058226724714437,
           0.0377125364434467,
           0.0730464648626868,
           0.0895778920290019,
           0.0616031985725503,
           0.0775092551839068,
           0.0313112641314172,
           0.779314882430045,
           0.0006198752846782,
           0.7457244379575421
          ],
          [
           0.0100630756717789,
           1.0121424944042106,
           0.0770866379032517,
           0.0728590693106312,
           0.0063431857794052,
           0.0071688990437693,
           0.1371004300676721,
           0.0568256120460939,
           0.1729993092828081,
           0.072043236874339,
           0.0004358517322071,
           0.0407572748294923,
           0.1039620527965003,
           0.0017388407102869,
           0.3983905184472918
          ],
          [
           0.0129419063681554,
           1.1249353809725935,
           0.2784637150185852,
           0.0427260595497091,
           0.0091133466377133,
           0.0097442480360857,
           0.0902121832614064,
           0.1508001578073387,
           0.0891041554244041,
           0.0657630774215604,
           0.0336714891883416,
           0.0179549004157001,
           0.5201639557212036,
           2.102532525433163e-05,
           0.5338225199020631
          ]
         ]
        }
       ],
       "layout": {
        "autosize": true,
        "template": {
         "data": {
          "bar": [
           {
            "error_x": {
             "color": "#2a3f5f"
            },
            "error_y": {
             "color": "#2a3f5f"
            },
            "marker": {
             "line": {
              "color": "#E5ECF6",
              "width": 0.5
             },
             "pattern": {
              "fillmode": "overlay",
              "size": 10,
              "solidity": 0.2
             }
            },
            "type": "bar"
           }
          ],
          "barpolar": [
           {
            "marker": {
             "line": {
              "color": "#E5ECF6",
              "width": 0.5
             },
             "pattern": {
              "fillmode": "overlay",
              "size": 10,
              "solidity": 0.2
             }
            },
            "type": "barpolar"
           }
          ],
          "carpet": [
           {
            "aaxis": {
             "endlinecolor": "#2a3f5f",
             "gridcolor": "white",
             "linecolor": "white",
             "minorgridcolor": "white",
             "startlinecolor": "#2a3f5f"
            },
            "baxis": {
             "endlinecolor": "#2a3f5f",
             "gridcolor": "white",
             "linecolor": "white",
             "minorgridcolor": "white",
             "startlinecolor": "#2a3f5f"
            },
            "type": "carpet"
           }
          ],
          "choropleth": [
           {
            "colorbar": {
             "outlinewidth": 0,
             "ticks": ""
            },
            "type": "choropleth"
           }
          ],
          "contour": [
           {
            "colorbar": {
             "outlinewidth": 0,
             "ticks": ""
            },
            "colorscale": [
             [
              0,
              "#0d0887"
             ],
             [
              0.1111111111111111,
              "#46039f"
             ],
             [
              0.2222222222222222,
              "#7201a8"
             ],
             [
              0.3333333333333333,
              "#9c179e"
             ],
             [
              0.4444444444444444,
              "#bd3786"
             ],
             [
              0.5555555555555556,
              "#d8576b"
             ],
             [
              0.6666666666666666,
              "#ed7953"
             ],
             [
              0.7777777777777778,
              "#fb9f3a"
             ],
             [
              0.8888888888888888,
              "#fdca26"
             ],
             [
              1,
              "#f0f921"
             ]
            ],
            "type": "contour"
           }
          ],
          "contourcarpet": [
           {
            "colorbar": {
             "outlinewidth": 0,
             "ticks": ""
            },
            "type": "contourcarpet"
           }
          ],
          "heatmap": [
           {
            "colorbar": {
             "outlinewidth": 0,
             "ticks": ""
            },
            "colorscale": [
             [
              0,
              "#0d0887"
             ],
             [
              0.1111111111111111,
              "#46039f"
             ],
             [
              0.2222222222222222,
              "#7201a8"
             ],
             [
              0.3333333333333333,
              "#9c179e"
             ],
             [
              0.4444444444444444,
              "#bd3786"
             ],
             [
              0.5555555555555556,
              "#d8576b"
             ],
             [
              0.6666666666666666,
              "#ed7953"
             ],
             [
              0.7777777777777778,
              "#fb9f3a"
             ],
             [
              0.8888888888888888,
              "#fdca26"
             ],
             [
              1,
              "#f0f921"
             ]
            ],
            "type": "heatmap"
           }
          ],
          "heatmapgl": [
           {
            "colorbar": {
             "outlinewidth": 0,
             "ticks": ""
            },
            "colorscale": [
             [
              0,
              "#0d0887"
             ],
             [
              0.1111111111111111,
              "#46039f"
             ],
             [
              0.2222222222222222,
              "#7201a8"
             ],
             [
              0.3333333333333333,
              "#9c179e"
             ],
             [
              0.4444444444444444,
              "#bd3786"
             ],
             [
              0.5555555555555556,
              "#d8576b"
             ],
             [
              0.6666666666666666,
              "#ed7953"
             ],
             [
              0.7777777777777778,
              "#fb9f3a"
             ],
             [
              0.8888888888888888,
              "#fdca26"
             ],
             [
              1,
              "#f0f921"
             ]
            ],
            "type": "heatmapgl"
           }
          ],
          "histogram": [
           {
            "marker": {
             "pattern": {
              "fillmode": "overlay",
              "size": 10,
              "solidity": 0.2
             }
            },
            "type": "histogram"
           }
          ],
          "histogram2d": [
           {
            "colorbar": {
             "outlinewidth": 0,
             "ticks": ""
            },
            "colorscale": [
             [
              0,
              "#0d0887"
             ],
             [
              0.1111111111111111,
              "#46039f"
             ],
             [
              0.2222222222222222,
              "#7201a8"
             ],
             [
              0.3333333333333333,
              "#9c179e"
             ],
             [
              0.4444444444444444,
              "#bd3786"
             ],
             [
              0.5555555555555556,
              "#d8576b"
             ],
             [
              0.6666666666666666,
              "#ed7953"
             ],
             [
              0.7777777777777778,
              "#fb9f3a"
             ],
             [
              0.8888888888888888,
              "#fdca26"
             ],
             [
              1,
              "#f0f921"
             ]
            ],
            "type": "histogram2d"
           }
          ],
          "histogram2dcontour": [
           {
            "colorbar": {
             "outlinewidth": 0,
             "ticks": ""
            },
            "colorscale": [
             [
              0,
              "#0d0887"
             ],
             [
              0.1111111111111111,
              "#46039f"
             ],
             [
              0.2222222222222222,
              "#7201a8"
             ],
             [
              0.3333333333333333,
              "#9c179e"
             ],
             [
              0.4444444444444444,
              "#bd3786"
             ],
             [
              0.5555555555555556,
              "#d8576b"
             ],
             [
              0.6666666666666666,
              "#ed7953"
             ],
             [
              0.7777777777777778,
              "#fb9f3a"
             ],
             [
              0.8888888888888888,
              "#fdca26"
             ],
             [
              1,
              "#f0f921"
             ]
            ],
            "type": "histogram2dcontour"
           }
          ],
          "mesh3d": [
           {
            "colorbar": {
             "outlinewidth": 0,
             "ticks": ""
            },
            "type": "mesh3d"
           }
          ],
          "parcoords": [
           {
            "line": {
             "colorbar": {
              "outlinewidth": 0,
              "ticks": ""
             }
            },
            "type": "parcoords"
           }
          ],
          "pie": [
           {
            "automargin": true,
            "type": "pie"
           }
          ],
          "scatter": [
           {
            "marker": {
             "colorbar": {
              "outlinewidth": 0,
              "ticks": ""
             }
            },
            "type": "scatter"
           }
          ],
          "scatter3d": [
           {
            "line": {
             "colorbar": {
              "outlinewidth": 0,
              "ticks": ""
             }
            },
            "marker": {
             "colorbar": {
              "outlinewidth": 0,
              "ticks": ""
             }
            },
            "type": "scatter3d"
           }
          ],
          "scattercarpet": [
           {
            "marker": {
             "colorbar": {
              "outlinewidth": 0,
              "ticks": ""
             }
            },
            "type": "scattercarpet"
           }
          ],
          "scattergeo": [
           {
            "marker": {
             "colorbar": {
              "outlinewidth": 0,
              "ticks": ""
             }
            },
            "type": "scattergeo"
           }
          ],
          "scattergl": [
           {
            "marker": {
             "colorbar": {
              "outlinewidth": 0,
              "ticks": ""
             }
            },
            "type": "scattergl"
           }
          ],
          "scattermapbox": [
           {
            "marker": {
             "colorbar": {
              "outlinewidth": 0,
              "ticks": ""
             }
            },
            "type": "scattermapbox"
           }
          ],
          "scatterpolar": [
           {
            "marker": {
             "colorbar": {
              "outlinewidth": 0,
              "ticks": ""
             }
            },
            "type": "scatterpolar"
           }
          ],
          "scatterpolargl": [
           {
            "marker": {
             "colorbar": {
              "outlinewidth": 0,
              "ticks": ""
             }
            },
            "type": "scatterpolargl"
           }
          ],
          "scatterternary": [
           {
            "marker": {
             "colorbar": {
              "outlinewidth": 0,
              "ticks": ""
             }
            },
            "type": "scatterternary"
           }
          ],
          "surface": [
           {
            "colorbar": {
             "outlinewidth": 0,
             "ticks": ""
            },
            "colorscale": [
             [
              0,
              "#0d0887"
             ],
             [
              0.1111111111111111,
              "#46039f"
             ],
             [
              0.2222222222222222,
              "#7201a8"
             ],
             [
              0.3333333333333333,
              "#9c179e"
             ],
             [
              0.4444444444444444,
              "#bd3786"
             ],
             [
              0.5555555555555556,
              "#d8576b"
             ],
             [
              0.6666666666666666,
              "#ed7953"
             ],
             [
              0.7777777777777778,
              "#fb9f3a"
             ],
             [
              0.8888888888888888,
              "#fdca26"
             ],
             [
              1,
              "#f0f921"
             ]
            ],
            "type": "surface"
           }
          ],
          "table": [
           {
            "cells": {
             "fill": {
              "color": "#EBF0F8"
             },
             "line": {
              "color": "white"
             }
            },
            "header": {
             "fill": {
              "color": "#C8D4E3"
             },
             "line": {
              "color": "white"
             }
            },
            "type": "table"
           }
          ]
         },
         "layout": {
          "annotationdefaults": {
           "arrowcolor": "#2a3f5f",
           "arrowhead": 0,
           "arrowwidth": 1
          },
          "autotypenumbers": "strict",
          "coloraxis": {
           "colorbar": {
            "outlinewidth": 0,
            "ticks": ""
           }
          },
          "colorscale": {
           "diverging": [
            [
             0,
             "#8e0152"
            ],
            [
             0.1,
             "#c51b7d"
            ],
            [
             0.2,
             "#de77ae"
            ],
            [
             0.3,
             "#f1b6da"
            ],
            [
             0.4,
             "#fde0ef"
            ],
            [
             0.5,
             "#f7f7f7"
            ],
            [
             0.6,
             "#e6f5d0"
            ],
            [
             0.7,
             "#b8e186"
            ],
            [
             0.8,
             "#7fbc41"
            ],
            [
             0.9,
             "#4d9221"
            ],
            [
             1,
             "#276419"
            ]
           ],
           "sequential": [
            [
             0,
             "#0d0887"
            ],
            [
             0.1111111111111111,
             "#46039f"
            ],
            [
             0.2222222222222222,
             "#7201a8"
            ],
            [
             0.3333333333333333,
             "#9c179e"
            ],
            [
             0.4444444444444444,
             "#bd3786"
            ],
            [
             0.5555555555555556,
             "#d8576b"
            ],
            [
             0.6666666666666666,
             "#ed7953"
            ],
            [
             0.7777777777777778,
             "#fb9f3a"
            ],
            [
             0.8888888888888888,
             "#fdca26"
            ],
            [
             1,
             "#f0f921"
            ]
           ],
           "sequentialminus": [
            [
             0,
             "#0d0887"
            ],
            [
             0.1111111111111111,
             "#46039f"
            ],
            [
             0.2222222222222222,
             "#7201a8"
            ],
            [
             0.3333333333333333,
             "#9c179e"
            ],
            [
             0.4444444444444444,
             "#bd3786"
            ],
            [
             0.5555555555555556,
             "#d8576b"
            ],
            [
             0.6666666666666666,
             "#ed7953"
            ],
            [
             0.7777777777777778,
             "#fb9f3a"
            ],
            [
             0.8888888888888888,
             "#fdca26"
            ],
            [
             1,
             "#f0f921"
            ]
           ]
          },
          "colorway": [
           "#636efa",
           "#EF553B",
           "#00cc96",
           "#ab63fa",
           "#FFA15A",
           "#19d3f3",
           "#FF6692",
           "#B6E880",
           "#FF97FF",
           "#FECB52"
          ],
          "font": {
           "color": "#2a3f5f"
          },
          "geo": {
           "bgcolor": "white",
           "lakecolor": "white",
           "landcolor": "#E5ECF6",
           "showlakes": true,
           "showland": true,
           "subunitcolor": "white"
          },
          "hoverlabel": {
           "align": "left"
          },
          "hovermode": "closest",
          "mapbox": {
           "style": "light"
          },
          "paper_bgcolor": "white",
          "plot_bgcolor": "#E5ECF6",
          "polar": {
           "angularaxis": {
            "gridcolor": "white",
            "linecolor": "white",
            "ticks": ""
           },
           "bgcolor": "#E5ECF6",
           "radialaxis": {
            "gridcolor": "white",
            "linecolor": "white",
            "ticks": ""
           }
          },
          "scene": {
           "xaxis": {
            "backgroundcolor": "#E5ECF6",
            "gridcolor": "white",
            "gridwidth": 2,
            "linecolor": "white",
            "showbackground": true,
            "ticks": "",
            "zerolinecolor": "white"
           },
           "yaxis": {
            "backgroundcolor": "#E5ECF6",
            "gridcolor": "white",
            "gridwidth": 2,
            "linecolor": "white",
            "showbackground": true,
            "ticks": "",
            "zerolinecolor": "white"
           },
           "zaxis": {
            "backgroundcolor": "#E5ECF6",
            "gridcolor": "white",
            "gridwidth": 2,
            "linecolor": "white",
            "showbackground": true,
            "ticks": "",
            "zerolinecolor": "white"
           }
          },
          "shapedefaults": {
           "line": {
            "color": "#2a3f5f"
           }
          },
          "ternary": {
           "aaxis": {
            "gridcolor": "white",
            "linecolor": "white",
            "ticks": ""
           },
           "baxis": {
            "gridcolor": "white",
            "linecolor": "white",
            "ticks": ""
           },
           "bgcolor": "#E5ECF6",
           "caxis": {
            "gridcolor": "white",
            "linecolor": "white",
            "ticks": ""
           }
          },
          "title": {
           "x": 0.05
          },
          "xaxis": {
           "automargin": true,
           "gridcolor": "white",
           "linecolor": "white",
           "ticks": "",
           "title": {
            "standoff": 15
           },
           "zerolinecolor": "white",
           "zerolinewidth": 2
          },
          "yaxis": {
           "automargin": true,
           "gridcolor": "white",
           "linecolor": "white",
           "ticks": "",
           "title": {
            "standoff": 15
           },
           "zerolinecolor": "white",
           "zerolinewidth": 2
          }
         }
        },
        "xaxis": {
         "range": [
          0,
          14
         ],
         "title": {
          "text": "Laten Factor Dimension"
         },
         "type": "category"
        },
        "yaxis": {
         "range": [
          0,
          20
         ],
         "title": {
          "text": "Movies Id."
         },
         "type": "linear"
        }
       }
      },
      "image/png": "[encoded data removed]",
      "text/html": [
       "<div>                            <div id=\"f3014ef4-7fa9-40e7-945b-3d83c9c33466\" class=\"plotly-graph-div\" style=\"height:525px; width:100%;\"></div>            <script type=\"text/javascript\">                require([\"plotly\"], function(Plotly) {                    window.PLOTLYENV=window.PLOTLYENV || {};                                    if (document.getElementById(\"f3014ef4-7fa9-40e7-945b-3d83c9c33466\")) {                    Plotly.newPlot(                        \"f3014ef4-7fa9-40e7-945b-3d83c9c33466\",                        [{\"colorscale\":[[0.0,\"rgb(255,255,255)\"],[1.0,\"rgb(31, 119, 180)\"]],\"x\":[\"0\",\"1\",\"2\",\"3\",\"4\",\"5\",\"6\",\"7\",\"8\",\"9\",\"10\",\"11\",\"12\",\"13\",\"14\"],\"y\":[0,1,2,3,4,5,6,7,8,9,10,11,12,13,14,15,16,17,18,19],\"z\":[[0.0156967207962837,1.241905144792116,0.1841543930482806,0.0108665744955537,0.0086169737915487,0.0057329230077847,0.0575670957652506,0.1571744218350312,0.1019203145220889,0.0742460706226275,0.0363374186782095,0.0462759844901378,0.7702795156291797,0.0010079384070474,0.626503238493346],[0.0209046327973751,1.012212196847255,0.3728044414117139,0.084929880138096,0.0055631702932352,0.0016639324272176,0.0970893204559908,0.1137533919317139,0.0708015815897876,0.0205310210428383,0.0859615017689358,0.040903741546023,0.3647208190198046,0.0012490665516836,0.3947685843332832],[0.0168174967722823,0.8232373402264719,0.0790739278345004,0.1182901792310842,0.0017435857049697,0.0040180183402429,0.092733048215284,0.0881467003383213,0.004613751194783,0.096102789248417,0.0792332877522445,0.1202906076099953,0.826046973305052,0.0008461372262552,0.6802655841861138],[0.0056268744883764,0.2800899549122783,0.1397916170695748,0.0292344386264559,0.0026136788043264,0.0022077951042353,0.1024591496548676,0.0551814205024352,0.0948006016454082,0.1002670119128272,0.1092177084339351,0.0301400365921693,0.6740244262807591,0.0028272099912866,0.3465773284567905],[0.0133087648625372,0.0513714036413953,0.0764941770839053,0.0393311998307196,0.0122584074428249,0.0025912476694093,0.0434998939469268,0.0015200740870341,0.0641351214689465,0.0349933830157734,0.0583672546557973,0.1875745524284436,0.7929142867021156,0.0012605630447964,0.7378558498372602],[0.0173877608558167,1.1750273585739133,0.3865637511871975,0.0739580607795951,2.5566656273492166e-05,0.001586554217706,0.0949169358370261,0.1771542176532969,0.0583343338476068,0.0971618692996973,0.0071818499140894,0.0920293372138979,0.4100688660071976,0.0018951012611683,0.4354723608268576],[0.0175352580681216,0.2475918875640211,0.0821165587821329,0.038013928218666,0.0076939127696313,0.0007873867309363,0.0440414939565921,0.0471917066594974,0.1682500156604679,0.0137460937025136,0.0963240521213674,0.0784092124146342,1.27883267364648,0.0019816457059114,0.1581646650984406],[0.0207708971406248,0.8654643160146132,0.2649747216701387,0.0614597221963864,0.0017569971458284,0.0047934184826934,0.072205112060439,0.0639107242923224,0.0546078509909355,0.2003148505032153,0.0553871266673426,0.0164329878121679,0.2777288078320841,0.0010084737219294,0.3962359598002318],[0.0264657274728239,0.6485315504907214,0.2390296047958809,0.0097679355345704,0.0093645087857568,3.5432173223798e-05,0.0523332161290237,0.0875356210489786,0.0390742745918535,0.0904012200142001,0.0070469374814016,0.0059710989539532,0.2297494586276779,0.0006723691813859,0.7851128599879088],[0.0202069345556975,0.9344011843207348,0.1056409204190961,0.1293571230943852,0.0002899989064373,0.0027400741788318,0.0182523553316026,0.0899172036804405,0.0885465530362815,0.0298370335277785,0.0718269110361963,0.0304454760700018,0.7890196708564445,0.0012377861672769,0.4190649489796726],[0.0071380892842033,0.0770830368585207,0.1317744397224305,0.0764625931428902,0.0065247105386872,0.0045182935629706,0.0710586456531198,0.163064349090466,0.1330516448322121,0.1124549795650876,0.0798286051869006,0.0936154202358908,0.4903805541281428,0.0012572019791991,0.8374227279477973],[0.0228683957076297,0.0259873738373107,0.2558177395955141,0.1009223161297566,0.0061169059172139,0.0060320644618112,0.0943319523622096,0.0499580581594762,0.1348325958995644,0.0884277588563791,0.0299402082259871,0.0848674026734812,0.2238099922997056,0.0019304370052068,0.2433290190077367],[0.0157329140545756,1.1722669566548345,0.296350410551205,0.0460839242439479,0.0013857781183994,0.0051067467226798,0.0495384094831588,0.1770606134909177,0.1013528290054636,0.1158064409305915,0.088710949825272,0.0668522710171674,0.92537651668358,0.0005264486015248,0.5439688695051691],[0.004318202577058,0.8308082035354105,0.6273244934446516,0.0269739356259265,0.0055409014682243,0.0010440775233371,0.0265928036137012,0.1141869115646456,0.0491299253195559,0.0319265891281004,0.0988540415596373,0.002187136474287,1.128513245524897,0.0004774164826316,0.7100178396657093],[0.0171744818790941,1.1702408381559168,0.001807452279304,0.0481493932162934,0.0133824475409769,0.0012281489694181,0.068674821294977,0.0495423437493512,0.0922512931750688,0.0994801220768667,0.1118714394942563,0.0656523114031343,0.5451524750479977,0.0014873140044229,0.0802548772510814],[0.011818164136745,0.6563041882069902,0.3231567941218443,0.0728483475293347,0.0018266944480416,0.0071979104865116,0.0435535968084491,0.100907112344175,0.1054015101224951,0.1091300307974606,0.0506672802509964,0.1149672145158873,0.5740637627956147,0.000375868399528,0.6894231752267252],[0.0078571047073533,0.91570647878654,0.2723025885515243,0.0481090186079299,0.00103237404483,0.0082825406158941,0.0891036225324588,0.0752656947783731,0.1002920581438043,0.0436964246821344,0.0567168609608199,0.0866393724251424,0.696225466999998,0.0006814197278382,0.8001041565477396],[0.0112861825100638,1.5068727596531803,0.0045416275787418,0.0168052761994437,0.0070490111214669,0.0058226724714437,0.0377125364434467,0.0730464648626868,0.0895778920290019,0.0616031985725503,0.0775092551839068,0.0313112641314172,0.779314882430045,0.0006198752846782,0.7457244379575421],[0.0100630756717789,1.0121424944042106,0.0770866379032517,0.0728590693106312,0.0063431857794052,0.0071688990437693,0.1371004300676721,0.0568256120460939,0.1729993092828081,0.072043236874339,0.0004358517322071,0.0407572748294923,0.1039620527965003,0.0017388407102869,0.3983905184472918],[0.0129419063681554,1.1249353809725935,0.2784637150185852,0.0427260595497091,0.0091133466377133,0.0097442480360857,0.0902121832614064,0.1508001578073387,0.0891041554244041,0.0657630774215604,0.0336714891883416,0.0179549004157001,0.5201639557212036,2.102532525433163e-05,0.5338225199020631]],\"type\":\"heatmap\"}],                        {\"template\":{\"data\":{\"barpolar\":[{\"marker\":{\"line\":{\"color\":\"#E5ECF6\",\"width\":0.5},\"pattern\":{\"fillmode\":\"overlay\",\"size\":10,\"solidity\":0.2}},\"type\":\"barpolar\"}],\"bar\":[{\"error_x\":{\"color\":\"#2a3f5f\"},\"error_y\":{\"color\":\"#2a3f5f\"},\"marker\":{\"line\":{\"color\":\"#E5ECF6\",\"width\":0.5},\"pattern\":{\"fillmode\":\"overlay\",\"size\":10,\"solidity\":0.2}},\"type\":\"bar\"}],\"carpet\":[{\"aaxis\":{\"endlinecolor\":\"#2a3f5f\",\"gridcolor\":\"white\",\"linecolor\":\"white\",\"minorgridcolor\":\"white\",\"startlinecolor\":\"#2a3f5f\"},\"baxis\":{\"endlinecolor\":\"#2a3f5f\",\"gridcolor\":\"white\",\"linecolor\":\"white\",\"minorgridcolor\":\"white\",\"startlinecolor\":\"#2a3f5f\"},\"type\":\"carpet\"}],\"choropleth\":[{\"colorbar\":{\"outlinewidth\":0,\"ticks\":\"\"},\"type\":\"choropleth\"}],\"contourcarpet\":[{\"colorbar\":{\"outlinewidth\":0,\"ticks\":\"\"},\"type\":\"contourcarpet\"}],\"contour\":[{\"colorbar\":{\"outlinewidth\":0,\"ticks\":\"\"},\"colorscale\":[[0.0,\"#0d0887\"],[0.1111111111111111,\"#46039f\"],[0.2222222222222222,\"#7201a8\"],[0.3333333333333333,\"#9c179e\"],[0.4444444444444444,\"#bd3786\"],[0.5555555555555556,\"#d8576b\"],[0.6666666666666666,\"#ed7953\"],[0.7777777777777778,\"#fb9f3a\"],[0.8888888888888888,\"#fdca26\"],[1.0,\"#f0f921\"]],\"type\":\"contour\"}],\"heatmapgl\":[{\"colorbar\":{\"outlinewidth\":0,\"ticks\":\"\"},\"colorscale\":[[0.0,\"#0d0887\"],[0.1111111111111111,\"#46039f\"],[0.2222222222222222,\"#7201a8\"],[0.3333333333333333,\"#9c179e\"],[0.4444444444444444,\"#bd3786\"],[0.5555555555555556,\"#d8576b\"],[0.6666666666666666,\"#ed7953\"],[0.7777777777777778,\"#fb9f3a\"],[0.8888888888888888,\"#fdca26\"],[1.0,\"#f0f921\"]],\"type\":\"heatmapgl\"}],\"heatmap\":[{\"colorbar\":{\"outlinewidth\":0,\"ticks\":\"\"},\"colorscale\":[[0.0,\"#0d0887\"],[0.1111111111111111,\"#46039f\"],[0.2222222222222222,\"#7201a8\"],[0.3333333333333333,\"#9c179e\"],[0.4444444444444444,\"#bd3786\"],[0.5555555555555556,\"#d8576b\"],[0.6666666666666666,\"#ed7953\"],[0.7777777777777778,\"#fb9f3a\"],[0.8888888888888888,\"#fdca26\"],[1.0,\"#f0f921\"]],\"type\":\"heatmap\"}],\"histogram2dcontour\":[{\"colorbar\":{\"outlinewidth\":0,\"ticks\":\"\"},\"colorscale\":[[0.0,\"#0d0887\"],[0.1111111111111111,\"#46039f\"],[0.2222222222222222,\"#7201a8\"],[0.3333333333333333,\"#9c179e\"],[0.4444444444444444,\"#bd3786\"],[0.5555555555555556,\"#d8576b\"],[0.6666666666666666,\"#ed7953\"],[0.7777777777777778,\"#fb9f3a\"],[0.8888888888888888,\"#fdca26\"],[1.0,\"#f0f921\"]],\"type\":\"histogram2dcontour\"}],\"histogram2d\":[{\"colorbar\":{\"outlinewidth\":0,\"ticks\":\"\"},\"colorscale\":[[0.0,\"#0d0887\"],[0.1111111111111111,\"#46039f\"],[0.2222222222222222,\"#7201a8\"],[0.3333333333333333,\"#9c179e\"],[0.4444444444444444,\"#bd3786\"],[0.5555555555555556,\"#d8576b\"],[0.6666666666666666,\"#ed7953\"],[0.7777777777777778,\"#fb9f3a\"],[0.8888888888888888,\"#fdca26\"],[1.0,\"#f0f921\"]],\"type\":\"histogram2d\"}],\"histogram\":[{\"marker\":{\"pattern\":{\"fillmode\":\"overlay\",\"size\":10,\"solidity\":0.2}},\"type\":\"histogram\"}],\"mesh3d\":[{\"colorbar\":{\"outlinewidth\":0,\"ticks\":\"\"},\"type\":\"mesh3d\"}],\"parcoords\":[{\"line\":{\"colorbar\":{\"outlinewidth\":0,\"ticks\":\"\"}},\"type\":\"parcoords\"}],\"pie\":[{\"automargin\":true,\"type\":\"pie\"}],\"scatter3d\":[{\"line\":{\"colorbar\":{\"outlinewidth\":0,\"ticks\":\"\"}},\"marker\":{\"colorbar\":{\"outlinewidth\":0,\"ticks\":\"\"}},\"type\":\"scatter3d\"}],\"scattercarpet\":[{\"marker\":{\"colorbar\":{\"outlinewidth\":0,\"ticks\":\"\"}},\"type\":\"scattercarpet\"}],\"scattergeo\":[{\"marker\":{\"colorbar\":{\"outlinewidth\":0,\"ticks\":\"\"}},\"type\":\"scattergeo\"}],\"scattergl\":[{\"marker\":{\"colorbar\":{\"outlinewidth\":0,\"ticks\":\"\"}},\"type\":\"scattergl\"}],\"scattermapbox\":[{\"marker\":{\"colorbar\":{\"outlinewidth\":0,\"ticks\":\"\"}},\"type\":\"scattermapbox\"}],\"scatterpolargl\":[{\"marker\":{\"colorbar\":{\"outlinewidth\":0,\"ticks\":\"\"}},\"type\":\"scatterpolargl\"}],\"scatterpolar\":[{\"marker\":{\"colorbar\":{\"outlinewidth\":0,\"ticks\":\"\"}},\"type\":\"scatterpolar\"}],\"scatter\":[{\"marker\":{\"colorbar\":{\"outlinewidth\":0,\"ticks\":\"\"}},\"type\":\"scatter\"}],\"scatterternary\":[{\"marker\":{\"colorbar\":{\"outlinewidth\":0,\"ticks\":\"\"}},\"type\":\"scatterternary\"}],\"surface\":[{\"colorbar\":{\"outlinewidth\":0,\"ticks\":\"\"},\"colorscale\":[[0.0,\"#0d0887\"],[0.1111111111111111,\"#46039f\"],[0.2222222222222222,\"#7201a8\"],[0.3333333333333333,\"#9c179e\"],[0.4444444444444444,\"#bd3786\"],[0.5555555555555556,\"#d8576b\"],[0.6666666666666666,\"#ed7953\"],[0.7777777777777778,\"#fb9f3a\"],[0.8888888888888888,\"#fdca26\"],[1.0,\"#f0f921\"]],\"type\":\"surface\"}],\"table\":[{\"cells\":{\"fill\":{\"color\":\"#EBF0F8\"},\"line\":{\"color\":\"white\"}},\"header\":{\"fill\":{\"color\":\"#C8D4E3\"},\"line\":{\"color\":\"white\"}},\"type\":\"table\"}]},\"layout\":{\"annotationdefaults\":{\"arrowcolor\":\"#2a3f5f\",\"arrowhead\":0,\"arrowwidth\":1},\"autotypenumbers\":\"strict\",\"coloraxis\":{\"colorbar\":{\"outlinewidth\":0,\"ticks\":\"\"}},\"colorscale\":{\"diverging\":[[0,\"#8e0152\"],[0.1,\"#c51b7d\"],[0.2,\"#de77ae\"],[0.3,\"#f1b6da\"],[0.4,\"#fde0ef\"],[0.5,\"#f7f7f7\"],[0.6,\"#e6f5d0\"],[0.7,\"#b8e186\"],[0.8,\"#7fbc41\"],[0.9,\"#4d9221\"],[1,\"#276419\"]],\"sequential\":[[0.0,\"#0d0887\"],[0.1111111111111111,\"#46039f\"],[0.2222222222222222,\"#7201a8\"],[0.3333333333333333,\"#9c179e\"],[0.4444444444444444,\"#bd3786\"],[0.5555555555555556,\"#d8576b\"],[0.6666666666666666,\"#ed7953\"],[0.7777777777777778,\"#fb9f3a\"],[0.8888888888888888,\"#fdca26\"],[1.0,\"#f0f921\"]],\"sequentialminus\":[[0.0,\"#0d0887\"],[0.1111111111111111,\"#46039f\"],[0.2222222222222222,\"#7201a8\"],[0.3333333333333333,\"#9c179e\"],[0.4444444444444444,\"#bd3786\"],[0.5555555555555556,\"#d8576b\"],[0.6666666666666666,\"#ed7953\"],[0.7777777777777778,\"#fb9f3a\"],[0.8888888888888888,\"#fdca26\"],[1.0,\"#f0f921\"]]},\"colorway\":[\"#636efa\",\"#EF553B\",\"#00cc96\",\"#ab63fa\",\"#FFA15A\",\"#19d3f3\",\"#FF6692\",\"#B6E880\",\"#FF97FF\",\"#FECB52\"],\"font\":{\"color\":\"#2a3f5f\"},\"geo\":{\"bgcolor\":\"white\",\"lakecolor\":\"white\",\"landcolor\":\"#E5ECF6\",\"showlakes\":true,\"showland\":true,\"subunitcolor\":\"white\"},\"hoverlabel\":{\"align\":\"left\"},\"hovermode\":\"closest\",\"mapbox\":{\"style\":\"light\"},\"paper_bgcolor\":\"white\",\"plot_bgcolor\":\"#E5ECF6\",\"polar\":{\"angularaxis\":{\"gridcolor\":\"white\",\"linecolor\":\"white\",\"ticks\":\"\"},\"bgcolor\":\"#E5ECF6\",\"radialaxis\":{\"gridcolor\":\"white\",\"linecolor\":\"white\",\"ticks\":\"\"}},\"scene\":{\"xaxis\":{\"backgroundcolor\":\"#E5ECF6\",\"gridcolor\":\"white\",\"gridwidth\":2,\"linecolor\":\"white\",\"showbackground\":true,\"ticks\":\"\",\"zerolinecolor\":\"white\"},\"yaxis\":{\"backgroundcolor\":\"#E5ECF6\",\"gridcolor\":\"white\",\"gridwidth\":2,\"linecolor\":\"white\",\"showbackground\":true,\"ticks\":\"\",\"zerolinecolor\":\"white\"},\"zaxis\":{\"backgroundcolor\":\"#E5ECF6\",\"gridcolor\":\"white\",\"gridwidth\":2,\"linecolor\":\"white\",\"showbackground\":true,\"ticks\":\"\",\"zerolinecolor\":\"white\"}},\"shapedefaults\":{\"line\":{\"color\":\"#2a3f5f\"}},\"ternary\":{\"aaxis\":{\"gridcolor\":\"white\",\"linecolor\":\"white\",\"ticks\":\"\"},\"baxis\":{\"gridcolor\":\"white\",\"linecolor\":\"white\",\"ticks\":\"\"},\"bgcolor\":\"#E5ECF6\",\"caxis\":{\"gridcolor\":\"white\",\"linecolor\":\"white\",\"ticks\":\"\"}},\"title\":{\"x\":0.05},\"xaxis\":{\"automargin\":true,\"gridcolor\":\"white\",\"linecolor\":\"white\",\"ticks\":\"\",\"title\":{\"standoff\":15},\"zerolinecolor\":\"white\",\"zerolinewidth\":2},\"yaxis\":{\"automargin\":true,\"gridcolor\":\"white\",\"linecolor\":\"white\",\"ticks\":\"\",\"title\":{\"standoff\":15},\"zerolinecolor\":\"white\",\"zerolinewidth\":2}}},\"xaxis\":{\"range\":[0,14],\"title\":{\"text\":\"Laten Factor Dimension\"}},\"yaxis\":{\"range\":[0,20],\"title\":{\"text\":\"Movies Id.\"}}},                        {\"responsive\": true}                    ).then(function(){\n",
       "                            \n",
       "var gd = document.getElementById('f3014ef4-7fa9-40e7-945b-3d83c9c33466');\n",
       "var x = new MutationObserver(function (mutations, observer) {{\n",
       "        var display = window.getComputedStyle(gd).display;\n",
       "        if (!display || display === 'none') {{\n",
       "            console.log([gd, 'removed!']);\n",
       "            Plotly.purge(gd);\n",
       "            observer.disconnect();\n",
       "        }}\n",
       "}});\n",
       "\n",
       "// Listen for the removal of the full notebook cells\n",
       "var notebookContainer = gd.closest('#notebook-container');\n",
       "if (notebookContainer) {{\n",
       "    x.observe(notebookContainer, {childList: true});\n",
       "}}\n",
       "\n",
       "// Listen for the clearing of the current output cell\n",
       "var outputEl = gd.closest('.output');\n",
       "if (outputEl) {{\n",
       "    x.observe(outputEl, {childList: true});\n",
       "}}\n",
       "\n",
       "                        })                };                });            </script>        </div>"
      ]
     },
     "metadata": {},
     "output_type": "display_data"
    }
   ],
   "source": [
    "trace = go.Heatmap(z=q_u_DF.iloc[:,1:].values[:20],\n",
    "                   x=q_u_DF.columns[1:].values,\n",
    "                   y=q_u_DF.index.values[:20],\n",
    "                   colorscale=[[0.0, 'rgb(255,255,255)'], [1.0, 'rgb(31, 119, 180)']])\n",
    "\n",
    "layout = go.Layout(\n",
    "    xaxis=dict(\n",
    "        title='Laten Factor Dimension',\n",
    "        range=[0, 14]\n",
    "    ),\n",
    "    yaxis=dict(\n",
    "        title='Movies Id.',\n",
    "        range=[0, 20]\n",
    "    )\n",
    ")\n",
    "\n",
    "\n",
    "data=[trace]\n",
    "\n",
    "fig = go.Figure(data=data, layout=layout)\n",
    "\n",
    "#iplot(data, filename='labelled-heatmap')\n",
    "iplot(fig, filename='axes-range-manual')"
   ]
  },
  {
   "cell_type": "code",
   "execution_count": 21,
   "metadata": {},
   "outputs": [
    {
     "data": {
      "application/vnd.plotly.v1+json": {
       "config": {
        "linkText": "Export to plot.ly",
        "plotlyServerURL": "https://plot.ly",
        "showLink": false
       },
       "data": [
        {
         "name": "0",
         "type": "box",
         "y": [
          0.0156967207962837,
          0.0209046327973751,
          0.0168174967722823,
          0.0056268744883764,
          0.0133087648625372,
          0.0173877608558167,
          0.0175352580681216,
          0.0207708971406248,
          0.0264657274728239,
          0.0202069345556975,
          0.0071380892842033,
          0.0228683957076297,
          0.0157329140545756,
          0.004318202577058,
          0.0171744818790941,
          0.011818164136745,
          0.0078571047073533,
          0.0112861825100638,
          0.0100630756717789,
          0.0129419063681554,
          0.0085081454552264,
          0.0175176535758105,
          0.0182504338136245,
          0.0197598413820446,
          0.0181316608206081,
          0.0064383562389122,
          0.0192338396871133,
          0.0103439564367653,
          0.006411128686015,
          0.0285671549079044,
          0.0189114512116858,
          0.0106232672718982,
          0.010939419071775,
          0.0145262902991872,
          0.0087603539347885,
          0.0025171417158269,
          0.0165477820161033,
          0.0043261729444942,
          0.0077523869655583,
          0.0112492748604471,
          0.0051228962263974,
          0.0236030518110401,
          0.0060727333706063,
          0.0045927657903139,
          0.0174895395431006,
          0.0136225006477982,
          0.0229903488522569,
          0.0048669842450239,
          0.0115891532266401,
          0.0035491783379824,
          0.0046783303543422,
          0.0081797373272349,
          0.0014330048167904,
          0.0046850099696609,
          0.00036885227009,
          0.0287420559061326,
          0.00568324965011,
          0.0141020135948093,
          0.003820152810545,
          0.0083661244660926,
          0.0066917940268225,
          0.0013708200406003,
          0.0010132131339454,
          0.0005355432278357,
          0.0023341533027587,
          0.002261973831319,
          0.0107754462104406,
          0.0186486241606594,
          0.0059862003467643,
          0.0147325505899625,
          0.0113548361096153,
          0.0012464138907565,
          0.0007254852493771,
          0.0090154415550625,
          0.0081948940247113,
          0.0098014840704265,
          0.0061230574785158,
          0.0139578061259124,
          0.0063512588656689,
          0.0023215883611554,
          0.0046682048095898,
          0.0125837959693829,
          0.0274668819359611,
          0.0039806836584706,
          0.0006389263282539,
          0.018532664197232,
          0.010421209833504,
          0.0043864895069099,
          0.0154154451871836,
          0.0313723880330697,
          0.0081598711999755,
          0.0161080548400894,
          0.0029194813762588,
          0.0033960772362038,
          0.0012629735909274,
          0.0217772844662485,
          0.0009050742468608,
          0.017986327635609,
          0.000259881080186,
          0.0131291836631563,
          0.0018801520283531,
          0.0060037034800801,
          0.0018791123720961,
          0.0168551229932561,
          0.0017185820262945,
          0.0162571192215942,
          0.0026999175453954,
          0.0200171556486927,
          0.0113403715736495,
          0.0212834184552582,
          0.0080559063050428,
          0.0006546464475396,
          0.0059327879938933,
          0.0062401353858237,
          0.0024943532715469,
          0.021210754067203,
          0.0092102519286179,
          0.0102835595675832,
          0.0012579002886718,
          0.0089597468065455,
          0.0043901447912374,
          0.0048203249411832,
          0.0075765469629358,
          0.0141136632511415,
          0.0020106928578446,
          0.0120095212061273,
          0.0038004439347107,
          0.0223435949728131,
          0.0049644568547701,
          0.0061795448168334,
          0.0296204831869939,
          0.0071982373412278,
          0.003766912006847,
          0.0063843822912617,
          0.0075323204832704,
          0.0002973639945008,
          0.02567876547744,
          0.009043967065616,
          0.0123091374859689,
          0.0107772148011293,
          0.0036957862952356,
          0.005084421870358,
          0.0127292139962829,
          0.0002996637531584,
          0.0060230860715183,
          0.0183619611469916,
          0.0237526362430793,
          0.0121559952857089,
          0.0172443572643168,
          0.000649249075318,
          0.0074275986268126,
          0.0025643156594037,
          0.0081660461437417,
          0.0290202910983977,
          0.014812389171009,
          0.0164537457075354,
          0.0173584390254693,
          0.0220719504687436,
          0.0029531712503617,
          0.0002657461156423,
          0.0052131072033239,
          0.0066354483986328,
          0.0058126154250525,
          0.0109025230836996
         ]
        },
        {
         "name": "1",
         "type": "box",
         "y": [
          1.241905144792116,
          1.012212196847255,
          0.8232373402264719,
          0.2800899549122783,
          0.0513714036413953,
          1.1750273585739133,
          0.2475918875640211,
          0.8654643160146132,
          0.6485315504907214,
          0.9344011843207348,
          0.0770830368585207,
          0.0259873738373107,
          1.1722669566548345,
          0.8308082035354105,
          1.1702408381559168,
          0.6563041882069902,
          0.91570647878654,
          1.5068727596531803,
          1.0121424944042106,
          1.1249353809725935,
          0.5960548494747318,
          0.6262940383824551,
          0.1114424909917185,
          0.5187438246912428,
          0.5670052679897092,
          0.0182081366940038,
          0.0592007045934414,
          0.8907703355557329,
          0.7484232567796414,
          0.7009550527872808,
          0.762729628100223,
          1.1163681032352697,
          1.1185540587238776,
          0.0802614157548435,
          0.6712046047309201,
          0.3945753735109065,
          0.4722281027169413,
          0.6854707779199631,
          0.1164978502033571,
          0.6929414285720115,
          1.0822921737369695,
          0.0758840959699693,
          1.2467620016939347,
          0.4958084558102159,
          0.673509054796315,
          1.6701376735573108,
          1.614788530801231,
          0.3587844706620828,
          0.4545531767919869,
          1.1845745406751311,
          0.988532263437323,
          1.232649048359226,
          2.4210305734755315,
          0.6706053995167434,
          0.4270880584578603,
          0.5829345641305888,
          1.1937582195332863,
          0.2626192135107772,
          1.1119290383858902,
          1.204054305458882,
          1.0507701259744986,
          1.450052814970347,
          1.7311406294852414,
          0.1841501436374859,
          1.7458410702980331,
          1.8805117338787152,
          0.1608349571953267,
          1.140435255271794,
          1.0810465984998123,
          0.7564214250204163,
          1.0979158656723358,
          1.0385385233957694,
          0.244135246648142,
          0.7900297042698794,
          1.342902909561989,
          2.051390867946963,
          0.1611574510939566,
          0.0485564343931783,
          1.438984543718705,
          0.9963455670980278,
          1.7193120830637458,
          0.6513177527411569,
          1.020161743048226,
          1.3747484024095369,
          0.475400059730778,
          0.8659048382300594,
          0.2376237006203081,
          1.103899323337156,
          1.5812371688553082,
          0.0519575859853041,
          0.3788576090898474,
          0.4718347222441119,
          1.0633134146625018,
          1.7952198335802227,
          0.5339398508404289,
          0.4904830106312949,
          1.5296872579670542,
          0.4068529175818016,
          0.1248092242871556,
          1.1247517768947042,
          0.5022050936033797,
          0.5071618009016337,
          0.1757832648146812,
          0.8209944906047579,
          1.1773398046399826,
          1.194759169442386,
          1.2570452560923642,
          0.3975848062259998,
          1.5119689695475491,
          0.4088993312537518,
          0.0242215351666655,
          0.0431192287945875,
          0.7247939149903024,
          0.0079205026568208,
          1.757142996928864,
          0.9180733226535078,
          1.729257630141867,
          0.5894318296665143,
          0.49541545721581,
          0.1704289483919454,
          0.4181321058668895,
          0.5569655088333612,
          0.4323793276914342,
          1.0523080473794355,
          0.5683117893700725,
          1.0341260969090835,
          0.6469282359121765,
          0.2696823553741037,
          0.6528606075007165,
          1.2952913100335866,
          0.8453519798715969,
          0.8431948576768478,
          0.4418419912527003,
          0.0328564613251993,
          0.3458158815368298,
          1.916145330136072,
          1.4824580155965212,
          0.7204568427868946,
          0.4241988032057554,
          0.728445065774508,
          1.748156264873641,
          0.4100621963141461,
          0.7087955606799983,
          0.1606009139483969,
          0.0837184441361972,
          0.1239678541673371,
          0.4767328410857105,
          1.753605154346725,
          0.830786762210118,
          0.0002321344624561,
          0.4779441510031796,
          1.7913061477078291,
          0.3686909397805247,
          0.6464141196215456,
          0.4231347218721589,
          0.6156451641339494,
          0.7749144495063689,
          0.6152057493233708,
          0.6874951171257858,
          0.7100304204800122,
          2.0608673846400345,
          0.9323650767357216,
          0.2780456071114139,
          0.1588122419474426
         ]
        },
        {
         "name": "2",
         "type": "box",
         "y": [
          0.1841543930482806,
          0.3728044414117139,
          0.0790739278345004,
          0.1397916170695748,
          0.0764941770839053,
          0.3865637511871975,
          0.0821165587821329,
          0.2649747216701387,
          0.2390296047958809,
          0.1056409204190961,
          0.1317744397224305,
          0.2558177395955141,
          0.296350410551205,
          0.6273244934446516,
          0.001807452279304,
          0.3231567941218443,
          0.2723025885515243,
          0.0045416275787418,
          0.0770866379032517,
          0.2784637150185852,
          0.0702917172166375,
          0.0094277111858232,
          0.1084282349355505,
          0.0061624463147092,
          0.0680085054456853,
          0.2953697613268126,
          0.3324479455296325,
          0.2268589362909608,
          0.4539646692879496,
          0.219151205764514,
          0.3344942198314016,
          0.3845442805365321,
          0.3331824525089689,
          0.4777908308162409,
          0.443468459774866,
          0.6015985249495372,
          0.1988747107335932,
          0.3907920596227607,
          0.2786933877945095,
          0.1775134179212925,
          0.3218684010396302,
          0.0552086754745176,
          0.0315050907499859,
          0.2533006225816747,
          0.3911561608814314,
          0.2165972214374548,
          0.374360530142504,
          0.1792212509841435,
          0.1113183797544457,
          0.3460813723066114,
          0.1660586289281162,
          0.2970424455771069,
          0.3247149610798863,
          0.2221604889211933,
          0.3874341090632897,
          0.3824715103567714,
          0.1943100108024132,
          0.2577855076943511,
          0.0509091565749455,
          0.5654690333757851,
          0.2527546358418087,
          0.7910324782608325,
          0.1759305390165088,
          0.6249022389506282,
          0.0174861304553409,
          0.1301036004024919,
          0.2387251812169902,
          0.0086705479335032,
          0.0955994594752434,
          0.0203246169819446,
          0.1702047113444083,
          0.4909961141765425,
          0.3096641514708941,
          0.1230212389867555,
          0.3181654125767255,
          0.3407056178127971,
          0.1789114734726217,
          0.3153914024995626,
          0.2720795846781786,
          0.3840042320817597,
          0.1410640048649082,
          0.0832174308199628,
          0.1520492147312774,
          0.4859550183610897,
          0.2792207690930539,
          0.3389346019381018,
          0.2079029390291997,
          0.2448681313506831,
          0.4012315955291368,
          0.3940822448702775,
          0.2085387630549621,
          0.4383601759518546,
          0.3531359901413566,
          0.3181817938615385,
          0.1930130394347001,
          0.2651617068828403,
          0.4003773558055617,
          0.3851445649469721,
          0.7745725299630366,
          0.4412367829066089,
          0.5982069643232445,
          0.0586037458733253,
          0.1377038053393923,
          0.0241046810226072,
          0.4499716603390129,
          0.3323027598049681,
          0.2599512754262044,
          0.1589837981397639,
          0.2708789256186876,
          0.1017881563767286,
          0.1357700465297513,
          0.3029035943411658,
          0.3001785995224386,
          0.2978034560351154,
          0.4743465990711935,
          0.359964235533048,
          0.2856679490452984,
          0.0080361827973748,
          0.2006711662236687,
          0.6612655766108424,
          0.3586724486831872,
          0.3173943715857129,
          0.4156534952379318,
          0.1705044868018841,
          0.3556578852003758,
          0.3202269215382349,
          0.5994765531158779,
          0.6049277040750277,
          0.5156130580796806,
          0.2436811687163213,
          0.4005371686307505,
          0.2002277343120473,
          0.4445885096594218,
          0.4519209702027221,
          0.0847518706539616,
          0.1656272489085614,
          0.3201753437857279,
          0.3497842773844086,
          0.1097308676155498,
          0.1207519017854195,
          0.1189671229383731,
          0.6212480840263815,
          0.2728132949468569,
          0.3012548861928751,
          0.2900621212870231,
          0.2596949357139369,
          0.241260007656814,
          0.1510925377529205,
          0.1931247965266087,
          1.0645994232069296,
          0.1729612864425656,
          0.2125180411727451,
          0.131743374818208,
          0.1790631583189181,
          0.0693614851367581,
          0.0414644530489684,
          0.0427020916771533,
          0.1588662895041699,
          0.2782516759855354,
          0.3629676472664914,
          0.0639057784732386,
          0.3546122732383396,
          0.088715660016354,
          0.074804848308354
         ]
        },
        {
         "name": "3",
         "type": "box",
         "y": [
          0.0108665744955537,
          0.084929880138096,
          0.1182901792310842,
          0.0292344386264559,
          0.0393311998307196,
          0.0739580607795951,
          0.038013928218666,
          0.0614597221963864,
          0.0097679355345704,
          0.1293571230943852,
          0.0764625931428902,
          0.1009223161297566,
          0.0460839242439479,
          0.0269739356259265,
          0.0481493932162934,
          0.0728483475293347,
          0.0481090186079299,
          0.0168052761994437,
          0.0728590693106312,
          0.0427260595497091,
          0.0528201884762566,
          0.0836291789488832,
          0.0329141185139296,
          0.0488026859715376,
          0.0767246977211925,
          0.0043429924861582,
          0.0377557661076897,
          0.0376198657004639,
          0.1496876578070018,
          0.0399118268408651,
          0.0567096376828785,
          0.0700570959319217,
          0.047183687472743,
          0.0360539077880935,
          0.0314832084949943,
          0.0707353259756033,
          0.0416725780591203,
          0.0369292528469757,
          0.083843468667457,
          0.0238144604630661,
          0.0506675255149479,
          0.0335509921063788,
          0.048456604860112,
          0.0529246962774549,
          0.0536326177177789,
          0.0172060720127499,
          0.0342072148344506,
          0.0882083003687451,
          0.0448263865177343,
          0.034258035680855,
          0.0262147422526088,
          0.0099626296080534,
          0.0203640872088154,
          0.0778507251818311,
          0.0994386218068075,
          0.0216696316959405,
          0.0160002350196407,
          0.0657299670622077,
          0.0487182069357986,
          0.0279484311861099,
          0.0640521281539972,
          0.0116264454224018,
          0.0278278818993172,
          0.0621007704161797,
          0.0079137321689269,
          0.0105278187965006,
          0.0156974344867133,
          0.027483053420121,
          0.0586181098337253,
          0.0461187829062994,
          0.0107503567868671,
          0.0203507613296685,
          0.0038440455714386,
          0.0390151221375669,
          0.0560864059348101,
          0.0153648486619212,
          0.0430829897746545,
          0.0515700524540015,
          0.0121585305311181,
          0.0037924867837354,
          0.0435715961289332,
          0.0039445478101044,
          0.0472682366934488,
          0.044966231125913,
          0.0046701744053843,
          0.0320852363803858,
          0.0363638201503508,
          0.0191476796884707,
          0.0278463620905911,
          0.0137182320607287,
          0.0108965932082609,
          0.0285327176772877,
          0.0709033545802344,
          0.0074848635212155,
          0.004447190261595,
          0.0922818257569636,
          0.0497846627472942,
          0.0483870149241456,
          0.0041830834961103,
          0.0133264976845605,
          0.044021101043294,
          0.0678781531056852,
          0.0118483331305324,
          0.1088323154128521,
          0.0176691940244231,
          0.0219244726866054,
          0.0517804041640584,
          0.0569665560772903,
          0.0349318609732546,
          0.0740115215176357,
          0.053936155436394,
          0.0049938737155481,
          0.0161682432677401,
          0.0329544059733989,
          0.0045025143607356,
          0.0045459149937584,
          0.0314247190729623,
          0.113881411457992,
          0.0809207729289253,
          0.0028059436482464,
          0.0106751942329189,
          0.0137108218617041,
          0.013389502508075,
          0.0288597652738834,
          0.0070257977913365,
          0.1091713448170216,
          0.0014789310546177,
          0.0627495067178545,
          0.0999167232068074,
          0.0351115342899241,
          0.0448461774795575,
          0.0470693108119542,
          0.0055641140747917,
          0.0016059668856943,
          0.0819326184372019,
          0.0337585296216151,
          0.0570977158210484,
          0.0239207679392821,
          0.0735964409438621,
          0.0441177309012035,
          0.0593088901547885,
          0.0649231686649446,
          0.0161778340571151,
          0.0534922535171613,
          0.0556472563676611,
          0.0133537271052814,
          0.0401720197467691,
          0.0584178365023377,
          0.1081304866825578,
          0.0796269010030181,
          0.0129616940426778,
          0.0570431476643457,
          0.0532983475595921,
          0.0775258387898426,
          0.0635959349048446,
          0.0326877564308999,
          0.0351783456384488,
          0.0430638064270208,
          0.0180632976459282,
          0.0047973246937732,
          0.0484259103571551,
          0.0120589883839005,
          0.0166472072092325,
          0.0018490960073725
         ]
        },
        {
         "name": "4",
         "type": "box",
         "y": [
          0.0086169737915487,
          0.0055631702932352,
          0.0017435857049697,
          0.0026136788043264,
          0.0122584074428249,
          2.5566656273492166e-05,
          0.0076939127696313,
          0.0017569971458284,
          0.0093645087857568,
          0.0002899989064373,
          0.0065247105386872,
          0.0061169059172139,
          0.0013857781183994,
          0.0055409014682243,
          0.0133824475409769,
          0.0018266944480416,
          0.00103237404483,
          0.0070490111214669,
          0.0063431857794052,
          0.0091133466377133,
          0.0045059145298315,
          0.0088444609946134,
          0.004502593513591,
          0.0091684735365455,
          0.004183244574931,
          0.003639392649909,
          0.0025688482028973,
          6.615213335605096e-05,
          0.0055265003475107,
          0.0052338964580906,
          0.0114098197135034,
          0.0023684011886747,
          0.0066187133318409,
          0.0025071109590814,
          0.012532729320729,
          0.0081625265857508,
          0.005850104164571,
          0.0065536927615214,
          0.0117890914094994,
          0.004207891582308,
          0.0078470848803825,
          0.0023631456998933,
          0.0091468305029846,
          0.0106170655662685,
          0.0051751695080083,
          0.0036921678343282,
          0.005684158367449,
          0.0097188862634981,
          0.007451502925572,
          0.0096502949569662,
          0.0059606689466947,
          0.0035930843414932,
          0.0063582341869603,
          0.0063679819056375,
          0.0076245106288605,
          0.0014380938543258,
          0.0066828610461713,
          0.0031910801298206,
          0.0064419573287758,
          0.0054152702201531,
          0.0008770608472028,
          0.0029667634126109,
          0.0043996853777,
          0.0093245488210829,
          0.0111269261642223,
          0.0036098176216439,
          0.0032056899223351,
          0.0059854898357864,
          0.0050116585335591,
          0.0035338152489247,
          0.0082043124313545,
          0.0098534755084426,
          0.0029942482670517,
          0.0023286541616249,
          0.0009536673600607,
          0.0052819586837642,
          0.0015532809475726,
          0.0040959691751769,
          0.0048412054664661,
          0.0001020609885775,
          0.0005407271120695,
          0.0088779583668045,
          0.0052701153401441,
          0.0011987950308527,
          0.0030857036683823,
          0.0051600030037384,
          0.0033510671714191,
          0.0076411585400995,
          0.0006316640646579,
          0.0046566538994381,
          0.0065168411458376,
          0.007682435009587,
          0.0090636028755844,
          0.0061497870425354,
          0.0052038354193669,
          0.0072810763492138,
          0.0065220483268161,
          0.0023738587274075,
          0.0094591723367254,
          0.000703626602312,
          0.0097186632799598,
          0.0026820698845131,
          0.0052966708115108,
          0.0062383819082867,
          0.0066303495131981,
          0.0016112282325307,
          0.0001578305939222,
          0.0001330460770945,
          0.0047595586581813,
          0.0047263394230289,
          0.005733985994033,
          0.007898034746327,
          0.0010488236787967,
          0.0006016724828437,
          0.0051788473988761,
          0.0011027982974755,
          0.0022436314701758,
          0.0106737240644305,
          0.0003352261897044,
          0.0016074703268396,
          0.0118735427876024,
          0.0018622152112496,
          0.0045243602534763,
          0.0050261754476981,
          0.0119557562956133,
          0.0053455741050333,
          0.0003407017604663,
          0.0059225775619105,
          0.0022708638393521,
          0.0090972331651595,
          0.0008358573765706,
          0.0007440940229287,
          0.002895042088594,
          0.0087604519134449,
          0.0110344890819601,
          0.0145999145050731,
          0.0086869639383159,
          0.0120302313322384,
          0.007325988546216,
          0.008052018208267,
          0.0069957100922996,
          0.0046131369403157,
          0.0051349436079052,
          0.006577602316607,
          0.0069555303057775,
          0.0072242408875909,
          0.0105591456771505,
          1.543543381715824e-06,
          0.0049640266891431,
          1.2668172817333414e-08,
          0.0097910978039024,
          0.0057063043462878,
          0.0086196702314271,
          0.0036992915090247,
          0.0030223756700456,
          0.006825850128112,
          0.0046931026460025,
          5.226959200823163e-05,
          0.0096267725459101,
          0.001211450993866,
          2.869365500433801e-05,
          0.0070028637153722,
          0.0018642338595026,
          0.0092676343402923
         ]
        },
        {
         "name": "5",
         "type": "box",
         "y": [
          0.0057329230077847,
          0.0016639324272176,
          0.0040180183402429,
          0.0022077951042353,
          0.0025912476694093,
          0.001586554217706,
          0.0007873867309363,
          0.0047934184826934,
          3.5432173223798e-05,
          0.0027400741788318,
          0.0045182935629706,
          0.0060320644618112,
          0.0051067467226798,
          0.0010440775233371,
          0.0012281489694181,
          0.0071979104865116,
          0.0082825406158941,
          0.0058226724714437,
          0.0071688990437693,
          0.0097442480360857,
          0.0060804521979198,
          0.0004558649287141,
          0.0101460283396928,
          0.007351464531544,
          0.0066886472533537,
          0.0086212288890675,
          0.0047679827145137,
          0.010357028697185,
          0.0017910243237263,
          0.0040472197416212,
          0.0026899068198882,
          0.0041662863139457,
          0.0008223522518284,
          0.0132105086961165,
          0.0059222924295714,
          0.0046077844351962,
          0.004166347223397,
          0.0054788327800735,
          0.0011562239709441,
          0.0057447173080892,
          0.0051375346240232,
          0.0025037079808896,
          0.0082508184599257,
          0.0039924306299839,
          0.008296370035331,
          0.0074953631604368,
          0.006490785298281,
          0.0054522383427758,
          0.0064378769043541,
          0.0054352226001824,
          0.0028414136564104,
          0.0079905782098064,
          7.444267056148092e-06,
          0.001735575857917,
          0.0028522420192344,
          0.0013730751894972,
          0.006392508128172,
          0.0050401415005276,
          0.0035743101388372,
          0.0049156060416422,
          0.0014916341180558,
          0.0004301554837007,
          0.0061656439937575,
          0.0072848346772295,
          0.002154597178761,
          0.0059978419673711,
          0.0013379718594759,
          0.00034486256023,
          0.0070763737547457,
          0.0037761479940281,
          0.0017229386101054,
          0.0047133763602284,
          0.0045577596653394,
          0.0041215197331563,
          0.0045484193158386,
          0.0040204176260056,
          0.0017050599316984,
          0.0020669674345553,
          0.0112509399176468,
          0.0018167076042523,
          0.0024620703815697,
          0.0005291341687181,
          8.164602020398655e-05,
          0.0070324206676703,
          0.0064777510235869,
          0.006945669158984,
          0.0034530571565053,
          0.0024424120330185,
          0.0057522824453712,
          0.0005974731158833,
          0.0041031866576232,
          0.0006307747381306,
          0.0028206385819005,
          0.0048689288119772,
          0.0005083950868348,
          0.0007934226424873,
          0.0001441569437569,
          0.0089676584606102,
          0.0018677360778465,
          0.0052270188351724,
          0.0009537784066794,
          0.0036312158632959,
          0.0062858736742626,
          0.0074542924139691,
          0.0046764254798131,
          0.0095593735192517,
          0.0063939913243031,
          0.0109009390966852,
          0.0053526289408392,
          0.0057813471932915,
          0.0049942635749239,
          0.0061657764294977,
          0.0020156981555267,
          0.0020354139760132,
          0.008051914133819,
          0.0069172497881417,
          0.0078535508901176,
          0.0057834174904356,
          0.0077248892937587,
          0.001799175603911,
          0.004110688395272,
          0.0015299987082611,
          0.0106079668391232,
          0.0020941082876031,
          0.0007149305967784,
          0.0033862596101808,
          0.0014970376768398,
          0.0031297530628438,
          0.0092119976704652,
          0.0035590864841659,
          0.0031971840306429,
          0.0028131038841399,
          0.0022450726934174,
          0.000451355853393,
          0.0050451207862713,
          0.0011412824929503,
          0.0104139972986871,
          0.0059613881474363,
          0.0113119540741493,
          0.0034453394343027,
          0.0006966165801067,
          0.0019941152228076,
          0.000577529391734,
          5.608238056763692e-05,
          0.00411803575705,
          0.0097246276933495,
          0.0010083413383616,
          0.0002396643407922,
          0.0088899092995494,
          0.0080748249587523,
          0.0056806549779806,
          0.0006729496331239,
          0.0054480407122249,
          0.0035942193324116,
          0.0067452181677894,
          0.0023227111913643,
          0.0038127484816281,
          0.0039214121184686,
          0.0008313101922526,
          0.0023656324826717,
          0.0031565373494038,
          0.0037395448486721,
          0.0008768726914335,
          0.0039474339479004
         ]
        },
        {
         "name": "6",
         "type": "box",
         "y": [
          0.0575670957652506,
          0.0970893204559908,
          0.092733048215284,
          0.1024591496548676,
          0.0434998939469268,
          0.0949169358370261,
          0.0440414939565921,
          0.072205112060439,
          0.0523332161290237,
          0.0182523553316026,
          0.0710586456531198,
          0.0943319523622096,
          0.0495384094831588,
          0.0265928036137012,
          0.068674821294977,
          0.0435535968084491,
          0.0891036225324588,
          0.0377125364434467,
          0.1371004300676721,
          0.0902121832614064,
          0.1175146929791775,
          0.108452960243763,
          0.0235260317139209,
          0.1195950679991253,
          0.0305118736428936,
          0.0233592975994934,
          0.0015622899252342,
          0.0908515634622727,
          0.013288474242193,
          0.0081801343314081,
          0.0403056417812044,
          0.0508112477458116,
          0.0803835270925107,
          0.0780366763380551,
          0.0498768698079831,
          0.0727664445713577,
          0.008424807899344,
          0.024332603971054,
          0.1016118410317581,
          0.0726393148314827,
          0.08833591487975,
          0.0800256304324357,
          0.0264030754277457,
          0.0528432870422746,
          0.0658813914836522,
          0.0651746934320852,
          0.0158849065779408,
          0.0403232727200316,
          0.0295625807983444,
          0.0928082641887778,
          0.0870171567595787,
          0.110615924137902,
          0.1186761752579441,
          0.1420171845381009,
          0.0533971557268729,
          0.035187275046955,
          0.1011965122659107,
          0.0636223633629469,
          0.066979767166369,
          0.0905386104665339,
          0.1174308670240344,
          0.0335516508203231,
          0.0900154535323414,
          0.036683094460108,
          0.1066499572524037,
          0.0973981122992889,
          0.0661389949637239,
          0.0037082123779048,
          0.0010874835300432,
          0.025333653182777,
          0.063866740202531,
          0.0067873998528039,
          0.0862918250659811,
          0.095991626314234,
          0.0977241438304589,
          0.0030819750490228,
          0.075644129184099,
          0.0016898410942527,
          0.0411799966325513,
          0.0038542535626474,
          0.0492061852036231,
          0.1135535274478486,
          0.0259111350500787,
          0.0247186113135557,
          0.0708659930929245,
          0.0669348375644535,
          0.0317725229938474,
          0.0132586661578307,
          0.0222153213619348,
          0.0610508287728881,
          0.0408388242550727,
          0.0582077217202363,
          0.0506888136948607,
          0.1112782631436733,
          0.0735198474096963,
          0.0015058373279329,
          0.154219997550005,
          0.0582700940241285,
          0.0200630565422564,
          0.0786850780145609,
          0.0057916573877593,
          0.0588825371950069,
          0.0234105660658146,
          0.0099740459924276,
          0.0636272732873348,
          0.0514778299644454,
          0.1070429276789185,
          0.0407112621989733,
          0.0488889570798658,
          0.0971585588828906,
          0.1126165770012999,
          0.0514869519281966,
          0.0708565725805983,
          0.015637370506976,
          0.048334216323346,
          0.0859612542106457,
          0.0540671765080449,
          0.0196842240486506,
          0.0975387663901819,
          0.002033112076498,
          0.052898031426117,
          0.0050338449364396,
          0.079734800735086,
          0.0527240990894276,
          0.0356680004074344,
          0.0265514862265479,
          0.0976562297681921,
          0.0522577339403382,
          0.0705434494144756,
          0.0081216100101741,
          0.0234451602747923,
          0.0987948087254335,
          0.0112299108877334,
          0.0990144161203053,
          0.1220103570822304,
          0.0484089600859804,
          0.010945117441542,
          0.0279116571836214,
          0.0432604344923134,
          0.0347453413281964,
          0.0127591738078553,
          0.0304913759991771,
          0.1047175787784407,
          0.0838334415997947,
          0.0216648608896685,
          0.0155959905724054,
          0.0918531443945075,
          0.0245248657508348,
          0.0282198674801207,
          0.0498980652432864,
          0.0737930976540581,
          0.0244203967134099,
          0.1514765194373503,
          0.0482321517255408,
          0.0527366449115941,
          0.0477391350445942,
          0.0916593746802362,
          0.0443031261737615,
          0.0312537500934954,
          0.0263792363680269,
          0.0026856609368361,
          0.0199019354184516,
          0.0114940600308731,
          0.0775444087461095
         ]
        },
        {
         "name": "7",
         "type": "box",
         "y": [
          0.1571744218350312,
          0.1137533919317139,
          0.0881467003383213,
          0.0551814205024352,
          0.0015200740870341,
          0.1771542176532969,
          0.0471917066594974,
          0.0639107242923224,
          0.0875356210489786,
          0.0899172036804405,
          0.163064349090466,
          0.0499580581594762,
          0.1770606134909177,
          0.1141869115646456,
          0.0495423437493512,
          0.100907112344175,
          0.0752656947783731,
          0.0730464648626868,
          0.0568256120460939,
          0.1508001578073387,
          0.0725327348725276,
          0.1144457267536063,
          0.0029668944452151,
          0.1418803656230974,
          0.132755643768849,
          0.0985430298298755,
          0.006116082424161,
          0.1108586630548132,
          0.1235510131755946,
          0.007096304122183,
          0.0809907748033285,
          0.0978106425978444,
          0.0479367116322415,
          0.0878775353313247,
          0.1353822748325073,
          0.0056402895691361,
          0.1911565533763944,
          0.064069205788484,
          0.0464895667238361,
          0.0771452866178497,
          0.006930092596055,
          0.10854222542309,
          0.0431208018138364,
          0.1390208770948049,
          0.0910893781426395,
          0.034390724438499,
          0.0140294497883192,
          0.223613552253224,
          0.0832478739043518,
          0.010288759561992,
          0.0362219119326504,
          0.0894619906462208,
          0.018905939555459,
          0.0812830404557542,
          0.0677951792947157,
          0.1461820661774139,
          0.0697338375042364,
          0.0260127992173474,
          0.0711268953099893,
          0.0091515098075372,
          0.177220595572082,
          0.000626729140745,
          0.07921553480497,
          0.0377735891019938,
          0.0570769365748731,
          0.1125813207432453,
          0.1624615460774422,
          0.1545052969897608,
          0.0447469137513472,
          0.1054160878285996,
          0.1169535583659026,
          0.0765748718381617,
          0.1561509364958118,
          0.0761467795459917,
          0.0853369249855185,
          0.1404593610987366,
          0.0775221365327669,
          0.0484828040504647,
          0.0494760540462158,
          0.2207004691479274,
          0.1462405694161058,
          0.0496408954006226,
          0.0995002631319722,
          0.1543541617382928,
          0.051625640670515,
          0.0891074374483914,
          0.1920250751432,
          0.0205227273692423,
          0.0608540523488256,
          0.1453704100996556,
          0.009719063459168,
          0.0250796060715851,
          0.0110951867962593,
          0.135320539092851,
          0.0690516106976944,
          0.1393044717453181,
          0.0776552200539619,
          0.0866383529889461,
          0.0421921053245831,
          0.0811111188005496,
          0.1476488851040799,
          0.0447476379247981,
          0.0044918252382622,
          0.030086574920456,
          0.0428201819232003,
          0.0522924996471326,
          0.0230003902334084,
          0.1160558793826671,
          0.017938816916543,
          0.217020910306034,
          0.1068095733945027,
          0.0252164406356585,
          0.2140721284278568,
          0.0433179993216414,
          0.0697388357338334,
          0.0910152315125552,
          0.0981334960607589,
          0.0663955662147542,
          0.1478505657422679,
          0.0709814895812497,
          0.058245335344468,
          0.0019996889498748,
          0.2136808281178613,
          0.0969457691462516,
          0.1981745694704132,
          0.1071010760261613,
          0.0056165468423603,
          0.0487209906317918,
          0.0901259673479759,
          0.0624034995069823,
          0.0787754610423251,
          0.0855820142143981,
          0.1956970700204931,
          0.1154565550148587,
          0.1806667561012673,
          0.1418534327501571,
          0.1509485907935207,
          0.0625013929469198,
          0.0787179833189158,
          0.0013371448073922,
          0.1390946421718905,
          0.1066717615838565,
          0.0368194616937736,
          0.0151040886766346,
          0.1303237579658726,
          0.0633441483668734,
          0.0593117285181076,
          0.0358496784323896,
          0.1014520708525573,
          0.0407110535160774,
          0.132310853978231,
          0.0602398606973403,
          0.0230800976140345,
          0.0007009940079319,
          0.064318607818734,
          0.1612436458808687,
          0.2433777861289986,
          0.1125651879813632,
          0.1653344202770496,
          0.0944155141071548,
          0.087771336802006,
          0.155616495428855,
          0.0191852914266065,
          0.1440841730600806
         ]
        },
        {
         "name": "8",
         "type": "box",
         "y": [
          0.1019203145220889,
          0.0708015815897876,
          0.004613751194783,
          0.0948006016454082,
          0.0641351214689465,
          0.0583343338476068,
          0.1682500156604679,
          0.0546078509909355,
          0.0390742745918535,
          0.0885465530362815,
          0.1330516448322121,
          0.1348325958995644,
          0.1013528290054636,
          0.0491299253195559,
          0.0922512931750688,
          0.1054015101224951,
          0.1002920581438043,
          0.0895778920290019,
          0.1729993092828081,
          0.0891041554244041,
          0.0572855632954954,
          0.0430997460175959,
          0.1980866757867911,
          0.1209874998222039,
          0.1105874163334517,
          0.0287785050154884,
          0.1467476161384807,
          0.194133319407231,
          0.102154302285679,
          0.1692174379347965,
          0.0957181052822459,
          0.1440287094686921,
          0.0567332211391031,
          0.1841006112086217,
          0.0728075050709624,
          0.0292460824238259,
          0.1069699194551484,
          0.0296134952042026,
          0.1229076391572823,
          0.1088590382116652,
          0.0198643424997548,
          0.0459511353597026,
          0.0807736340066514,
          0.0663567990263767,
          0.0787086494151152,
          0.0993845552825986,
          0.0111710287338089,
          0.0783001532928551,
          0.1786397519879928,
          0.0535227917113212,
          0.1113887894603219,
          0.0211914657746579,
          0.0749104292208224,
          0.0800549781203684,
          0.1432284928520652,
          0.0156420068072975,
          0.1184029960061099,
          0.0780448047719537,
          0.0921925098605775,
          0.1182932838311159,
          0.0925616233055315,
          0.0203419497819092,
          0.0290714716003686,
          0.0037755622827184,
          0.0561074507111242,
          0.0735360519962759,
          0.0740556978946188,
          0.0292396372222288,
          0.0295732963814687,
          0.0723733441202096,
          0.0207954416238574,
          0.0711447644293235,
          0.036599409903998,
          0.1003927893124391,
          0.0615474803061859,
          0.1624056243313598,
          0.1670894752048743,
          0.0976108624751224,
          0.0437551023488155,
          0.1210036169968666,
          0.0041654411754768,
          0.0328284221568711,
          0.0774475758569829,
          0.0160813849896734,
          0.0592810686935431,
          0.014604033957324,
          0.0682608571271844,
          0.1082168175775775,
          0.1332061273099982,
          0.0353275452190819,
          0.0637182400062397,
          0.0570231061596795,
          0.1339407149420209,
          0.159949844562401,
          0.0377272944068914,
          0.0388527630328733,
          0.0045652004418006,
          0.009436602169664,
          0.0085045124714286,
          0.0984116603774189,
          0.1086415814780708,
          0.1198487314075941,
          0.0453970396978961,
          0.0227344323188122,
          0.0430750514194308,
          0.0471843876378333,
          0.0790737800714358,
          0.0648008513371251,
          0.0773423649625864,
          0.0921373476621762,
          0.1498134821880526,
          0.0346786648115325,
          0.0494836642729923,
          0.074953872277783,
          0.0680945441515855,
          0.0818567069008814,
          0.1123639766489258,
          0.187728058167986,
          0.028469631333784,
          0.0082584625273802,
          0.0571100028041234,
          0.016354239854432,
          0.0438406715884755,
          0.1249384486319586,
          0.0316381459785779,
          0.1137941379373719,
          0.0241509123189428,
          0.0910541219767979,
          0.0447789361556036,
          0.0234709257495522,
          0.0309434078379663,
          0.0137323120032774,
          0.1290786409812605,
          0.0289917431948264,
          0.0549647874114747,
          0.0243265173558062,
          0.1060245183549684,
          0.0674322121397972,
          0.0701396983615253,
          0.1084375179414157,
          0.051350382978455,
          0.0600708035758294,
          0.0881970982482947,
          0.0035796492804619,
          0.0547051230295554,
          0.0521949612319017,
          0.0029660535282631,
          0.08557647264593,
          0.0480597851446336,
          0.0011408796510909,
          0.1173012052692044,
          0.0985054416642058,
          0.1257107196216912,
          0.0297046725522018,
          0.0577712834944593,
          0.0697880027352281,
          0.2141200000730299,
          0.079955315024675,
          0.1146137161106228,
          0.1903593921024419,
          0.0086063047431604,
          0.0813432990824854,
          0.0074440511556586,
          0.0925213212888335
         ]
        },
        {
         "name": "9",
         "type": "box",
         "y": [
          0.0742460706226275,
          0.0205310210428383,
          0.096102789248417,
          0.1002670119128272,
          0.0349933830157734,
          0.0971618692996973,
          0.0137460937025136,
          0.2003148505032153,
          0.0904012200142001,
          0.0298370335277785,
          0.1124549795650876,
          0.0884277588563791,
          0.1158064409305915,
          0.0319265891281004,
          0.0994801220768667,
          0.1091300307974606,
          0.0436964246821344,
          0.0616031985725503,
          0.072043236874339,
          0.0657630774215604,
          0.0630247839733017,
          0.0851216469715861,
          0.0106215157275507,
          0.0353657611241561,
          0.0625571072782522,
          0.1195282710727814,
          0.0917584837088164,
          0.0634536732305127,
          0.0012797875337115,
          0.0739858430360403,
          0.1181248247073823,
          0.090425218700681,
          0.1011337402264149,
          0.063937453900376,
          0.0368336354752122,
          0.0836645894415198,
          0.1281229556737683,
          0.0897903079110264,
          0.1314061078629284,
          0.0262990850609097,
          0.042169875254289,
          0.015164800423167,
          0.1417289262672916,
          0.0628506637998477,
          0.1340459863782123,
          0.089336220404981,
          0.0023906176239891,
          0.1169095594401025,
          0.0334663017549869,
          0.083322996569848,
          0.0974636517362352,
          0.0536571792365417,
          0.0074404717330783,
          0.0947031041454124,
          0.1166617892080974,
          0.009205801074007,
          0.0702898706837431,
          0.133332429553383,
          0.0135066165512486,
          0.0706648040723534,
          0.1787955628597405,
          0.0997410935341129,
          0.1414746968584983,
          0.0096223036058115,
          0.0476340585656144,
          0.1017709373723524,
          0.0992907481468672,
          0.1090766108397374,
          0.1064507206977241,
          0.1834819842534649,
          0.1133163519706884,
          0.0286447734951789,
          0.0612767643427766,
          0.1031644413663562,
          0.1019620066730979,
          0.0315952024209851,
          0.1538014986975544,
          0.0352992923714611,
          0.1276915671074828,
          0.0049095413478109,
          0.0305186643895081,
          0.0973202774583297,
          0.0604559990306707,
          0.1200019917686188,
          0.0516997736113871,
          0.0808691853549234,
          0.202865087228995,
          0.1008972724358575,
          0.0893726318543999,
          0.0823915738500785,
          0.0796753639212564,
          0.0360132066460622,
          0.0613037153322973,
          0.0484285698521973,
          0.0317974122767812,
          0.0867010944356296,
          0.1520882079278028,
          0.0225658504894878,
          0.0002392764059377,
          0.0717102282957746,
          0.0651442366475296,
          0.239373012462603,
          0.0849079180442402,
          0.0505903867040663,
          0.1052169120691268,
          0.0953895175621036,
          0.1090748646545676,
          0.0165744202175245,
          0.0364780483288279,
          0.021598669861045,
          0.0602819725660727,
          0.0597770239733792,
          0.087735679072011,
          0.0856953906884536,
          0.0888253322706144,
          0.0475171315190792,
          0.0011575319873817,
          0.0762905615267795,
          0.0321889554330913,
          0.0468542904036732,
          0.0383032169214026,
          0.1925085341162955,
          0.0019106270085422,
          0.0647031488178034,
          0.0012432081986445,
          0.101702215933397,
          0.0523426361543647,
          0.1666188806452475,
          0.0426685443695662,
          0.0787547110770627,
          0.0336515252411297,
          0.106909091763277,
          0.1488404481277408,
          0.0602139058608642,
          0.1116228867222437,
          0.021902603085664,
          0.0477422226868864,
          0.0467681633128382,
          0.0787644644463165,
          0.1032515545091199,
          0.1030868505693103,
          0.046988598883055,
          0.0312576628406912,
          0.0722132243296321,
          0.0640938084744001,
          0.0638077163105214,
          0.0961810962029362,
          0.055802166432462,
          0.0404978857187626,
          0.0006402578715031,
          0.1318334019424654,
          0.0051912348773747,
          0.0717286875600135,
          0.0305224521359882,
          0.0686951655397444,
          0.1340053401950904,
          0.0867223151371944,
          0.0777937792934299,
          0.0334176822643819,
          0.0728168269210956,
          0.0019607197359441,
          0.0056287281339955,
          0.0201068889534894,
          0.0566124849294711
         ]
        },
        {
         "name": "10",
         "type": "box",
         "y": [
          0.0363374186782095,
          0.0859615017689358,
          0.0792332877522445,
          0.1092177084339351,
          0.0583672546557973,
          0.0071818499140894,
          0.0963240521213674,
          0.0553871266673426,
          0.0070469374814016,
          0.0718269110361963,
          0.0798286051869006,
          0.0299402082259871,
          0.088710949825272,
          0.0988540415596373,
          0.1118714394942563,
          0.0506672802509964,
          0.0567168609608199,
          0.0775092551839068,
          0.0004358517322071,
          0.0336714891883416,
          0.0313548543556838,
          0.0918153551382532,
          0.0936476866846244,
          0.1224349633164123,
          0.0299042494010119,
          0.1004368360076015,
          0.1486286554327391,
          0.0745615598861488,
          0.1151044341250252,
          0.001834323182084,
          0.0269595120965471,
          0.0091159060863293,
          0.1328086013154545,
          0.0367941438418388,
          0.0533524235077477,
          0.0566555834881848,
          0.0622640511804676,
          0.0508468796959354,
          0.0546934302116941,
          0.1503855636972099,
          0.1015661815945451,
          0.0054235662054323,
          0.0252229542478418,
          0.0423667077812657,
          0.0874608087942014,
          0.0750593773768229,
          0.0326358601776179,
          0.0530279129217564,
          0.0713437307313138,
          0.0402189085484786,
          0.0446794409158664,
          0.0432608062307239,
          0.0488760700971065,
          0.0803503860673823,
          0.0705252128091387,
          0.015905957780723,
          0.0342180359003781,
          0.0161366945394484,
          0.074216221387556,
          0.0771646789046151,
          0.0704690336257604,
          0.0074760575367578,
          0.023018333448065,
          0.0454086781984231,
          0.0154682497996831,
          0.026544747533317,
          0.0953871414142003,
          0.0575153234583704,
          0.0695760103379339,
          0.0464995489296623,
          0.0422644312664056,
          0.0669597363172592,
          0.0149815265428526,
          0.0767525674038022,
          0.0371400729438851,
          0.0248383435441984,
          0.0718942439278754,
          0.0853108463775515,
          0.0583329477010897,
          0.0106289174232361,
          0.0139257846612198,
          0.0214810492541036,
          0.0608766005669056,
          0.0686243474573972,
          0.0056565038969701,
          0.0688305862364793,
          0.0005885873953649,
          0.0302020076472911,
          0.0458244284963611,
          0.066744331338487,
          0.0460374428279016,
          0.0125449927858539,
          0.0599127738196355,
          0.0332306154010824,
          0.0492770011117102,
          0.0574846239968999,
          0.0065233720613979,
          0.012086718897046,
          0.0012456356443275,
          0.0823914328593878,
          0.0751509832473809,
          0.0211237860698636,
          0.0144761781385562,
          0.0416856064113077,
          0.0189696467438832,
          0.0617378760629199,
          0.0331017337738899,
          0.0525767187102976,
          0.1093272770748816,
          0.0598288478345057,
          0.0318664871835565,
          0.0225286726800192,
          0.0288177288087689,
          0.0283134369807484,
          0.0786681521624439,
          0.0966519902761132,
          0.0081674689701749,
          0.0333515953771072,
          0.0481033123016603,
          0.0425065784078795,
          0.0664774904611882,
          0.0377797602281206,
          0.011590837880483,
          0.0599216748725439,
          0.0055421595415019,
          0.0875733373735062,
          0.018258260032625,
          0.0875339845789565,
          0.0622148194919364,
          0.1106603958346605,
          0.0097731885215273,
          0.0058636506888593,
          0.0637854787930425,
          0.0263936519677692,
          0.0502211299949735,
          0.0422261572111046,
          0.0493346059153042,
          0.1297406384827342,
          0.1431305641821645,
          0.0306527513010106,
          0.1002988302405142,
          0.0122315486977901,
          0.0462882426534791,
          0.0129641366947286,
          0.0489633532136999,
          0.0224362789231476,
          0.0351953427382161,
          0.0769719887410585,
          0.0293665814464074,
          2.8201383722994927e-05,
          0.0241429246368453,
          0.0309959321765603,
          0.061924984157578,
          0.1214600676345986,
          0.0370447386636679,
          0.0589339825169742,
          0.1198412853893295,
          0.0648137606672056,
          0.1377948164442162,
          0.0309514698377711,
          0.0885035766861398,
          0.0065844156706301,
          0.0084217342906925,
          0.0540728773724976
         ]
        },
        {
         "name": "11",
         "type": "box",
         "y": [
          0.0462759844901378,
          0.040903741546023,
          0.1202906076099953,
          0.0301400365921693,
          0.1875745524284436,
          0.0920293372138979,
          0.0784092124146342,
          0.0164329878121679,
          0.0059710989539532,
          0.0304454760700018,
          0.0936154202358908,
          0.0848674026734812,
          0.0668522710171674,
          0.002187136474287,
          0.0656523114031343,
          0.1149672145158873,
          0.0866393724251424,
          0.0313112641314172,
          0.0407572748294923,
          0.0179549004157001,
          0.0973549082711311,
          0.0862995603459933,
          0.0344229657365688,
          0.1129961929731349,
          0.0321066683095778,
          0.1139050746486944,
          3.165001549746975e-05,
          0.0117731324579353,
          0.074320490058892,
          0.115159882972194,
          0.0185787634753851,
          0.0620409440128264,
          0.0527301702598233,
          0.027090093805268,
          0.005728180067203,
          0.0321509610925087,
          0.0756880225754782,
          0.0353461406590797,
          0.0769621607124897,
          0.0707084782469842,
          0.0684152833349507,
          0.067965162144459,
          0.085357615501864,
          0.1010198042722206,
          0.021968111388443,
          0.0561254205526791,
          0.1316040603957015,
          0.1248338138324459,
          0.0487744062927506,
          0.0566531670952909,
          0.0816668756376246,
          0.1040997214951775,
          0.0270181805808892,
          0.0676568153929449,
          0.0596131079815278,
          0.0467926282781867,
          0.0584460412331257,
          0.1020095932290355,
          0.0017347762378291,
          0.0367801584779009,
          0.0219521406144579,
          0.056176705340831,
          0.0934383560369503,
          3.572311876986029e-05,
          0.0320282989400797,
          0.0351051321663512,
          0.0143059555938031,
          0.1082069832637433,
          0.0244295677786305,
          0.0254218851162502,
          0.0804311516017057,
          0.0042590671343836,
          0.0029140505531481,
          0.070783855681806,
          0.0354759447640294,
          0.0160909628627559,
          0.0935723318865707,
          0.1436430682542057,
          0.0387713022596494,
          0.1363106017795956,
          0.0847277918061487,
          0.0291772550691035,
          0.1133230396891107,
          0.0292137448737223,
          0.0331858457857871,
          0.0385543343756396,
          0.0202704277017271,
          0.0067445459211692,
          0.0081936774962086,
          0.0352327811592716,
          0.0919416531350862,
          0.0068468519106598,
          0.0826296058712223,
          0.0398273059090618,
          0.0238601526927237,
          0.0634487168173937,
          0.0072429002368341,
          0.0146012948997823,
          0.0104479207379773,
          0.0137771229723171,
          0.0124517855269292,
          0.0478208614119262,
          0.0078650923094168,
          0.0170015608588891,
          0.0098462280817708,
          0.0961110969072309,
          0.0577779974415264,
          0.034460876618658,
          0.0724813336929905,
          0.095876355117067,
          0.0808765993669826,
          0.0359452528701955,
          0.0306792803156394,
          0.0015167637322813,
          0.0454962918438337,
          0.0872229388844351,
          0.0179072033589013,
          0.0638752685050523,
          0.0827932109590836,
          0.0017686095832745,
          0.1097901971332673,
          0.0220011162580471,
          0.0434439468527075,
          0.1011525490496709,
          0.0039455604283885,
          0.0807596122845906,
          0.0320646500175251,
          0.1037903307573632,
          0.0431746035774501,
          0.0419002655564584,
          0.0196110201737294,
          0.1027740554131041,
          0.0099121603673237,
          0.023730524505455,
          0.0348471003991666,
          0.0705715309632337,
          0.0950089954615201,
          0.0564263422040565,
          0.0149025516961811,
          0.0443168617822252,
          0.001497690765143,
          0.0595932568059186,
          0.0205855903235214,
          0.0116741157548699,
          0.0668950007084816,
          0.0360745527594609,
          0.099190799215967,
          0.0848238785346157,
          0.0317642053198275,
          0.0418429164483757,
          0.0130582025554035,
          0.021011768420934,
          0.0472204578744216,
          0.093728106894179,
          0.0583751648820158,
          0.0314169699231199,
          0.068639515216171,
          0.1150642317496019,
          0.0030167057141491,
          0.0701534105724869,
          0.0343301746046169,
          0.0133387677697371,
          0.0100210338515672,
          0.0851569610446699
         ]
        },
        {
         "name": "12",
         "type": "box",
         "y": [
          0.7702795156291797,
          0.3647208190198046,
          0.826046973305052,
          0.6740244262807591,
          0.7929142867021156,
          0.4100688660071976,
          1.27883267364648,
          0.2777288078320841,
          0.2297494586276779,
          0.7890196708564445,
          0.4903805541281428,
          0.2238099922997056,
          0.92537651668358,
          1.128513245524897,
          0.5451524750479977,
          0.5740637627956147,
          0.696225466999998,
          0.779314882430045,
          0.1039620527965003,
          0.5201639557212036,
          0.6087435885981917,
          0.6430427126827062,
          0.8475142180445359,
          0.4772167149928627,
          0.6097968927102456,
          1.0467560929787938,
          0.638007242692751,
          0.5146380984134913,
          0.3276677036653225,
          0.0973760381570611,
          0.3270484897041211,
          1.1257016346272033,
          0.4254777409706727,
          0.926933170017012,
          0.77191835699588,
          0.906166116720732,
          0.7878006611114247,
          0.2355850167249887,
          0.0212861107253887,
          0.9446287919184916,
          0.134835389116946,
          0.790764535252851,
          0.8827372613416619,
          0.6385444272941857,
          0.9160198933862048,
          0.7042284711156634,
          1.2502348940790995,
          0.7300887715711964,
          1.025210096882634,
          0.9963574385642124,
          1.025429211681529,
          0.6784373611874921,
          0.4634320187079336,
          0.7036230689505504,
          0.8443093821268616,
          0.5995155943947671,
          0.4780353605147974,
          0.2783613811874012,
          1.5079012040573274,
          0.7742683907837061,
          0.4906285511266693,
          1.0614780145811349,
          0.6385099668564002,
          1.190476711929427,
          0.8801536928398782,
          0.8330951700106046,
          1.1071464078569586,
          1.146818821341184,
          1.3207535130730004,
          0.3011206601927945,
          0.8231653542966324,
          0.7564157292852319,
          1.3626907547620202,
          1.079295498391092,
          0.2456340239263197,
          0.631924929806649,
          1.169609154512729,
          0.7054012140524638,
          0.1098829771028589,
          0.0101446684666573,
          0.2226289546481442,
          0.7295993713878446,
          0.1530544530316847,
          0.1095305657110516,
          0.7071861163179213,
          0.143158728136859,
          0.5240273679009836,
          1.4623328389176895,
          0.6031461351236007,
          0.1546974998703276,
          0.9473938109607296,
          0.9334285310862922,
          0.6679510227388228,
          0.4646573984859259,
          0.855086336600621,
          0.3978042257555111,
          0.3733709196288662,
          0.7373390984922714,
          0.9770504651799652,
          1.1941044242829175,
          0.4066441767610048,
          0.9007307128994776,
          1.2891278448061567,
          0.3270285482100897,
          0.785773086917642,
          0.7469021161333145,
          0.8129990835071507,
          0.3864868488201659,
          0.869614262692873,
          0.6615080588995086,
          0.9576980733705192,
          0.8092833789216931,
          1.1649047998739204,
          0.1804835059386565,
          0.4886784476705716,
          0.3663044324761757,
          0.4196473151556331,
          0.936931678390306,
          1.1635491688802422,
          0.6052969893950226,
          0.5292649411877712,
          0.3086413048110421,
          0.7333090719565629,
          0.405213412012422,
          0.3554550822414092,
          0.2211040646121863,
          1.4327651500779222,
          0.6652071957410678,
          0.671773725715783,
          0.7792099635766327,
          0.1917893350640322,
          0.4069942013412633,
          0.0873763874018466,
          0.0716486982721923,
          0.4231693556509713,
          0.4835482490116074,
          0.0093583015703074,
          0.7937317653617139,
          0.6944894786221987,
          0.080692476714679,
          0.3548043372095393,
          0.8581127242693251,
          0.869013011651437,
          0.8237109072792532,
          0.4793374208309823,
          1.7844941740915643,
          0.2276298982026088,
          0.1423117209548086,
          0.5570057876755429,
          0.0418385989978559,
          0.377734273442895,
          0.0319892671313829,
          0.5046022124030263,
          1.3158558872379398,
          0.2230080147311374,
          0.4331240590831625,
          0.3050799056616468,
          0.3845581217951235,
          0.5897284756025611,
          1.0720588726561135,
          0.645260699553553,
          0.2438469237980579,
          0.1429729585529752,
          0.2705415939005207
         ]
        },
        {
         "name": "13",
         "type": "box",
         "y": [
          0.0010079384070474,
          0.0012490665516836,
          0.0008461372262552,
          0.0028272099912866,
          0.0012605630447964,
          0.0018951012611683,
          0.0019816457059114,
          0.0010084737219294,
          0.0006723691813859,
          0.0012377861672769,
          0.0012572019791991,
          0.0019304370052068,
          0.0005264486015248,
          0.0004774164826316,
          0.0014873140044229,
          0.000375868399528,
          0.0006814197278382,
          0.0006198752846782,
          0.0017388407102869,
          2.102532525433163e-05,
          0.0009690321636503,
          0.0008027842865248,
          0.0012526924649493,
          0.000998957473964,
          0.001497249021853,
          0.0011721571786758,
          0.0006409786015366,
          0.0011034916752874,
          0.0015743058590613,
          0.0007180730300888,
          0.001343644292744,
          0.0005864243291048,
          0.0028061239166812,
          0.0013627928634927,
          0.0014672245374922,
          0.0012489515163765,
          0.0009601177831174,
          0.0005170490260276,
          0.0006910125658028,
          0.0008713713114114,
          0.0018080520248908,
          0.0010447790265121,
          0.0006926328304252,
          0.0021309787454413,
          0.0007337521027822,
          0.0003323336621594,
          0.0008743303734758,
          0.001272879884606,
          0.0009403023287783,
          0.000274485775122,
          0.0011753591303949,
          0.0019132172790778,
          0.0005020872484098,
          0.0018147036411557,
          0.0014114465707175,
          0.0010517911445922,
          0.0003977660338906,
          0.0017162658516141,
          0.0004323698748865,
          0.0002583637867637,
          0.0007689493564866,
          0.0001809516277858,
          0.0014080915846028,
          3.0306452910241047e-05,
          0.0002667651763349,
          8.715515496541485e-05,
          0.0004398059318027,
          0.0007034264156032,
          0.0004180076888659,
          0.0012148772429487,
          0.0006075664236118,
          0.0002760422713433,
          0.0008892134818901,
          0.000756334307909,
          0.0006970067345446,
          0.0006872486099798,
          0.0002010513108336,
          0.0011549867532444,
          0.0008455597406363,
          0.0006938106139458,
          0.0010691255949915,
          0.0011625153110569,
          0.0009248147815874,
          0.0008728626989932,
          0.0007447098515744,
          0.0008361252477504,
          0.0010115994581189,
          0.0005751273022402,
          0.0007882062361762,
          0.0004903575529548,
          0.0015166226856747,
          0.0019109489671018,
          0.0009474807698983,
          0.0003753155688979,
          0.0007367156899426,
          0.0022408089041588,
          0.0001259273179926,
          0.0020416346835423,
          0.0006719394075317,
          0.0011273307215144,
          0.0004953945745884,
          0.0001599335236339,
          0.0022312130059109,
          0.0029212668489591,
          0.0008929528017613,
          0.0002641074777701,
          0.0001776763348934,
          0.0012528003597451,
          0.0006706233210305,
          0.0008291336044839,
          0.0019069923069865,
          0.0006907000891835,
          0.0012708333630405,
          0.000297331591371,
          0.0011400777327429,
          0.0011260537365425,
          0.0013226812796514,
          0.0002313957742075,
          0.0023361914885721,
          0.0014668632384041,
          4.959545203649085e-05,
          0.0016714244135252,
          0.0008436005521928,
          0.0011903015564914,
          0.0006852071839328,
          0.001760326627586,
          0.0004210341527808,
          0.000398989013252,
          0.0016068340635401,
          0.000218604058565,
          0.0006697479088576,
          0.0001625552474022,
          2.672226015948554e-05,
          0.0013227970000335,
          0.0003705832594937,
          7.568018463947752e-05,
          0.0004940186231199,
          0.001225339454856,
          0.0005533703945244,
          0.0005585262014757,
          0.0027863311017471,
          0.0002392599843026,
          0.00092619456623,
          0.0007316449829058,
          0.0007053173855009,
          0.0015726867496262,
          0.0010290686061123,
          0.0005286898888922,
          0.0009418594291681,
          4.070145371693086e-07,
          0.0013250855111543,
          0.0015694553126282,
          0.0002176434532558,
          0.0001414485516647,
          0.001923540514423,
          0.0004320084875282,
          0.0002921687809332,
          0.0015965773176292,
          0.0025169576740213,
          0.0009011429049334,
          0.000978143778477,
          0.0013573722323735,
          0.0003479174810782,
          0.0011162708407805
         ]
        },
        {
         "name": "14",
         "type": "box",
         "y": [
          0.626503238493346,
          0.3947685843332832,
          0.6802655841861138,
          0.3465773284567905,
          0.7378558498372602,
          0.4354723608268576,
          0.1581646650984406,
          0.3962359598002318,
          0.7851128599879088,
          0.4190649489796726,
          0.8374227279477973,
          0.2433290190077367,
          0.5439688695051691,
          0.7100178396657093,
          0.0802548772510814,
          0.6894231752267252,
          0.8001041565477396,
          0.7457244379575421,
          0.3983905184472918,
          0.5338225199020631,
          0.307802525963036,
          0.760387799013404,
          0.5132806137738365,
          0.0612994421479888,
          0.3565253721677727,
          0.0689708046228139,
          0.9877083021600314,
          0.9341165194672728,
          0.5279619504156328,
          1.014145227125562,
          0.0531001162542587,
          0.4427741368406461,
          0.142865329067191,
          0.0089701979026408,
          0.543926241714629,
          0.3180902372311962,
          0.2435758840411751,
          0.6513324566453235,
          0.0082127767878474,
          0.3308579091716062,
          0.1613112422242167,
          0.8440625301470164,
          0.2035543230279244,
          0.0766368829371725,
          0.1337940557506812,
          0.0587962115570672,
          0.2095940643526324,
          0.1840420093922522,
          0.3831452394340476,
          0.4854431179605593,
          0.236297769581029,
          0.3089964285488049,
          0.4863355751996969,
          0.1899734139920767,
          0.2485510756910487,
          0.2662062703801673,
          0.4217757025464072,
          0.7383722696136167,
          0.3764532779675712,
          0.3692507023583729,
          0.2820772145169712,
          0.2446847789887879,
          0.5054149855653888,
          0.6105196527636594,
          0.1785791401589165,
          0.0435868969826767,
          0.0718032100193682,
          0.1835914577400713,
          1.076413111732009,
          0.6762707724952617,
          0.1821009561003045,
          0.3218249501940254,
          0.707521942395606,
          0.4051830715254642,
          0.8914457839136621,
          0.0313197488266332,
          0.264642415581599,
          0.2585154940361349,
          0.0010350470225193,
          0.0317782555300005,
          0.1731936419211777,
          0.2722242110210183,
          0.3393964422495062,
          0.4956806799454625,
          0.347792464117117,
          0.4326810279819716,
          0.3377617992290058,
          0.3582038247593894,
          0.2580044396761787,
          0.0175991498207733,
          0.7745456973958096,
          0.0637664645312663,
          0.5215156163324832,
          0.1732528370522255,
          0.4737611874157647,
          0.1202029224856683,
          0.0452225992944912,
          0.1160696149734574,
          0.4587274214623972,
          0.1291321911219096,
          0.0747369092930305,
          0.0762752285498319,
          0.02940819653217,
          0.1236344636424557,
          0.4927634659746099,
          0.2069648394098164,
          0.1082572568540009,
          0.6705931311142002,
          0.0763810379359067,
          0.0749468242079617,
          0.1084105508321247,
          0.3662182321668439,
          0.3263403864033448,
          0.7583922183354662,
          0.2903255518215423,
          0.7220999648398824,
          0.3210461296798328,
          0.5061252832991356,
          0.4412438599931787,
          0.7298121727030599,
          0.4789042848972184,
          0.2509979971958064,
          0.347060580330184,
          0.0706962357680061,
          0.4209810284580552,
          0.0407359745529703,
          0.4306952251066863,
          0.0697406202533362,
          0.2781131301389685,
          0.1992489627504445,
          0.9219716173412238,
          0.6000602114455658,
          0.4337029983813537,
          0.5141031877348445,
          0.1129371467490432,
          0.1228725800414345,
          0.194270221662669,
          0.1866784043166251,
          0.4492936793380264,
          0.1669921460137289,
          0.1680387825113465,
          0.576935422233193,
          0.3435638326319517,
          0.5228480958243147,
          0.1315582956435748,
          0.2499355711240923,
          0.3444867563128758,
          0.0523596171258673,
          0.4148329270126347,
          0.9347579877998548,
          0.1676690881608561,
          0.3666377903388235,
          0.9136008289787564,
          0.2118029736967757,
          0.1214805735661686,
          0.0785803513859869,
          0.5047493738582381,
          0.1485338996797246,
          0.3200112552043201,
          0.4185317661037648,
          0.0845284478752844,
          0.394142271468453,
          0.0631497357606212,
          0.6612849115782563
         ]
        }
       ],
       "layout": {
        "autosize": true,
        "template": {
         "data": {
          "bar": [
           {
            "error_x": {
             "color": "#2a3f5f"
            },
            "error_y": {
             "color": "#2a3f5f"
            },
            "marker": {
             "line": {
              "color": "#E5ECF6",
              "width": 0.5
             },
             "pattern": {
              "fillmode": "overlay",
              "size": 10,
              "solidity": 0.2
             }
            },
            "type": "bar"
           }
          ],
          "barpolar": [
           {
            "marker": {
             "line": {
              "color": "#E5ECF6",
              "width": 0.5
             },
             "pattern": {
              "fillmode": "overlay",
              "size": 10,
              "solidity": 0.2
             }
            },
            "type": "barpolar"
           }
          ],
          "carpet": [
           {
            "aaxis": {
             "endlinecolor": "#2a3f5f",
             "gridcolor": "white",
             "linecolor": "white",
             "minorgridcolor": "white",
             "startlinecolor": "#2a3f5f"
            },
            "baxis": {
             "endlinecolor": "#2a3f5f",
             "gridcolor": "white",
             "linecolor": "white",
             "minorgridcolor": "white",
             "startlinecolor": "#2a3f5f"
            },
            "type": "carpet"
           }
          ],
          "choropleth": [
           {
            "colorbar": {
             "outlinewidth": 0,
             "ticks": ""
            },
            "type": "choropleth"
           }
          ],
          "contour": [
           {
            "colorbar": {
             "outlinewidth": 0,
             "ticks": ""
            },
            "colorscale": [
             [
              0,
              "#0d0887"
             ],
             [
              0.1111111111111111,
              "#46039f"
             ],
             [
              0.2222222222222222,
              "#7201a8"
             ],
             [
              0.3333333333333333,
              "#9c179e"
             ],
             [
              0.4444444444444444,
              "#bd3786"
             ],
             [
              0.5555555555555556,
              "#d8576b"
             ],
             [
              0.6666666666666666,
              "#ed7953"
             ],
             [
              0.7777777777777778,
              "#fb9f3a"
             ],
             [
              0.8888888888888888,
              "#fdca26"
             ],
             [
              1,
              "#f0f921"
             ]
            ],
            "type": "contour"
           }
          ],
          "contourcarpet": [
           {
            "colorbar": {
             "outlinewidth": 0,
             "ticks": ""
            },
            "type": "contourcarpet"
           }
          ],
          "heatmap": [
           {
            "colorbar": {
             "outlinewidth": 0,
             "ticks": ""
            },
            "colorscale": [
             [
              0,
              "#0d0887"
             ],
             [
              0.1111111111111111,
              "#46039f"
             ],
             [
              0.2222222222222222,
              "#7201a8"
             ],
             [
              0.3333333333333333,
              "#9c179e"
             ],
             [
              0.4444444444444444,
              "#bd3786"
             ],
             [
              0.5555555555555556,
              "#d8576b"
             ],
             [
              0.6666666666666666,
              "#ed7953"
             ],
             [
              0.7777777777777778,
              "#fb9f3a"
             ],
             [
              0.8888888888888888,
              "#fdca26"
             ],
             [
              1,
              "#f0f921"
             ]
            ],
            "type": "heatmap"
           }
          ],
          "heatmapgl": [
           {
            "colorbar": {
             "outlinewidth": 0,
             "ticks": ""
            },
            "colorscale": [
             [
              0,
              "#0d0887"
             ],
             [
              0.1111111111111111,
              "#46039f"
             ],
             [
              0.2222222222222222,
              "#7201a8"
             ],
             [
              0.3333333333333333,
              "#9c179e"
             ],
             [
              0.4444444444444444,
              "#bd3786"
             ],
             [
              0.5555555555555556,
              "#d8576b"
             ],
             [
              0.6666666666666666,
              "#ed7953"
             ],
             [
              0.7777777777777778,
              "#fb9f3a"
             ],
             [
              0.8888888888888888,
              "#fdca26"
             ],
             [
              1,
              "#f0f921"
             ]
            ],
            "type": "heatmapgl"
           }
          ],
          "histogram": [
           {
            "marker": {
             "pattern": {
              "fillmode": "overlay",
              "size": 10,
              "solidity": 0.2
             }
            },
            "type": "histogram"
           }
          ],
          "histogram2d": [
           {
            "colorbar": {
             "outlinewidth": 0,
             "ticks": ""
            },
            "colorscale": [
             [
              0,
              "#0d0887"
             ],
             [
              0.1111111111111111,
              "#46039f"
             ],
             [
              0.2222222222222222,
              "#7201a8"
             ],
             [
              0.3333333333333333,
              "#9c179e"
             ],
             [
              0.4444444444444444,
              "#bd3786"
             ],
             [
              0.5555555555555556,
              "#d8576b"
             ],
             [
              0.6666666666666666,
              "#ed7953"
             ],
             [
              0.7777777777777778,
              "#fb9f3a"
             ],
             [
              0.8888888888888888,
              "#fdca26"
             ],
             [
              1,
              "#f0f921"
             ]
            ],
            "type": "histogram2d"
           }
          ],
          "histogram2dcontour": [
           {
            "colorbar": {
             "outlinewidth": 0,
             "ticks": ""
            },
            "colorscale": [
             [
              0,
              "#0d0887"
             ],
             [
              0.1111111111111111,
              "#46039f"
             ],
             [
              0.2222222222222222,
              "#7201a8"
             ],
             [
              0.3333333333333333,
              "#9c179e"
             ],
             [
              0.4444444444444444,
              "#bd3786"
             ],
             [
              0.5555555555555556,
              "#d8576b"
             ],
             [
              0.6666666666666666,
              "#ed7953"
             ],
             [
              0.7777777777777778,
              "#fb9f3a"
             ],
             [
              0.8888888888888888,
              "#fdca26"
             ],
             [
              1,
              "#f0f921"
             ]
            ],
            "type": "histogram2dcontour"
           }
          ],
          "mesh3d": [
           {
            "colorbar": {
             "outlinewidth": 0,
             "ticks": ""
            },
            "type": "mesh3d"
           }
          ],
          "parcoords": [
           {
            "line": {
             "colorbar": {
              "outlinewidth": 0,
              "ticks": ""
             }
            },
            "type": "parcoords"
           }
          ],
          "pie": [
           {
            "automargin": true,
            "type": "pie"
           }
          ],
          "scatter": [
           {
            "marker": {
             "colorbar": {
              "outlinewidth": 0,
              "ticks": ""
             }
            },
            "type": "scatter"
           }
          ],
          "scatter3d": [
           {
            "line": {
             "colorbar": {
              "outlinewidth": 0,
              "ticks": ""
             }
            },
            "marker": {
             "colorbar": {
              "outlinewidth": 0,
              "ticks": ""
             }
            },
            "type": "scatter3d"
           }
          ],
          "scattercarpet": [
           {
            "marker": {
             "colorbar": {
              "outlinewidth": 0,
              "ticks": ""
             }
            },
            "type": "scattercarpet"
           }
          ],
          "scattergeo": [
           {
            "marker": {
             "colorbar": {
              "outlinewidth": 0,
              "ticks": ""
             }
            },
            "type": "scattergeo"
           }
          ],
          "scattergl": [
           {
            "marker": {
             "colorbar": {
              "outlinewidth": 0,
              "ticks": ""
             }
            },
            "type": "scattergl"
           }
          ],
          "scattermapbox": [
           {
            "marker": {
             "colorbar": {
              "outlinewidth": 0,
              "ticks": ""
             }
            },
            "type": "scattermapbox"
           }
          ],
          "scatterpolar": [
           {
            "marker": {
             "colorbar": {
              "outlinewidth": 0,
              "ticks": ""
             }
            },
            "type": "scatterpolar"
           }
          ],
          "scatterpolargl": [
           {
            "marker": {
             "colorbar": {
              "outlinewidth": 0,
              "ticks": ""
             }
            },
            "type": "scatterpolargl"
           }
          ],
          "scatterternary": [
           {
            "marker": {
             "colorbar": {
              "outlinewidth": 0,
              "ticks": ""
             }
            },
            "type": "scatterternary"
           }
          ],
          "surface": [
           {
            "colorbar": {
             "outlinewidth": 0,
             "ticks": ""
            },
            "colorscale": [
             [
              0,
              "#0d0887"
             ],
             [
              0.1111111111111111,
              "#46039f"
             ],
             [
              0.2222222222222222,
              "#7201a8"
             ],
             [
              0.3333333333333333,
              "#9c179e"
             ],
             [
              0.4444444444444444,
              "#bd3786"
             ],
             [
              0.5555555555555556,
              "#d8576b"
             ],
             [
              0.6666666666666666,
              "#ed7953"
             ],
             [
              0.7777777777777778,
              "#fb9f3a"
             ],
             [
              0.8888888888888888,
              "#fdca26"
             ],
             [
              1,
              "#f0f921"
             ]
            ],
            "type": "surface"
           }
          ],
          "table": [
           {
            "cells": {
             "fill": {
              "color": "#EBF0F8"
             },
             "line": {
              "color": "white"
             }
            },
            "header": {
             "fill": {
              "color": "#C8D4E3"
             },
             "line": {
              "color": "white"
             }
            },
            "type": "table"
           }
          ]
         },
         "layout": {
          "annotationdefaults": {
           "arrowcolor": "#2a3f5f",
           "arrowhead": 0,
           "arrowwidth": 1
          },
          "autotypenumbers": "strict",
          "coloraxis": {
           "colorbar": {
            "outlinewidth": 0,
            "ticks": ""
           }
          },
          "colorscale": {
           "diverging": [
            [
             0,
             "#8e0152"
            ],
            [
             0.1,
             "#c51b7d"
            ],
            [
             0.2,
             "#de77ae"
            ],
            [
             0.3,
             "#f1b6da"
            ],
            [
             0.4,
             "#fde0ef"
            ],
            [
             0.5,
             "#f7f7f7"
            ],
            [
             0.6,
             "#e6f5d0"
            ],
            [
             0.7,
             "#b8e186"
            ],
            [
             0.8,
             "#7fbc41"
            ],
            [
             0.9,
             "#4d9221"
            ],
            [
             1,
             "#276419"
            ]
           ],
           "sequential": [
            [
             0,
             "#0d0887"
            ],
            [
             0.1111111111111111,
             "#46039f"
            ],
            [
             0.2222222222222222,
             "#7201a8"
            ],
            [
             0.3333333333333333,
             "#9c179e"
            ],
            [
             0.4444444444444444,
             "#bd3786"
            ],
            [
             0.5555555555555556,
             "#d8576b"
            ],
            [
             0.6666666666666666,
             "#ed7953"
            ],
            [
             0.7777777777777778,
             "#fb9f3a"
            ],
            [
             0.8888888888888888,
             "#fdca26"
            ],
            [
             1,
             "#f0f921"
            ]
           ],
           "sequentialminus": [
            [
             0,
             "#0d0887"
            ],
            [
             0.1111111111111111,
             "#46039f"
            ],
            [
             0.2222222222222222,
             "#7201a8"
            ],
            [
             0.3333333333333333,
             "#9c179e"
            ],
            [
             0.4444444444444444,
             "#bd3786"
            ],
            [
             0.5555555555555556,
             "#d8576b"
            ],
            [
             0.6666666666666666,
             "#ed7953"
            ],
            [
             0.7777777777777778,
             "#fb9f3a"
            ],
            [
             0.8888888888888888,
             "#fdca26"
            ],
            [
             1,
             "#f0f921"
            ]
           ]
          },
          "colorway": [
           "#636efa",
           "#EF553B",
           "#00cc96",
           "#ab63fa",
           "#FFA15A",
           "#19d3f3",
           "#FF6692",
           "#B6E880",
           "#FF97FF",
           "#FECB52"
          ],
          "font": {
           "color": "#2a3f5f"
          },
          "geo": {
           "bgcolor": "white",
           "lakecolor": "white",
           "landcolor": "#E5ECF6",
           "showlakes": true,
           "showland": true,
           "subunitcolor": "white"
          },
          "hoverlabel": {
           "align": "left"
          },
          "hovermode": "closest",
          "mapbox": {
           "style": "light"
          },
          "paper_bgcolor": "white",
          "plot_bgcolor": "#E5ECF6",
          "polar": {
           "angularaxis": {
            "gridcolor": "white",
            "linecolor": "white",
            "ticks": ""
           },
           "bgcolor": "#E5ECF6",
           "radialaxis": {
            "gridcolor": "white",
            "linecolor": "white",
            "ticks": ""
           }
          },
          "scene": {
           "xaxis": {
            "backgroundcolor": "#E5ECF6",
            "gridcolor": "white",
            "gridwidth": 2,
            "linecolor": "white",
            "showbackground": true,
            "ticks": "",
            "zerolinecolor": "white"
           },
           "yaxis": {
            "backgroundcolor": "#E5ECF6",
            "gridcolor": "white",
            "gridwidth": 2,
            "linecolor": "white",
            "showbackground": true,
            "ticks": "",
            "zerolinecolor": "white"
           },
           "zaxis": {
            "backgroundcolor": "#E5ECF6",
            "gridcolor": "white",
            "gridwidth": 2,
            "linecolor": "white",
            "showbackground": true,
            "ticks": "",
            "zerolinecolor": "white"
           }
          },
          "shapedefaults": {
           "line": {
            "color": "#2a3f5f"
           }
          },
          "ternary": {
           "aaxis": {
            "gridcolor": "white",
            "linecolor": "white",
            "ticks": ""
           },
           "baxis": {
            "gridcolor": "white",
            "linecolor": "white",
            "ticks": ""
           },
           "bgcolor": "#E5ECF6",
           "caxis": {
            "gridcolor": "white",
            "linecolor": "white",
            "ticks": ""
           }
          },
          "title": {
           "x": 0.05
          },
          "xaxis": {
           "automargin": true,
           "gridcolor": "white",
           "linecolor": "white",
           "ticks": "",
           "title": {
            "standoff": 15
           },
           "zerolinecolor": "white",
           "zerolinewidth": 2
          },
          "yaxis": {
           "automargin": true,
           "gridcolor": "white",
           "linecolor": "white",
           "ticks": "",
           "title": {
            "standoff": 15
           },
           "zerolinecolor": "white",
           "zerolinewidth": 2
          }
         }
        },
        "xaxis": {
         "autorange": true,
         "range": [
          -0.5,
          14.5
         ],
         "type": "category"
        },
        "yaxis": {
         "autorange": true,
         "range": [
          -0.13450168515445823,
          2.5555322712981625
         ],
         "type": "linear"
        }
       }
      },
      "image/png": "[encoded data removed]",
      "text/html": [
       "<div>                            <div id=\"0612ce65-0d28-4a4b-8614-4d0605b5765d\" class=\"plotly-graph-div\" style=\"height:525px; width:100%;\"></div>            <script type=\"text/javascript\">                require([\"plotly\"], function(Plotly) {                    window.PLOTLYENV=window.PLOTLYENV || {};                                    if (document.getElementById(\"0612ce65-0d28-4a4b-8614-4d0605b5765d\")) {                    Plotly.newPlot(                        \"0612ce65-0d28-4a4b-8614-4d0605b5765d\",                        [{\"name\":\"0\",\"y\":[0.0156967207962837,0.0209046327973751,0.0168174967722823,0.0056268744883764,0.0133087648625372,0.0173877608558167,0.0175352580681216,0.0207708971406248,0.0264657274728239,0.0202069345556975,0.0071380892842033,0.0228683957076297,0.0157329140545756,0.004318202577058,0.0171744818790941,0.011818164136745,0.0078571047073533,0.0112861825100638,0.0100630756717789,0.0129419063681554,0.0085081454552264,0.0175176535758105,0.0182504338136245,0.0197598413820446,0.0181316608206081,0.0064383562389122,0.0192338396871133,0.0103439564367653,0.006411128686015,0.0285671549079044,0.0189114512116858,0.0106232672718982,0.010939419071775,0.0145262902991872,0.0087603539347885,0.0025171417158269,0.0165477820161033,0.0043261729444942,0.0077523869655583,0.0112492748604471,0.0051228962263974,0.0236030518110401,0.0060727333706063,0.0045927657903139,0.0174895395431006,0.0136225006477982,0.0229903488522569,0.0048669842450239,0.0115891532266401,0.0035491783379824,0.0046783303543422,0.0081797373272349,0.0014330048167904,0.0046850099696609,0.00036885227009,0.0287420559061326,0.00568324965011,0.0141020135948093,0.003820152810545,0.0083661244660926,0.0066917940268225,0.0013708200406003,0.0010132131339454,0.0005355432278357,0.0023341533027587,0.002261973831319,0.0107754462104406,0.0186486241606594,0.0059862003467643,0.0147325505899625,0.0113548361096153,0.0012464138907565,0.0007254852493771,0.0090154415550625,0.0081948940247113,0.0098014840704265,0.0061230574785158,0.0139578061259124,0.0063512588656689,0.0023215883611554,0.0046682048095898,0.0125837959693829,0.0274668819359611,0.0039806836584706,0.0006389263282539,0.018532664197232,0.010421209833504,0.0043864895069099,0.0154154451871836,0.0313723880330697,0.0081598711999755,0.0161080548400894,0.0029194813762588,0.0033960772362038,0.0012629735909274,0.0217772844662485,0.0009050742468608,0.017986327635609,0.000259881080186,0.0131291836631563,0.0018801520283531,0.0060037034800801,0.0018791123720961,0.0168551229932561,0.0017185820262945,0.0162571192215942,0.0026999175453954,0.0200171556486927,0.0113403715736495,0.0212834184552582,0.0080559063050428,0.0006546464475396,0.0059327879938933,0.0062401353858237,0.0024943532715469,0.021210754067203,0.0092102519286179,0.0102835595675832,0.0012579002886718,0.0089597468065455,0.0043901447912374,0.0048203249411832,0.0075765469629358,0.0141136632511415,0.0020106928578446,0.0120095212061273,0.0038004439347107,0.0223435949728131,0.0049644568547701,0.0061795448168334,0.0296204831869939,0.0071982373412278,0.003766912006847,0.0063843822912617,0.0075323204832704,0.0002973639945008,0.02567876547744,0.009043967065616,0.0123091374859689,0.0107772148011293,0.0036957862952356,0.005084421870358,0.0127292139962829,0.0002996637531584,0.0060230860715183,0.0183619611469916,0.0237526362430793,0.0121559952857089,0.0172443572643168,0.000649249075318,0.0074275986268126,0.0025643156594037,0.0081660461437417,0.0290202910983977,0.014812389171009,0.0164537457075354,0.0173584390254693,0.0220719504687436,0.0029531712503617,0.0002657461156423,0.0052131072033239,0.0066354483986328,0.0058126154250525,0.0109025230836996],\"type\":\"box\"},{\"name\":\"1\",\"y\":[1.241905144792116,1.012212196847255,0.8232373402264719,0.2800899549122783,0.0513714036413953,1.1750273585739133,0.2475918875640211,0.8654643160146132,0.6485315504907214,0.9344011843207348,0.0770830368585207,0.0259873738373107,1.1722669566548345,0.8308082035354105,1.1702408381559168,0.6563041882069902,0.91570647878654,1.5068727596531803,1.0121424944042106,1.1249353809725935,0.5960548494747318,0.6262940383824551,0.1114424909917185,0.5187438246912428,0.5670052679897092,0.0182081366940038,0.0592007045934414,0.8907703355557329,0.7484232567796414,0.7009550527872808,0.762729628100223,1.1163681032352697,1.1185540587238776,0.0802614157548435,0.6712046047309201,0.3945753735109065,0.4722281027169413,0.6854707779199631,0.1164978502033571,0.6929414285720115,1.0822921737369695,0.0758840959699693,1.2467620016939347,0.4958084558102159,0.673509054796315,1.6701376735573108,1.614788530801231,0.3587844706620828,0.4545531767919869,1.1845745406751311,0.988532263437323,1.232649048359226,2.4210305734755315,0.6706053995167434,0.4270880584578603,0.5829345641305888,1.1937582195332863,0.2626192135107772,1.1119290383858902,1.204054305458882,1.0507701259744986,1.450052814970347,1.7311406294852414,0.1841501436374859,1.7458410702980331,1.8805117338787152,0.1608349571953267,1.140435255271794,1.0810465984998123,0.7564214250204163,1.0979158656723358,1.0385385233957694,0.244135246648142,0.7900297042698794,1.342902909561989,2.051390867946963,0.1611574510939566,0.0485564343931783,1.438984543718705,0.9963455670980278,1.7193120830637458,0.6513177527411569,1.020161743048226,1.3747484024095369,0.475400059730778,0.8659048382300594,0.2376237006203081,1.103899323337156,1.5812371688553082,0.0519575859853041,0.3788576090898474,0.4718347222441119,1.0633134146625018,1.7952198335802227,0.5339398508404289,0.4904830106312949,1.5296872579670542,0.4068529175818016,0.1248092242871556,1.1247517768947042,0.5022050936033797,0.5071618009016337,0.1757832648146812,0.8209944906047579,1.1773398046399826,1.194759169442386,1.2570452560923642,0.3975848062259998,1.5119689695475491,0.4088993312537518,0.0242215351666655,0.0431192287945875,0.7247939149903024,0.0079205026568208,1.757142996928864,0.9180733226535078,1.729257630141867,0.5894318296665143,0.49541545721581,0.1704289483919454,0.4181321058668895,0.5569655088333612,0.4323793276914342,1.0523080473794355,0.5683117893700725,1.0341260969090835,0.6469282359121765,0.2696823553741037,0.6528606075007165,1.2952913100335866,0.8453519798715969,0.8431948576768478,0.4418419912527003,0.0328564613251993,0.3458158815368298,1.916145330136072,1.4824580155965212,0.7204568427868946,0.4241988032057554,0.728445065774508,1.748156264873641,0.4100621963141461,0.7087955606799983,0.1606009139483969,0.0837184441361972,0.1239678541673371,0.4767328410857105,1.753605154346725,0.830786762210118,0.0002321344624561,0.4779441510031796,1.7913061477078291,0.3686909397805247,0.6464141196215456,0.4231347218721589,0.6156451641339494,0.7749144495063689,0.6152057493233708,0.6874951171257858,0.7100304204800122,2.0608673846400345,0.9323650767357216,0.2780456071114139,0.1588122419474426],\"type\":\"box\"},{\"name\":\"2\",\"y\":[0.1841543930482806,0.3728044414117139,0.0790739278345004,0.1397916170695748,0.0764941770839053,0.3865637511871975,0.0821165587821329,0.2649747216701387,0.2390296047958809,0.1056409204190961,0.1317744397224305,0.2558177395955141,0.296350410551205,0.6273244934446516,0.001807452279304,0.3231567941218443,0.2723025885515243,0.0045416275787418,0.0770866379032517,0.2784637150185852,0.0702917172166375,0.0094277111858232,0.1084282349355505,0.0061624463147092,0.0680085054456853,0.2953697613268126,0.3324479455296325,0.2268589362909608,0.4539646692879496,0.219151205764514,0.3344942198314016,0.3845442805365321,0.3331824525089689,0.4777908308162409,0.443468459774866,0.6015985249495372,0.1988747107335932,0.3907920596227607,0.2786933877945095,0.1775134179212925,0.3218684010396302,0.0552086754745176,0.0315050907499859,0.2533006225816747,0.3911561608814314,0.2165972214374548,0.374360530142504,0.1792212509841435,0.1113183797544457,0.3460813723066114,0.1660586289281162,0.2970424455771069,0.3247149610798863,0.2221604889211933,0.3874341090632897,0.3824715103567714,0.1943100108024132,0.2577855076943511,0.0509091565749455,0.5654690333757851,0.2527546358418087,0.7910324782608325,0.1759305390165088,0.6249022389506282,0.0174861304553409,0.1301036004024919,0.2387251812169902,0.0086705479335032,0.0955994594752434,0.0203246169819446,0.1702047113444083,0.4909961141765425,0.3096641514708941,0.1230212389867555,0.3181654125767255,0.3407056178127971,0.1789114734726217,0.3153914024995626,0.2720795846781786,0.3840042320817597,0.1410640048649082,0.0832174308199628,0.1520492147312774,0.4859550183610897,0.2792207690930539,0.3389346019381018,0.2079029390291997,0.2448681313506831,0.4012315955291368,0.3940822448702775,0.2085387630549621,0.4383601759518546,0.3531359901413566,0.3181817938615385,0.1930130394347001,0.2651617068828403,0.4003773558055617,0.3851445649469721,0.7745725299630366,0.4412367829066089,0.5982069643232445,0.0586037458733253,0.1377038053393923,0.0241046810226072,0.4499716603390129,0.3323027598049681,0.2599512754262044,0.1589837981397639,0.2708789256186876,0.1017881563767286,0.1357700465297513,0.3029035943411658,0.3001785995224386,0.2978034560351154,0.4743465990711935,0.359964235533048,0.2856679490452984,0.0080361827973748,0.2006711662236687,0.6612655766108424,0.3586724486831872,0.3173943715857129,0.4156534952379318,0.1705044868018841,0.3556578852003758,0.3202269215382349,0.5994765531158779,0.6049277040750277,0.5156130580796806,0.2436811687163213,0.4005371686307505,0.2002277343120473,0.4445885096594218,0.4519209702027221,0.0847518706539616,0.1656272489085614,0.3201753437857279,0.3497842773844086,0.1097308676155498,0.1207519017854195,0.1189671229383731,0.6212480840263815,0.2728132949468569,0.3012548861928751,0.2900621212870231,0.2596949357139369,0.241260007656814,0.1510925377529205,0.1931247965266087,1.0645994232069296,0.1729612864425656,0.2125180411727451,0.131743374818208,0.1790631583189181,0.0693614851367581,0.0414644530489684,0.0427020916771533,0.1588662895041699,0.2782516759855354,0.3629676472664914,0.0639057784732386,0.3546122732383396,0.088715660016354,0.074804848308354],\"type\":\"box\"},{\"name\":\"3\",\"y\":[0.0108665744955537,0.084929880138096,0.1182901792310842,0.0292344386264559,0.0393311998307196,0.0739580607795951,0.038013928218666,0.0614597221963864,0.0097679355345704,0.1293571230943852,0.0764625931428902,0.1009223161297566,0.0460839242439479,0.0269739356259265,0.0481493932162934,0.0728483475293347,0.0481090186079299,0.0168052761994437,0.0728590693106312,0.0427260595497091,0.0528201884762566,0.0836291789488832,0.0329141185139296,0.0488026859715376,0.0767246977211925,0.0043429924861582,0.0377557661076897,0.0376198657004639,0.1496876578070018,0.0399118268408651,0.0567096376828785,0.0700570959319217,0.047183687472743,0.0360539077880935,0.0314832084949943,0.0707353259756033,0.0416725780591203,0.0369292528469757,0.083843468667457,0.0238144604630661,0.0506675255149479,0.0335509921063788,0.048456604860112,0.0529246962774549,0.0536326177177789,0.0172060720127499,0.0342072148344506,0.0882083003687451,0.0448263865177343,0.034258035680855,0.0262147422526088,0.0099626296080534,0.0203640872088154,0.0778507251818311,0.0994386218068075,0.0216696316959405,0.0160002350196407,0.0657299670622077,0.0487182069357986,0.0279484311861099,0.0640521281539972,0.0116264454224018,0.0278278818993172,0.0621007704161797,0.0079137321689269,0.0105278187965006,0.0156974344867133,0.027483053420121,0.0586181098337253,0.0461187829062994,0.0107503567868671,0.0203507613296685,0.0038440455714386,0.0390151221375669,0.0560864059348101,0.0153648486619212,0.0430829897746545,0.0515700524540015,0.0121585305311181,0.0037924867837354,0.0435715961289332,0.0039445478101044,0.0472682366934488,0.044966231125913,0.0046701744053843,0.0320852363803858,0.0363638201503508,0.0191476796884707,0.0278463620905911,0.0137182320607287,0.0108965932082609,0.0285327176772877,0.0709033545802344,0.0074848635212155,0.004447190261595,0.0922818257569636,0.0497846627472942,0.0483870149241456,0.0041830834961103,0.0133264976845605,0.044021101043294,0.0678781531056852,0.0118483331305324,0.1088323154128521,0.0176691940244231,0.0219244726866054,0.0517804041640584,0.0569665560772903,0.0349318609732546,0.0740115215176357,0.053936155436394,0.0049938737155481,0.0161682432677401,0.0329544059733989,0.0045025143607356,0.0045459149937584,0.0314247190729623,0.113881411457992,0.0809207729289253,0.0028059436482464,0.0106751942329189,0.0137108218617041,0.013389502508075,0.0288597652738834,0.0070257977913365,0.1091713448170216,0.0014789310546177,0.0627495067178545,0.0999167232068074,0.0351115342899241,0.0448461774795575,0.0470693108119542,0.0055641140747917,0.0016059668856943,0.0819326184372019,0.0337585296216151,0.0570977158210484,0.0239207679392821,0.0735964409438621,0.0441177309012035,0.0593088901547885,0.0649231686649446,0.0161778340571151,0.0534922535171613,0.0556472563676611,0.0133537271052814,0.0401720197467691,0.0584178365023377,0.1081304866825578,0.0796269010030181,0.0129616940426778,0.0570431476643457,0.0532983475595921,0.0775258387898426,0.0635959349048446,0.0326877564308999,0.0351783456384488,0.0430638064270208,0.0180632976459282,0.0047973246937732,0.0484259103571551,0.0120589883839005,0.0166472072092325,0.0018490960073725],\"type\":\"box\"},{\"name\":\"4\",\"y\":[0.0086169737915487,0.0055631702932352,0.0017435857049697,0.0026136788043264,0.0122584074428249,2.5566656273492166e-05,0.0076939127696313,0.0017569971458284,0.0093645087857568,0.0002899989064373,0.0065247105386872,0.0061169059172139,0.0013857781183994,0.0055409014682243,0.0133824475409769,0.0018266944480416,0.00103237404483,0.0070490111214669,0.0063431857794052,0.0091133466377133,0.0045059145298315,0.0088444609946134,0.004502593513591,0.0091684735365455,0.004183244574931,0.003639392649909,0.0025688482028973,6.615213335605096e-05,0.0055265003475107,0.0052338964580906,0.0114098197135034,0.0023684011886747,0.0066187133318409,0.0025071109590814,0.012532729320729,0.0081625265857508,0.005850104164571,0.0065536927615214,0.0117890914094994,0.004207891582308,0.0078470848803825,0.0023631456998933,0.0091468305029846,0.0106170655662685,0.0051751695080083,0.0036921678343282,0.005684158367449,0.0097188862634981,0.007451502925572,0.0096502949569662,0.0059606689466947,0.0035930843414932,0.0063582341869603,0.0063679819056375,0.0076245106288605,0.0014380938543258,0.0066828610461713,0.0031910801298206,0.0064419573287758,0.0054152702201531,0.0008770608472028,0.0029667634126109,0.0043996853777,0.0093245488210829,0.0111269261642223,0.0036098176216439,0.0032056899223351,0.0059854898357864,0.0050116585335591,0.0035338152489247,0.0082043124313545,0.0098534755084426,0.0029942482670517,0.0023286541616249,0.0009536673600607,0.0052819586837642,0.0015532809475726,0.0040959691751769,0.0048412054664661,0.0001020609885775,0.0005407271120695,0.0088779583668045,0.0052701153401441,0.0011987950308527,0.0030857036683823,0.0051600030037384,0.0033510671714191,0.0076411585400995,0.0006316640646579,0.0046566538994381,0.0065168411458376,0.007682435009587,0.0090636028755844,0.0061497870425354,0.0052038354193669,0.0072810763492138,0.0065220483268161,0.0023738587274075,0.0094591723367254,0.000703626602312,0.0097186632799598,0.0026820698845131,0.0052966708115108,0.0062383819082867,0.0066303495131981,0.0016112282325307,0.0001578305939222,0.0001330460770945,0.0047595586581813,0.0047263394230289,0.005733985994033,0.007898034746327,0.0010488236787967,0.0006016724828437,0.0051788473988761,0.0011027982974755,0.0022436314701758,0.0106737240644305,0.0003352261897044,0.0016074703268396,0.0118735427876024,0.0018622152112496,0.0045243602534763,0.0050261754476981,0.0119557562956133,0.0053455741050333,0.0003407017604663,0.0059225775619105,0.0022708638393521,0.0090972331651595,0.0008358573765706,0.0007440940229287,0.002895042088594,0.0087604519134449,0.0110344890819601,0.0145999145050731,0.0086869639383159,0.0120302313322384,0.007325988546216,0.008052018208267,0.0069957100922996,0.0046131369403157,0.0051349436079052,0.006577602316607,0.0069555303057775,0.0072242408875909,0.0105591456771505,1.543543381715824e-06,0.0049640266891431,1.2668172817333414e-08,0.0097910978039024,0.0057063043462878,0.0086196702314271,0.0036992915090247,0.0030223756700456,0.006825850128112,0.0046931026460025,5.226959200823163e-05,0.0096267725459101,0.001211450993866,2.869365500433801e-05,0.0070028637153722,0.0018642338595026,0.0092676343402923],\"type\":\"box\"},{\"name\":\"5\",\"y\":[0.0057329230077847,0.0016639324272176,0.0040180183402429,0.0022077951042353,0.0025912476694093,0.001586554217706,0.0007873867309363,0.0047934184826934,3.5432173223798e-05,0.0027400741788318,0.0045182935629706,0.0060320644618112,0.0051067467226798,0.0010440775233371,0.0012281489694181,0.0071979104865116,0.0082825406158941,0.0058226724714437,0.0071688990437693,0.0097442480360857,0.0060804521979198,0.0004558649287141,0.0101460283396928,0.007351464531544,0.0066886472533537,0.0086212288890675,0.0047679827145137,0.010357028697185,0.0017910243237263,0.0040472197416212,0.0026899068198882,0.0041662863139457,0.0008223522518284,0.0132105086961165,0.0059222924295714,0.0046077844351962,0.004166347223397,0.0054788327800735,0.0011562239709441,0.0057447173080892,0.0051375346240232,0.0025037079808896,0.0082508184599257,0.0039924306299839,0.008296370035331,0.0074953631604368,0.006490785298281,0.0054522383427758,0.0064378769043541,0.0054352226001824,0.0028414136564104,0.0079905782098064,7.444267056148092e-06,0.001735575857917,0.0028522420192344,0.0013730751894972,0.006392508128172,0.0050401415005276,0.0035743101388372,0.0049156060416422,0.0014916341180558,0.0004301554837007,0.0061656439937575,0.0072848346772295,0.002154597178761,0.0059978419673711,0.0013379718594759,0.00034486256023,0.0070763737547457,0.0037761479940281,0.0017229386101054,0.0047133763602284,0.0045577596653394,0.0041215197331563,0.0045484193158386,0.0040204176260056,0.0017050599316984,0.0020669674345553,0.0112509399176468,0.0018167076042523,0.0024620703815697,0.0005291341687181,8.164602020398655e-05,0.0070324206676703,0.0064777510235869,0.006945669158984,0.0034530571565053,0.0024424120330185,0.0057522824453712,0.0005974731158833,0.0041031866576232,0.0006307747381306,0.0028206385819005,0.0048689288119772,0.0005083950868348,0.0007934226424873,0.0001441569437569,0.0089676584606102,0.0018677360778465,0.0052270188351724,0.0009537784066794,0.0036312158632959,0.0062858736742626,0.0074542924139691,0.0046764254798131,0.0095593735192517,0.0063939913243031,0.0109009390966852,0.0053526289408392,0.0057813471932915,0.0049942635749239,0.0061657764294977,0.0020156981555267,0.0020354139760132,0.008051914133819,0.0069172497881417,0.0078535508901176,0.0057834174904356,0.0077248892937587,0.001799175603911,0.004110688395272,0.0015299987082611,0.0106079668391232,0.0020941082876031,0.0007149305967784,0.0033862596101808,0.0014970376768398,0.0031297530628438,0.0092119976704652,0.0035590864841659,0.0031971840306429,0.0028131038841399,0.0022450726934174,0.000451355853393,0.0050451207862713,0.0011412824929503,0.0104139972986871,0.0059613881474363,0.0113119540741493,0.0034453394343027,0.0006966165801067,0.0019941152228076,0.000577529391734,5.608238056763692e-05,0.00411803575705,0.0097246276933495,0.0010083413383616,0.0002396643407922,0.0088899092995494,0.0080748249587523,0.0056806549779806,0.0006729496331239,0.0054480407122249,0.0035942193324116,0.0067452181677894,0.0023227111913643,0.0038127484816281,0.0039214121184686,0.0008313101922526,0.0023656324826717,0.0031565373494038,0.0037395448486721,0.0008768726914335,0.0039474339479004],\"type\":\"box\"},{\"name\":\"6\",\"y\":[0.0575670957652506,0.0970893204559908,0.092733048215284,0.1024591496548676,0.0434998939469268,0.0949169358370261,0.0440414939565921,0.072205112060439,0.0523332161290237,0.0182523553316026,0.0710586456531198,0.0943319523622096,0.0495384094831588,0.0265928036137012,0.068674821294977,0.0435535968084491,0.0891036225324588,0.0377125364434467,0.1371004300676721,0.0902121832614064,0.1175146929791775,0.108452960243763,0.0235260317139209,0.1195950679991253,0.0305118736428936,0.0233592975994934,0.0015622899252342,0.0908515634622727,0.013288474242193,0.0081801343314081,0.0403056417812044,0.0508112477458116,0.0803835270925107,0.0780366763380551,0.0498768698079831,0.0727664445713577,0.008424807899344,0.024332603971054,0.1016118410317581,0.0726393148314827,0.08833591487975,0.0800256304324357,0.0264030754277457,0.0528432870422746,0.0658813914836522,0.0651746934320852,0.0158849065779408,0.0403232727200316,0.0295625807983444,0.0928082641887778,0.0870171567595787,0.110615924137902,0.1186761752579441,0.1420171845381009,0.0533971557268729,0.035187275046955,0.1011965122659107,0.0636223633629469,0.066979767166369,0.0905386104665339,0.1174308670240344,0.0335516508203231,0.0900154535323414,0.036683094460108,0.1066499572524037,0.0973981122992889,0.0661389949637239,0.0037082123779048,0.0010874835300432,0.025333653182777,0.063866740202531,0.0067873998528039,0.0862918250659811,0.095991626314234,0.0977241438304589,0.0030819750490228,0.075644129184099,0.0016898410942527,0.0411799966325513,0.0038542535626474,0.0492061852036231,0.1135535274478486,0.0259111350500787,0.0247186113135557,0.0708659930929245,0.0669348375644535,0.0317725229938474,0.0132586661578307,0.0222153213619348,0.0610508287728881,0.0408388242550727,0.0582077217202363,0.0506888136948607,0.1112782631436733,0.0735198474096963,0.0015058373279329,0.154219997550005,0.0582700940241285,0.0200630565422564,0.0786850780145609,0.0057916573877593,0.0588825371950069,0.0234105660658146,0.0099740459924276,0.0636272732873348,0.0514778299644454,0.1070429276789185,0.0407112621989733,0.0488889570798658,0.0971585588828906,0.1126165770012999,0.0514869519281966,0.0708565725805983,0.015637370506976,0.048334216323346,0.0859612542106457,0.0540671765080449,0.0196842240486506,0.0975387663901819,0.002033112076498,0.052898031426117,0.0050338449364396,0.079734800735086,0.0527240990894276,0.0356680004074344,0.0265514862265479,0.0976562297681921,0.0522577339403382,0.0705434494144756,0.0081216100101741,0.0234451602747923,0.0987948087254335,0.0112299108877334,0.0990144161203053,0.1220103570822304,0.0484089600859804,0.010945117441542,0.0279116571836214,0.0432604344923134,0.0347453413281964,0.0127591738078553,0.0304913759991771,0.1047175787784407,0.0838334415997947,0.0216648608896685,0.0155959905724054,0.0918531443945075,0.0245248657508348,0.0282198674801207,0.0498980652432864,0.0737930976540581,0.0244203967134099,0.1514765194373503,0.0482321517255408,0.0527366449115941,0.0477391350445942,0.0916593746802362,0.0443031261737615,0.0312537500934954,0.0263792363680269,0.0026856609368361,0.0199019354184516,0.0114940600308731,0.0775444087461095],\"type\":\"box\"},{\"name\":\"7\",\"y\":[0.1571744218350312,0.1137533919317139,0.0881467003383213,0.0551814205024352,0.0015200740870341,0.1771542176532969,0.0471917066594974,0.0639107242923224,0.0875356210489786,0.0899172036804405,0.163064349090466,0.0499580581594762,0.1770606134909177,0.1141869115646456,0.0495423437493512,0.100907112344175,0.0752656947783731,0.0730464648626868,0.0568256120460939,0.1508001578073387,0.0725327348725276,0.1144457267536063,0.0029668944452151,0.1418803656230974,0.132755643768849,0.0985430298298755,0.006116082424161,0.1108586630548132,0.1235510131755946,0.007096304122183,0.0809907748033285,0.0978106425978444,0.0479367116322415,0.0878775353313247,0.1353822748325073,0.0056402895691361,0.1911565533763944,0.064069205788484,0.0464895667238361,0.0771452866178497,0.006930092596055,0.10854222542309,0.0431208018138364,0.1390208770948049,0.0910893781426395,0.034390724438499,0.0140294497883192,0.223613552253224,0.0832478739043518,0.010288759561992,0.0362219119326504,0.0894619906462208,0.018905939555459,0.0812830404557542,0.0677951792947157,0.1461820661774139,0.0697338375042364,0.0260127992173474,0.0711268953099893,0.0091515098075372,0.177220595572082,0.000626729140745,0.07921553480497,0.0377735891019938,0.0570769365748731,0.1125813207432453,0.1624615460774422,0.1545052969897608,0.0447469137513472,0.1054160878285996,0.1169535583659026,0.0765748718381617,0.1561509364958118,0.0761467795459917,0.0853369249855185,0.1404593610987366,0.0775221365327669,0.0484828040504647,0.0494760540462158,0.2207004691479274,0.1462405694161058,0.0496408954006226,0.0995002631319722,0.1543541617382928,0.051625640670515,0.0891074374483914,0.1920250751432,0.0205227273692423,0.0608540523488256,0.1453704100996556,0.009719063459168,0.0250796060715851,0.0110951867962593,0.135320539092851,0.0690516106976944,0.1393044717453181,0.0776552200539619,0.0866383529889461,0.0421921053245831,0.0811111188005496,0.1476488851040799,0.0447476379247981,0.0044918252382622,0.030086574920456,0.0428201819232003,0.0522924996471326,0.0230003902334084,0.1160558793826671,0.017938816916543,0.217020910306034,0.1068095733945027,0.0252164406356585,0.2140721284278568,0.0433179993216414,0.0697388357338334,0.0910152315125552,0.0981334960607589,0.0663955662147542,0.1478505657422679,0.0709814895812497,0.058245335344468,0.0019996889498748,0.2136808281178613,0.0969457691462516,0.1981745694704132,0.1071010760261613,0.0056165468423603,0.0487209906317918,0.0901259673479759,0.0624034995069823,0.0787754610423251,0.0855820142143981,0.1956970700204931,0.1154565550148587,0.1806667561012673,0.1418534327501571,0.1509485907935207,0.0625013929469198,0.0787179833189158,0.0013371448073922,0.1390946421718905,0.1066717615838565,0.0368194616937736,0.0151040886766346,0.1303237579658726,0.0633441483668734,0.0593117285181076,0.0358496784323896,0.1014520708525573,0.0407110535160774,0.132310853978231,0.0602398606973403,0.0230800976140345,0.0007009940079319,0.064318607818734,0.1612436458808687,0.2433777861289986,0.1125651879813632,0.1653344202770496,0.0944155141071548,0.087771336802006,0.155616495428855,0.0191852914266065,0.1440841730600806],\"type\":\"box\"},{\"name\":\"8\",\"y\":[0.1019203145220889,0.0708015815897876,0.004613751194783,0.0948006016454082,0.0641351214689465,0.0583343338476068,0.1682500156604679,0.0546078509909355,0.0390742745918535,0.0885465530362815,0.1330516448322121,0.1348325958995644,0.1013528290054636,0.0491299253195559,0.0922512931750688,0.1054015101224951,0.1002920581438043,0.0895778920290019,0.1729993092828081,0.0891041554244041,0.0572855632954954,0.0430997460175959,0.1980866757867911,0.1209874998222039,0.1105874163334517,0.0287785050154884,0.1467476161384807,0.194133319407231,0.102154302285679,0.1692174379347965,0.0957181052822459,0.1440287094686921,0.0567332211391031,0.1841006112086217,0.0728075050709624,0.0292460824238259,0.1069699194551484,0.0296134952042026,0.1229076391572823,0.1088590382116652,0.0198643424997548,0.0459511353597026,0.0807736340066514,0.0663567990263767,0.0787086494151152,0.0993845552825986,0.0111710287338089,0.0783001532928551,0.1786397519879928,0.0535227917113212,0.1113887894603219,0.0211914657746579,0.0749104292208224,0.0800549781203684,0.1432284928520652,0.0156420068072975,0.1184029960061099,0.0780448047719537,0.0921925098605775,0.1182932838311159,0.0925616233055315,0.0203419497819092,0.0290714716003686,0.0037755622827184,0.0561074507111242,0.0735360519962759,0.0740556978946188,0.0292396372222288,0.0295732963814687,0.0723733441202096,0.0207954416238574,0.0711447644293235,0.036599409903998,0.1003927893124391,0.0615474803061859,0.1624056243313598,0.1670894752048743,0.0976108624751224,0.0437551023488155,0.1210036169968666,0.0041654411754768,0.0328284221568711,0.0774475758569829,0.0160813849896734,0.0592810686935431,0.014604033957324,0.0682608571271844,0.1082168175775775,0.1332061273099982,0.0353275452190819,0.0637182400062397,0.0570231061596795,0.1339407149420209,0.159949844562401,0.0377272944068914,0.0388527630328733,0.0045652004418006,0.009436602169664,0.0085045124714286,0.0984116603774189,0.1086415814780708,0.1198487314075941,0.0453970396978961,0.0227344323188122,0.0430750514194308,0.0471843876378333,0.0790737800714358,0.0648008513371251,0.0773423649625864,0.0921373476621762,0.1498134821880526,0.0346786648115325,0.0494836642729923,0.074953872277783,0.0680945441515855,0.0818567069008814,0.1123639766489258,0.187728058167986,0.028469631333784,0.0082584625273802,0.0571100028041234,0.016354239854432,0.0438406715884755,0.1249384486319586,0.0316381459785779,0.1137941379373719,0.0241509123189428,0.0910541219767979,0.0447789361556036,0.0234709257495522,0.0309434078379663,0.0137323120032774,0.1290786409812605,0.0289917431948264,0.0549647874114747,0.0243265173558062,0.1060245183549684,0.0674322121397972,0.0701396983615253,0.1084375179414157,0.051350382978455,0.0600708035758294,0.0881970982482947,0.0035796492804619,0.0547051230295554,0.0521949612319017,0.0029660535282631,0.08557647264593,0.0480597851446336,0.0011408796510909,0.1173012052692044,0.0985054416642058,0.1257107196216912,0.0297046725522018,0.0577712834944593,0.0697880027352281,0.2141200000730299,0.079955315024675,0.1146137161106228,0.1903593921024419,0.0086063047431604,0.0813432990824854,0.0074440511556586,0.0925213212888335],\"type\":\"box\"},{\"name\":\"9\",\"y\":[0.0742460706226275,0.0205310210428383,0.096102789248417,0.1002670119128272,0.0349933830157734,0.0971618692996973,0.0137460937025136,0.2003148505032153,0.0904012200142001,0.0298370335277785,0.1124549795650876,0.0884277588563791,0.1158064409305915,0.0319265891281004,0.0994801220768667,0.1091300307974606,0.0436964246821344,0.0616031985725503,0.072043236874339,0.0657630774215604,0.0630247839733017,0.0851216469715861,0.0106215157275507,0.0353657611241561,0.0625571072782522,0.1195282710727814,0.0917584837088164,0.0634536732305127,0.0012797875337115,0.0739858430360403,0.1181248247073823,0.090425218700681,0.1011337402264149,0.063937453900376,0.0368336354752122,0.0836645894415198,0.1281229556737683,0.0897903079110264,0.1314061078629284,0.0262990850609097,0.042169875254289,0.015164800423167,0.1417289262672916,0.0628506637998477,0.1340459863782123,0.089336220404981,0.0023906176239891,0.1169095594401025,0.0334663017549869,0.083322996569848,0.0974636517362352,0.0536571792365417,0.0074404717330783,0.0947031041454124,0.1166617892080974,0.009205801074007,0.0702898706837431,0.133332429553383,0.0135066165512486,0.0706648040723534,0.1787955628597405,0.0997410935341129,0.1414746968584983,0.0096223036058115,0.0476340585656144,0.1017709373723524,0.0992907481468672,0.1090766108397374,0.1064507206977241,0.1834819842534649,0.1133163519706884,0.0286447734951789,0.0612767643427766,0.1031644413663562,0.1019620066730979,0.0315952024209851,0.1538014986975544,0.0352992923714611,0.1276915671074828,0.0049095413478109,0.0305186643895081,0.0973202774583297,0.0604559990306707,0.1200019917686188,0.0516997736113871,0.0808691853549234,0.202865087228995,0.1008972724358575,0.0893726318543999,0.0823915738500785,0.0796753639212564,0.0360132066460622,0.0613037153322973,0.0484285698521973,0.0317974122767812,0.0867010944356296,0.1520882079278028,0.0225658504894878,0.0002392764059377,0.0717102282957746,0.0651442366475296,0.239373012462603,0.0849079180442402,0.0505903867040663,0.1052169120691268,0.0953895175621036,0.1090748646545676,0.0165744202175245,0.0364780483288279,0.021598669861045,0.0602819725660727,0.0597770239733792,0.087735679072011,0.0856953906884536,0.0888253322706144,0.0475171315190792,0.0011575319873817,0.0762905615267795,0.0321889554330913,0.0468542904036732,0.0383032169214026,0.1925085341162955,0.0019106270085422,0.0647031488178034,0.0012432081986445,0.101702215933397,0.0523426361543647,0.1666188806452475,0.0426685443695662,0.0787547110770627,0.0336515252411297,0.106909091763277,0.1488404481277408,0.0602139058608642,0.1116228867222437,0.021902603085664,0.0477422226868864,0.0467681633128382,0.0787644644463165,0.1032515545091199,0.1030868505693103,0.046988598883055,0.0312576628406912,0.0722132243296321,0.0640938084744001,0.0638077163105214,0.0961810962029362,0.055802166432462,0.0404978857187626,0.0006402578715031,0.1318334019424654,0.0051912348773747,0.0717286875600135,0.0305224521359882,0.0686951655397444,0.1340053401950904,0.0867223151371944,0.0777937792934299,0.0334176822643819,0.0728168269210956,0.0019607197359441,0.0056287281339955,0.0201068889534894,0.0566124849294711],\"type\":\"box\"},{\"name\":\"10\",\"y\":[0.0363374186782095,0.0859615017689358,0.0792332877522445,0.1092177084339351,0.0583672546557973,0.0071818499140894,0.0963240521213674,0.0553871266673426,0.0070469374814016,0.0718269110361963,0.0798286051869006,0.0299402082259871,0.088710949825272,0.0988540415596373,0.1118714394942563,0.0506672802509964,0.0567168609608199,0.0775092551839068,0.0004358517322071,0.0336714891883416,0.0313548543556838,0.0918153551382532,0.0936476866846244,0.1224349633164123,0.0299042494010119,0.1004368360076015,0.1486286554327391,0.0745615598861488,0.1151044341250252,0.001834323182084,0.0269595120965471,0.0091159060863293,0.1328086013154545,0.0367941438418388,0.0533524235077477,0.0566555834881848,0.0622640511804676,0.0508468796959354,0.0546934302116941,0.1503855636972099,0.1015661815945451,0.0054235662054323,0.0252229542478418,0.0423667077812657,0.0874608087942014,0.0750593773768229,0.0326358601776179,0.0530279129217564,0.0713437307313138,0.0402189085484786,0.0446794409158664,0.0432608062307239,0.0488760700971065,0.0803503860673823,0.0705252128091387,0.015905957780723,0.0342180359003781,0.0161366945394484,0.074216221387556,0.0771646789046151,0.0704690336257604,0.0074760575367578,0.023018333448065,0.0454086781984231,0.0154682497996831,0.026544747533317,0.0953871414142003,0.0575153234583704,0.0695760103379339,0.0464995489296623,0.0422644312664056,0.0669597363172592,0.0149815265428526,0.0767525674038022,0.0371400729438851,0.0248383435441984,0.0718942439278754,0.0853108463775515,0.0583329477010897,0.0106289174232361,0.0139257846612198,0.0214810492541036,0.0608766005669056,0.0686243474573972,0.0056565038969701,0.0688305862364793,0.0005885873953649,0.0302020076472911,0.0458244284963611,0.066744331338487,0.0460374428279016,0.0125449927858539,0.0599127738196355,0.0332306154010824,0.0492770011117102,0.0574846239968999,0.0065233720613979,0.012086718897046,0.0012456356443275,0.0823914328593878,0.0751509832473809,0.0211237860698636,0.0144761781385562,0.0416856064113077,0.0189696467438832,0.0617378760629199,0.0331017337738899,0.0525767187102976,0.1093272770748816,0.0598288478345057,0.0318664871835565,0.0225286726800192,0.0288177288087689,0.0283134369807484,0.0786681521624439,0.0966519902761132,0.0081674689701749,0.0333515953771072,0.0481033123016603,0.0425065784078795,0.0664774904611882,0.0377797602281206,0.011590837880483,0.0599216748725439,0.0055421595415019,0.0875733373735062,0.018258260032625,0.0875339845789565,0.0622148194919364,0.1106603958346605,0.0097731885215273,0.0058636506888593,0.0637854787930425,0.0263936519677692,0.0502211299949735,0.0422261572111046,0.0493346059153042,0.1297406384827342,0.1431305641821645,0.0306527513010106,0.1002988302405142,0.0122315486977901,0.0462882426534791,0.0129641366947286,0.0489633532136999,0.0224362789231476,0.0351953427382161,0.0769719887410585,0.0293665814464074,2.8201383722994927e-05,0.0241429246368453,0.0309959321765603,0.061924984157578,0.1214600676345986,0.0370447386636679,0.0589339825169742,0.1198412853893295,0.0648137606672056,0.1377948164442162,0.0309514698377711,0.0885035766861398,0.0065844156706301,0.0084217342906925,0.0540728773724976],\"type\":\"box\"},{\"name\":\"11\",\"y\":[0.0462759844901378,0.040903741546023,0.1202906076099953,0.0301400365921693,0.1875745524284436,0.0920293372138979,0.0784092124146342,0.0164329878121679,0.0059710989539532,0.0304454760700018,0.0936154202358908,0.0848674026734812,0.0668522710171674,0.002187136474287,0.0656523114031343,0.1149672145158873,0.0866393724251424,0.0313112641314172,0.0407572748294923,0.0179549004157001,0.0973549082711311,0.0862995603459933,0.0344229657365688,0.1129961929731349,0.0321066683095778,0.1139050746486944,3.165001549746975e-05,0.0117731324579353,0.074320490058892,0.115159882972194,0.0185787634753851,0.0620409440128264,0.0527301702598233,0.027090093805268,0.005728180067203,0.0321509610925087,0.0756880225754782,0.0353461406590797,0.0769621607124897,0.0707084782469842,0.0684152833349507,0.067965162144459,0.085357615501864,0.1010198042722206,0.021968111388443,0.0561254205526791,0.1316040603957015,0.1248338138324459,0.0487744062927506,0.0566531670952909,0.0816668756376246,0.1040997214951775,0.0270181805808892,0.0676568153929449,0.0596131079815278,0.0467926282781867,0.0584460412331257,0.1020095932290355,0.0017347762378291,0.0367801584779009,0.0219521406144579,0.056176705340831,0.0934383560369503,3.572311876986029e-05,0.0320282989400797,0.0351051321663512,0.0143059555938031,0.1082069832637433,0.0244295677786305,0.0254218851162502,0.0804311516017057,0.0042590671343836,0.0029140505531481,0.070783855681806,0.0354759447640294,0.0160909628627559,0.0935723318865707,0.1436430682542057,0.0387713022596494,0.1363106017795956,0.0847277918061487,0.0291772550691035,0.1133230396891107,0.0292137448737223,0.0331858457857871,0.0385543343756396,0.0202704277017271,0.0067445459211692,0.0081936774962086,0.0352327811592716,0.0919416531350862,0.0068468519106598,0.0826296058712223,0.0398273059090618,0.0238601526927237,0.0634487168173937,0.0072429002368341,0.0146012948997823,0.0104479207379773,0.0137771229723171,0.0124517855269292,0.0478208614119262,0.0078650923094168,0.0170015608588891,0.0098462280817708,0.0961110969072309,0.0577779974415264,0.034460876618658,0.0724813336929905,0.095876355117067,0.0808765993669826,0.0359452528701955,0.0306792803156394,0.0015167637322813,0.0454962918438337,0.0872229388844351,0.0179072033589013,0.0638752685050523,0.0827932109590836,0.0017686095832745,0.1097901971332673,0.0220011162580471,0.0434439468527075,0.1011525490496709,0.0039455604283885,0.0807596122845906,0.0320646500175251,0.1037903307573632,0.0431746035774501,0.0419002655564584,0.0196110201737294,0.1027740554131041,0.0099121603673237,0.023730524505455,0.0348471003991666,0.0705715309632337,0.0950089954615201,0.0564263422040565,0.0149025516961811,0.0443168617822252,0.001497690765143,0.0595932568059186,0.0205855903235214,0.0116741157548699,0.0668950007084816,0.0360745527594609,0.099190799215967,0.0848238785346157,0.0317642053198275,0.0418429164483757,0.0130582025554035,0.021011768420934,0.0472204578744216,0.093728106894179,0.0583751648820158,0.0314169699231199,0.068639515216171,0.1150642317496019,0.0030167057141491,0.0701534105724869,0.0343301746046169,0.0133387677697371,0.0100210338515672,0.0851569610446699],\"type\":\"box\"},{\"name\":\"12\",\"y\":[0.7702795156291797,0.3647208190198046,0.826046973305052,0.6740244262807591,0.7929142867021156,0.4100688660071976,1.27883267364648,0.2777288078320841,0.2297494586276779,0.7890196708564445,0.4903805541281428,0.2238099922997056,0.92537651668358,1.128513245524897,0.5451524750479977,0.5740637627956147,0.696225466999998,0.779314882430045,0.1039620527965003,0.5201639557212036,0.6087435885981917,0.6430427126827062,0.8475142180445359,0.4772167149928627,0.6097968927102456,1.0467560929787938,0.638007242692751,0.5146380984134913,0.3276677036653225,0.0973760381570611,0.3270484897041211,1.1257016346272033,0.4254777409706727,0.926933170017012,0.77191835699588,0.906166116720732,0.7878006611114247,0.2355850167249887,0.0212861107253887,0.9446287919184916,0.134835389116946,0.790764535252851,0.8827372613416619,0.6385444272941857,0.9160198933862048,0.7042284711156634,1.2502348940790995,0.7300887715711964,1.025210096882634,0.9963574385642124,1.025429211681529,0.6784373611874921,0.4634320187079336,0.7036230689505504,0.8443093821268616,0.5995155943947671,0.4780353605147974,0.2783613811874012,1.5079012040573274,0.7742683907837061,0.4906285511266693,1.0614780145811349,0.6385099668564002,1.190476711929427,0.8801536928398782,0.8330951700106046,1.1071464078569586,1.146818821341184,1.3207535130730004,0.3011206601927945,0.8231653542966324,0.7564157292852319,1.3626907547620202,1.079295498391092,0.2456340239263197,0.631924929806649,1.169609154512729,0.7054012140524638,0.1098829771028589,0.0101446684666573,0.2226289546481442,0.7295993713878446,0.1530544530316847,0.1095305657110516,0.7071861163179213,0.143158728136859,0.5240273679009836,1.4623328389176895,0.6031461351236007,0.1546974998703276,0.9473938109607296,0.9334285310862922,0.6679510227388228,0.4646573984859259,0.855086336600621,0.3978042257555111,0.3733709196288662,0.7373390984922714,0.9770504651799652,1.1941044242829175,0.4066441767610048,0.9007307128994776,1.2891278448061567,0.3270285482100897,0.785773086917642,0.7469021161333145,0.8129990835071507,0.3864868488201659,0.869614262692873,0.6615080588995086,0.9576980733705192,0.8092833789216931,1.1649047998739204,0.1804835059386565,0.4886784476705716,0.3663044324761757,0.4196473151556331,0.936931678390306,1.1635491688802422,0.6052969893950226,0.5292649411877712,0.3086413048110421,0.7333090719565629,0.405213412012422,0.3554550822414092,0.2211040646121863,1.4327651500779222,0.6652071957410678,0.671773725715783,0.7792099635766327,0.1917893350640322,0.4069942013412633,0.0873763874018466,0.0716486982721923,0.4231693556509713,0.4835482490116074,0.0093583015703074,0.7937317653617139,0.6944894786221987,0.080692476714679,0.3548043372095393,0.8581127242693251,0.869013011651437,0.8237109072792532,0.4793374208309823,1.7844941740915643,0.2276298982026088,0.1423117209548086,0.5570057876755429,0.0418385989978559,0.377734273442895,0.0319892671313829,0.5046022124030263,1.3158558872379398,0.2230080147311374,0.4331240590831625,0.3050799056616468,0.3845581217951235,0.5897284756025611,1.0720588726561135,0.645260699553553,0.2438469237980579,0.1429729585529752,0.2705415939005207],\"type\":\"box\"},{\"name\":\"13\",\"y\":[0.0010079384070474,0.0012490665516836,0.0008461372262552,0.0028272099912866,0.0012605630447964,0.0018951012611683,0.0019816457059114,0.0010084737219294,0.0006723691813859,0.0012377861672769,0.0012572019791991,0.0019304370052068,0.0005264486015248,0.0004774164826316,0.0014873140044229,0.000375868399528,0.0006814197278382,0.0006198752846782,0.0017388407102869,2.102532525433163e-05,0.0009690321636503,0.0008027842865248,0.0012526924649493,0.000998957473964,0.001497249021853,0.0011721571786758,0.0006409786015366,0.0011034916752874,0.0015743058590613,0.0007180730300888,0.001343644292744,0.0005864243291048,0.0028061239166812,0.0013627928634927,0.0014672245374922,0.0012489515163765,0.0009601177831174,0.0005170490260276,0.0006910125658028,0.0008713713114114,0.0018080520248908,0.0010447790265121,0.0006926328304252,0.0021309787454413,0.0007337521027822,0.0003323336621594,0.0008743303734758,0.001272879884606,0.0009403023287783,0.000274485775122,0.0011753591303949,0.0019132172790778,0.0005020872484098,0.0018147036411557,0.0014114465707175,0.0010517911445922,0.0003977660338906,0.0017162658516141,0.0004323698748865,0.0002583637867637,0.0007689493564866,0.0001809516277858,0.0014080915846028,3.0306452910241047e-05,0.0002667651763349,8.715515496541485e-05,0.0004398059318027,0.0007034264156032,0.0004180076888659,0.0012148772429487,0.0006075664236118,0.0002760422713433,0.0008892134818901,0.000756334307909,0.0006970067345446,0.0006872486099798,0.0002010513108336,0.0011549867532444,0.0008455597406363,0.0006938106139458,0.0010691255949915,0.0011625153110569,0.0009248147815874,0.0008728626989932,0.0007447098515744,0.0008361252477504,0.0010115994581189,0.0005751273022402,0.0007882062361762,0.0004903575529548,0.0015166226856747,0.0019109489671018,0.0009474807698983,0.0003753155688979,0.0007367156899426,0.0022408089041588,0.0001259273179926,0.0020416346835423,0.0006719394075317,0.0011273307215144,0.0004953945745884,0.0001599335236339,0.0022312130059109,0.0029212668489591,0.0008929528017613,0.0002641074777701,0.0001776763348934,0.0012528003597451,0.0006706233210305,0.0008291336044839,0.0019069923069865,0.0006907000891835,0.0012708333630405,0.000297331591371,0.0011400777327429,0.0011260537365425,0.0013226812796514,0.0002313957742075,0.0023361914885721,0.0014668632384041,4.959545203649085e-05,0.0016714244135252,0.0008436005521928,0.0011903015564914,0.0006852071839328,0.001760326627586,0.0004210341527808,0.000398989013252,0.0016068340635401,0.000218604058565,0.0006697479088576,0.0001625552474022,2.672226015948554e-05,0.0013227970000335,0.0003705832594937,7.568018463947752e-05,0.0004940186231199,0.001225339454856,0.0005533703945244,0.0005585262014757,0.0027863311017471,0.0002392599843026,0.00092619456623,0.0007316449829058,0.0007053173855009,0.0015726867496262,0.0010290686061123,0.0005286898888922,0.0009418594291681,4.070145371693086e-07,0.0013250855111543,0.0015694553126282,0.0002176434532558,0.0001414485516647,0.001923540514423,0.0004320084875282,0.0002921687809332,0.0015965773176292,0.0025169576740213,0.0009011429049334,0.000978143778477,0.0013573722323735,0.0003479174810782,0.0011162708407805],\"type\":\"box\"},{\"name\":\"14\",\"y\":[0.626503238493346,0.3947685843332832,0.6802655841861138,0.3465773284567905,0.7378558498372602,0.4354723608268576,0.1581646650984406,0.3962359598002318,0.7851128599879088,0.4190649489796726,0.8374227279477973,0.2433290190077367,0.5439688695051691,0.7100178396657093,0.0802548772510814,0.6894231752267252,0.8001041565477396,0.7457244379575421,0.3983905184472918,0.5338225199020631,0.307802525963036,0.760387799013404,0.5132806137738365,0.0612994421479888,0.3565253721677727,0.0689708046228139,0.9877083021600314,0.9341165194672728,0.5279619504156328,1.014145227125562,0.0531001162542587,0.4427741368406461,0.142865329067191,0.0089701979026408,0.543926241714629,0.3180902372311962,0.2435758840411751,0.6513324566453235,0.0082127767878474,0.3308579091716062,0.1613112422242167,0.8440625301470164,0.2035543230279244,0.0766368829371725,0.1337940557506812,0.0587962115570672,0.2095940643526324,0.1840420093922522,0.3831452394340476,0.4854431179605593,0.236297769581029,0.3089964285488049,0.4863355751996969,0.1899734139920767,0.2485510756910487,0.2662062703801673,0.4217757025464072,0.7383722696136167,0.3764532779675712,0.3692507023583729,0.2820772145169712,0.2446847789887879,0.5054149855653888,0.6105196527636594,0.1785791401589165,0.0435868969826767,0.0718032100193682,0.1835914577400713,1.076413111732009,0.6762707724952617,0.1821009561003045,0.3218249501940254,0.707521942395606,0.4051830715254642,0.8914457839136621,0.0313197488266332,0.264642415581599,0.2585154940361349,0.0010350470225193,0.0317782555300005,0.1731936419211777,0.2722242110210183,0.3393964422495062,0.4956806799454625,0.347792464117117,0.4326810279819716,0.3377617992290058,0.3582038247593894,0.2580044396761787,0.0175991498207733,0.7745456973958096,0.0637664645312663,0.5215156163324832,0.1732528370522255,0.4737611874157647,0.1202029224856683,0.0452225992944912,0.1160696149734574,0.4587274214623972,0.1291321911219096,0.0747369092930305,0.0762752285498319,0.02940819653217,0.1236344636424557,0.4927634659746099,0.2069648394098164,0.1082572568540009,0.6705931311142002,0.0763810379359067,0.0749468242079617,0.1084105508321247,0.3662182321668439,0.3263403864033448,0.7583922183354662,0.2903255518215423,0.7220999648398824,0.3210461296798328,0.5061252832991356,0.4412438599931787,0.7298121727030599,0.4789042848972184,0.2509979971958064,0.347060580330184,0.0706962357680061,0.4209810284580552,0.0407359745529703,0.4306952251066863,0.0697406202533362,0.2781131301389685,0.1992489627504445,0.9219716173412238,0.6000602114455658,0.4337029983813537,0.5141031877348445,0.1129371467490432,0.1228725800414345,0.194270221662669,0.1866784043166251,0.4492936793380264,0.1669921460137289,0.1680387825113465,0.576935422233193,0.3435638326319517,0.5228480958243147,0.1315582956435748,0.2499355711240923,0.3444867563128758,0.0523596171258673,0.4148329270126347,0.9347579877998548,0.1676690881608561,0.3666377903388235,0.9136008289787564,0.2118029736967757,0.1214805735661686,0.0785803513859869,0.5047493738582381,0.1485338996797246,0.3200112552043201,0.4185317661037648,0.0845284478752844,0.394142271468453,0.0631497357606212,0.6612849115782563],\"type\":\"box\"}],                        {\"template\":{\"data\":{\"barpolar\":[{\"marker\":{\"line\":{\"color\":\"#E5ECF6\",\"width\":0.5},\"pattern\":{\"fillmode\":\"overlay\",\"size\":10,\"solidity\":0.2}},\"type\":\"barpolar\"}],\"bar\":[{\"error_x\":{\"color\":\"#2a3f5f\"},\"error_y\":{\"color\":\"#2a3f5f\"},\"marker\":{\"line\":{\"color\":\"#E5ECF6\",\"width\":0.5},\"pattern\":{\"fillmode\":\"overlay\",\"size\":10,\"solidity\":0.2}},\"type\":\"bar\"}],\"carpet\":[{\"aaxis\":{\"endlinecolor\":\"#2a3f5f\",\"gridcolor\":\"white\",\"linecolor\":\"white\",\"minorgridcolor\":\"white\",\"startlinecolor\":\"#2a3f5f\"},\"baxis\":{\"endlinecolor\":\"#2a3f5f\",\"gridcolor\":\"white\",\"linecolor\":\"white\",\"minorgridcolor\":\"white\",\"startlinecolor\":\"#2a3f5f\"},\"type\":\"carpet\"}],\"choropleth\":[{\"colorbar\":{\"outlinewidth\":0,\"ticks\":\"\"},\"type\":\"choropleth\"}],\"contourcarpet\":[{\"colorbar\":{\"outlinewidth\":0,\"ticks\":\"\"},\"type\":\"contourcarpet\"}],\"contour\":[{\"colorbar\":{\"outlinewidth\":0,\"ticks\":\"\"},\"colorscale\":[[0.0,\"#0d0887\"],[0.1111111111111111,\"#46039f\"],[0.2222222222222222,\"#7201a8\"],[0.3333333333333333,\"#9c179e\"],[0.4444444444444444,\"#bd3786\"],[0.5555555555555556,\"#d8576b\"],[0.6666666666666666,\"#ed7953\"],[0.7777777777777778,\"#fb9f3a\"],[0.8888888888888888,\"#fdca26\"],[1.0,\"#f0f921\"]],\"type\":\"contour\"}],\"heatmapgl\":[{\"colorbar\":{\"outlinewidth\":0,\"ticks\":\"\"},\"colorscale\":[[0.0,\"#0d0887\"],[0.1111111111111111,\"#46039f\"],[0.2222222222222222,\"#7201a8\"],[0.3333333333333333,\"#9c179e\"],[0.4444444444444444,\"#bd3786\"],[0.5555555555555556,\"#d8576b\"],[0.6666666666666666,\"#ed7953\"],[0.7777777777777778,\"#fb9f3a\"],[0.8888888888888888,\"#fdca26\"],[1.0,\"#f0f921\"]],\"type\":\"heatmapgl\"}],\"heatmap\":[{\"colorbar\":{\"outlinewidth\":0,\"ticks\":\"\"},\"colorscale\":[[0.0,\"#0d0887\"],[0.1111111111111111,\"#46039f\"],[0.2222222222222222,\"#7201a8\"],[0.3333333333333333,\"#9c179e\"],[0.4444444444444444,\"#bd3786\"],[0.5555555555555556,\"#d8576b\"],[0.6666666666666666,\"#ed7953\"],[0.7777777777777778,\"#fb9f3a\"],[0.8888888888888888,\"#fdca26\"],[1.0,\"#f0f921\"]],\"type\":\"heatmap\"}],\"histogram2dcontour\":[{\"colorbar\":{\"outlinewidth\":0,\"ticks\":\"\"},\"colorscale\":[[0.0,\"#0d0887\"],[0.1111111111111111,\"#46039f\"],[0.2222222222222222,\"#7201a8\"],[0.3333333333333333,\"#9c179e\"],[0.4444444444444444,\"#bd3786\"],[0.5555555555555556,\"#d8576b\"],[0.6666666666666666,\"#ed7953\"],[0.7777777777777778,\"#fb9f3a\"],[0.8888888888888888,\"#fdca26\"],[1.0,\"#f0f921\"]],\"type\":\"histogram2dcontour\"}],\"histogram2d\":[{\"colorbar\":{\"outlinewidth\":0,\"ticks\":\"\"},\"colorscale\":[[0.0,\"#0d0887\"],[0.1111111111111111,\"#46039f\"],[0.2222222222222222,\"#7201a8\"],[0.3333333333333333,\"#9c179e\"],[0.4444444444444444,\"#bd3786\"],[0.5555555555555556,\"#d8576b\"],[0.6666666666666666,\"#ed7953\"],[0.7777777777777778,\"#fb9f3a\"],[0.8888888888888888,\"#fdca26\"],[1.0,\"#f0f921\"]],\"type\":\"histogram2d\"}],\"histogram\":[{\"marker\":{\"pattern\":{\"fillmode\":\"overlay\",\"size\":10,\"solidity\":0.2}},\"type\":\"histogram\"}],\"mesh3d\":[{\"colorbar\":{\"outlinewidth\":0,\"ticks\":\"\"},\"type\":\"mesh3d\"}],\"parcoords\":[{\"line\":{\"colorbar\":{\"outlinewidth\":0,\"ticks\":\"\"}},\"type\":\"parcoords\"}],\"pie\":[{\"automargin\":true,\"type\":\"pie\"}],\"scatter3d\":[{\"line\":{\"colorbar\":{\"outlinewidth\":0,\"ticks\":\"\"}},\"marker\":{\"colorbar\":{\"outlinewidth\":0,\"ticks\":\"\"}},\"type\":\"scatter3d\"}],\"scattercarpet\":[{\"marker\":{\"colorbar\":{\"outlinewidth\":0,\"ticks\":\"\"}},\"type\":\"scattercarpet\"}],\"scattergeo\":[{\"marker\":{\"colorbar\":{\"outlinewidth\":0,\"ticks\":\"\"}},\"type\":\"scattergeo\"}],\"scattergl\":[{\"marker\":{\"colorbar\":{\"outlinewidth\":0,\"ticks\":\"\"}},\"type\":\"scattergl\"}],\"scattermapbox\":[{\"marker\":{\"colorbar\":{\"outlinewidth\":0,\"ticks\":\"\"}},\"type\":\"scattermapbox\"}],\"scatterpolargl\":[{\"marker\":{\"colorbar\":{\"outlinewidth\":0,\"ticks\":\"\"}},\"type\":\"scatterpolargl\"}],\"scatterpolar\":[{\"marker\":{\"colorbar\":{\"outlinewidth\":0,\"ticks\":\"\"}},\"type\":\"scatterpolar\"}],\"scatter\":[{\"marker\":{\"colorbar\":{\"outlinewidth\":0,\"ticks\":\"\"}},\"type\":\"scatter\"}],\"scatterternary\":[{\"marker\":{\"colorbar\":{\"outlinewidth\":0,\"ticks\":\"\"}},\"type\":\"scatterternary\"}],\"surface\":[{\"colorbar\":{\"outlinewidth\":0,\"ticks\":\"\"},\"colorscale\":[[0.0,\"#0d0887\"],[0.1111111111111111,\"#46039f\"],[0.2222222222222222,\"#7201a8\"],[0.3333333333333333,\"#9c179e\"],[0.4444444444444444,\"#bd3786\"],[0.5555555555555556,\"#d8576b\"],[0.6666666666666666,\"#ed7953\"],[0.7777777777777778,\"#fb9f3a\"],[0.8888888888888888,\"#fdca26\"],[1.0,\"#f0f921\"]],\"type\":\"surface\"}],\"table\":[{\"cells\":{\"fill\":{\"color\":\"#EBF0F8\"},\"line\":{\"color\":\"white\"}},\"header\":{\"fill\":{\"color\":\"#C8D4E3\"},\"line\":{\"color\":\"white\"}},\"type\":\"table\"}]},\"layout\":{\"annotationdefaults\":{\"arrowcolor\":\"#2a3f5f\",\"arrowhead\":0,\"arrowwidth\":1},\"autotypenumbers\":\"strict\",\"coloraxis\":{\"colorbar\":{\"outlinewidth\":0,\"ticks\":\"\"}},\"colorscale\":{\"diverging\":[[0,\"#8e0152\"],[0.1,\"#c51b7d\"],[0.2,\"#de77ae\"],[0.3,\"#f1b6da\"],[0.4,\"#fde0ef\"],[0.5,\"#f7f7f7\"],[0.6,\"#e6f5d0\"],[0.7,\"#b8e186\"],[0.8,\"#7fbc41\"],[0.9,\"#4d9221\"],[1,\"#276419\"]],\"sequential\":[[0.0,\"#0d0887\"],[0.1111111111111111,\"#46039f\"],[0.2222222222222222,\"#7201a8\"],[0.3333333333333333,\"#9c179e\"],[0.4444444444444444,\"#bd3786\"],[0.5555555555555556,\"#d8576b\"],[0.6666666666666666,\"#ed7953\"],[0.7777777777777778,\"#fb9f3a\"],[0.8888888888888888,\"#fdca26\"],[1.0,\"#f0f921\"]],\"sequentialminus\":[[0.0,\"#0d0887\"],[0.1111111111111111,\"#46039f\"],[0.2222222222222222,\"#7201a8\"],[0.3333333333333333,\"#9c179e\"],[0.4444444444444444,\"#bd3786\"],[0.5555555555555556,\"#d8576b\"],[0.6666666666666666,\"#ed7953\"],[0.7777777777777778,\"#fb9f3a\"],[0.8888888888888888,\"#fdca26\"],[1.0,\"#f0f921\"]]},\"colorway\":[\"#636efa\",\"#EF553B\",\"#00cc96\",\"#ab63fa\",\"#FFA15A\",\"#19d3f3\",\"#FF6692\",\"#B6E880\",\"#FF97FF\",\"#FECB52\"],\"font\":{\"color\":\"#2a3f5f\"},\"geo\":{\"bgcolor\":\"white\",\"lakecolor\":\"white\",\"landcolor\":\"#E5ECF6\",\"showlakes\":true,\"showland\":true,\"subunitcolor\":\"white\"},\"hoverlabel\":{\"align\":\"left\"},\"hovermode\":\"closest\",\"mapbox\":{\"style\":\"light\"},\"paper_bgcolor\":\"white\",\"plot_bgcolor\":\"#E5ECF6\",\"polar\":{\"angularaxis\":{\"gridcolor\":\"white\",\"linecolor\":\"white\",\"ticks\":\"\"},\"bgcolor\":\"#E5ECF6\",\"radialaxis\":{\"gridcolor\":\"white\",\"linecolor\":\"white\",\"ticks\":\"\"}},\"scene\":{\"xaxis\":{\"backgroundcolor\":\"#E5ECF6\",\"gridcolor\":\"white\",\"gridwidth\":2,\"linecolor\":\"white\",\"showbackground\":true,\"ticks\":\"\",\"zerolinecolor\":\"white\"},\"yaxis\":{\"backgroundcolor\":\"#E5ECF6\",\"gridcolor\":\"white\",\"gridwidth\":2,\"linecolor\":\"white\",\"showbackground\":true,\"ticks\":\"\",\"zerolinecolor\":\"white\"},\"zaxis\":{\"backgroundcolor\":\"#E5ECF6\",\"gridcolor\":\"white\",\"gridwidth\":2,\"linecolor\":\"white\",\"showbackground\":true,\"ticks\":\"\",\"zerolinecolor\":\"white\"}},\"shapedefaults\":{\"line\":{\"color\":\"#2a3f5f\"}},\"ternary\":{\"aaxis\":{\"gridcolor\":\"white\",\"linecolor\":\"white\",\"ticks\":\"\"},\"baxis\":{\"gridcolor\":\"white\",\"linecolor\":\"white\",\"ticks\":\"\"},\"bgcolor\":\"#E5ECF6\",\"caxis\":{\"gridcolor\":\"white\",\"linecolor\":\"white\",\"ticks\":\"\"}},\"title\":{\"x\":0.05},\"xaxis\":{\"automargin\":true,\"gridcolor\":\"white\",\"linecolor\":\"white\",\"ticks\":\"\",\"title\":{\"standoff\":15},\"zerolinecolor\":\"white\",\"zerolinewidth\":2},\"yaxis\":{\"automargin\":true,\"gridcolor\":\"white\",\"linecolor\":\"white\",\"ticks\":\"\",\"title\":{\"standoff\":15},\"zerolinecolor\":\"white\",\"zerolinewidth\":2}}}},                        {\"responsive\": true}                    ).then(function(){\n",
       "                            \n",
       "var gd = document.getElementById('0612ce65-0d28-4a4b-8614-4d0605b5765d');\n",
       "var x = new MutationObserver(function (mutations, observer) {{\n",
       "        var display = window.getComputedStyle(gd).display;\n",
       "        if (!display || display === 'none') {{\n",
       "            console.log([gd, 'removed!']);\n",
       "            Plotly.purge(gd);\n",
       "            observer.disconnect();\n",
       "        }}\n",
       "}});\n",
       "\n",
       "// Listen for the removal of the full notebook cells\n",
       "var notebookContainer = gd.closest('#notebook-container');\n",
       "if (notebookContainer) {{\n",
       "    x.observe(notebookContainer, {childList: true});\n",
       "}}\n",
       "\n",
       "// Listen for the clearing of the current output cell\n",
       "var outputEl = gd.closest('.output');\n",
       "if (outputEl) {{\n",
       "    x.observe(outputEl, {childList: true});\n",
       "}}\n",
       "\n",
       "                        })                };                });            </script>        </div>"
      ]
     },
     "metadata": {},
     "output_type": "display_data"
    }
   ],
   "source": [
    "aux = q_u_DF.drop(columns=['movieId']).transpose()\n",
    "data = []\n",
    "for i in range(len(aux)):\n",
    "    trace = go.Box(\n",
    "        y = aux.iloc[i,:].values,\n",
    "        name = str(i)\n",
    "    )\n",
    "\n",
    "    data.append(trace)\n",
    "\n",
    "iplot(data)"
   ]
  },
  {
   "cell_type": "markdown",
   "metadata": {},
   "source": [
    "### Siguiente Notebook\n",
    "\n",
    "Una vez calculado las matrices $Q$ por cada usuario ya podemos obtener películas similares a partir de esa información y estudiar las características en común. Ejecute el notebook `recomendador_con_explicaciones.ipynb`."
   ]
  }
 ],
 "metadata": {
  "kernelspec": {
   "display_name": "Python 3 (ipykernel)",
   "language": "python",
   "name": "python3"
  },
  "language_info": {
   "codemirror_mode": {
    "name": "ipython",
    "version": 3
   },
   "file_extension": ".py",
   "mimetype": "text/x-python",
   "name": "python",
   "nbconvert_exporter": "python",
   "pygments_lexer": "ipython3",
   "version": "3.9.12"
  }
 },
 "nbformat": 4,
 "nbformat_minor": 4
}
