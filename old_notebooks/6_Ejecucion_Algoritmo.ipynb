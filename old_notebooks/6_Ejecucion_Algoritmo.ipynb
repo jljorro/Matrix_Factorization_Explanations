{
 "cells": [
  {
   "cell_type": "code",
   "execution_count": 1,
   "metadata": {},
   "outputs": [],
   "source": [
    "import pandas as pd\n",
    "import numpy as np"
   ]
  },
  {
   "cell_type": "code",
   "execution_count": 2,
   "metadata": {},
   "outputs": [],
   "source": [
    "def get_all_movies():\n",
    "    # Cargamos todos los ratings\n",
    "    ratings_df = pd.read_csv('data/experiment_data/ratings.csv')\n",
    "    \n",
    "    # Obtenemos todas las películas que existen y las ordenamos\n",
    "    movies = list(set(ratings_df['movieId']))\n",
    "    movies.sort()\n",
    "    return movies"
   ]
  },
  {
   "cell_type": "code",
   "execution_count": 3,
   "metadata": {},
   "outputs": [],
   "source": [
    "def get_movies_index_dict():\n",
    "    # Cargamos todos los ratings\n",
    "    ratings_df = pd.read_csv('data/experiment_data/ratings.csv')\n",
    "    \n",
    "    # Obtenemos todas las películas que existen y las ordenamos\n",
    "    movies = list(set(ratings_df['movieId']))\n",
    "    movies.sort()\n",
    "    \n",
    "    # Creamos el diccionario donde la key es el index y el valor el id de la película\n",
    "    result = {}\n",
    "    for i in range(len(movies)):\n",
    "        result[str(i)] = movies[i]\n",
    "    return result"
   ]
  },
  {
   "cell_type": "code",
   "execution_count": 4,
   "metadata": {},
   "outputs": [],
   "source": [
    "def get_all_users():\n",
    "    # Cargamos todos los ratings\n",
    "    ratings_df = pd.read_csv('data/experiment_data/trainset.csv')\n",
    "    \n",
    "    # Obtenemos todos los usuarios y los devolvemos\n",
    "    users = ratings_df['userId']\n",
    "    return list(set(users))    "
   ]
  },
  {
   "cell_type": "code",
   "execution_count": 5,
   "metadata": {},
   "outputs": [],
   "source": [
    "def get_movies_watched_by_user(trainset_df, user):\n",
    "    return trainset_df[trainset_df['userId'] == user]['movieId'].values.astype(str)"
   ]
  },
  {
   "cell_type": "code",
   "execution_count": 6,
   "metadata": {},
   "outputs": [],
   "source": [
    "def remove_not_watched_movies(matrix_df, watched_movies):\n",
    "    movies_to_drop = matrix_df.columns[~matrix_df.columns.isin(watched_movies)].values\n",
    "    return matrix_df.drop(labels=movies_to_drop, axis=1)"
   ]
  },
  {
   "cell_type": "code",
   "execution_count": 7,
   "metadata": {},
   "outputs": [],
   "source": [
    "def get_k_most_similar_ratings(all_movies, clean_matrix_df, trainset_df, user, movie, k):\n",
    "    # Obtenemos el indice de la película\n",
    "    movie_index = all_movies.index(movie)\n",
    "    \n",
    "    # Obtenemos las k películas más similares\n",
    "    most_similar_movies = clean_matrix_df.iloc[movie_index].sort_values(ascending=False)[:k].index.values\n",
    "    most_similar_movies = [int(x) for x in most_similar_movies]\n",
    "    #print(most_similar_movies_index)\n",
    "    #most_similar_movies = np.array(all_movies)[most_similar_movies_index]\n",
    "    \n",
    "    # Obtenemos los ratings de las películas\n",
    "    user_trainset_df = trainset_df[trainset_df['userId'] == user]\n",
    "\n",
    "    ratings = []\n",
    "    for m in most_similar_movies:\n",
    "        rat = user_trainset_df[user_trainset_df['movieId'] == m]['rating'].values[0]\n",
    "        ratings.append(rat)\n",
    "    \n",
    "    return ratings"
   ]
  },
  {
   "cell_type": "markdown",
   "metadata": {},
   "source": [
    "# Preparar datos\n",
    "\n",
    "Cambiamos el nombre de las columnas de todos los dataframe y los guardamos. **SOLO EJECUTAR CUANDO SE HAN GENERADO LAS MATRICES CON EL NOTEBOOK 4**"
   ]
  },
  {
   "cell_type": "code",
   "execution_count": 8,
   "metadata": {},
   "outputs": [],
   "source": [
    "movies_dict = get_movies_index_dict()"
   ]
  },
  {
   "cell_type": "code",
   "execution_count": 9,
   "metadata": {},
   "outputs": [],
   "source": [
    "binary_df = pd.read_csv('data/similarity_data/sim_cosine_binary.csv')\n",
    "binary_df.rename(index=str, columns=movies_dict, inplace=True)\n",
    "binary_df.to_csv('data/similarity_data/sim_cosine_binary.csv', index=False)"
   ]
  },
  {
   "cell_type": "markdown",
   "metadata": {},
   "source": [
    "# Cargamos el dataset de test"
   ]
  },
  {
   "cell_type": "code",
   "execution_count": 10,
   "metadata": {},
   "outputs": [],
   "source": [
    "testset_df = pd.read_csv('data/experiment_data/testset.csv')\n",
    "trainset_df = pd.read_csv('data/experiment_data/trainset.csv')\n",
    "binary_df = pd.read_csv('data/similarity_data/sim_cosine_binary.csv')"
   ]
  },
  {
   "cell_type": "code",
   "execution_count": 11,
   "metadata": {},
   "outputs": [],
   "source": [
    "all_movies = get_all_movies()"
   ]
  },
  {
   "cell_type": "code",
   "execution_count": 12,
   "metadata": {},
   "outputs": [],
   "source": [
    "def get_binary_ratings(user, movie, k=10):\n",
    "    binary_df = pd.read_csv('data/similarity_data/sim_cosine_binary.csv')\n",
    "    testset_df = pd.read_csv('data/experiment_data/testset.csv')\n",
    "    trainset_df = pd.read_csv('data/experiment_data/trainset.csv')\n",
    "    \n",
    "    watched_movies = get_movies_watched_by_user(trainset_df, user)\n",
    "    clean_matrix_df = remove_not_watched_movies(binary_df, watched_movies)\n",
    "    return get_k_most_similar_ratings(all_movies, clean_matrix_df, trainset_df, user, movie, k)"
   ]
  },
  {
   "cell_type": "code",
   "execution_count": 13,
   "metadata": {},
   "outputs": [],
   "source": [
    "def get_q_ratings(user, movie, k=10):\n",
    "    binary_df = pd.read_csv('data/similarity_data/sim_cosine_user_{}.csv'.format(user))\n",
    "    testset_df = pd.read_csv('data/experiment_data/testset.csv')\n",
    "    trainset_df = pd.read_csv('data/experiment_data/trainset.csv')\n",
    "    \n",
    "    watched_movies = get_movies_watched_by_user(trainset_df, user)\n",
    "    clean_matrix_df = remove_not_watched_movies(binary_df, watched_movies)\n",
    "    return get_k_most_similar_ratings(all_movies, clean_matrix_df, trainset_df, user, movie, k)"
   ]
  },
  {
   "cell_type": "code",
   "execution_count": 14,
   "metadata": {},
   "outputs": [
    {
     "data": {
      "text/html": [
       "<div>\n",
       "<style scoped>\n",
       "    .dataframe tbody tr th:only-of-type {\n",
       "        vertical-align: middle;\n",
       "    }\n",
       "\n",
       "    .dataframe tbody tr th {\n",
       "        vertical-align: top;\n",
       "    }\n",
       "\n",
       "    .dataframe thead th {\n",
       "        text-align: right;\n",
       "    }\n",
       "</style>\n",
       "<table border=\"1\" class=\"dataframe\">\n",
       "  <thead>\n",
       "    <tr style=\"text-align: right;\">\n",
       "      <th></th>\n",
       "      <th>userId</th>\n",
       "      <th>movieId</th>\n",
       "      <th>rating</th>\n",
       "      <th>predicted</th>\n",
       "      <th>k_ratings_binary</th>\n",
       "      <th>k_ratings_q</th>\n",
       "    </tr>\n",
       "  </thead>\n",
       "  <tbody>\n",
       "    <tr>\n",
       "      <th>0</th>\n",
       "      <td>1</td>\n",
       "      <td>223</td>\n",
       "      <td>3.0</td>\n",
       "      <td>4.042081</td>\n",
       "      <td>[5.0, 5.0, 4.0, 4.0, 4.0, 3.0, 5.0, 3.0, 5.0, ...</td>\n",
       "      <td>[5.0, 3.0, 5.0, 5.0, 5.0, 4.0, 5.0, 4.0]</td>\n",
       "    </tr>\n",
       "    <tr>\n",
       "      <th>1</th>\n",
       "      <td>1</td>\n",
       "      <td>349</td>\n",
       "      <td>4.0</td>\n",
       "      <td>2.726556</td>\n",
       "      <td>[5.0, 5.0, 3.0, 5.0, 5.0, 4.0, 4.0, 5.0, 3.0, ...</td>\n",
       "      <td>[5.0, 3.0, 5.0, 5.0, 4.0, 4.0, 5.0, 5.0]</td>\n",
       "    </tr>\n",
       "    <tr>\n",
       "      <th>2</th>\n",
       "      <td>1</td>\n",
       "      <td>527</td>\n",
       "      <td>5.0</td>\n",
       "      <td>2.743715</td>\n",
       "      <td>[5.0, 4.0, 5.0, 5.0, 5.0, 5.0, 4.0, 5.0, 5.0, ...</td>\n",
       "      <td>[5.0, 3.0, 5.0, 5.0, 4.0, 5.0, 4.0, 5.0]</td>\n",
       "    </tr>\n",
       "    <tr>\n",
       "      <th>3</th>\n",
       "      <td>4</td>\n",
       "      <td>357</td>\n",
       "      <td>3.0</td>\n",
       "      <td>2.737091</td>\n",
       "      <td>[5.0, 3.0, 3.0, 5.0, 5.0, 2.0, 5.0, 3.0, 1.0, ...</td>\n",
       "      <td>[3.0, 2.0, 3.0, 5.0]</td>\n",
       "    </tr>\n",
       "    <tr>\n",
       "      <th>4</th>\n",
       "      <td>5</td>\n",
       "      <td>110</td>\n",
       "      <td>4.0</td>\n",
       "      <td>3.492654</td>\n",
       "      <td>[4.0, 3.0, 4.0, 5.0, 4.0, 4.0, 3.0, 3.0, 1.0, ...</td>\n",
       "      <td>[4.0, 4.0, 3.0, 4.0, 4.0, 4.0, 3.0, 3.0]</td>\n",
       "    </tr>\n",
       "  </tbody>\n",
       "</table>\n",
       "</div>"
      ],
      "text/plain": [
       "   userId  movieId  rating  predicted  \\\n",
       "0       1      223     3.0   4.042081   \n",
       "1       1      349     4.0   2.726556   \n",
       "2       1      527     5.0   2.743715   \n",
       "3       4      357     3.0   2.737091   \n",
       "4       5      110     4.0   3.492654   \n",
       "\n",
       "                                    k_ratings_binary  \\\n",
       "0  [5.0, 5.0, 4.0, 4.0, 4.0, 3.0, 5.0, 3.0, 5.0, ...   \n",
       "1  [5.0, 5.0, 3.0, 5.0, 5.0, 4.0, 4.0, 5.0, 3.0, ...   \n",
       "2  [5.0, 4.0, 5.0, 5.0, 5.0, 5.0, 4.0, 5.0, 5.0, ...   \n",
       "3  [5.0, 3.0, 3.0, 5.0, 5.0, 2.0, 5.0, 3.0, 1.0, ...   \n",
       "4  [4.0, 3.0, 4.0, 5.0, 4.0, 4.0, 3.0, 3.0, 1.0, ...   \n",
       "\n",
       "                                k_ratings_q  \n",
       "0  [5.0, 3.0, 5.0, 5.0, 5.0, 4.0, 5.0, 4.0]  \n",
       "1  [5.0, 3.0, 5.0, 5.0, 4.0, 4.0, 5.0, 5.0]  \n",
       "2  [5.0, 3.0, 5.0, 5.0, 4.0, 5.0, 4.0, 5.0]  \n",
       "3                      [3.0, 2.0, 3.0, 5.0]  \n",
       "4  [4.0, 4.0, 3.0, 4.0, 4.0, 4.0, 3.0, 3.0]  "
      ]
     },
     "execution_count": 14,
     "metadata": {},
     "output_type": "execute_result"
    }
   ],
   "source": [
    "predicted_df = pd.read_csv('data/experiment_data/predicted_values.csv')\n",
    "predicted_df['k_ratings_binary'] = predicted_df.apply(lambda row: get_binary_ratings(row['userId'], row['movieId']), axis=1)\n",
    "predicted_df['k_ratings_q'] = predicted_df.apply(lambda row: get_q_ratings(row['userId'], row['movieId']), axis=1)\n",
    "predicted_df.head()"
   ]
  },
  {
   "cell_type": "code",
   "execution_count": 15,
   "metadata": {},
   "outputs": [],
   "source": [
    "def get_value(n, values):\n",
    "    if n >= len(values):\n",
    "        return float('NaN')\n",
    "    else:\n",
    "        return values[n]\n",
    "\n",
    "for k in range(1, 11):\n",
    "    predicted_df['rating_binary_k_' + str(k)] = predicted_df.apply(lambda row: get_value(k-1 ,row['k_ratings_binary']), axis=1)\n",
    "    predicted_df['rating_q_k_' + str(k)] = predicted_df.apply(lambda row: get_value(k-1 ,row['k_ratings_q']), axis=1)\n",
    "    \n",
    "predicted_df.drop(columns=['k_ratings_binary', 'k_ratings_q'], inplace=True)"
   ]
  },
  {
   "cell_type": "code",
   "execution_count": 16,
   "metadata": {},
   "outputs": [],
   "source": [
    "predicted_df.to_csv('data/experiment_data/result_all_values.csv', index=False)"
   ]
  }
 ],
 "metadata": {
  "kernelspec": {
   "display_name": "Python 3 (ipykernel)",
   "language": "python",
   "name": "python3"
  },
  "language_info": {
   "codemirror_mode": {
    "name": "ipython",
    "version": 3
   },
   "file_extension": ".py",
   "mimetype": "text/x-python",
   "name": "python",
   "nbconvert_exporter": "python",
   "pygments_lexer": "ipython3",
   "version": "3.9.12"
  }
 },
 "nbformat": 4,
 "nbformat_minor": 4
}
