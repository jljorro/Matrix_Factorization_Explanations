{
 "cells": [
  {
   "cell_type": "markdown",
   "metadata": {},
   "source": [
    "# Ejemplo de recuperación de películas de explicación\n",
    "\n",
    "En este notebook se muestra un ejemplo completo de la extración de un conjunto de películas de explicación. En este ejemplo se aplica el dataset de movielens."
   ]
  },
  {
   "cell_type": "code",
   "execution_count": 1,
   "metadata": {},
   "outputs": [],
   "source": [
    "import random\n",
    "import pandas as pd\n",
    "import numpy as np\n",
    "\n",
    "import src.similarities as sim\n",
    "import src.latent_factor_xai as lfxai\n",
    "\n",
    "from scipy.spatial.distance import pdist, squareform\n",
    "from scipy.spatial.distance import euclidean, cosine, cityblock\n",
    "\n",
    "# Ponemos una semilla fija para poder repetir el experimento\n",
    "my_seed = 0\n",
    "random.seed(my_seed)\n",
    "np.random.seed(my_seed)"
   ]
  },
  {
   "cell_type": "code",
   "execution_count": 2,
   "metadata": {},
   "outputs": [],
   "source": [
    "def train_test_split(dataDF, training_percentage):\n",
    "    '''\n",
    "    Función que divide el dataset en un conjunto de entrenamiento y\n",
    "    otro conjunto de evaluación.\n",
    "    '''\n",
    "    msk = np.random.rand(len(dataDF)) < float(training_percentage / 100)\n",
    "    train = dataDF[msk]\n",
    "    test = dataDF[~msk]\n",
    "    \n",
    "    return train, test"
   ]
  },
  {
   "cell_type": "code",
   "execution_count": 3,
   "metadata": {},
   "outputs": [
    {
     "data": {
      "text/html": [
       "<div>\n",
       "<style scoped>\n",
       "    .dataframe tbody tr th:only-of-type {\n",
       "        vertical-align: middle;\n",
       "    }\n",
       "\n",
       "    .dataframe tbody tr th {\n",
       "        vertical-align: top;\n",
       "    }\n",
       "\n",
       "    .dataframe thead th {\n",
       "        text-align: right;\n",
       "    }\n",
       "</style>\n",
       "<table border=\"1\" class=\"dataframe\">\n",
       "  <thead>\n",
       "    <tr style=\"text-align: right;\">\n",
       "      <th></th>\n",
       "      <th>userId</th>\n",
       "      <th>movieId</th>\n",
       "      <th>rating</th>\n",
       "    </tr>\n",
       "  </thead>\n",
       "  <tbody>\n",
       "    <tr>\n",
       "      <th>0</th>\n",
       "      <td>1</td>\n",
       "      <td>1</td>\n",
       "      <td>4.0</td>\n",
       "    </tr>\n",
       "    <tr>\n",
       "      <th>1</th>\n",
       "      <td>1</td>\n",
       "      <td>47</td>\n",
       "      <td>5.0</td>\n",
       "    </tr>\n",
       "    <tr>\n",
       "      <th>2</th>\n",
       "      <td>1</td>\n",
       "      <td>50</td>\n",
       "      <td>5.0</td>\n",
       "    </tr>\n",
       "    <tr>\n",
       "      <th>3</th>\n",
       "      <td>1</td>\n",
       "      <td>70</td>\n",
       "      <td>3.0</td>\n",
       "    </tr>\n",
       "    <tr>\n",
       "      <th>4</th>\n",
       "      <td>1</td>\n",
       "      <td>101</td>\n",
       "      <td>5.0</td>\n",
       "    </tr>\n",
       "  </tbody>\n",
       "</table>\n",
       "</div>"
      ],
      "text/plain": [
       "   userId  movieId  rating\n",
       "0       1        1     4.0\n",
       "1       1       47     5.0\n",
       "2       1       50     5.0\n",
       "3       1       70     3.0\n",
       "4       1      101     5.0"
      ]
     },
     "execution_count": 3,
     "metadata": {},
     "output_type": "execute_result"
    }
   ],
   "source": [
    "# Cargamos todos los ratings del experimento\n",
    "movies_DF = pd.read_csv('data/experiment_data/movies.csv')\n",
    "ratings_DF = pd.read_csv('data/experiment_data/ratings.csv', usecols=[0,1,2])\n",
    "ratings_DF.head()"
   ]
  },
  {
   "cell_type": "code",
   "execution_count": 4,
   "metadata": {},
   "outputs": [
    {
     "name": "stdout",
     "output_type": "stream",
     "text": [
      "11.92192628910957 % ratings conocidos del total de la matriz\n"
     ]
    }
   ],
   "source": [
    "# Calculamos el porcentaje de la matriz completado\n",
    "\n",
    "num_users = len(ratings_DF.groupby('userId').count().index)\n",
    "num_items = len(ratings_DF.groupby('movieId').count().index)\n",
    "total_ratings = len(ratings_DF)\n",
    "total_values_to_predict = num_users * num_items\n",
    "\n",
    "print(100*(total_ratings / total_values_to_predict), '% ratings conocidos del total de la matriz')"
   ]
  },
  {
   "cell_type": "code",
   "execution_count": 5,
   "metadata": {},
   "outputs": [],
   "source": [
    "# Preparamos el dataset de entrenamiento y evaluación\n",
    "trainset, testset = train_test_split(ratings_DF, 90)\n",
    "\n",
    "# Guardamos ambos dataframes en CSV\n",
    "trainset.to_csv('data/experiment_data/trainset.csv', index=False)\n",
    "testset.to_csv('data/experiment_data/testset.csv', index=False)"
   ]
  },
  {
   "cell_type": "markdown",
   "metadata": {},
   "source": [
    "## Creación del modelo de predición conexplicaciones\n",
    "\n",
    "1. Creamos una instancia del modelo `NMF_XAI` que se encuentra en el módulo `latent_factor_xai`.\n",
    "2. Entrenamos el modelo con el conjunto de datos de entrenamiento\n",
    "3. A partir de un id de usuario y un id de película, obtenemos una predicción del rating (en el ejemplo, el usuario 12 y la película 14).\n",
    "4. Extraemos el conjunto de ejemplos de explicación para la pareja usuario-película. (Si existen menos películas de ejemplo que las solicitadas, se devolverán todas las existentes)"
   ]
  },
  {
   "cell_type": "code",
   "execution_count": 10,
   "metadata": {},
   "outputs": [
    {
     "data": {
      "text/plain": [
       "array([594,  48, 364, 158, 588, 586, 596])"
      ]
     },
     "execution_count": 10,
     "metadata": {},
     "output_type": "execute_result"
    }
   ],
   "source": [
    "model = lfxai.NMF_XAI()\n",
    "\n",
    "# Entrenamos el model\n",
    "model.fit(trainset, movies_DF)\n",
    "\n",
    "# Predecimos un rating\n",
    "model.predict(user_id=12, movie_id=14)\n",
    "\n",
    "# Obtenemos los ejemplos de explicación\n",
    "model.get_examples(user_id=20, movie_id=14, n=10)\n",
    "\n",
    "# Siguente paso -> Extraer los atributos de los ejemplos de explicación"
   ]
  },
  {
   "cell_type": "code",
   "execution_count": null,
   "metadata": {},
   "outputs": [],
   "source": []
  }
 ],
 "metadata": {
  "kernelspec": {
   "display_name": "Python 3 (ipykernel)",
   "language": "python",
   "name": "python3"
  },
  "language_info": {
   "codemirror_mode": {
    "name": "ipython",
    "version": 3
   },
   "file_extension": ".py",
   "mimetype": "text/x-python",
   "name": "python",
   "nbconvert_exporter": "python",
   "pygments_lexer": "ipython3",
   "version": "3.9.12"
  },
  "vscode": {
   "interpreter": {
    "hash": "2bc38001dc466106de0bf21c64e2d737943e6caab195d20512dd414658f4859a"
   }
  }
 },
 "nbformat": 4,
 "nbformat_minor": 4
}
