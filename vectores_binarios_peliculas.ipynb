{
 "cells": [
  {
   "cell_type": "code",
   "execution_count": 1,
   "metadata": {},
   "outputs": [],
   "source": [
    "import pandas as pd"
   ]
  },
  {
   "cell_type": "markdown",
   "metadata": {},
   "source": [
    "# Crear vectores binarios de películas\n",
    "\n",
    "En este notebook, vamos a convertir las características de las películas en vectores binarios de características. Estos vectores se utilizarán más adelante para calcular el **FCA**."
   ]
  },
  {
   "cell_type": "code",
   "execution_count": 2,
   "metadata": {},
   "outputs": [
    {
     "data": {
      "text/html": [
       "<div>\n",
       "<style scoped>\n",
       "    .dataframe tbody tr th:only-of-type {\n",
       "        vertical-align: middle;\n",
       "    }\n",
       "\n",
       "    .dataframe tbody tr th {\n",
       "        vertical-align: top;\n",
       "    }\n",
       "\n",
       "    .dataframe thead th {\n",
       "        text-align: right;\n",
       "    }\n",
       "</style>\n",
       "<table border=\"1\" class=\"dataframe\">\n",
       "  <thead>\n",
       "    <tr style=\"text-align: right;\">\n",
       "      <th></th>\n",
       "      <th>id</th>\n",
       "      <th>title</th>\n",
       "      <th>year</th>\n",
       "      <th>genres</th>\n",
       "      <th>director</th>\n",
       "      <th>stars</th>\n",
       "      <th>writers</th>\n",
       "      <th>companies</th>\n",
       "      <th>keywords</th>\n",
       "    </tr>\n",
       "  </thead>\n",
       "  <tbody>\n",
       "    <tr>\n",
       "      <th>0</th>\n",
       "      <td>1</td>\n",
       "      <td>Toy Story</td>\n",
       "      <td>1995</td>\n",
       "      <td>Adventure|Family|Fantasy|Comedy|Animation</td>\n",
       "      <td>John Lasseter</td>\n",
       "      <td>Tim Allen|Don Rickles|Tom Hanks</td>\n",
       "      <td>Pete Docter|John Lasseter</td>\n",
       "      <td>Pixar Animation Studios|Walt Disney Pictures</td>\n",
       "      <td>cgi animation|cowboy|rivalry|toy|claw crane</td>\n",
       "    </tr>\n",
       "    <tr>\n",
       "      <th>1</th>\n",
       "      <td>10</td>\n",
       "      <td>GoldenEye</td>\n",
       "      <td>1995</td>\n",
       "      <td>Thriller|Adventure|Action</td>\n",
       "      <td>Martin Campbell</td>\n",
       "      <td>Sean Bean|Pierce Brosnan|Izabella Scorupco</td>\n",
       "      <td>Michael France|Ian Fleming</td>\n",
       "      <td>United Artists|Eon Productions</td>\n",
       "      <td>james bond character|official james bond serie...</td>\n",
       "    </tr>\n",
       "    <tr>\n",
       "      <th>2</th>\n",
       "      <td>32</td>\n",
       "      <td>Doce monos</td>\n",
       "      <td>1995</td>\n",
       "      <td>Thriller|Sci-Fi|Mystery</td>\n",
       "      <td>Terry Gilliam</td>\n",
       "      <td>Brad Pitt|Bruce Willis|Madeleine Stowe</td>\n",
       "      <td>Chris Marker|David Webb Peoples</td>\n",
       "      <td>Classico|Atlas Entertainment|Universal Pictures</td>\n",
       "      <td>psychiatrist|mental institution|time travel|vi...</td>\n",
       "    </tr>\n",
       "    <tr>\n",
       "      <th>3</th>\n",
       "      <td>34</td>\n",
       "      <td>Babe, el cerdito valiente</td>\n",
       "      <td>1995</td>\n",
       "      <td>Family|Comedy|Drama</td>\n",
       "      <td>Chris Noonan</td>\n",
       "      <td>Christine Cavanaugh|James Cromwell|Magda Szuba...</td>\n",
       "      <td>Dick King-Smith|George Miller</td>\n",
       "      <td>Universal Pictures|Kennedy Miller Productions</td>\n",
       "      <td>farmer|farm|sheep|pig|sheepdog</td>\n",
       "    </tr>\n",
       "    <tr>\n",
       "      <th>4</th>\n",
       "      <td>47</td>\n",
       "      <td>Seven</td>\n",
       "      <td>1995</td>\n",
       "      <td>Thriller|Drama|Crime|Mystery</td>\n",
       "      <td>David Fincher</td>\n",
       "      <td>Kevin Spacey|Brad Pitt|Morgan Freeman</td>\n",
       "      <td>Andrew Kevin Walker</td>\n",
       "      <td>Juno Pix|New Line Cinema|Cecchi Gori Pictures</td>\n",
       "      <td>psychological torture|serial murder|human mons...</td>\n",
       "    </tr>\n",
       "  </tbody>\n",
       "</table>\n",
       "</div>"
      ],
      "text/plain": [
       "   id                      title  year  \\\n",
       "0   1                  Toy Story  1995   \n",
       "1  10                  GoldenEye  1995   \n",
       "2  32                 Doce monos  1995   \n",
       "3  34  Babe, el cerdito valiente  1995   \n",
       "4  47                      Seven  1995   \n",
       "\n",
       "                                      genres         director  \\\n",
       "0  Adventure|Family|Fantasy|Comedy|Animation    John Lasseter   \n",
       "1                  Thriller|Adventure|Action  Martin Campbell   \n",
       "2                    Thriller|Sci-Fi|Mystery    Terry Gilliam   \n",
       "3                        Family|Comedy|Drama     Chris Noonan   \n",
       "4               Thriller|Drama|Crime|Mystery    David Fincher   \n",
       "\n",
       "                                               stars  \\\n",
       "0                    Tim Allen|Don Rickles|Tom Hanks   \n",
       "1         Sean Bean|Pierce Brosnan|Izabella Scorupco   \n",
       "2             Brad Pitt|Bruce Willis|Madeleine Stowe   \n",
       "3  Christine Cavanaugh|James Cromwell|Magda Szuba...   \n",
       "4              Kevin Spacey|Brad Pitt|Morgan Freeman   \n",
       "\n",
       "                           writers  \\\n",
       "0        Pete Docter|John Lasseter   \n",
       "1       Michael France|Ian Fleming   \n",
       "2  Chris Marker|David Webb Peoples   \n",
       "3    Dick King-Smith|George Miller   \n",
       "4              Andrew Kevin Walker   \n",
       "\n",
       "                                         companies  \\\n",
       "0     Pixar Animation Studios|Walt Disney Pictures   \n",
       "1                   United Artists|Eon Productions   \n",
       "2  Classico|Atlas Entertainment|Universal Pictures   \n",
       "3    Universal Pictures|Kennedy Miller Productions   \n",
       "4    Juno Pix|New Line Cinema|Cecchi Gori Pictures   \n",
       "\n",
       "                                            keywords  \n",
       "0        cgi animation|cowboy|rivalry|toy|claw crane  \n",
       "1  james bond character|official james bond serie...  \n",
       "2  psychiatrist|mental institution|time travel|vi...  \n",
       "3                     farmer|farm|sheep|pig|sheepdog  \n",
       "4  psychological torture|serial murder|human mons...  "
      ]
     },
     "execution_count": 2,
     "metadata": {},
     "output_type": "execute_result"
    }
   ],
   "source": [
    "# Cargamos las \n",
    "movies_DF = pd.read_csv('data/experiment_data/movies.csv')\n",
    "movies_DF.head()"
   ]
  },
  {
   "cell_type": "code",
   "execution_count": 3,
   "metadata": {},
   "outputs": [],
   "source": [
    "# Funciones auxiliares para crear los vectores\n",
    "def format_lists(df, lista):\n",
    "    lista_result = df[lista].tolist()\n",
    "    lista_result = '|'.join(lista_result)\n",
    "    lista_result = lista_result.split('|')\n",
    "    lista_result = list(set(lista_result))\n",
    "    return lista_result\n",
    "\n",
    "def elemInList(lista, elem):\n",
    "    if elem in lista:\n",
    "        return 1\n",
    "    else:\n",
    "        return 0\n",
    "    \n",
    "def list_to_columns(df, column_name):\n",
    "    list_elems = format_lists(df, column_name)\n",
    "    \n",
    "    for e in list_elems:\n",
    "        df[e] = df.apply(lambda row: elemInList(row[column_name], e), axis=1)"
   ]
  },
  {
   "cell_type": "code",
   "execution_count": 4,
   "metadata": {},
   "outputs": [],
   "source": [
    "# Convertimos las características en vectores binarios\n",
    "lista_columns = ['director', 'genres', 'stars', 'writers', 'companies', 'keywords']\n",
    "\n",
    "for c in lista_columns:\n",
    "    list_to_columns(movies_DF, c)"
   ]
  },
  {
   "cell_type": "code",
   "execution_count": 8,
   "metadata": {},
   "outputs": [],
   "source": [
    "# Eliminamos las columnas que ya existen en movies.csv\n",
    "movies_DF.drop(columns=['title', 'year', 'genres', 'director', 'stars', 'writers', 'companies', 'keywords'], inplace=True)"
   ]
  },
  {
   "cell_type": "code",
   "execution_count": 9,
   "metadata": {},
   "outputs": [],
   "source": [
    "# Guardamos los vectores en un nuevo CSV\n",
    "movies_DF.to_csv('data/experiment_data/movies_binary.csv', index=False)"
   ]
  },
  {
   "cell_type": "markdown",
   "metadata": {},
   "source": [
    "### Siguiente Notebook\n",
    "\n",
    "Una vez que hemos obtenido los vectores binarios, tenemos que entrenar el algoritmo de factorización de matrices y calcular la matriz $Q$ de cada usuario. El siguiente notebook que hay que ejecutar es `calcular_matrices_q.ipynb`."
   ]
  }
 ],
 "metadata": {
  "kernelspec": {
   "display_name": "Python 3",
   "language": "python",
   "name": "python3"
  },
  "language_info": {
   "codemirror_mode": {
    "name": "ipython",
    "version": 3
   },
   "file_extension": ".py",
   "mimetype": "text/x-python",
   "name": "python",
   "nbconvert_exporter": "python",
   "pygments_lexer": "ipython3",
   "version": "3.7.1"
  }
 },
 "nbformat": 4,
 "nbformat_minor": 2
}
