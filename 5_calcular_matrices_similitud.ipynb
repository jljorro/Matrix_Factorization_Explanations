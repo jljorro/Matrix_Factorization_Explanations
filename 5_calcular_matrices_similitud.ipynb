{
 "cells": [
  {
   "cell_type": "code",
   "execution_count": 4,
   "metadata": {},
   "outputs": [],
   "source": [
    "import pandas as pd\n",
    "import numpy as np\n",
    "import src.similarities as sim\n",
    "import src.utils as utils\n",
    "from tqdm import tqdm"
   ]
  },
  {
   "cell_type": "markdown",
   "metadata": {},
   "source": [
    "# Calcular matrices de similitud\n",
    "\n",
    "En este notebook calculamos las matrices de similitud que se utilizan en la evaluación del sistema. Cada una de las matrices se guarda en un fichero CSV."
   ]
  },
  {
   "cell_type": "markdown",
   "metadata": {},
   "source": [
    "## Matriz de similitud de propiedades de películas\n",
    "\n",
    "Creamos una matriz de similitud entre las películas sobre sus propiedades. Para la matriz de similitud se usa la función *Jaccard*."
   ]
  },
  {
   "cell_type": "code",
   "execution_count": 5,
   "metadata": {},
   "outputs": [],
   "source": [
    "functions = ['euclidean', 'cosine', 'manhattan']\n",
    "for f in functions:\n",
    "    if f == 'euclidean':\n",
    "        matrix_binary_sim = sim.get_binary_similarity_matrix(sim.euclidean_sim)\n",
    "        matrix_binary_sim.to_csv('data/similarity_data/sim_{}_binary.csv'.format(f), index = False)\n",
    "    elif f == 'cosine':\n",
    "        matrix_binary_sim = sim.get_binary_similarity_matrix(sim.cosine)\n",
    "        matrix_binary_sim.to_csv('data/similarity_data/sim_{}_binary.csv'.format(f), index = False)\n",
    "    elif f == 'manhattan':\n",
    "        matrix_binary_sim = sim.get_binary_similarity_matrix(sim.manhattan_sim)\n",
    "        matrix_binary_sim.to_csv('data/similarity_data/sim_{}_binary.csv'.format(f), index = False)"
   ]
  },
  {
   "cell_type": "markdown",
   "metadata": {},
   "source": [
    "## Matrices de similitud sobre Q\n",
    "\n",
    "A continuación, calculamos las matrices de similitud de cada usuario aplicando su matriz Q. Se utilizarán las funciones de similitud `euclidean`, `cosine` y `manhattan`."
   ]
  },
  {
   "cell_type": "code",
   "execution_count": 6,
   "metadata": {},
   "outputs": [],
   "source": [
    "# Cargamos a los usuarios\n",
    "ratings_DF = pd.read_csv('data/experiment_data/trainset.csv')\n",
    "users = list(set(ratings_DF['userId']))\n",
    "functions = ['euclidean', 'cosine', 'manhattan']"
   ]
  },
  {
   "cell_type": "code",
   "execution_count": 7,
   "metadata": {},
   "outputs": [
    {
     "name": "stderr",
     "output_type": "stream",
     "text": [
      "100%|██████████| 584/584 [07:19<00:00,  1.29it/s]\n"
     ]
    }
   ],
   "source": [
    "for u in tqdm(range(len(users))):\n",
    "    for f in range(len(functions)):\n",
    "        # Calculamos la matriz filtrada de similitud\n",
    "        if functions[f] == 'euclidean':\n",
    "            matrix = sim.get_similarity_matrix(users[u], sim.euclidean_sim)\n",
    "            matrix.to_csv('data/similarity_data/sim_{}_user_{}.csv'.format(functions[f], users[u]), index=False)\n",
    "        elif functions[f] == 'cosine':\n",
    "            matrix = sim.get_similarity_matrix(users[u], sim.cosine_sim)\n",
    "            matrix.to_csv('data/similarity_data/sim_{}_user_{}.csv'.format(functions[f], users[u]), index=False)\n",
    "        elif functions[f] == 'manhattan':\n",
    "            matrix = sim.get_similarity_matrix(users[u], sim.manhattan_sim)\n",
    "            matrix.to_csv('data/similarity_data/sim_{}_user_{}.csv'.format(functions[f], users[u]), index=False)"
   ]
  },
  {
   "cell_type": "markdown",
   "metadata": {},
   "source": [
    "## Siguiente Notebook\n",
    "\n",
    "Ya tenemos las matrices de similitud preparadas. A continuación, hay que evaluar el sitema. Para ello, ejecute el notebook `evaluar_KNN`."
   ]
  }
 ],
 "metadata": {
  "kernelspec": {
   "display_name": "Python 3",
   "language": "python",
   "name": "python3"
  },
  "language_info": {
   "codemirror_mode": {
    "name": "ipython",
    "version": 3
   },
   "file_extension": ".py",
   "mimetype": "text/x-python",
   "name": "python",
   "nbconvert_exporter": "python",
   "pygments_lexer": "ipython3",
   "version": "3.7.1"
  }
 },
 "nbformat": 4,
 "nbformat_minor": 2
}
